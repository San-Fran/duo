{
 "cells": [
  {
   "cell_type": "code",
   "execution_count": 1,
   "metadata": {},
   "outputs": [],
   "source": [
    "import pandas as pd\n",
    "import matplotlib.pyplot as plt\n",
    "from matplotlib.pyplot import figure\n",
    "import math\n",
    "from datetime import datetime, timedelta\n",
    "import seaborn as sns\n",
    "\n",
    "import datetime\n",
    "from dateutil.parser import parse\n",
    "\n",
    "import numpy as np\n",
    "\n",
    "\n",
    "from matplotlib import rcParams\n",
    "\n",
    "plt.rcParams[\"figure.figsize\"] = (20,10)\n",
    "# %reset"
   ]
  },
  {
   "cell_type": "code",
   "execution_count": 2,
   "metadata": {},
   "outputs": [],
   "source": [
    "pd.set_option('display.max_rows', None)\n",
    "pd.set_option('display.max_columns', None)\n",
    "pd.set_option('display.max_colwidth', None)"
   ]
  },
  {
   "cell_type": "code",
   "execution_count": 3,
   "metadata": {},
   "outputs": [
    {
     "name": "stderr",
     "output_type": "stream",
     "text": [
      "C:\\Users\\Francisco\\anaconda3\\lib\\site-packages\\IPython\\core\\interactiveshell.py:3146: DtypeWarning: Columns (10) have mixed types.Specify dtype option on import or set low_memory=False.\n",
      "  has_raised = await self.run_ast_nodes(code_ast.body, cell_name,\n"
     ]
    }
   ],
   "source": [
    "import glob\n",
    "\n",
    "all_files = glob.glob(\"./Duo_Auth*.csv\")\n",
    "\n",
    "li = []\n",
    "\n",
    "for filename in all_files:\n",
    "#     print(filename)\n",
    "    df = pd.read_csv(filename, index_col=None, header=0)\n",
    "    li.append(df)\n",
    "df = pd.concat(li, axis=0, ignore_index=True)"
   ]
  },
  {
   "cell_type": "code",
   "execution_count": null,
   "metadata": {},
   "outputs": [],
   "source": [
    "df['Timestamp (UTC)'] = pd.to_datetime(df['Timestamp (UTC)'])\n",
    "df['date'] = df['Timestamp (UTC)'].apply(lambda timestamp: timestamp.date())\n",
    "df['month'] = df['Timestamp (UTC)'].apply(lambda timestamp:  timestamp.month)\n",
    "df['hour'] = df['Timestamp (UTC)'].apply(lambda timestamp:  timestamp.hour)\n",
    "df['minute'] = df['Timestamp (UTC)'].apply(lambda timestamp:  timestamp.minute)\n",
    "df['second'] = df['Timestamp (UTC)'].apply(lambda timestamp:  timestamp.second)"
   ]
  },
  {
   "cell_type": "code",
   "execution_count": null,
   "metadata": {},
   "outputs": [],
   "source": [
    "logs = df\n",
    "print(logs.shape)\n",
    "logs.head(2)"
   ]
  },
  {
   "cell_type": "code",
   "execution_count": null,
   "metadata": {},
   "outputs": [],
   "source": [
    "users = pd.read_csv('duo_users_clean.csv')\n",
    "users['Created'] = users['Created'].apply(lambda date: parse(date))\n",
    "users.head()"
   ]
  },
  {
   "cell_type": "code",
   "execution_count": null,
   "metadata": {},
   "outputs": [],
   "source": [
    "mask1 = users[\"Description\"] == \"Active (Student)\"\n",
    "mask2 = users[\"Description\"] == \"Active (Faculty)\"\n",
    "mask3 = users[\"Description\"] == \"Active (Staff)\""
   ]
  },
  {
   "cell_type": "code",
   "execution_count": null,
   "metadata": {},
   "outputs": [],
   "source": [
    "subsetOfUsers = users[(mask1) | (mask2) | (mask3)]\n",
    "subsetOfUsers.Description.value_counts()"
   ]
  },
  {
   "cell_type": "code",
   "execution_count": null,
   "metadata": {},
   "outputs": [],
   "source": [
    "typeOfUsers = subsetOfUsers.set_index(\"Alias\")[\"Description\"].to_dict()"
   ]
  },
  {
   "cell_type": "code",
   "execution_count": null,
   "metadata": {},
   "outputs": [],
   "source": [
    "logs = logs[logs['Alias'].isin(typeOfUsers)]"
   ]
  },
  {
   "cell_type": "code",
   "execution_count": null,
   "metadata": {},
   "outputs": [],
   "source": [
    "logs['Description'] = logs.Alias.apply(lambda alias: typeOfUsers[alias])"
   ]
  },
  {
   "cell_type": "code",
   "execution_count": null,
   "metadata": {},
   "outputs": [],
   "source": [
    "# Get a list of active students, faculty, and staff that have logged in\n",
    "activeUsers = logs.Alias.unique()"
   ]
  },
  {
   "cell_type": "code",
   "execution_count": null,
   "metadata": {},
   "outputs": [],
   "source": [
    "subsetOfUsers = subsetOfUsers[subsetOfUsers['Alias'].isin(activeUsers)]\n",
    "len(subsetOfUsers)"
   ]
  },
  {
   "cell_type": "code",
   "execution_count": null,
   "metadata": {},
   "outputs": [],
   "source": [
    "subsetOfUsers.Description.value_counts()"
   ]
  },
  {
   "cell_type": "code",
   "execution_count": null,
   "metadata": {},
   "outputs": [],
   "source": [
    "# have to run up to list line when starting"
   ]
  },
  {
   "cell_type": "code",
   "execution_count": null,
   "metadata": {},
   "outputs": [],
   "source": []
  },
  {
   "cell_type": "code",
   "execution_count": null,
   "metadata": {},
   "outputs": [],
   "source": []
  },
  {
   "cell_type": "code",
   "execution_count": 15,
   "metadata": {},
   "outputs": [
    {
     "data": {
      "text/plain": [
       "(1029, 14)"
      ]
     },
     "execution_count": 15,
     "metadata": {},
     "output_type": "execute_result"
    }
   ],
   "source": [
    "# Users Created after november\n",
    "usersCreatedAfterNovember = subsetOfUsers[subsetOfUsers['Created']>'2020-11-01']\n",
    "usersCreatedAfterNovember.shape"
   ]
  },
  {
   "cell_type": "code",
   "execution_count": 16,
   "metadata": {},
   "outputs": [],
   "source": [
    "typeOfUsersAfterNovember = usersCreatedAfterNovember.set_index(\"Alias\")[\"Description\"].to_dict()"
   ]
  },
  {
   "cell_type": "code",
   "execution_count": 17,
   "metadata": {},
   "outputs": [],
   "source": [
    "enrollmentAnlysisLogs = logs[logs['Alias'].isin(typeOfUsersAfterNovember)]"
   ]
  },
  {
   "cell_type": "code",
   "execution_count": 18,
   "metadata": {},
   "outputs": [],
   "source": [
    "enrollmentAnlysisLogs = enrollmentAnlysisLogs[enrollmentAnlysisLogs['Reason']!='Remembered device']"
   ]
  },
  {
   "cell_type": "code",
   "execution_count": 19,
   "metadata": {},
   "outputs": [],
   "source": [
    "enrollmentAnlysisLogs.set_index('Alias', inplace=True)"
   ]
  },
  {
   "cell_type": "code",
   "execution_count": 20,
   "metadata": {},
   "outputs": [],
   "source": [
    "def addToDataFrame(data):\n",
    "    df_length = len(userEnrollmentLogs)\n",
    "    userEnrollmentLogs.loc[df_length] = data"
   ]
  },
  {
   "cell_type": "code",
   "execution_count": 21,
   "metadata": {},
   "outputs": [],
   "source": [
    "userEnrollmentLogs = pd.DataFrame(columns=['1','2','3','4','5','6','7','8','9','10'])\n",
    "# success and failure data\n",
    "\n",
    "# users who have authenticated at least 10 times\n",
    "usersWithTenAuth = []\n",
    "\n",
    "for user in usersCreatedAfterNovember.Alias:\n",
    "    array = []\n",
    "    counter = 0\n",
    "    errorRate = 0\n",
    "    failures = 0\n",
    "    if(len(enrollmentAnlysisLogs.loc[user]['Result'])<10):\n",
    "        continue\n",
    "    usersWithTenAuth.append(user)\n",
    "    for i in enrollmentAnlysisLogs.loc[user]['Result']:\n",
    "        counter += 1\n",
    "        array.append(i)\n",
    "        if(counter==10):\n",
    "            break\n",
    "#     print(enrollmentAnlysisLogs.loc[user].Description)\n",
    "    addToDataFrame(array)"
   ]
  },
  {
   "cell_type": "code",
   "execution_count": 22,
   "metadata": {},
   "outputs": [
    {
     "data": {
      "text/plain": [
       "(766, 10)"
      ]
     },
     "execution_count": 22,
     "metadata": {},
     "output_type": "execute_result"
    }
   ],
   "source": [
    "userEnrollmentLogs.shape"
   ]
  },
  {
   "cell_type": "code",
   "execution_count": 23,
   "metadata": {},
   "outputs": [
    {
     "data": {
      "text/html": [
       "<div>\n",
       "<style scoped>\n",
       "    .dataframe tbody tr th:only-of-type {\n",
       "        vertical-align: middle;\n",
       "    }\n",
       "\n",
       "    .dataframe tbody tr th {\n",
       "        vertical-align: top;\n",
       "    }\n",
       "\n",
       "    .dataframe thead th {\n",
       "        text-align: right;\n",
       "    }\n",
       "</style>\n",
       "<table border=\"1\" class=\"dataframe\">\n",
       "  <thead>\n",
       "    <tr style=\"text-align: right;\">\n",
       "      <th></th>\n",
       "      <th>1</th>\n",
       "      <th>2</th>\n",
       "      <th>3</th>\n",
       "      <th>4</th>\n",
       "      <th>5</th>\n",
       "      <th>6</th>\n",
       "      <th>7</th>\n",
       "      <th>8</th>\n",
       "      <th>9</th>\n",
       "      <th>10</th>\n",
       "    </tr>\n",
       "  </thead>\n",
       "  <tbody>\n",
       "    <tr>\n",
       "      <th>0</th>\n",
       "      <td>SUCCESS</td>\n",
       "      <td>SUCCESS</td>\n",
       "      <td>SUCCESS</td>\n",
       "      <td>SUCCESS</td>\n",
       "      <td>SUCCESS</td>\n",
       "      <td>SUCCESS</td>\n",
       "      <td>SUCCESS</td>\n",
       "      <td>SUCCESS</td>\n",
       "      <td>SUCCESS</td>\n",
       "      <td>SUCCESS</td>\n",
       "    </tr>\n",
       "    <tr>\n",
       "      <th>1</th>\n",
       "      <td>SUCCESS</td>\n",
       "      <td>SUCCESS</td>\n",
       "      <td>SUCCESS</td>\n",
       "      <td>SUCCESS</td>\n",
       "      <td>SUCCESS</td>\n",
       "      <td>FAILURE</td>\n",
       "      <td>SUCCESS</td>\n",
       "      <td>SUCCESS</td>\n",
       "      <td>SUCCESS</td>\n",
       "      <td>SUCCESS</td>\n",
       "    </tr>\n",
       "    <tr>\n",
       "      <th>2</th>\n",
       "      <td>SUCCESS</td>\n",
       "      <td>SUCCESS</td>\n",
       "      <td>SUCCESS</td>\n",
       "      <td>SUCCESS</td>\n",
       "      <td>SUCCESS</td>\n",
       "      <td>SUCCESS</td>\n",
       "      <td>SUCCESS</td>\n",
       "      <td>SUCCESS</td>\n",
       "      <td>SUCCESS</td>\n",
       "      <td>SUCCESS</td>\n",
       "    </tr>\n",
       "    <tr>\n",
       "      <th>3</th>\n",
       "      <td>SUCCESS</td>\n",
       "      <td>SUCCESS</td>\n",
       "      <td>SUCCESS</td>\n",
       "      <td>SUCCESS</td>\n",
       "      <td>SUCCESS</td>\n",
       "      <td>SUCCESS</td>\n",
       "      <td>SUCCESS</td>\n",
       "      <td>SUCCESS</td>\n",
       "      <td>FAILURE</td>\n",
       "      <td>FAILURE</td>\n",
       "    </tr>\n",
       "    <tr>\n",
       "      <th>4</th>\n",
       "      <td>SUCCESS</td>\n",
       "      <td>SUCCESS</td>\n",
       "      <td>SUCCESS</td>\n",
       "      <td>SUCCESS</td>\n",
       "      <td>SUCCESS</td>\n",
       "      <td>SUCCESS</td>\n",
       "      <td>SUCCESS</td>\n",
       "      <td>SUCCESS</td>\n",
       "      <td>SUCCESS</td>\n",
       "      <td>SUCCESS</td>\n",
       "    </tr>\n",
       "  </tbody>\n",
       "</table>\n",
       "</div>"
      ],
      "text/plain": [
       "         1        2        3        4        5        6        7        8  \\\n",
       "0  SUCCESS  SUCCESS  SUCCESS  SUCCESS  SUCCESS  SUCCESS  SUCCESS  SUCCESS   \n",
       "1  SUCCESS  SUCCESS  SUCCESS  SUCCESS  SUCCESS  FAILURE  SUCCESS  SUCCESS   \n",
       "2  SUCCESS  SUCCESS  SUCCESS  SUCCESS  SUCCESS  SUCCESS  SUCCESS  SUCCESS   \n",
       "3  SUCCESS  SUCCESS  SUCCESS  SUCCESS  SUCCESS  SUCCESS  SUCCESS  SUCCESS   \n",
       "4  SUCCESS  SUCCESS  SUCCESS  SUCCESS  SUCCESS  SUCCESS  SUCCESS  SUCCESS   \n",
       "\n",
       "         9       10  \n",
       "0  SUCCESS  SUCCESS  \n",
       "1  SUCCESS  SUCCESS  \n",
       "2  SUCCESS  SUCCESS  \n",
       "3  FAILURE  FAILURE  \n",
       "4  SUCCESS  SUCCESS  "
      ]
     },
     "execution_count": 23,
     "metadata": {},
     "output_type": "execute_result"
    }
   ],
   "source": [
    "userEnrollmentLogs.head()"
   ]
  },
  {
   "cell_type": "code",
   "execution_count": 24,
   "metadata": {},
   "outputs": [
    {
     "data": {
      "image/png": "[encoded data removed]",
      "text/plain": [
       "<Figure size 1440x720 with 1 Axes>"
      ]
     },
     "metadata": {
      "needs_background": "light"
     },
     "output_type": "display_data"
    }
   ],
   "source": [
    "successVsfailureEnrollmentLogs = []\n",
    "for i in range(1,11):\n",
    "    value = (userEnrollmentLogs[[str(i)]].value_counts()[1] / userEnrollmentLogs[[str(i)]].value_counts()[0])*100\n",
    "    successVsfailureEnrollmentLogs.append(value)\n",
    "plt.ylim(0,15)\n",
    "plt.title('Error Rate in First 10 Authentication attempts')\n",
    "plt.ylabel('Error Rate')\n",
    "plt.xlabel('Authentications')\n",
    "# plt.xticks([2,3,4,5,6,7,8,9,10])\n",
    "plt.plot(successVsfailureEnrollmentLogs)\n",
    "\n",
    "plt.show()\n",
    "plt.rcParams[\"figure.figsize\"] = (20,10)\n",
    "# print(successVsfailureEnrollmentLogs)"
   ]
  },
  {
   "cell_type": "code",
   "execution_count": null,
   "metadata": {},
   "outputs": [],
   "source": []
  },
  {
   "cell_type": "code",
   "execution_count": 25,
   "metadata": {},
   "outputs": [],
   "source": [
    "# Success Rate by month"
   ]
  },
  {
   "cell_type": "code",
   "execution_count": 26,
   "metadata": {},
   "outputs": [],
   "source": [
    "users_logs_by_month = logs[logs['month']!=5][[\"month\",\"Result\",\"Reason\"]].groupby([\"month\",\"Result\"]).count()"
   ]
  },
  {
   "cell_type": "code",
   "execution_count": 27,
   "metadata": {},
   "outputs": [
    {
     "data": {
      "text/html": [
       "<div>\n",
       "<style scoped>\n",
       "    .dataframe tbody tr th:only-of-type {\n",
       "        vertical-align: middle;\n",
       "    }\n",
       "\n",
       "    .dataframe tbody tr th {\n",
       "        vertical-align: top;\n",
       "    }\n",
       "\n",
       "    .dataframe thead th {\n",
       "        text-align: right;\n",
       "    }\n",
       "</style>\n",
       "<table border=\"1\" class=\"dataframe\">\n",
       "  <thead>\n",
       "    <tr style=\"text-align: right;\">\n",
       "      <th></th>\n",
       "      <th></th>\n",
       "      <th>Reason</th>\n",
       "    </tr>\n",
       "    <tr>\n",
       "      <th>month</th>\n",
       "      <th>Result</th>\n",
       "      <th></th>\n",
       "    </tr>\n",
       "  </thead>\n",
       "  <tbody>\n",
       "    <tr>\n",
       "      <th rowspan=\"3\" valign=\"top\">1</th>\n",
       "      <th>FAILURE</th>\n",
       "      <td>52240</td>\n",
       "    </tr>\n",
       "    <tr>\n",
       "      <th>FRAUD</th>\n",
       "      <td>17</td>\n",
       "    </tr>\n",
       "    <tr>\n",
       "      <th>SUCCESS</th>\n",
       "      <td>877108</td>\n",
       "    </tr>\n",
       "    <tr>\n",
       "      <th rowspan=\"2\" valign=\"top\">2</th>\n",
       "      <th>FAILURE</th>\n",
       "      <td>47489</td>\n",
       "    </tr>\n",
       "    <tr>\n",
       "      <th>FRAUD</th>\n",
       "      <td>18</td>\n",
       "    </tr>\n",
       "  </tbody>\n",
       "</table>\n",
       "</div>"
      ],
      "text/plain": [
       "               Reason\n",
       "month Result         \n",
       "1     FAILURE   52240\n",
       "      FRAUD        17\n",
       "      SUCCESS  877108\n",
       "2     FAILURE   47489\n",
       "      FRAUD        18"
      ]
     },
     "execution_count": 27,
     "metadata": {},
     "output_type": "execute_result"
    }
   ],
   "source": [
    "users_logs_by_month.head()"
   ]
  },
  {
   "cell_type": "code",
   "execution_count": 28,
   "metadata": {},
   "outputs": [],
   "source": [
    "ax = users_logs_by_month.unstack(level=1)\n",
    "ax.columns = ax.columns.droplevel()\n",
    "ax.drop(columns=['FRAUD'], inplace=True)"
   ]
  },
  {
   "cell_type": "code",
   "execution_count": 29,
   "metadata": {},
   "outputs": [],
   "source": [
    "ax['success_percent'] = round((ax['SUCCESS'] / (ax['SUCCESS'] + ax['FAILURE'])),2)\n",
    "ax['failure_percent'] = round((ax['FAILURE'] / (ax['SUCCESS'] + ax['FAILURE'])),2)"
   ]
  },
  {
   "cell_type": "code",
   "execution_count": 30,
   "metadata": {},
   "outputs": [
    {
     "data": {
      "text/html": [
       "<div>\n",
       "<style scoped>\n",
       "    .dataframe tbody tr th:only-of-type {\n",
       "        vertical-align: middle;\n",
       "    }\n",
       "\n",
       "    .dataframe tbody tr th {\n",
       "        vertical-align: top;\n",
       "    }\n",
       "\n",
       "    .dataframe thead th {\n",
       "        text-align: right;\n",
       "    }\n",
       "</style>\n",
       "<table border=\"1\" class=\"dataframe\">\n",
       "  <thead>\n",
       "    <tr style=\"text-align: right;\">\n",
       "      <th>Result</th>\n",
       "      <th>FAILURE</th>\n",
       "      <th>SUCCESS</th>\n",
       "      <th>success_percent</th>\n",
       "      <th>failure_percent</th>\n",
       "    </tr>\n",
       "    <tr>\n",
       "      <th>month</th>\n",
       "      <th></th>\n",
       "      <th></th>\n",
       "      <th></th>\n",
       "      <th></th>\n",
       "    </tr>\n",
       "  </thead>\n",
       "  <tbody>\n",
       "    <tr>\n",
       "      <th>1</th>\n",
       "      <td>52240</td>\n",
       "      <td>877108</td>\n",
       "      <td>0.94</td>\n",
       "      <td>0.06</td>\n",
       "    </tr>\n",
       "    <tr>\n",
       "      <th>2</th>\n",
       "      <td>47489</td>\n",
       "      <td>1064246</td>\n",
       "      <td>0.96</td>\n",
       "      <td>0.04</td>\n",
       "    </tr>\n",
       "    <tr>\n",
       "      <th>3</th>\n",
       "      <td>41964</td>\n",
       "      <td>936941</td>\n",
       "      <td>0.96</td>\n",
       "      <td>0.04</td>\n",
       "    </tr>\n",
       "    <tr>\n",
       "      <th>4</th>\n",
       "      <td>46608</td>\n",
       "      <td>1075649</td>\n",
       "      <td>0.96</td>\n",
       "      <td>0.04</td>\n",
       "    </tr>\n",
       "    <tr>\n",
       "      <th>11</th>\n",
       "      <td>57298</td>\n",
       "      <td>1058468</td>\n",
       "      <td>0.95</td>\n",
       "      <td>0.05</td>\n",
       "    </tr>\n",
       "    <tr>\n",
       "      <th>12</th>\n",
       "      <td>42738</td>\n",
       "      <td>805198</td>\n",
       "      <td>0.95</td>\n",
       "      <td>0.05</td>\n",
       "    </tr>\n",
       "  </tbody>\n",
       "</table>\n",
       "</div>"
      ],
      "text/plain": [
       "Result  FAILURE  SUCCESS  success_percent  failure_percent\n",
       "month                                                     \n",
       "1         52240   877108             0.94             0.06\n",
       "2         47489  1064246             0.96             0.04\n",
       "3         41964   936941             0.96             0.04\n",
       "4         46608  1075649             0.96             0.04\n",
       "11        57298  1058468             0.95             0.05\n",
       "12        42738   805198             0.95             0.05"
      ]
     },
     "execution_count": 30,
     "metadata": {},
     "output_type": "execute_result"
    }
   ],
   "source": [
    "ax"
   ]
  },
  {
   "cell_type": "code",
   "execution_count": 31,
   "metadata": {},
   "outputs": [],
   "source": [
    "new_index = [11,12,1,2,3,4]\n",
    "ax = ax.reindex(new_index)"
   ]
  },
  {
   "cell_type": "code",
   "execution_count": 32,
   "metadata": {},
   "outputs": [],
   "source": [
    "ax = ax.rename(index={11: 'November', 12: 'December', 1: 'January', 2: 'February', 3: 'March', 4: 'April'})"
   ]
  },
  {
   "cell_type": "code",
   "execution_count": 33,
   "metadata": {},
   "outputs": [
    {
     "data": {
      "image/png": "[encoded data removed]",
      "text/plain": [
       "<Figure size 1440x720 with 1 Axes>"
      ]
     },
     "metadata": {
      "needs_background": "light"
     },
     "output_type": "display_data"
    }
   ],
   "source": [
    "# ax[['failure_percent','success_percent']].plot.bar(stacked=True, rot=0)\n",
    "ax[['failure_percent','success_percent']].plot.bar(stacked=True, rot=0, color=['tab:red','mediumseagreen'])\n",
    "# ax[['FAILURE','SUCCESS']].plot(rot=0, color=['tab:red','mediumseagreen'])\n",
    "plt.title('Success vs Failure')\n",
    "plt.ylabel('Percent')\n",
    "plt.legend(bbox_to_anchor=(1.0, 1.0))\n",
    "plt.show()"
   ]
  },
  {
   "cell_type": "code",
   "execution_count": 297,
   "metadata": {},
   "outputs": [
    {
     "data": {
      "text/plain": [
       "(17629,)"
      ]
     },
     "execution_count": 297,
     "metadata": {},
     "output_type": "execute_result"
    }
   ],
   "source": [
    "november = logs[(logs['month']==11) & (logs['Result']=='FAILURE')]['Alias'].unique()\n",
    "november.shape"
   ]
  },
  {
   "cell_type": "code",
   "execution_count": 298,
   "metadata": {},
   "outputs": [
    {
     "data": {
      "text/plain": [
       "(15312,)"
      ]
     },
     "execution_count": 298,
     "metadata": {},
     "output_type": "execute_result"
    }
   ],
   "source": [
    "december = logs[(logs['month']==12) & (logs['Result']=='FAILURE')]['Alias'].unique()\n",
    "december.shape"
   ]
  },
  {
   "cell_type": "code",
   "execution_count": 299,
   "metadata": {},
   "outputs": [
    {
     "data": {
      "text/plain": [
       "(16375,)"
      ]
     },
     "execution_count": 299,
     "metadata": {},
     "output_type": "execute_result"
    }
   ],
   "source": [
    "january = logs[(logs['month']==1) & (logs['Result']=='FAILURE')]['Alias'].unique()\n",
    "january.shape"
   ]
  },
  {
   "cell_type": "code",
   "execution_count": 300,
   "metadata": {},
   "outputs": [
    {
     "data": {
      "text/plain": [
       "(15993,)"
      ]
     },
     "execution_count": 300,
     "metadata": {},
     "output_type": "execute_result"
    }
   ],
   "source": [
    "febuary = logs[(logs['month']==2) & (logs['Result']=='FAILURE')]['Alias'].unique()\n",
    "febuary.shape"
   ]
  },
  {
   "cell_type": "code",
   "execution_count": 301,
   "metadata": {},
   "outputs": [
    {
     "data": {
      "text/plain": [
       "(14664,)"
      ]
     },
     "execution_count": 301,
     "metadata": {},
     "output_type": "execute_result"
    }
   ],
   "source": [
    "march = logs[(logs['month']==3) & (logs['Result']=='FAILURE')]['Alias'].unique()\n",
    "march.shape"
   ]
  },
  {
   "cell_type": "code",
   "execution_count": 302,
   "metadata": {},
   "outputs": [
    {
     "data": {
      "text/plain": [
       "(15697,)"
      ]
     },
     "execution_count": 302,
     "metadata": {},
     "output_type": "execute_result"
    }
   ],
   "source": [
    "april = logs[(logs['month']==4) & (logs['Result']=='FAILURE')]['Alias'].unique()\n",
    "april.shape"
   ]
  },
  {
   "cell_type": "code",
   "execution_count": 303,
   "metadata": {},
   "outputs": [],
   "source": [
    "reocurringErrorsDec = len(set(november) & set(december))"
   ]
  },
  {
   "cell_type": "code",
   "execution_count": 304,
   "metadata": {},
   "outputs": [],
   "source": [
    "reocurringErrorsJan = len((set(november) & set(january)) | \n",
    "                        (set(december) & set(january)))"
   ]
  },
  {
   "cell_type": "code",
   "execution_count": 305,
   "metadata": {},
   "outputs": [],
   "source": [
    "reocurringErrorsFeb = len((set(november) & set(febuary)) | \n",
    "                        (set(december) & set(febuary)) |\n",
    "                        (set(january) & set(febuary)) \n",
    "                        )"
   ]
  },
  {
   "cell_type": "code",
   "execution_count": 306,
   "metadata": {},
   "outputs": [],
   "source": [
    "reocurringErrorsMarch = len((set(november) & set(march)) | \n",
    "                        (set(december) & set(march)) |\n",
    "                        (set(january) & set(march)) |\n",
    "                        (set(febuary) & set(march)) \n",
    "                        )"
   ]
  },
  {
   "cell_type": "code",
   "execution_count": 307,
   "metadata": {},
   "outputs": [],
   "source": [
    "reocurringErrorsApril = len((set(november) & set(april)) | \n",
    "                        (set(december) & set(april)) |\n",
    "                        (set(january) & set(april)) |\n",
    "                        (set(febuary) & set(april)) |\n",
    "                        (set(march) & set(april))\n",
    "                        )"
   ]
  },
  {
   "cell_type": "code",
   "execution_count": 314,
   "metadata": {},
   "outputs": [],
   "source": [
    "reocurringErrorUsers = [reocurringErrorsDec,reocurringErrorsJan, reocurringErrorsFeb, reocurringErrorsMarch, reocurringErrorsApril]"
   ]
  },
  {
   "cell_type": "code",
   "execution_count": 319,
   "metadata": {},
   "outputs": [],
   "source": [
    "usersWhoHaveMadeErrors = [len(december),len(january),len(febuary),len(march),len(april)]"
   ]
  },
  {
   "cell_type": "code",
   "execution_count": null,
   "metadata": {},
   "outputs": [],
   "source": []
  },
  {
   "cell_type": "code",
   "execution_count": 340,
   "metadata": {},
   "outputs": [],
   "source": [
    "# consecutive users"
   ]
  },
  {
   "cell_type": "code",
   "execution_count": 329,
   "metadata": {},
   "outputs": [],
   "source": [
    "decConsecutiveErrors = len(set(november) & set(december))"
   ]
  },
  {
   "cell_type": "code",
   "execution_count": 330,
   "metadata": {},
   "outputs": [],
   "source": [
    "janConsecutiveErrors = len(set(november) & set(december) & set(january))"
   ]
  },
  {
   "cell_type": "code",
   "execution_count": 331,
   "metadata": {},
   "outputs": [],
   "source": [
    "febConsecutiveErrors = len(set(november) & set(december) & set(january) & set(febuary))"
   ]
  },
  {
   "cell_type": "code",
   "execution_count": 332,
   "metadata": {},
   "outputs": [],
   "source": [
    "marchConsecutiveErrors = len(set(november) & set(december) & set(january) & set(febuary) & set(march))"
   ]
  },
  {
   "cell_type": "code",
   "execution_count": 333,
   "metadata": {},
   "outputs": [],
   "source": [
    "aprilConsecutiveErrors = len(set(november) & set(december) & set(january) & set(febuary) & set(march) & set(april))"
   ]
  },
  {
   "cell_type": "code",
   "execution_count": 334,
   "metadata": {},
   "outputs": [],
   "source": [
    "usersWithConsecutiveErrors = [decConsecutiveErrors, janConsecutiveErrors, febConsecutiveErrors, marchConsecutiveErrors, aprilConsecutiveErrors]"
   ]
  },
  {
   "cell_type": "code",
   "execution_count": 335,
   "metadata": {},
   "outputs": [
    {
     "data": {
      "text/plain": [
       "[9774, 6282, 4438, 3268, 2622]"
      ]
     },
     "execution_count": 335,
     "metadata": {},
     "output_type": "execute_result"
    }
   ],
   "source": [
    "usersWithConsecutiveErrors"
   ]
  },
  {
   "cell_type": "code",
   "execution_count": 361,
   "metadata": {},
   "outputs": [
    {
     "data": {
      "text/html": [
       "<div>\n",
       "<style scoped>\n",
       "    .dataframe tbody tr th:only-of-type {\n",
       "        vertical-align: middle;\n",
       "    }\n",
       "\n",
       "    .dataframe tbody tr th {\n",
       "        vertical-align: top;\n",
       "    }\n",
       "\n",
       "    .dataframe thead th {\n",
       "        text-align: right;\n",
       "    }\n",
       "</style>\n",
       "<table border=\"1\" class=\"dataframe\">\n",
       "  <thead>\n",
       "    <tr style=\"text-align: right;\">\n",
       "      <th></th>\n",
       "      <th>pastUsers</th>\n",
       "      <th>consecutiveUsers</th>\n",
       "      <th>totalUsers</th>\n",
       "    </tr>\n",
       "  </thead>\n",
       "  <tbody>\n",
       "    <tr>\n",
       "      <th>0</th>\n",
       "      <td>9774</td>\n",
       "      <td>9774</td>\n",
       "      <td>15312</td>\n",
       "    </tr>\n",
       "    <tr>\n",
       "      <th>1</th>\n",
       "      <td>12388</td>\n",
       "      <td>6282</td>\n",
       "      <td>16375</td>\n",
       "    </tr>\n",
       "    <tr>\n",
       "      <th>2</th>\n",
       "      <td>13828</td>\n",
       "      <td>4438</td>\n",
       "      <td>15993</td>\n",
       "    </tr>\n",
       "    <tr>\n",
       "      <th>3</th>\n",
       "      <td>13488</td>\n",
       "      <td>3268</td>\n",
       "      <td>14664</td>\n",
       "    </tr>\n",
       "    <tr>\n",
       "      <th>4</th>\n",
       "      <td>14707</td>\n",
       "      <td>2622</td>\n",
       "      <td>15697</td>\n",
       "    </tr>\n",
       "  </tbody>\n",
       "</table>\n",
       "</div>"
      ],
      "text/plain": [
       "   pastUsers  consecutiveUsers  totalUsers\n",
       "0       9774              9774       15312\n",
       "1      12388              6282       16375\n",
       "2      13828              4438       15993\n",
       "3      13488              3268       14664\n",
       "4      14707              2622       15697"
      ]
     },
     "execution_count": 361,
     "metadata": {},
     "output_type": "execute_result"
    }
   ],
   "source": [
    "UserErrors = pd.DataFrame(list(zip(reocurringErrorUsers, usersWithConsecutiveErrors, usersWhoHaveMadeErrors)), columns=['pastUsers','consecutiveUsers','totalUsers'])\n",
    "UserErrors"
   ]
  },
  {
   "cell_type": "code",
   "execution_count": 362,
   "metadata": {},
   "outputs": [],
   "source": [
    "UserErrors['pastUserErrorsPercent'] = UserErrors['pastUsers'] / UserErrors['totalUsers']"
   ]
  },
  {
   "cell_type": "code",
   "execution_count": 363,
   "metadata": {},
   "outputs": [],
   "source": [
    "UserErrors['pastUserErrorsComplementPercent'] = 1 -UserErrors['pastUserErrorsPercent']"
   ]
  },
  {
   "cell_type": "code",
   "execution_count": 364,
   "metadata": {},
   "outputs": [],
   "source": [
    "UserErrors['consecutiveUserErrorsPercent'] = UserErrors['consecutiveUsers'] / UserErrors['totalUsers']"
   ]
  },
  {
   "cell_type": "code",
   "execution_count": 365,
   "metadata": {},
   "outputs": [],
   "source": [
    "UserErrors['consecutiveUserComplementErrorsPercent'] = 1 - UserErrors['consecutiveUserErrorsPercent']"
   ]
  },
  {
   "cell_type": "code",
   "execution_count": 366,
   "metadata": {},
   "outputs": [
    {
     "data": {
      "text/html": [
       "<div>\n",
       "<style scoped>\n",
       "    .dataframe tbody tr th:only-of-type {\n",
       "        vertical-align: middle;\n",
       "    }\n",
       "\n",
       "    .dataframe tbody tr th {\n",
       "        vertical-align: top;\n",
       "    }\n",
       "\n",
       "    .dataframe thead th {\n",
       "        text-align: right;\n",
       "    }\n",
       "</style>\n",
       "<table border=\"1\" class=\"dataframe\">\n",
       "  <thead>\n",
       "    <tr style=\"text-align: right;\">\n",
       "      <th></th>\n",
       "      <th>pastUsers</th>\n",
       "      <th>consecutiveUsers</th>\n",
       "      <th>totalUsers</th>\n",
       "      <th>pastUserErrorsPercent</th>\n",
       "      <th>pastUserErrorsComplementPercent</th>\n",
       "      <th>consecutiveUserErrorsPercent</th>\n",
       "      <th>consecutiveUserComplementErrorsPercent</th>\n",
       "    </tr>\n",
       "  </thead>\n",
       "  <tbody>\n",
       "    <tr>\n",
       "      <th>0</th>\n",
       "      <td>9774</td>\n",
       "      <td>9774</td>\n",
       "      <td>15312</td>\n",
       "      <td>0.638323</td>\n",
       "      <td>0.361677</td>\n",
       "      <td>0.638323</td>\n",
       "      <td>0.361677</td>\n",
       "    </tr>\n",
       "    <tr>\n",
       "      <th>1</th>\n",
       "      <td>12388</td>\n",
       "      <td>6282</td>\n",
       "      <td>16375</td>\n",
       "      <td>0.756519</td>\n",
       "      <td>0.243481</td>\n",
       "      <td>0.383634</td>\n",
       "      <td>0.616366</td>\n",
       "    </tr>\n",
       "    <tr>\n",
       "      <th>2</th>\n",
       "      <td>13828</td>\n",
       "      <td>4438</td>\n",
       "      <td>15993</td>\n",
       "      <td>0.864628</td>\n",
       "      <td>0.135372</td>\n",
       "      <td>0.277496</td>\n",
       "      <td>0.722504</td>\n",
       "    </tr>\n",
       "    <tr>\n",
       "      <th>3</th>\n",
       "      <td>13488</td>\n",
       "      <td>3268</td>\n",
       "      <td>14664</td>\n",
       "      <td>0.919804</td>\n",
       "      <td>0.080196</td>\n",
       "      <td>0.222859</td>\n",
       "      <td>0.777141</td>\n",
       "    </tr>\n",
       "    <tr>\n",
       "      <th>4</th>\n",
       "      <td>14707</td>\n",
       "      <td>2622</td>\n",
       "      <td>15697</td>\n",
       "      <td>0.936931</td>\n",
       "      <td>0.063069</td>\n",
       "      <td>0.167038</td>\n",
       "      <td>0.832962</td>\n",
       "    </tr>\n",
       "  </tbody>\n",
       "</table>\n",
       "</div>"
      ],
      "text/plain": [
       "   pastUsers  consecutiveUsers  totalUsers  pastUserErrorsPercent  \\\n",
       "0       9774              9774       15312               0.638323   \n",
       "1      12388              6282       16375               0.756519   \n",
       "2      13828              4438       15993               0.864628   \n",
       "3      13488              3268       14664               0.919804   \n",
       "4      14707              2622       15697               0.936931   \n",
       "\n",
       "   pastUserErrorsComplementPercent  consecutiveUserErrorsPercent  \\\n",
       "0                         0.361677                      0.638323   \n",
       "1                         0.243481                      0.383634   \n",
       "2                         0.135372                      0.277496   \n",
       "3                         0.080196                      0.222859   \n",
       "4                         0.063069                      0.167038   \n",
       "\n",
       "   consecutiveUserComplementErrorsPercent  \n",
       "0                                0.361677  \n",
       "1                                0.616366  \n",
       "2                                0.722504  \n",
       "3                                0.777141  \n",
       "4                                0.832962  "
      ]
     },
     "execution_count": 366,
     "metadata": {},
     "output_type": "execute_result"
    }
   ],
   "source": [
    "UserErrors"
   ]
  },
  {
   "cell_type": "code",
   "execution_count": null,
   "metadata": {},
   "outputs": [],
   "source": []
  },
  {
   "cell_type": "code",
   "execution_count": 377,
   "metadata": {},
   "outputs": [
    {
     "data": {
      "text/plain": [
       "<AxesSubplot:>"
      ]
     },
     "execution_count": 377,
     "metadata": {},
     "output_type": "execute_result"
    },
    {
     "data": {
      "image/png": "[encoded data removed]",
      "text/plain": [
       "<Figure size 1440x720 with 1 Axes>"
      ]
     },
     "metadata": {
      "needs_background": "light"
     },
     "output_type": "display_data"
    }
   ],
   "source": [
    "UserErrors[['pastUserErrorsPercent','pastUserErrorsComplementPercent']].plot.bar(stacked=True)"
   ]
  },
  {
   "cell_type": "code",
   "execution_count": 376,
   "metadata": {},
   "outputs": [
    {
     "data": {
      "image/png": "[encoded data removed]",
      "text/plain": [
       "<Figure size 1440x720 with 1 Axes>"
      ]
     },
     "metadata": {
      "needs_background": "light"
     },
     "output_type": "display_data"
    }
   ],
   "source": [
    "UserErrors[['consecutiveUserErrorsPercent','consecutiveUserComplementErrorsPercent']].plot.bar(stacked=True, rot=0)\n",
    "plt.ylabel('percent')\n",
    "plt.xlabel('month')\n",
    "plt.show()"
   ]
  },
  {
   "cell_type": "code",
   "execution_count": null,
   "metadata": {},
   "outputs": [],
   "source": []
  },
  {
   "cell_type": "code",
   "execution_count": null,
   "metadata": {},
   "outputs": [],
   "source": []
  },
  {
   "cell_type": "code",
   "execution_count": null,
   "metadata": {},
   "outputs": [],
   "source": []
  },
  {
   "cell_type": "code",
   "execution_count": null,
   "metadata": {},
   "outputs": [],
   "source": []
  },
  {
   "cell_type": "code",
   "execution_count": null,
   "metadata": {},
   "outputs": [],
   "source": []
  },
  {
   "cell_type": "code",
   "execution_count": 36,
   "metadata": {},
   "outputs": [],
   "source": [
    "authenticationFailures = logs[logs['Result'] == 'FAILURE']"
   ]
  },
  {
   "cell_type": "code",
   "execution_count": 443,
   "metadata": {},
   "outputs": [
    {
     "data": {
      "image/png": "[encoded data removed]",
      "text/plain": [
       "<Figure size 864x504 with 1 Axes>"
      ]
     },
     "metadata": {
      "needs_background": "light"
     },
     "output_type": "display_data"
    }
   ],
   "source": [
    "plt.rcParams[\"figure.figsize\"] = (12,7)\n",
    "authenticationFailures.Reason.value_counts().plot.bar()\n",
    "plt.xticks(rotation= 45) \n",
    "plt.ylabel('Frequency')\n",
    "plt.xlabel('Type of Error')\n",
    "plt.title('Failed Authentications')\n",
    "plt.show()"
   ]
  },
  {
   "cell_type": "code",
   "execution_count": 444,
   "metadata": {},
   "outputs": [],
   "source": [
    "r = logs[logs['Reason']=='User cancelled']"
   ]
  },
  {
   "cell_type": "code",
   "execution_count": 448,
   "metadata": {},
   "outputs": [
    {
     "data": {
      "text/plain": [
       "22863"
      ]
     },
     "execution_count": 448,
     "metadata": {},
     "output_type": "execute_result"
    }
   ],
   "source": [
    "r.Alias.nunique()"
   ]
  },
  {
   "cell_type": "code",
   "execution_count": 449,
   "metadata": {},
   "outputs": [],
   "source": [
    "r = logs[logs['Reason']=='No response']"
   ]
  },
  {
   "cell_type": "code",
   "execution_count": 450,
   "metadata": {},
   "outputs": [
    {
     "data": {
      "text/plain": [
       "26400"
      ]
     },
     "execution_count": 450,
     "metadata": {},
     "output_type": "execute_result"
    }
   ],
   "source": [
    "r.Alias.nunique()"
   ]
  },
  {
   "cell_type": "code",
   "execution_count": null,
   "metadata": {},
   "outputs": [],
   "source": []
  },
  {
   "cell_type": "code",
   "execution_count": null,
   "metadata": {},
   "outputs": [],
   "source": []
  },
  {
   "cell_type": "code",
   "execution_count": null,
   "metadata": {},
   "outputs": [],
   "source": []
  },
  {
   "cell_type": "code",
   "execution_count": null,
   "metadata": {},
   "outputs": [],
   "source": []
  },
  {
   "cell_type": "code",
   "execution_count": 483,
   "metadata": {},
   "outputs": [],
   "source": [
    "userErrorRate = logs[['Alias','Result','Reason']].groupby(['Alias','Result']).size().reset_index(name='counts')"
   ]
  },
  {
   "cell_type": "code",
   "execution_count": 484,
   "metadata": {},
   "outputs": [],
   "source": [
    "userQuantifiedLogs = userErrorRate.pivot(index='Alias',columns='Result',values='counts').drop(columns=['FRAUD'])"
   ]
  },
  {
   "cell_type": "code",
   "execution_count": 485,
   "metadata": {},
   "outputs": [
    {
     "name": "stdout",
     "output_type": "stream",
     "text": [
      "Index(['FAILURE', 'SUCCESS'], dtype='object', name='Result')\n"
     ]
    }
   ],
   "source": [
    "print(userQuantifiedLogs.columns)"
   ]
  },
  {
   "cell_type": "code",
   "execution_count": 486,
   "metadata": {},
   "outputs": [
    {
     "data": {
      "text/html": [
       "<div>\n",
       "<style scoped>\n",
       "    .dataframe tbody tr th:only-of-type {\n",
       "        vertical-align: middle;\n",
       "    }\n",
       "\n",
       "    .dataframe tbody tr th {\n",
       "        vertical-align: top;\n",
       "    }\n",
       "\n",
       "    .dataframe thead th {\n",
       "        text-align: right;\n",
       "    }\n",
       "</style>\n",
       "<table border=\"1\" class=\"dataframe\">\n",
       "  <thead>\n",
       "    <tr style=\"text-align: right;\">\n",
       "      <th>Result</th>\n",
       "      <th>FAILURE</th>\n",
       "      <th>SUCCESS</th>\n",
       "    </tr>\n",
       "    <tr>\n",
       "      <th>Alias</th>\n",
       "      <th></th>\n",
       "      <th></th>\n",
       "    </tr>\n",
       "  </thead>\n",
       "  <tbody>\n",
       "    <tr>\n",
       "      <th>user_000001</th>\n",
       "      <td>7.0</td>\n",
       "      <td>177.0</td>\n",
       "    </tr>\n",
       "    <tr>\n",
       "      <th>user_000002</th>\n",
       "      <td>2.0</td>\n",
       "      <td>498.0</td>\n",
       "    </tr>\n",
       "    <tr>\n",
       "      <th>user_000003</th>\n",
       "      <td>31.0</td>\n",
       "      <td>374.0</td>\n",
       "    </tr>\n",
       "    <tr>\n",
       "      <th>user_000004</th>\n",
       "      <td>7.0</td>\n",
       "      <td>307.0</td>\n",
       "    </tr>\n",
       "    <tr>\n",
       "      <th>user_000005</th>\n",
       "      <td>6.0</td>\n",
       "      <td>448.0</td>\n",
       "    </tr>\n",
       "  </tbody>\n",
       "</table>\n",
       "</div>"
      ],
      "text/plain": [
       "Result       FAILURE  SUCCESS\n",
       "Alias                        \n",
       "user_000001      7.0    177.0\n",
       "user_000002      2.0    498.0\n",
       "user_000003     31.0    374.0\n",
       "user_000004      7.0    307.0\n",
       "user_000005      6.0    448.0"
      ]
     },
     "execution_count": 486,
     "metadata": {},
     "output_type": "execute_result"
    }
   ],
   "source": [
    "userQuantifiedLogs.head()"
   ]
  },
  {
   "cell_type": "code",
   "execution_count": 487,
   "metadata": {},
   "outputs": [],
   "source": [
    "userQuantifiedLogs['FAILURE'] = userQuantifiedLogs['FAILURE'].fillna(0)"
   ]
  },
  {
   "cell_type": "code",
   "execution_count": 488,
   "metadata": {},
   "outputs": [],
   "source": [
    "userQuantifiedLogs['SUCCESS'] = userQuantifiedLogs['SUCCESS'].fillna(1)"
   ]
  },
  {
   "cell_type": "code",
   "execution_count": 489,
   "metadata": {},
   "outputs": [],
   "source": [
    "userQuantifiedLogs['errorRate'] = userQuantifiedLogs['FAILURE'] / userQuantifiedLogs['SUCCESS']"
   ]
  },
  {
   "cell_type": "code",
   "execution_count": 490,
   "metadata": {},
   "outputs": [],
   "source": [
    "userQuantifiedLogs.sort_values(by='errorRate', inplace=True)"
   ]
  },
  {
   "cell_type": "code",
   "execution_count": 491,
   "metadata": {},
   "outputs": [],
   "source": [
    "userQuantifiedLogs.insert(0,'New_ID', range(1, len(userQuantifiedLogs)+1))"
   ]
  },
  {
   "cell_type": "code",
   "execution_count": 492,
   "metadata": {},
   "outputs": [
    {
     "data": {
      "text/html": [
       "<div>\n",
       "<style scoped>\n",
       "    .dataframe tbody tr th:only-of-type {\n",
       "        vertical-align: middle;\n",
       "    }\n",
       "\n",
       "    .dataframe tbody tr th {\n",
       "        vertical-align: top;\n",
       "    }\n",
       "\n",
       "    .dataframe thead th {\n",
       "        text-align: right;\n",
       "    }\n",
       "</style>\n",
       "<table border=\"1\" class=\"dataframe\">\n",
       "  <thead>\n",
       "    <tr style=\"text-align: right;\">\n",
       "      <th>Result</th>\n",
       "      <th>New_ID</th>\n",
       "      <th>FAILURE</th>\n",
       "      <th>SUCCESS</th>\n",
       "      <th>errorRate</th>\n",
       "    </tr>\n",
       "    <tr>\n",
       "      <th>Alias</th>\n",
       "      <th></th>\n",
       "      <th></th>\n",
       "      <th></th>\n",
       "      <th></th>\n",
       "    </tr>\n",
       "  </thead>\n",
       "  <tbody>\n",
       "    <tr>\n",
       "      <th>user_045430</th>\n",
       "      <td>1</td>\n",
       "      <td>0.0</td>\n",
       "      <td>45.0</td>\n",
       "      <td>0.0</td>\n",
       "    </tr>\n",
       "    <tr>\n",
       "      <th>user_032306</th>\n",
       "      <td>2</td>\n",
       "      <td>0.0</td>\n",
       "      <td>146.0</td>\n",
       "      <td>0.0</td>\n",
       "    </tr>\n",
       "    <tr>\n",
       "      <th>user_042524</th>\n",
       "      <td>3</td>\n",
       "      <td>0.0</td>\n",
       "      <td>113.0</td>\n",
       "      <td>0.0</td>\n",
       "    </tr>\n",
       "    <tr>\n",
       "      <th>user_032299</th>\n",
       "      <td>4</td>\n",
       "      <td>0.0</td>\n",
       "      <td>95.0</td>\n",
       "      <td>0.0</td>\n",
       "    </tr>\n",
       "    <tr>\n",
       "      <th>user_014028</th>\n",
       "      <td>5</td>\n",
       "      <td>0.0</td>\n",
       "      <td>73.0</td>\n",
       "      <td>0.0</td>\n",
       "    </tr>\n",
       "  </tbody>\n",
       "</table>\n",
       "</div>"
      ],
      "text/plain": [
       "Result       New_ID  FAILURE  SUCCESS  errorRate\n",
       "Alias                                           \n",
       "user_045430       1      0.0     45.0        0.0\n",
       "user_032306       2      0.0    146.0        0.0\n",
       "user_042524       3      0.0    113.0        0.0\n",
       "user_032299       4      0.0     95.0        0.0\n",
       "user_014028       5      0.0     73.0        0.0"
      ]
     },
     "execution_count": 492,
     "metadata": {},
     "output_type": "execute_result"
    }
   ],
   "source": [
    "userQuantifiedLogs.head()"
   ]
  },
  {
   "cell_type": "code",
   "execution_count": 493,
   "metadata": {},
   "outputs": [
    {
     "data": {
      "text/html": [
       "<div>\n",
       "<style scoped>\n",
       "    .dataframe tbody tr th:only-of-type {\n",
       "        vertical-align: middle;\n",
       "    }\n",
       "\n",
       "    .dataframe tbody tr th {\n",
       "        vertical-align: top;\n",
       "    }\n",
       "\n",
       "    .dataframe thead th {\n",
       "        text-align: right;\n",
       "    }\n",
       "</style>\n",
       "<table border=\"1\" class=\"dataframe\">\n",
       "  <thead>\n",
       "    <tr style=\"text-align: right;\">\n",
       "      <th>Result</th>\n",
       "      <th>New_ID</th>\n",
       "      <th>FAILURE</th>\n",
       "      <th>SUCCESS</th>\n",
       "      <th>errorRate</th>\n",
       "    </tr>\n",
       "    <tr>\n",
       "      <th>Alias</th>\n",
       "      <th></th>\n",
       "      <th></th>\n",
       "      <th></th>\n",
       "      <th></th>\n",
       "    </tr>\n",
       "  </thead>\n",
       "  <tbody>\n",
       "    <tr>\n",
       "      <th>user_042725</th>\n",
       "      <td>35879</td>\n",
       "      <td>11.0</td>\n",
       "      <td>2.0</td>\n",
       "      <td>5.5</td>\n",
       "    </tr>\n",
       "    <tr>\n",
       "      <th>user_022473</th>\n",
       "      <td>35880</td>\n",
       "      <td>6.0</td>\n",
       "      <td>1.0</td>\n",
       "      <td>6.0</td>\n",
       "    </tr>\n",
       "    <tr>\n",
       "      <th>user_039879</th>\n",
       "      <td>35881</td>\n",
       "      <td>7.0</td>\n",
       "      <td>1.0</td>\n",
       "      <td>7.0</td>\n",
       "    </tr>\n",
       "    <tr>\n",
       "      <th>user_042880</th>\n",
       "      <td>35882</td>\n",
       "      <td>9.0</td>\n",
       "      <td>1.0</td>\n",
       "      <td>9.0</td>\n",
       "    </tr>\n",
       "    <tr>\n",
       "      <th>user_038190</th>\n",
       "      <td>35883</td>\n",
       "      <td>94.0</td>\n",
       "      <td>5.0</td>\n",
       "      <td>18.8</td>\n",
       "    </tr>\n",
       "  </tbody>\n",
       "</table>\n",
       "</div>"
      ],
      "text/plain": [
       "Result       New_ID  FAILURE  SUCCESS  errorRate\n",
       "Alias                                           \n",
       "user_042725   35879     11.0      2.0        5.5\n",
       "user_022473   35880      6.0      1.0        6.0\n",
       "user_039879   35881      7.0      1.0        7.0\n",
       "user_042880   35882      9.0      1.0        9.0\n",
       "user_038190   35883     94.0      5.0       18.8"
      ]
     },
     "execution_count": 493,
     "metadata": {},
     "output_type": "execute_result"
    }
   ],
   "source": [
    "userQuantifiedLogs.tail()"
   ]
  },
  {
   "cell_type": "code",
   "execution_count": null,
   "metadata": {},
   "outputs": [],
   "source": []
  },
  {
   "cell_type": "code",
   "execution_count": 494,
   "metadata": {},
   "outputs": [],
   "source": [
    "userQuantifiedLogs['userPercentage'] = userQuantifiedLogs['New_ID'].apply(lambda num: num/len(userQuantifiedLogs))"
   ]
  },
  {
   "cell_type": "code",
   "execution_count": 495,
   "metadata": {},
   "outputs": [
    {
     "data": {
      "image/png": "[encoded data removed]",
      "text/plain": [
       "<Figure size 864x504 with 1 Axes>"
      ]
     },
     "metadata": {
      "needs_background": "light"
     },
     "output_type": "display_data"
    }
   ],
   "source": [
    "ax = userQuantifiedLogs.plot(x='errorRate', y='userPercentage', legend=False)\n",
    "plt.ylabel('Percentage of Users')\n",
    "plt.xlabel('Error rate')\n",
    "plt.xlim(0,1)\n",
    "plt.title('User Error Rate')\n",
    "plt.show()"
   ]
  },
  {
   "cell_type": "code",
   "execution_count": 496,
   "metadata": {},
   "outputs": [
    {
     "data": {
      "text/plain": [
       "count    35883.000000\n",
       "mean         0.069894\n",
       "std          0.201558\n",
       "min          0.000000\n",
       "25%          0.012500\n",
       "50%          0.033333\n",
       "75%          0.072072\n",
       "max         18.800000\n",
       "Name: errorRate, dtype: float64"
      ]
     },
     "execution_count": 496,
     "metadata": {},
     "output_type": "execute_result"
    }
   ],
   "source": [
    "userQuantifiedLogs['errorRate'].describe()"
   ]
  },
  {
   "cell_type": "code",
   "execution_count": null,
   "metadata": {},
   "outputs": [],
   "source": []
  },
  {
   "cell_type": "code",
   "execution_count": null,
   "metadata": {},
   "outputs": [],
   "source": []
  },
  {
   "cell_type": "code",
   "execution_count": null,
   "metadata": {},
   "outputs": [],
   "source": []
  },
  {
   "cell_type": "code",
   "execution_count": 55,
   "metadata": {},
   "outputs": [],
   "source": [
    "authenticationFailures = logs[logs['Result'] == 'FAILURE']"
   ]
  },
  {
   "cell_type": "code",
   "execution_count": 56,
   "metadata": {},
   "outputs": [],
   "source": [
    "factorLogs = logs"
   ]
  },
  {
   "cell_type": "code",
   "execution_count": 127,
   "metadata": {},
   "outputs": [],
   "source": [
    "factorLogs = factorLogs[['Factor','Result','Reason']].groupby(by=['Factor','Result']).count().reset_index(level=1).pivot(columns=\"Result\")"
   ]
  },
  {
   "cell_type": "code",
   "execution_count": 135,
   "metadata": {},
   "outputs": [],
   "source": [
    "factorLogs.columns = factorLogs.columns.droplevel()"
   ]
  },
  {
   "cell_type": "code",
   "execution_count": 140,
   "metadata": {},
   "outputs": [],
   "source": [
    "factorLogs.drop(columns='FRAUD', inplace=True)"
   ]
  },
  {
   "cell_type": "code",
   "execution_count": 144,
   "metadata": {},
   "outputs": [],
   "source": [
    "factorLogs.fillna(0, inplace=True)"
   ]
  },
  {
   "cell_type": "code",
   "execution_count": 149,
   "metadata": {},
   "outputs": [],
   "source": [
    "factorLogs['failurePercent'] = (factorLogs['FAILURE'] / (factorLogs['FAILURE'] + factorLogs['SUCCESS']))*100"
   ]
  },
  {
   "cell_type": "code",
   "execution_count": 152,
   "metadata": {},
   "outputs": [],
   "source": [
    "factorLogs.drop('Bypass Status', inplace=True)"
   ]
  },
  {
   "cell_type": "code",
   "execution_count": null,
   "metadata": {},
   "outputs": [],
   "source": []
  },
  {
   "cell_type": "code",
   "execution_count": null,
   "metadata": {},
   "outputs": [],
   "source": []
  },
  {
   "cell_type": "code",
   "execution_count": null,
   "metadata": {},
   "outputs": [],
   "source": []
  },
  {
   "cell_type": "code",
   "execution_count": 157,
   "metadata": {},
   "outputs": [],
   "source": [
    "passCodeFailure = factorLogs.loc['Bypass Code']['FAILURE'] + factorLogs.loc['Duo Mobile Passcode']['FAILURE'] + factorLogs.loc['Hardware Token']['FAILURE'] + factorLogs.loc['Passcode']['FAILURE'] + factorLogs.loc['Yubikey Passcode']['FAILURE']"
   ]
  },
  {
   "cell_type": "code",
   "execution_count": 158,
   "metadata": {},
   "outputs": [],
   "source": [
    "passCodeSucess = factorLogs.loc['Bypass Code']['SUCCESS'] + factorLogs.loc['Duo Mobile Passcode']['SUCCESS'] + factorLogs.loc['Hardware Token']['SUCCESS'] + factorLogs.loc['Passcode']['SUCCESS'] + factorLogs.loc['Yubikey Passcode']['SUCCESS']"
   ]
  },
  {
   "cell_type": "code",
   "execution_count": 161,
   "metadata": {},
   "outputs": [],
   "source": [
    "factorLogs.loc['passcode'] = [passCodeFailure, passCodeSucess, (passCodeFailure/passCodeSucess)*100]"
   ]
  },
  {
   "cell_type": "code",
   "execution_count": 163,
   "metadata": {},
   "outputs": [],
   "source": [
    "factorLogs.drop(['Bypass Code','Duo Mobile Passcode','Hardware Token','Passcode'], inplace=True)"
   ]
  },
  {
   "cell_type": "code",
   "execution_count": 167,
   "metadata": {},
   "outputs": [],
   "source": [
    "factorLogs.drop(['Yubikey Passcode'], inplace=True)"
   ]
  },
  {
   "cell_type": "code",
   "execution_count": 173,
   "metadata": {},
   "outputs": [
    {
     "data": {
      "text/html": [
       "<div>\n",
       "<style scoped>\n",
       "    .dataframe tbody tr th:only-of-type {\n",
       "        vertical-align: middle;\n",
       "    }\n",
       "\n",
       "    .dataframe tbody tr th {\n",
       "        vertical-align: top;\n",
       "    }\n",
       "\n",
       "    .dataframe thead th {\n",
       "        text-align: right;\n",
       "    }\n",
       "</style>\n",
       "<table border=\"1\" class=\"dataframe\">\n",
       "  <thead>\n",
       "    <tr style=\"text-align: right;\">\n",
       "      <th>Result</th>\n",
       "      <th>failurePercent</th>\n",
       "    </tr>\n",
       "    <tr>\n",
       "      <th>Factor</th>\n",
       "      <th></th>\n",
       "    </tr>\n",
       "  </thead>\n",
       "  <tbody>\n",
       "    <tr>\n",
       "      <th>passcode</th>\n",
       "      <td>5.182556</td>\n",
       "    </tr>\n",
       "    <tr>\n",
       "      <th>Phone Call</th>\n",
       "      <td>3.864738</td>\n",
       "    </tr>\n",
       "    <tr>\n",
       "      <th>Duo Push</th>\n",
       "      <td>2.926649</td>\n",
       "    </tr>\n",
       "    <tr>\n",
       "      <th>Remembered Device</th>\n",
       "      <td>0.000000</td>\n",
       "    </tr>\n",
       "    <tr>\n",
       "      <th>Security Key (WebAuthn)</th>\n",
       "      <td>0.000000</td>\n",
       "    </tr>\n",
       "    <tr>\n",
       "      <th>Touch ID (WebAuthn)</th>\n",
       "      <td>0.000000</td>\n",
       "    </tr>\n",
       "    <tr>\n",
       "      <th>U2F Token</th>\n",
       "      <td>0.000000</td>\n",
       "    </tr>\n",
       "  </tbody>\n",
       "</table>\n",
       "</div>"
      ],
      "text/plain": [
       "Result                   failurePercent\n",
       "Factor                                 \n",
       "passcode                       5.182556\n",
       "Phone Call                     3.864738\n",
       "Duo Push                       2.926649\n",
       "Remembered Device              0.000000\n",
       "Security Key (WebAuthn)        0.000000\n",
       "Touch ID (WebAuthn)            0.000000\n",
       "U2F Token                      0.000000"
      ]
     },
     "execution_count": 173,
     "metadata": {},
     "output_type": "execute_result"
    }
   ],
   "source": [
    "factorLogs[['failurePercent']].sort_values(by='failurePercent', ascending=False)"
   ]
  },
  {
   "cell_type": "code",
   "execution_count": null,
   "metadata": {},
   "outputs": [],
   "source": []
  },
  {
   "cell_type": "code",
   "execution_count": null,
   "metadata": {},
   "outputs": [],
   "source": []
  },
  {
   "cell_type": "code",
   "execution_count": 174,
   "metadata": {},
   "outputs": [
    {
     "data": {
      "text/html": [
       "<div>\n",
       "<style scoped>\n",
       "    .dataframe tbody tr th:only-of-type {\n",
       "        vertical-align: middle;\n",
       "    }\n",
       "\n",
       "    .dataframe tbody tr th {\n",
       "        vertical-align: top;\n",
       "    }\n",
       "\n",
       "    .dataframe thead th {\n",
       "        text-align: right;\n",
       "    }\n",
       "</style>\n",
       "<table border=\"1\" class=\"dataframe\">\n",
       "  <thead>\n",
       "    <tr style=\"text-align: right;\">\n",
       "      <th></th>\n",
       "      <th>Factor</th>\n",
       "      <th>Description</th>\n",
       "      <th>Reason</th>\n",
       "      <th>Alias</th>\n",
       "    </tr>\n",
       "  </thead>\n",
       "  <tbody>\n",
       "    <tr>\n",
       "      <th>0</th>\n",
       "      <td>Phone Call</td>\n",
       "      <td>Active (Student)</td>\n",
       "      <td>User approved</td>\n",
       "      <td>user_008576</td>\n",
       "    </tr>\n",
       "    <tr>\n",
       "      <th>1</th>\n",
       "      <td>Duo Push</td>\n",
       "      <td>Active (Student)</td>\n",
       "      <td>User approved</td>\n",
       "      <td>user_049277</td>\n",
       "    </tr>\n",
       "    <tr>\n",
       "      <th>2</th>\n",
       "      <td>Duo Push</td>\n",
       "      <td>Active (Student)</td>\n",
       "      <td>User approved</td>\n",
       "      <td>user_025756</td>\n",
       "    </tr>\n",
       "    <tr>\n",
       "      <th>3</th>\n",
       "      <td>Duo Push</td>\n",
       "      <td>Active (Student)</td>\n",
       "      <td>User approved</td>\n",
       "      <td>user_030286</td>\n",
       "    </tr>\n",
       "    <tr>\n",
       "      <th>4</th>\n",
       "      <td>Duo Push</td>\n",
       "      <td>Active (Student)</td>\n",
       "      <td>User approved</td>\n",
       "      <td>user_019093</td>\n",
       "    </tr>\n",
       "  </tbody>\n",
       "</table>\n",
       "</div>"
      ],
      "text/plain": [
       "       Factor       Description         Reason        Alias\n",
       "0  Phone Call  Active (Student)  User approved  user_008576\n",
       "1    Duo Push  Active (Student)  User approved  user_049277\n",
       "2    Duo Push  Active (Student)  User approved  user_025756\n",
       "3    Duo Push  Active (Student)  User approved  user_030286\n",
       "4    Duo Push  Active (Student)  User approved  user_019093"
      ]
     },
     "execution_count": 174,
     "metadata": {},
     "output_type": "execute_result"
    }
   ],
   "source": [
    "factorsBeingUsed = logs.reset_index()[['Factor','Description','Reason','Alias']]\n",
    "factorsBeingUsed.head()"
   ]
  },
  {
   "cell_type": "code",
   "execution_count": 187,
   "metadata": {},
   "outputs": [],
   "source": [
    "factorUsage = factorsBeingUsed.groupby(['Description','Factor','Alias']).count().unstack(level=2).count(axis=1).reset_index()"
   ]
  },
  {
   "cell_type": "code",
   "execution_count": 188,
   "metadata": {},
   "outputs": [],
   "source": [
    "def computePercentageOfGroup(row):\n",
    "    if(row['Description']=='Active (Faculty)'):\n",
    "        return round((row[0] / 1773) * 100, 1)\n",
    "    elif(row['Description']=='Active (Staff)'):\n",
    "        return round((row[0] / 1179) * 100, 1)\n",
    "    elif(row['Description']=='Active (Student)'):\n",
    "        return round((row[0] / 32931) * 100, 1)"
   ]
  },
  {
   "cell_type": "code",
   "execution_count": 189,
   "metadata": {},
   "outputs": [],
   "source": [
    "factorUsage['percentOfPopulation'] = factorUsage.apply(lambda row: computePercentageOfGroup(row), axis=1)"
   ]
  },
  {
   "cell_type": "code",
   "execution_count": 211,
   "metadata": {
    "collapsed": true
   },
   "outputs": [
    {
     "data": {
      "text/html": [
       "<div>\n",
       "<style scoped>\n",
       "    .dataframe tbody tr th:only-of-type {\n",
       "        vertical-align: middle;\n",
       "    }\n",
       "\n",
       "    .dataframe tbody tr th {\n",
       "        vertical-align: top;\n",
       "    }\n",
       "\n",
       "    .dataframe thead th {\n",
       "        text-align: right;\n",
       "    }\n",
       "</style>\n",
       "<table border=\"1\" class=\"dataframe\">\n",
       "  <thead>\n",
       "    <tr style=\"text-align: right;\">\n",
       "      <th>Description</th>\n",
       "      <th>Active (Faculty)</th>\n",
       "      <th>Active (Staff)</th>\n",
       "      <th>Active (Student)</th>\n",
       "    </tr>\n",
       "    <tr>\n",
       "      <th>Factor</th>\n",
       "      <th></th>\n",
       "      <th></th>\n",
       "      <th></th>\n",
       "    </tr>\n",
       "  </thead>\n",
       "  <tbody>\n",
       "    <tr>\n",
       "      <th>Duo Push</th>\n",
       "      <td>72.3</td>\n",
       "      <td>68.7</td>\n",
       "      <td>87.7</td>\n",
       "    </tr>\n",
       "    <tr>\n",
       "      <th>Remembered Device</th>\n",
       "      <td>58.0</td>\n",
       "      <td>68.8</td>\n",
       "      <td>55.2</td>\n",
       "    </tr>\n",
       "    <tr>\n",
       "      <th>Phone Call</th>\n",
       "      <td>41.2</td>\n",
       "      <td>45.5</td>\n",
       "      <td>39.1</td>\n",
       "    </tr>\n",
       "    <tr>\n",
       "      <th>Duo Mobile Passcode</th>\n",
       "      <td>16.0</td>\n",
       "      <td>11.0</td>\n",
       "      <td>20.8</td>\n",
       "    </tr>\n",
       "    <tr>\n",
       "      <th>Touch ID (WebAuthn)</th>\n",
       "      <td>0.2</td>\n",
       "      <td>0.2</td>\n",
       "      <td>1.1</td>\n",
       "    </tr>\n",
       "    <tr>\n",
       "      <th>Bypass Code</th>\n",
       "      <td>0.5</td>\n",
       "      <td>0.8</td>\n",
       "      <td>0.6</td>\n",
       "    </tr>\n",
       "    <tr>\n",
       "      <th>Hardware Token</th>\n",
       "      <td>14.4</td>\n",
       "      <td>28.6</td>\n",
       "      <td>0.6</td>\n",
       "    </tr>\n",
       "    <tr>\n",
       "      <th>Bypass Status</th>\n",
       "      <td>0.2</td>\n",
       "      <td>0.0</td>\n",
       "      <td>0.1</td>\n",
       "    </tr>\n",
       "    <tr>\n",
       "      <th>Security Key (WebAuthn)</th>\n",
       "      <td>2.0</td>\n",
       "      <td>0.9</td>\n",
       "      <td>0.0</td>\n",
       "    </tr>\n",
       "    <tr>\n",
       "      <th>U2F Token</th>\n",
       "      <td>3.9</td>\n",
       "      <td>2.5</td>\n",
       "      <td>0.0</td>\n",
       "    </tr>\n",
       "    <tr>\n",
       "      <th>Yubikey Passcode</th>\n",
       "      <td>0.0</td>\n",
       "      <td>0.1</td>\n",
       "      <td>0.0</td>\n",
       "    </tr>\n",
       "  </tbody>\n",
       "</table>\n",
       "</div>"
      ],
      "text/plain": [
       "Description              Active (Faculty)  Active (Staff)  Active (Student)\n",
       "Factor                                                                     \n",
       "Duo Push                             72.3            68.7              87.7\n",
       "Remembered Device                    58.0            68.8              55.2\n",
       "Phone Call                           41.2            45.5              39.1\n",
       "Duo Mobile Passcode                  16.0            11.0              20.8\n",
       "Touch ID (WebAuthn)                   0.2             0.2               1.1\n",
       "Bypass Code                           0.5             0.8               0.6\n",
       "Hardware Token                       14.4            28.6               0.6\n",
       "Bypass Status                         0.2             0.0               0.1\n",
       "Security Key (WebAuthn)               2.0             0.9               0.0\n",
       "U2F Token                             3.9             2.5               0.0\n",
       "Yubikey Passcode                      0.0             0.1               0.0"
      ]
     },
     "execution_count": 211,
     "metadata": {},
     "output_type": "execute_result"
    }
   ],
   "source": [
    "factorUsageResult = factorUsage.set_index(['Description','Factor'])['percentOfPopulation'].unstack(level=1).transpose().fillna(0).sort_values(by='Active (Student)', ascending=False)\n",
    "factorUsageResult.drop('Passcode', inplace=True)\n"
   ]
  },
  {
   "cell_type": "code",
   "execution_count": 212,
   "metadata": {},
   "outputs": [
    {
     "data": {
      "text/html": [
       "<div>\n",
       "<style scoped>\n",
       "    .dataframe tbody tr th:only-of-type {\n",
       "        vertical-align: middle;\n",
       "    }\n",
       "\n",
       "    .dataframe tbody tr th {\n",
       "        vertical-align: top;\n",
       "    }\n",
       "\n",
       "    .dataframe thead th {\n",
       "        text-align: right;\n",
       "    }\n",
       "</style>\n",
       "<table border=\"1\" class=\"dataframe\">\n",
       "  <thead>\n",
       "    <tr style=\"text-align: right;\">\n",
       "      <th>Description</th>\n",
       "      <th>Active (Faculty)</th>\n",
       "      <th>Active (Staff)</th>\n",
       "      <th>Active (Student)</th>\n",
       "    </tr>\n",
       "    <tr>\n",
       "      <th>Factor</th>\n",
       "      <th></th>\n",
       "      <th></th>\n",
       "      <th></th>\n",
       "    </tr>\n",
       "  </thead>\n",
       "  <tbody>\n",
       "    <tr>\n",
       "      <th>Duo Push</th>\n",
       "      <td>72.3</td>\n",
       "      <td>68.7</td>\n",
       "      <td>87.7</td>\n",
       "    </tr>\n",
       "    <tr>\n",
       "      <th>Remembered Device</th>\n",
       "      <td>58.0</td>\n",
       "      <td>68.8</td>\n",
       "      <td>55.2</td>\n",
       "    </tr>\n",
       "    <tr>\n",
       "      <th>Phone Call</th>\n",
       "      <td>41.2</td>\n",
       "      <td>45.5</td>\n",
       "      <td>39.1</td>\n",
       "    </tr>\n",
       "    <tr>\n",
       "      <th>Duo Mobile Passcode</th>\n",
       "      <td>16.0</td>\n",
       "      <td>11.0</td>\n",
       "      <td>20.8</td>\n",
       "    </tr>\n",
       "    <tr>\n",
       "      <th>Touch ID (WebAuthn)</th>\n",
       "      <td>0.2</td>\n",
       "      <td>0.2</td>\n",
       "      <td>1.1</td>\n",
       "    </tr>\n",
       "    <tr>\n",
       "      <th>Bypass Code</th>\n",
       "      <td>0.5</td>\n",
       "      <td>0.8</td>\n",
       "      <td>0.6</td>\n",
       "    </tr>\n",
       "    <tr>\n",
       "      <th>Hardware Token</th>\n",
       "      <td>14.4</td>\n",
       "      <td>28.6</td>\n",
       "      <td>0.6</td>\n",
       "    </tr>\n",
       "    <tr>\n",
       "      <th>Bypass Status</th>\n",
       "      <td>0.2</td>\n",
       "      <td>0.0</td>\n",
       "      <td>0.1</td>\n",
       "    </tr>\n",
       "    <tr>\n",
       "      <th>Security Key (WebAuthn)</th>\n",
       "      <td>2.0</td>\n",
       "      <td>0.9</td>\n",
       "      <td>0.0</td>\n",
       "    </tr>\n",
       "    <tr>\n",
       "      <th>U2F Token</th>\n",
       "      <td>3.9</td>\n",
       "      <td>2.5</td>\n",
       "      <td>0.0</td>\n",
       "    </tr>\n",
       "    <tr>\n",
       "      <th>Yubikey Passcode</th>\n",
       "      <td>0.0</td>\n",
       "      <td>0.1</td>\n",
       "      <td>0.0</td>\n",
       "    </tr>\n",
       "  </tbody>\n",
       "</table>\n",
       "</div>"
      ],
      "text/plain": [
       "Description              Active (Faculty)  Active (Staff)  Active (Student)\n",
       "Factor                                                                     \n",
       "Duo Push                             72.3            68.7              87.7\n",
       "Remembered Device                    58.0            68.8              55.2\n",
       "Phone Call                           41.2            45.5              39.1\n",
       "Duo Mobile Passcode                  16.0            11.0              20.8\n",
       "Touch ID (WebAuthn)                   0.2             0.2               1.1\n",
       "Bypass Code                           0.5             0.8               0.6\n",
       "Hardware Token                       14.4            28.6               0.6\n",
       "Bypass Status                         0.2             0.0               0.1\n",
       "Security Key (WebAuthn)               2.0             0.9               0.0\n",
       "U2F Token                             3.9             2.5               0.0\n",
       "Yubikey Passcode                      0.0             0.1               0.0"
      ]
     },
     "execution_count": 212,
     "metadata": {},
     "output_type": "execute_result"
    }
   ],
   "source": [
    "factorUsageResult"
   ]
  },
  {
   "cell_type": "code",
   "execution_count": null,
   "metadata": {},
   "outputs": [],
   "source": []
  },
  {
   "cell_type": "code",
   "execution_count": 424,
   "metadata": {},
   "outputs": [],
   "source": [
    "factorLogs = logs[['Factor','Result','month']]"
   ]
  },
  {
   "cell_type": "code",
   "execution_count": 425,
   "metadata": {},
   "outputs": [],
   "source": [
    "factorLogs = factorLogs.groupby(['month','Factor']).count().reset_index(level=1).pivot(columns='Factor',values='Result')"
   ]
  },
  {
   "cell_type": "code",
   "execution_count": 426,
   "metadata": {},
   "outputs": [],
   "source": [
    "factorLogs.drop(5, inplace=True)"
   ]
  },
  {
   "cell_type": "code",
   "execution_count": 427,
   "metadata": {},
   "outputs": [],
   "source": [
    "factorLogs.fillna(0, inplace=True)"
   ]
  },
  {
   "cell_type": "code",
   "execution_count": 428,
   "metadata": {},
   "outputs": [],
   "source": [
    "factorLogs['Passcodes'] = factorLogs['Bypass Code'] + factorLogs['Duo Mobile Passcode'] + factorLogs['Hardware Token'] + factorLogs['Passcode'] + factorLogs['Yubikey Passcode']"
   ]
  },
  {
   "cell_type": "code",
   "execution_count": 431,
   "metadata": {},
   "outputs": [],
   "source": [
    "factorLogs['Security Key'] = factorLogs['Security Key (WebAuthn)'] + factorLogs['U2F Token']"
   ]
  },
  {
   "cell_type": "code",
   "execution_count": 432,
   "metadata": {},
   "outputs": [],
   "source": [
    "factorLogs.drop(columns=['Security Key (WebAuthn)','U2F Token'], inplace=True)"
   ]
  },
  {
   "cell_type": "code",
   "execution_count": 435,
   "metadata": {},
   "outputs": [],
   "source": [
    "factorLogs.drop(columns=['Bypass Status'], inplace=True)"
   ]
  },
  {
   "cell_type": "code",
   "execution_count": 429,
   "metadata": {},
   "outputs": [],
   "source": [
    "factorLogs.drop(columns=['Bypass Code','Duo Mobile Passcode','Hardware Token','Passcode', 'Yubikey Passcode'], inplace=True)"
   ]
  },
  {
   "cell_type": "code",
   "execution_count": 438,
   "metadata": {},
   "outputs": [
    {
     "data": {
      "text/html": [
       "<div>\n",
       "<style scoped>\n",
       "    .dataframe tbody tr th:only-of-type {\n",
       "        vertical-align: middle;\n",
       "    }\n",
       "\n",
       "    .dataframe tbody tr th {\n",
       "        vertical-align: top;\n",
       "    }\n",
       "\n",
       "    .dataframe thead th {\n",
       "        text-align: right;\n",
       "    }\n",
       "</style>\n",
       "<table border=\"1\" class=\"dataframe\">\n",
       "  <thead>\n",
       "    <tr style=\"text-align: right;\">\n",
       "      <th>Factor</th>\n",
       "      <th>Duo Push</th>\n",
       "      <th>Phone Call</th>\n",
       "      <th>Remembered Device</th>\n",
       "      <th>Touch ID (WebAuthn)</th>\n",
       "      <th>Passcodes</th>\n",
       "      <th>Security Key</th>\n",
       "    </tr>\n",
       "    <tr>\n",
       "      <th>month</th>\n",
       "      <th></th>\n",
       "      <th></th>\n",
       "      <th></th>\n",
       "      <th></th>\n",
       "      <th></th>\n",
       "      <th></th>\n",
       "    </tr>\n",
       "  </thead>\n",
       "  <tbody>\n",
       "    <tr>\n",
       "      <th>1</th>\n",
       "      <td>573462.0</td>\n",
       "      <td>114449.0</td>\n",
       "      <td>163239.0</td>\n",
       "      <td>3065.0</td>\n",
       "      <td>48698.0</td>\n",
       "      <td>2737.0</td>\n",
       "    </tr>\n",
       "    <tr>\n",
       "      <th>2</th>\n",
       "      <td>685134.0</td>\n",
       "      <td>131844.0</td>\n",
       "      <td>208977.0</td>\n",
       "      <td>3627.0</td>\n",
       "      <td>55511.0</td>\n",
       "      <td>3305.0</td>\n",
       "    </tr>\n",
       "    <tr>\n",
       "      <th>3</th>\n",
       "      <td>605309.0</td>\n",
       "      <td>118483.0</td>\n",
       "      <td>179256.0</td>\n",
       "      <td>3285.0</td>\n",
       "      <td>48629.0</td>\n",
       "      <td>3167.0</td>\n",
       "    </tr>\n",
       "    <tr>\n",
       "      <th>4</th>\n",
       "      <td>687033.0</td>\n",
       "      <td>133840.0</td>\n",
       "      <td>220139.0</td>\n",
       "      <td>3700.0</td>\n",
       "      <td>51515.0</td>\n",
       "      <td>3385.0</td>\n",
       "    </tr>\n",
       "    <tr>\n",
       "      <th>11</th>\n",
       "      <td>690756.0</td>\n",
       "      <td>122046.0</td>\n",
       "      <td>204621.0</td>\n",
       "      <td>3403.0</td>\n",
       "      <td>65069.0</td>\n",
       "      <td>2713.0</td>\n",
       "    </tr>\n",
       "    <tr>\n",
       "      <th>12</th>\n",
       "      <td>527273.0</td>\n",
       "      <td>98426.0</td>\n",
       "      <td>148852.0</td>\n",
       "      <td>2684.0</td>\n",
       "      <td>48765.0</td>\n",
       "      <td>2627.0</td>\n",
       "    </tr>\n",
       "  </tbody>\n",
       "</table>\n",
       "</div>"
      ],
      "text/plain": [
       "Factor  Duo Push  Phone Call  Remembered Device  Touch ID (WebAuthn)  \\\n",
       "month                                                                  \n",
       "1       573462.0    114449.0           163239.0               3065.0   \n",
       "2       685134.0    131844.0           208977.0               3627.0   \n",
       "3       605309.0    118483.0           179256.0               3285.0   \n",
       "4       687033.0    133840.0           220139.0               3700.0   \n",
       "11      690756.0    122046.0           204621.0               3403.0   \n",
       "12      527273.0     98426.0           148852.0               2684.0   \n",
       "\n",
       "Factor  Passcodes  Security Key  \n",
       "month                            \n",
       "1         48698.0        2737.0  \n",
       "2         55511.0        3305.0  \n",
       "3         48629.0        3167.0  \n",
       "4         51515.0        3385.0  \n",
       "11        65069.0        2713.0  \n",
       "12        48765.0        2627.0  "
      ]
     },
     "execution_count": 438,
     "metadata": {},
     "output_type": "execute_result"
    }
   ],
   "source": [
    "factorLogs"
   ]
  },
  {
   "cell_type": "code",
   "execution_count": 442,
   "metadata": {},
   "outputs": [
    {
     "data": {
      "image/png": "[encoded data removed]",
      "text/plain": [
       "<Figure size 1440x720 with 1 Axes>"
      ]
     },
     "metadata": {
      "needs_background": "light"
     },
     "output_type": "display_data"
    }
   ],
   "source": [
    "factorLogs.div(factorLogs.sum(axis=1), axis=0).plot.bar(stacked=True, cmap='Dark2', rot=0)\n",
    "plt.legend(bbox_to_anchor=(1.0, 1.0))\n",
    "plt.show()"
   ]
  },
  {
   "cell_type": "code",
   "execution_count": null,
   "metadata": {},
   "outputs": [],
   "source": []
  },
  {
   "cell_type": "code",
   "execution_count": null,
   "metadata": {},
   "outputs": [],
   "source": []
  },
  {
   "cell_type": "code",
   "execution_count": null,
   "metadata": {},
   "outputs": [],
   "source": []
  },
  {
   "cell_type": "code",
   "execution_count": null,
   "metadata": {},
   "outputs": [],
   "source": []
  },
  {
   "cell_type": "code",
   "execution_count": null,
   "metadata": {},
   "outputs": [],
   "source": []
  },
  {
   "cell_type": "markdown",
   "metadata": {},
   "source": [
    "Recovery"
   ]
  },
  {
   "cell_type": "code",
   "execution_count": 171,
   "metadata": {},
   "outputs": [],
   "source": [
    "y = pd.read_csv('updatedRT.csv')"
   ]
  },
  {
   "cell_type": "code",
   "execution_count": 172,
   "metadata": {},
   "outputs": [],
   "source": [
    "y['Description'] = y.user.apply(lambda alias: typeOfUsers[alias])"
   ]
  },
  {
   "cell_type": "code",
   "execution_count": 173,
   "metadata": {},
   "outputs": [],
   "source": [
    "y['recovery_time'] = y['recovery_time'].astype(int)"
   ]
  },
  {
   "cell_type": "code",
   "execution_count": 174,
   "metadata": {},
   "outputs": [],
   "source": [
    "y['recovery_time_in_minutes'] = y['recovery_time'].apply(lambda seconds: seconds // 60)"
   ]
  },
  {
   "cell_type": "code",
   "execution_count": 175,
   "metadata": {},
   "outputs": [],
   "source": [
    "def convert(seconds):\n",
    "    min, sec = divmod(seconds, 60)\n",
    "    print(min, sec)\n",
    "    if min != 0:\n",
    "        return min\n",
    "    else:\n",
    "        return sec      "
   ]
  },
  {
   "cell_type": "code",
   "execution_count": 176,
   "metadata": {},
   "outputs": [
    {
     "data": {
      "text/html": [
       "<div>\n",
       "<style scoped>\n",
       "    .dataframe tbody tr th:only-of-type {\n",
       "        vertical-align: middle;\n",
       "    }\n",
       "\n",
       "    .dataframe tbody tr th {\n",
       "        vertical-align: top;\n",
       "    }\n",
       "\n",
       "    .dataframe thead th {\n",
       "        text-align: right;\n",
       "    }\n",
       "</style>\n",
       "<table border=\"1\" class=\"dataframe\">\n",
       "  <thead>\n",
       "    <tr style=\"text-align: right;\">\n",
       "      <th></th>\n",
       "      <th>user</th>\n",
       "      <th>recovery_time</th>\n",
       "      <th>Description</th>\n",
       "      <th>recovery_time_in_minutes</th>\n",
       "    </tr>\n",
       "  </thead>\n",
       "  <tbody>\n",
       "    <tr>\n",
       "      <th>0</th>\n",
       "      <td>user_000001</td>\n",
       "      <td>19</td>\n",
       "      <td>Active (Staff)</td>\n",
       "      <td>0</td>\n",
       "    </tr>\n",
       "    <tr>\n",
       "      <th>1</th>\n",
       "      <td>user_000002</td>\n",
       "      <td>30067</td>\n",
       "      <td>Active (Staff)</td>\n",
       "      <td>501</td>\n",
       "    </tr>\n",
       "    <tr>\n",
       "      <th>2</th>\n",
       "      <td>user_000003</td>\n",
       "      <td>345</td>\n",
       "      <td>Active (Staff)</td>\n",
       "      <td>5</td>\n",
       "    </tr>\n",
       "    <tr>\n",
       "      <th>3</th>\n",
       "      <td>user_000004</td>\n",
       "      <td>5</td>\n",
       "      <td>Active (Staff)</td>\n",
       "      <td>0</td>\n",
       "    </tr>\n",
       "    <tr>\n",
       "      <th>4</th>\n",
       "      <td>user_000005</td>\n",
       "      <td>164</td>\n",
       "      <td>Active (Staff)</td>\n",
       "      <td>2</td>\n",
       "    </tr>\n",
       "  </tbody>\n",
       "</table>\n",
       "</div>"
      ],
      "text/plain": [
       "          user  recovery_time     Description  recovery_time_in_minutes\n",
       "0  user_000001             19  Active (Staff)                         0\n",
       "1  user_000002          30067  Active (Staff)                       501\n",
       "2  user_000003            345  Active (Staff)                         5\n",
       "3  user_000004              5  Active (Staff)                         0\n",
       "4  user_000005            164  Active (Staff)                         2"
      ]
     },
     "execution_count": 176,
     "metadata": {},
     "output_type": "execute_result"
    }
   ],
   "source": [
    "y.head()"
   ]
  },
  {
   "cell_type": "code",
   "execution_count": 177,
   "metadata": {},
   "outputs": [],
   "source": [
    "y.sort_values(by='recovery_time', inplace=True)"
   ]
  },
  {
   "cell_type": "code",
   "execution_count": 178,
   "metadata": {},
   "outputs": [
    {
     "data": {
      "text/html": [
       "<div>\n",
       "<style scoped>\n",
       "    .dataframe tbody tr th:only-of-type {\n",
       "        vertical-align: middle;\n",
       "    }\n",
       "\n",
       "    .dataframe tbody tr th {\n",
       "        vertical-align: top;\n",
       "    }\n",
       "\n",
       "    .dataframe thead th {\n",
       "        text-align: right;\n",
       "    }\n",
       "</style>\n",
       "<table border=\"1\" class=\"dataframe\">\n",
       "  <thead>\n",
       "    <tr style=\"text-align: right;\">\n",
       "      <th></th>\n",
       "      <th>user</th>\n",
       "      <th>recovery_time</th>\n",
       "      <th>Description</th>\n",
       "      <th>recovery_time_in_minutes</th>\n",
       "    </tr>\n",
       "  </thead>\n",
       "  <tbody>\n",
       "    <tr>\n",
       "      <th>31124</th>\n",
       "      <td>user_046676</td>\n",
       "      <td>0</td>\n",
       "      <td>Active (Student)</td>\n",
       "      <td>0</td>\n",
       "    </tr>\n",
       "    <tr>\n",
       "      <th>4974</th>\n",
       "      <td>user_007729</td>\n",
       "      <td>0</td>\n",
       "      <td>Active (Student)</td>\n",
       "      <td>0</td>\n",
       "    </tr>\n",
       "    <tr>\n",
       "      <th>29216</th>\n",
       "      <td>user_044532</td>\n",
       "      <td>0</td>\n",
       "      <td>Active (Student)</td>\n",
       "      <td>0</td>\n",
       "    </tr>\n",
       "    <tr>\n",
       "      <th>29210</th>\n",
       "      <td>user_044525</td>\n",
       "      <td>0</td>\n",
       "      <td>Active (Student)</td>\n",
       "      <td>0</td>\n",
       "    </tr>\n",
       "    <tr>\n",
       "      <th>29206</th>\n",
       "      <td>user_044521</td>\n",
       "      <td>0</td>\n",
       "      <td>Active (Student)</td>\n",
       "      <td>0</td>\n",
       "    </tr>\n",
       "  </tbody>\n",
       "</table>\n",
       "</div>"
      ],
      "text/plain": [
       "              user  recovery_time       Description  recovery_time_in_minutes\n",
       "31124  user_046676              0  Active (Student)                         0\n",
       "4974   user_007729              0  Active (Student)                         0\n",
       "29216  user_044532              0  Active (Student)                         0\n",
       "29210  user_044525              0  Active (Student)                         0\n",
       "29206  user_044521              0  Active (Student)                         0"
      ]
     },
     "execution_count": 178,
     "metadata": {},
     "output_type": "execute_result"
    }
   ],
   "source": [
    "y.head()"
   ]
  },
  {
   "cell_type": "code",
   "execution_count": 179,
   "metadata": {},
   "outputs": [],
   "source": [
    "y.insert(0,'New_ID', range(1, len(y)+1))"
   ]
  },
  {
   "cell_type": "code",
   "execution_count": 180,
   "metadata": {},
   "outputs": [],
   "source": [
    "y['userPercentage'] = y['New_ID'].apply(lambda num: num/len(y))"
   ]
  },
  {
   "cell_type": "code",
   "execution_count": null,
   "metadata": {},
   "outputs": [],
   "source": []
  },
  {
   "cell_type": "code",
   "execution_count": 184,
   "metadata": {},
   "outputs": [],
   "source": [
    "y['normalized_recovery_time'] = y['recovery_time'] / 11595074"
   ]
  },
  {
   "cell_type": "code",
   "execution_count": null,
   "metadata": {},
   "outputs": [],
   "source": []
  },
  {
   "cell_type": "code",
   "execution_count": 185,
   "metadata": {},
   "outputs": [
    {
     "data": {
      "text/html": [
       "<div>\n",
       "<style scoped>\n",
       "    .dataframe tbody tr th:only-of-type {\n",
       "        vertical-align: middle;\n",
       "    }\n",
       "\n",
       "    .dataframe tbody tr th {\n",
       "        vertical-align: top;\n",
       "    }\n",
       "\n",
       "    .dataframe thead th {\n",
       "        text-align: right;\n",
       "    }\n",
       "</style>\n",
       "<table border=\"1\" class=\"dataframe\">\n",
       "  <thead>\n",
       "    <tr style=\"text-align: right;\">\n",
       "      <th></th>\n",
       "      <th>New_ID</th>\n",
       "      <th>user</th>\n",
       "      <th>recovery_time</th>\n",
       "      <th>Description</th>\n",
       "      <th>recovery_time_in_minutes</th>\n",
       "      <th>userPercentage</th>\n",
       "      <th>normalized_recovery_time</th>\n",
       "    </tr>\n",
       "  </thead>\n",
       "  <tbody>\n",
       "    <tr>\n",
       "      <th>31124</th>\n",
       "      <td>1</td>\n",
       "      <td>user_046676</td>\n",
       "      <td>0</td>\n",
       "      <td>Active (Student)</td>\n",
       "      <td>0</td>\n",
       "      <td>0.000028</td>\n",
       "      <td>0.0</td>\n",
       "    </tr>\n",
       "    <tr>\n",
       "      <th>4974</th>\n",
       "      <td>2</td>\n",
       "      <td>user_007729</td>\n",
       "      <td>0</td>\n",
       "      <td>Active (Student)</td>\n",
       "      <td>0</td>\n",
       "      <td>0.000056</td>\n",
       "      <td>0.0</td>\n",
       "    </tr>\n",
       "    <tr>\n",
       "      <th>29216</th>\n",
       "      <td>3</td>\n",
       "      <td>user_044532</td>\n",
       "      <td>0</td>\n",
       "      <td>Active (Student)</td>\n",
       "      <td>0</td>\n",
       "      <td>0.000084</td>\n",
       "      <td>0.0</td>\n",
       "    </tr>\n",
       "    <tr>\n",
       "      <th>29210</th>\n",
       "      <td>4</td>\n",
       "      <td>user_044525</td>\n",
       "      <td>0</td>\n",
       "      <td>Active (Student)</td>\n",
       "      <td>0</td>\n",
       "      <td>0.000111</td>\n",
       "      <td>0.0</td>\n",
       "    </tr>\n",
       "    <tr>\n",
       "      <th>29206</th>\n",
       "      <td>5</td>\n",
       "      <td>user_044521</td>\n",
       "      <td>0</td>\n",
       "      <td>Active (Student)</td>\n",
       "      <td>0</td>\n",
       "      <td>0.000139</td>\n",
       "      <td>0.0</td>\n",
       "    </tr>\n",
       "  </tbody>\n",
       "</table>\n",
       "</div>"
      ],
      "text/plain": [
       "       New_ID         user  recovery_time       Description  \\\n",
       "31124       1  user_046676              0  Active (Student)   \n",
       "4974        2  user_007729              0  Active (Student)   \n",
       "29216       3  user_044532              0  Active (Student)   \n",
       "29210       4  user_044525              0  Active (Student)   \n",
       "29206       5  user_044521              0  Active (Student)   \n",
       "\n",
       "       recovery_time_in_minutes  userPercentage  normalized_recovery_time  \n",
       "31124                         0        0.000028                       0.0  \n",
       "4974                          0        0.000056                       0.0  \n",
       "29216                         0        0.000084                       0.0  \n",
       "29210                         0        0.000111                       0.0  \n",
       "29206                         0        0.000139                       0.0  "
      ]
     },
     "execution_count": 185,
     "metadata": {},
     "output_type": "execute_result"
    }
   ],
   "source": [
    "y.head()"
   ]
  },
  {
   "cell_type": "code",
   "execution_count": 190,
   "metadata": {},
   "outputs": [
    {
     "data": {
      "text/plain": [
       "31246.670763314105"
      ]
     },
     "execution_count": 190,
     "metadata": {},
     "output_type": "execute_result"
    }
   ],
   "source": [
    "y['recovery_time'].mean()"
   ]
  },
  {
   "cell_type": "code",
   "execution_count": 394,
   "metadata": {},
   "outputs": [
    {
     "data": {
      "image/png": "[encoded data removed]",
      "text/plain": [
       "<Figure size 1440x720 with 1 Axes>"
      ]
     },
     "metadata": {
      "needs_background": "light"
     },
     "output_type": "display_data"
    }
   ],
   "source": [
    "plt.rcParams[\"figure.figsize\"] = (20,10)\n",
    "ax = y.plot(x='recovery_time', y='userPercentage', legend=False)\n",
    "plt.ylabel('Percentage of Users')\n",
    "plt.xlabel('Recovery Time (seconds)')\n",
    "\n",
    "ax.set_xscale('log')\n",
    "\n",
    "plt.title('User Recovery Time')\n",
    "plt.show()"
   ]
  },
  {
   "cell_type": "code",
   "execution_count": 409,
   "metadata": {},
   "outputs": [
    {
     "data": {
      "text/plain": [
       "count       35883.000000\n",
       "mean        31246.670763\n",
       "std        204293.737039\n",
       "min             0.000000\n",
       "25%            18.000000\n",
       "50%           369.000000\n",
       "75%         16691.000000\n",
       "max      11595074.000000\n",
       "Name: recovery_time, dtype: object"
      ]
     },
     "execution_count": 409,
     "metadata": {},
     "output_type": "execute_result"
    }
   ],
   "source": [
    "y['recovery_time'].describe().apply(lambda x: format(x, 'f'))"
   ]
  },
  {
   "cell_type": "code",
   "execution_count": null,
   "metadata": {},
   "outputs": [],
   "source": []
  }
 ],
 "metadata": {
  "kernelspec": {
   "display_name": "Python 3",
   "language": "python",
   "name": "python3"
  },
  "language_info": {
   "codemirror_mode": {
    "name": "ipython",
    "version": 3
   },
   "file_extension": ".py",
   "mimetype": "text/x-python",
   "name": "python",
   "nbconvert_exporter": "python",
   "pygments_lexer": "ipython3",
   "version": "3.8.5"
  }
 },
 "nbformat": 4,
 "nbformat_minor": 4
}
