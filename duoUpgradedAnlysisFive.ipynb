{
 "cells": [
  {
   "cell_type": "code",
   "execution_count": 1,
   "metadata": {},
   "outputs": [],
   "source": [
    "import pandas as pd\n",
    "import matplotlib.pyplot as plt\n",
    "from matplotlib.pyplot import figure\n",
    "import math\n",
    "from datetime import datetime, timedelta\n",
    "import seaborn as sns\n",
    "\n",
    "import datetime\n",
    "from dateutil.parser import parse\n",
    "\n",
    "import numpy as np\n",
    "\n",
    "\n",
    "from matplotlib import rcParams\n",
    "\n",
    "plt.rcParams[\"figure.figsize\"] = (20,10)\n",
    "# %reset"
   ]
  },
  {
   "cell_type": "code",
   "execution_count": 2,
   "metadata": {},
   "outputs": [],
   "source": [
    "pd.set_option('display.max_rows', None)\n",
    "pd.set_option('display.max_columns', None)\n",
    "pd.set_option('display.max_colwidth', None)"
   ]
  },
  {
   "cell_type": "code",
   "execution_count": 3,
   "metadata": {},
   "outputs": [
    {
     "name": "stderr",
     "output_type": "stream",
     "text": [
      "C:\\Users\\Francisco\\anaconda3\\lib\\site-packages\\IPython\\core\\interactiveshell.py:3146: DtypeWarning: Columns (10) have mixed types.Specify dtype option on import or set low_memory=False.\n",
      "  has_raised = await self.run_ast_nodes(code_ast.body, cell_name,\n"
     ]
    }
   ],
   "source": [
    "import glob\n",
    "\n",
    "all_files = glob.glob(\"./Duo_Auth*.csv\")\n",
    "\n",
    "li = []\n",
    "\n",
    "for filename in all_files:\n",
    "#     print(filename)\n",
    "    df = pd.read_csv(filename, index_col=None, header=0)\n",
    "    li.append(df)\n",
    "df = pd.concat(li, axis=0, ignore_index=True)"
   ]
  },
  {
   "cell_type": "code",
   "execution_count": 4,
   "metadata": {},
   "outputs": [],
   "source": [
    "df['Timestamp (UTC)'] = pd.to_datetime(df['Timestamp (UTC)'])\n",
    "df['date'] = df['Timestamp (UTC)'].apply(lambda timestamp: timestamp.date())\n",
    "df['month'] = df['Timestamp (UTC)'].apply(lambda timestamp:  timestamp.month)\n",
    "df['hour'] = df['Timestamp (UTC)'].apply(lambda timestamp:  timestamp.hour)\n",
    "df['minute'] = df['Timestamp (UTC)'].apply(lambda timestamp:  timestamp.minute)\n",
    "df['second'] = df['Timestamp (UTC)'].apply(lambda timestamp:  timestamp.second)"
   ]
  },
  {
   "cell_type": "code",
   "execution_count": 5,
   "metadata": {},
   "outputs": [
    {
     "name": "stdout",
     "output_type": "stream",
     "text": [
      "(7077783, 16)\n"
     ]
    },
    {
     "data": {
      "text/html": [
       "<div>\n",
       "<style scoped>\n",
       "    .dataframe tbody tr th:only-of-type {\n",
       "        vertical-align: middle;\n",
       "    }\n",
       "\n",
       "    .dataframe tbody tr th {\n",
       "        vertical-align: top;\n",
       "    }\n",
       "\n",
       "    .dataframe thead th {\n",
       "        text-align: right;\n",
       "    }\n",
       "</style>\n",
       "<table border=\"1\" class=\"dataframe\">\n",
       "  <thead>\n",
       "    <tr style=\"text-align: right;\">\n",
       "      <th></th>\n",
       "      <th>Timestamp (UTC)</th>\n",
       "      <th>Alias</th>\n",
       "      <th>Integration</th>\n",
       "      <th>Factor</th>\n",
       "      <th>Result</th>\n",
       "      <th>Reason</th>\n",
       "      <th>Enrollment</th>\n",
       "      <th>Access Device Country</th>\n",
       "      <th>Access Device State</th>\n",
       "      <th>Access Device City</th>\n",
       "      <th>Access Device Hostname</th>\n",
       "      <th>date</th>\n",
       "      <th>month</th>\n",
       "      <th>hour</th>\n",
       "      <th>minute</th>\n",
       "      <th>second</th>\n",
       "    </tr>\n",
       "  </thead>\n",
       "  <tbody>\n",
       "    <tr>\n",
       "      <th>0</th>\n",
       "      <td>2021-04-01 07:00:07.957411+00:00</td>\n",
       "      <td>user_008576</td>\n",
       "      <td>Single Sign-On</td>\n",
       "      <td>Phone Call</td>\n",
       "      <td>SUCCESS</td>\n",
       "      <td>User approved</td>\n",
       "      <td>False</td>\n",
       "      <td>US</td>\n",
       "      <td>California</td>\n",
       "      <td>Rocklin</td>\n",
       "      <td>NaN</td>\n",
       "      <td>2021-04-01</td>\n",
       "      <td>4</td>\n",
       "      <td>7</td>\n",
       "      <td>0</td>\n",
       "      <td>7</td>\n",
       "    </tr>\n",
       "    <tr>\n",
       "      <th>1</th>\n",
       "      <td>2021-04-01 07:00:10.492910+00:00</td>\n",
       "      <td>user_049277</td>\n",
       "      <td>Single Sign-On</td>\n",
       "      <td>Duo Push</td>\n",
       "      <td>SUCCESS</td>\n",
       "      <td>User approved</td>\n",
       "      <td>False</td>\n",
       "      <td>US</td>\n",
       "      <td>California</td>\n",
       "      <td>Santa Maria</td>\n",
       "      <td>NaN</td>\n",
       "      <td>2021-04-01</td>\n",
       "      <td>4</td>\n",
       "      <td>7</td>\n",
       "      <td>0</td>\n",
       "      <td>10</td>\n",
       "    </tr>\n",
       "  </tbody>\n",
       "</table>\n",
       "</div>"
      ],
      "text/plain": [
       "                   Timestamp (UTC)        Alias     Integration      Factor  \\\n",
       "0 2021-04-01 07:00:07.957411+00:00  user_008576  Single Sign-On  Phone Call   \n",
       "1 2021-04-01 07:00:10.492910+00:00  user_049277  Single Sign-On    Duo Push   \n",
       "\n",
       "    Result         Reason  Enrollment Access Device Country  \\\n",
       "0  SUCCESS  User approved       False                    US   \n",
       "1  SUCCESS  User approved       False                    US   \n",
       "\n",
       "  Access Device State Access Device City Access Device Hostname        date  \\\n",
       "0          California            Rocklin                    NaN  2021-04-01   \n",
       "1          California        Santa Maria                    NaN  2021-04-01   \n",
       "\n",
       "   month  hour  minute  second  \n",
       "0      4     7       0       7  \n",
       "1      4     7       0      10  "
      ]
     },
     "execution_count": 5,
     "metadata": {},
     "output_type": "execute_result"
    }
   ],
   "source": [
    "logs = df\n",
    "print(logs.shape)\n",
    "logs.head(2)"
   ]
  },
  {
   "cell_type": "code",
   "execution_count": 6,
   "metadata": {},
   "outputs": [
    {
     "data": {
      "text/html": [
       "<div>\n",
       "<style scoped>\n",
       "    .dataframe tbody tr th:only-of-type {\n",
       "        vertical-align: middle;\n",
       "    }\n",
       "\n",
       "    .dataframe tbody tr th {\n",
       "        vertical-align: top;\n",
       "    }\n",
       "\n",
       "    .dataframe thead th {\n",
       "        text-align: right;\n",
       "    }\n",
       "</style>\n",
       "<table border=\"1\" class=\"dataframe\">\n",
       "  <thead>\n",
       "    <tr style=\"text-align: right;\">\n",
       "      <th></th>\n",
       "      <th>Alias</th>\n",
       "      <th>Status</th>\n",
       "      <th>Created</th>\n",
       "      <th>Last Login</th>\n",
       "      <th>Phone 1 platform</th>\n",
       "      <th>Phone 2 platform</th>\n",
       "      <th>Phone 3 platform</th>\n",
       "      <th>Phone 4 platform</th>\n",
       "      <th>Phone 5 platform</th>\n",
       "      <th>Phone 6 platform</th>\n",
       "      <th>Phone 7 platform</th>\n",
       "      <th>Student</th>\n",
       "      <th>Description</th>\n",
       "      <th>Index</th>\n",
       "    </tr>\n",
       "  </thead>\n",
       "  <tbody>\n",
       "    <tr>\n",
       "      <th>0</th>\n",
       "      <td>user_000001</td>\n",
       "      <td>Active</td>\n",
       "      <td>2017-04-26 18:31:00</td>\n",
       "      <td>4/7/2021 15:00</td>\n",
       "      <td>Landline</td>\n",
       "      <td>NaN</td>\n",
       "      <td>NaN</td>\n",
       "      <td>NaN</td>\n",
       "      <td>NaN</td>\n",
       "      <td>NaN</td>\n",
       "      <td>NaN</td>\n",
       "      <td>False</td>\n",
       "      <td>Active (Staff)</td>\n",
       "      <td>1</td>\n",
       "    </tr>\n",
       "    <tr>\n",
       "      <th>1</th>\n",
       "      <td>user_000002</td>\n",
       "      <td>Active</td>\n",
       "      <td>2017-04-26 18:58:00</td>\n",
       "      <td>4/6/2021 21:34</td>\n",
       "      <td>Android</td>\n",
       "      <td>Landline</td>\n",
       "      <td>NaN</td>\n",
       "      <td>NaN</td>\n",
       "      <td>NaN</td>\n",
       "      <td>NaN</td>\n",
       "      <td>NaN</td>\n",
       "      <td>False</td>\n",
       "      <td>Active (Staff)</td>\n",
       "      <td>2</td>\n",
       "    </tr>\n",
       "    <tr>\n",
       "      <th>2</th>\n",
       "      <td>user_000003</td>\n",
       "      <td>Active</td>\n",
       "      <td>2017-04-27 20:42:00</td>\n",
       "      <td>4/6/2021 16:35</td>\n",
       "      <td>Landline</td>\n",
       "      <td>Android</td>\n",
       "      <td>NaN</td>\n",
       "      <td>NaN</td>\n",
       "      <td>NaN</td>\n",
       "      <td>NaN</td>\n",
       "      <td>NaN</td>\n",
       "      <td>False</td>\n",
       "      <td>Active (Staff)</td>\n",
       "      <td>3</td>\n",
       "    </tr>\n",
       "    <tr>\n",
       "      <th>3</th>\n",
       "      <td>user_000004</td>\n",
       "      <td>Active</td>\n",
       "      <td>2017-08-16 17:10:00</td>\n",
       "      <td>4/7/2021 14:23</td>\n",
       "      <td>iOS</td>\n",
       "      <td>Landline</td>\n",
       "      <td>NaN</td>\n",
       "      <td>NaN</td>\n",
       "      <td>NaN</td>\n",
       "      <td>NaN</td>\n",
       "      <td>NaN</td>\n",
       "      <td>False</td>\n",
       "      <td>Active (Staff)</td>\n",
       "      <td>4</td>\n",
       "    </tr>\n",
       "    <tr>\n",
       "      <th>4</th>\n",
       "      <td>user_000005</td>\n",
       "      <td>Active</td>\n",
       "      <td>2017-09-12 22:03:00</td>\n",
       "      <td>4/7/2021 0:17</td>\n",
       "      <td>Android</td>\n",
       "      <td>Landline</td>\n",
       "      <td>NaN</td>\n",
       "      <td>NaN</td>\n",
       "      <td>NaN</td>\n",
       "      <td>NaN</td>\n",
       "      <td>NaN</td>\n",
       "      <td>False</td>\n",
       "      <td>Active (Staff)</td>\n",
       "      <td>5</td>\n",
       "    </tr>\n",
       "  </tbody>\n",
       "</table>\n",
       "</div>"
      ],
      "text/plain": [
       "         Alias  Status             Created      Last Login Phone 1 platform  \\\n",
       "0  user_000001  Active 2017-04-26 18:31:00  4/7/2021 15:00         Landline   \n",
       "1  user_000002  Active 2017-04-26 18:58:00  4/6/2021 21:34          Android   \n",
       "2  user_000003  Active 2017-04-27 20:42:00  4/6/2021 16:35         Landline   \n",
       "3  user_000004  Active 2017-08-16 17:10:00  4/7/2021 14:23              iOS   \n",
       "4  user_000005  Active 2017-09-12 22:03:00   4/7/2021 0:17          Android   \n",
       "\n",
       "  Phone 2 platform Phone 3 platform Phone 4 platform Phone 5 platform  \\\n",
       "0              NaN              NaN              NaN              NaN   \n",
       "1         Landline              NaN              NaN              NaN   \n",
       "2          Android              NaN              NaN              NaN   \n",
       "3         Landline              NaN              NaN              NaN   \n",
       "4         Landline              NaN              NaN              NaN   \n",
       "\n",
       "  Phone 6 platform Phone 7 platform  Student     Description  Index  \n",
       "0              NaN              NaN    False  Active (Staff)      1  \n",
       "1              NaN              NaN    False  Active (Staff)      2  \n",
       "2              NaN              NaN    False  Active (Staff)      3  \n",
       "3              NaN              NaN    False  Active (Staff)      4  \n",
       "4              NaN              NaN    False  Active (Staff)      5  "
      ]
     },
     "execution_count": 6,
     "metadata": {},
     "output_type": "execute_result"
    }
   ],
   "source": [
    "users = pd.read_csv('duo_users_clean.csv')\n",
    "users['Created'] = users['Created'].apply(lambda date: parse(date))\n",
    "users.head()"
   ]
  },
  {
   "cell_type": "code",
   "execution_count": 7,
   "metadata": {},
   "outputs": [],
   "source": [
    "mask1 = users[\"Description\"] == \"Active (Student)\"\n",
    "mask2 = users[\"Description\"] == \"Active (Faculty)\"\n",
    "mask3 = users[\"Description\"] == \"Active (Staff)\""
   ]
  },
  {
   "cell_type": "code",
   "execution_count": 8,
   "metadata": {},
   "outputs": [
    {
     "data": {
      "text/plain": [
       "Active (Student)    34996\n",
       "Active (Faculty)     1899\n",
       "Active (Staff)       1204\n",
       "Name: Description, dtype: int64"
      ]
     },
     "execution_count": 8,
     "metadata": {},
     "output_type": "execute_result"
    }
   ],
   "source": [
    "subsetOfUsers = users[(mask1) | (mask2) | (mask3)]\n",
    "subsetOfUsers.Description.value_counts()"
   ]
  },
  {
   "cell_type": "code",
   "execution_count": 9,
   "metadata": {},
   "outputs": [],
   "source": [
    "typeOfUsers = subsetOfUsers.set_index(\"Alias\")[\"Description\"].to_dict()"
   ]
  },
  {
   "cell_type": "code",
   "execution_count": 10,
   "metadata": {},
   "outputs": [],
   "source": [
    "logs = logs[logs['Alias'].isin(typeOfUsers)]"
   ]
  },
  {
   "cell_type": "code",
   "execution_count": 11,
   "metadata": {},
   "outputs": [
    {
     "name": "stderr",
     "output_type": "stream",
     "text": [
      "<ipython-input-11-489641ab1da8>:1: SettingWithCopyWarning: \n",
      "A value is trying to be set on a copy of a slice from a DataFrame.\n",
      "Try using .loc[row_indexer,col_indexer] = value instead\n",
      "\n",
      "See the caveats in the documentation: https://pandas.pydata.org/pandas-docs/stable/user_guide/indexing.html#returning-a-view-versus-a-copy\n",
      "  logs['Description'] = logs.Alias.apply(lambda alias: typeOfUsers[alias])\n"
     ]
    }
   ],
   "source": [
    "logs['Description'] = logs.Alias.apply(lambda alias: typeOfUsers[alias])"
   ]
  },
  {
   "cell_type": "code",
   "execution_count": 12,
   "metadata": {},
   "outputs": [],
   "source": [
    "# Get a list of active students, faculty, and staff that have logged in\n",
    "activeUsers = logs.Alias.unique()"
   ]
  },
  {
   "cell_type": "code",
   "execution_count": 13,
   "metadata": {},
   "outputs": [
    {
     "data": {
      "text/plain": [
       "35883"
      ]
     },
     "execution_count": 13,
     "metadata": {},
     "output_type": "execute_result"
    }
   ],
   "source": [
    "subsetOfUsers = subsetOfUsers[subsetOfUsers['Alias'].isin(activeUsers)]\n",
    "len(subsetOfUsers)"
   ]
  },
  {
   "cell_type": "code",
   "execution_count": 14,
   "metadata": {},
   "outputs": [
    {
     "data": {
      "text/plain": [
       "Active (Student)    32931\n",
       "Active (Faculty)     1773\n",
       "Active (Staff)       1179\n",
       "Name: Description, dtype: int64"
      ]
     },
     "execution_count": 14,
     "metadata": {},
     "output_type": "execute_result"
    }
   ],
   "source": [
    "subsetOfUsers.Description.value_counts()"
   ]
  },
  {
   "cell_type": "code",
   "execution_count": 15,
   "metadata": {},
   "outputs": [],
   "source": [
    "# have to run up to list line when starting"
   ]
  },
  {
   "cell_type": "code",
   "execution_count": null,
   "metadata": {},
   "outputs": [],
   "source": []
  },
  {
   "cell_type": "code",
   "execution_count": null,
   "metadata": {},
   "outputs": [],
   "source": []
  },
  {
   "cell_type": "code",
   "execution_count": 17,
   "metadata": {},
   "outputs": [
    {
     "data": {
      "text/plain": [
       "(1029, 14)"
      ]
     },
     "execution_count": 17,
     "metadata": {},
     "output_type": "execute_result"
    }
   ],
   "source": [
    "# Users Created after november\n",
    "usersCreatedAfterNovember = subsetOfUsers[subsetOfUsers['Created']>'2020-11-01']\n",
    "usersCreatedAfterNovember.shape"
   ]
  },
  {
   "cell_type": "code",
   "execution_count": 18,
   "metadata": {},
   "outputs": [],
   "source": [
    "typeOfUsersAfterNovember = usersCreatedAfterNovember.set_index(\"Alias\")[\"Description\"].to_dict()"
   ]
  },
  {
   "cell_type": "code",
   "execution_count": 19,
   "metadata": {},
   "outputs": [],
   "source": [
    "enrollmentAnlysisLogs = logs[logs['Alias'].isin(typeOfUsersAfterNovember)]"
   ]
  },
  {
   "cell_type": "code",
   "execution_count": 20,
   "metadata": {},
   "outputs": [],
   "source": [
    "enrollmentAnlysisLogs = enrollmentAnlysisLogs[enrollmentAnlysisLogs['Reason']!='Remembered device']"
   ]
  },
  {
   "cell_type": "code",
   "execution_count": 21,
   "metadata": {},
   "outputs": [],
   "source": [
    "enrollmentAnlysisLogs.set_index('Alias', inplace=True)"
   ]
  },
  {
   "cell_type": "code",
   "execution_count": 22,
   "metadata": {},
   "outputs": [],
   "source": [
    "def addToDataFrame(data):\n",
    "    df_length = len(userEnrollmentLogs)\n",
    "    userEnrollmentLogs.loc[df_length] = data"
   ]
  },
  {
   "cell_type": "code",
   "execution_count": 23,
   "metadata": {},
   "outputs": [],
   "source": [
    "userEnrollmentLogs = pd.DataFrame(columns=['1','2','3','4','5','6','7','8','9','10'])\n",
    "# success and failure data\n",
    "\n",
    "# users who have authenticated at least 10 times\n",
    "usersWithTenAuth = []\n",
    "\n",
    "for user in usersCreatedAfterNovember.Alias:\n",
    "    array = []\n",
    "    counter = 0\n",
    "    errorRate = 0\n",
    "    failures = 0\n",
    "    if(len(enrollmentAnlysisLogs.loc[user]['Result'])<10):\n",
    "        continue\n",
    "    usersWithTenAuth.append(user)\n",
    "    for i in enrollmentAnlysisLogs.loc[user]['Result']:\n",
    "        counter += 1\n",
    "        array.append(i)\n",
    "        if(counter==10):\n",
    "            break\n",
    "#     print(enrollmentAnlysisLogs.loc[user].Description)\n",
    "    addToDataFrame(array)"
   ]
  },
  {
   "cell_type": "code",
   "execution_count": 24,
   "metadata": {},
   "outputs": [
    {
     "data": {
      "text/plain": [
       "(766, 10)"
      ]
     },
     "execution_count": 24,
     "metadata": {},
     "output_type": "execute_result"
    }
   ],
   "source": [
    "userEnrollmentLogs.shape"
   ]
  },
  {
   "cell_type": "code",
   "execution_count": 25,
   "metadata": {},
   "outputs": [
    {
     "data": {
      "text/html": [
       "<div>\n",
       "<style scoped>\n",
       "    .dataframe tbody tr th:only-of-type {\n",
       "        vertical-align: middle;\n",
       "    }\n",
       "\n",
       "    .dataframe tbody tr th {\n",
       "        vertical-align: top;\n",
       "    }\n",
       "\n",
       "    .dataframe thead th {\n",
       "        text-align: right;\n",
       "    }\n",
       "</style>\n",
       "<table border=\"1\" class=\"dataframe\">\n",
       "  <thead>\n",
       "    <tr style=\"text-align: right;\">\n",
       "      <th></th>\n",
       "      <th>1</th>\n",
       "      <th>2</th>\n",
       "      <th>3</th>\n",
       "      <th>4</th>\n",
       "      <th>5</th>\n",
       "      <th>6</th>\n",
       "      <th>7</th>\n",
       "      <th>8</th>\n",
       "      <th>9</th>\n",
       "      <th>10</th>\n",
       "    </tr>\n",
       "  </thead>\n",
       "  <tbody>\n",
       "    <tr>\n",
       "      <th>0</th>\n",
       "      <td>SUCCESS</td>\n",
       "      <td>SUCCESS</td>\n",
       "      <td>SUCCESS</td>\n",
       "      <td>SUCCESS</td>\n",
       "      <td>SUCCESS</td>\n",
       "      <td>SUCCESS</td>\n",
       "      <td>SUCCESS</td>\n",
       "      <td>SUCCESS</td>\n",
       "      <td>SUCCESS</td>\n",
       "      <td>SUCCESS</td>\n",
       "    </tr>\n",
       "    <tr>\n",
       "      <th>1</th>\n",
       "      <td>SUCCESS</td>\n",
       "      <td>SUCCESS</td>\n",
       "      <td>SUCCESS</td>\n",
       "      <td>SUCCESS</td>\n",
       "      <td>SUCCESS</td>\n",
       "      <td>FAILURE</td>\n",
       "      <td>SUCCESS</td>\n",
       "      <td>SUCCESS</td>\n",
       "      <td>SUCCESS</td>\n",
       "      <td>SUCCESS</td>\n",
       "    </tr>\n",
       "    <tr>\n",
       "      <th>2</th>\n",
       "      <td>SUCCESS</td>\n",
       "      <td>SUCCESS</td>\n",
       "      <td>SUCCESS</td>\n",
       "      <td>SUCCESS</td>\n",
       "      <td>SUCCESS</td>\n",
       "      <td>SUCCESS</td>\n",
       "      <td>SUCCESS</td>\n",
       "      <td>SUCCESS</td>\n",
       "      <td>SUCCESS</td>\n",
       "      <td>SUCCESS</td>\n",
       "    </tr>\n",
       "    <tr>\n",
       "      <th>3</th>\n",
       "      <td>SUCCESS</td>\n",
       "      <td>SUCCESS</td>\n",
       "      <td>SUCCESS</td>\n",
       "      <td>SUCCESS</td>\n",
       "      <td>SUCCESS</td>\n",
       "      <td>SUCCESS</td>\n",
       "      <td>SUCCESS</td>\n",
       "      <td>SUCCESS</td>\n",
       "      <td>FAILURE</td>\n",
       "      <td>FAILURE</td>\n",
       "    </tr>\n",
       "    <tr>\n",
       "      <th>4</th>\n",
       "      <td>SUCCESS</td>\n",
       "      <td>SUCCESS</td>\n",
       "      <td>SUCCESS</td>\n",
       "      <td>SUCCESS</td>\n",
       "      <td>SUCCESS</td>\n",
       "      <td>SUCCESS</td>\n",
       "      <td>SUCCESS</td>\n",
       "      <td>SUCCESS</td>\n",
       "      <td>SUCCESS</td>\n",
       "      <td>SUCCESS</td>\n",
       "    </tr>\n",
       "  </tbody>\n",
       "</table>\n",
       "</div>"
      ],
      "text/plain": [
       "         1        2        3        4        5        6        7        8  \\\n",
       "0  SUCCESS  SUCCESS  SUCCESS  SUCCESS  SUCCESS  SUCCESS  SUCCESS  SUCCESS   \n",
       "1  SUCCESS  SUCCESS  SUCCESS  SUCCESS  SUCCESS  FAILURE  SUCCESS  SUCCESS   \n",
       "2  SUCCESS  SUCCESS  SUCCESS  SUCCESS  SUCCESS  SUCCESS  SUCCESS  SUCCESS   \n",
       "3  SUCCESS  SUCCESS  SUCCESS  SUCCESS  SUCCESS  SUCCESS  SUCCESS  SUCCESS   \n",
       "4  SUCCESS  SUCCESS  SUCCESS  SUCCESS  SUCCESS  SUCCESS  SUCCESS  SUCCESS   \n",
       "\n",
       "         9       10  \n",
       "0  SUCCESS  SUCCESS  \n",
       "1  SUCCESS  SUCCESS  \n",
       "2  SUCCESS  SUCCESS  \n",
       "3  FAILURE  FAILURE  \n",
       "4  SUCCESS  SUCCESS  "
      ]
     },
     "execution_count": 25,
     "metadata": {},
     "output_type": "execute_result"
    }
   ],
   "source": [
    "userEnrollmentLogs.head()"
   ]
  },
  {
   "cell_type": "code",
   "execution_count": 26,
   "metadata": {},
   "outputs": [
    {
     "data": {
      "image/png": "[encoded data removed]",
      "text/plain": [
       "<Figure size 1440x720 with 1 Axes>"
      ]
     },
     "metadata": {
      "needs_background": "light"
     },
     "output_type": "display_data"
    }
   ],
   "source": [
    "successVsfailureEnrollmentLogs = []\n",
    "for i in range(1,11):\n",
    "    value = (userEnrollmentLogs[[str(i)]].value_counts()[1] / userEnrollmentLogs[[str(i)]].value_counts()[0])*100\n",
    "    successVsfailureEnrollmentLogs.append(value)\n",
    "plt.ylim(0,15)\n",
    "plt.title('Error Rate in First 10 Authentication attempts')\n",
    "plt.ylabel('Error Rate')\n",
    "plt.xlabel('Authentications')\n",
    "# plt.xticks([2,3,4,5,6,7,8,9,10])\n",
    "plt.plot(successVsfailureEnrollmentLogs)\n",
    "\n",
    "plt.show()\n",
    "plt.rcParams[\"figure.figsize\"] = (20,10)\n",
    "# print(successVsfailureEnrollmentLogs)"
   ]
  },
  {
   "cell_type": "code",
   "execution_count": null,
   "metadata": {},
   "outputs": [],
   "source": []
  },
  {
   "cell_type": "code",
   "execution_count": null,
   "metadata": {},
   "outputs": [],
   "source": [
    "# Success Rate by month"
   ]
  },
  {
   "cell_type": "code",
   "execution_count": 27,
   "metadata": {},
   "outputs": [],
   "source": [
    "users_logs_by_month = logs[logs['month']!=5][[\"month\",\"Result\",\"Reason\"]].groupby([\"month\",\"Result\"]).count()"
   ]
  },
  {
   "cell_type": "code",
   "execution_count": 28,
   "metadata": {},
   "outputs": [
    {
     "data": {
      "text/html": [
       "<div>\n",
       "<style scoped>\n",
       "    .dataframe tbody tr th:only-of-type {\n",
       "        vertical-align: middle;\n",
       "    }\n",
       "\n",
       "    .dataframe tbody tr th {\n",
       "        vertical-align: top;\n",
       "    }\n",
       "\n",
       "    .dataframe thead th {\n",
       "        text-align: right;\n",
       "    }\n",
       "</style>\n",
       "<table border=\"1\" class=\"dataframe\">\n",
       "  <thead>\n",
       "    <tr style=\"text-align: right;\">\n",
       "      <th></th>\n",
       "      <th></th>\n",
       "      <th>Reason</th>\n",
       "    </tr>\n",
       "    <tr>\n",
       "      <th>month</th>\n",
       "      <th>Result</th>\n",
       "      <th></th>\n",
       "    </tr>\n",
       "  </thead>\n",
       "  <tbody>\n",
       "    <tr>\n",
       "      <th rowspan=\"3\" valign=\"top\">1</th>\n",
       "      <th>FAILURE</th>\n",
       "      <td>52240</td>\n",
       "    </tr>\n",
       "    <tr>\n",
       "      <th>FRAUD</th>\n",
       "      <td>17</td>\n",
       "    </tr>\n",
       "    <tr>\n",
       "      <th>SUCCESS</th>\n",
       "      <td>877108</td>\n",
       "    </tr>\n",
       "    <tr>\n",
       "      <th rowspan=\"2\" valign=\"top\">2</th>\n",
       "      <th>FAILURE</th>\n",
       "      <td>47489</td>\n",
       "    </tr>\n",
       "    <tr>\n",
       "      <th>FRAUD</th>\n",
       "      <td>18</td>\n",
       "    </tr>\n",
       "  </tbody>\n",
       "</table>\n",
       "</div>"
      ],
      "text/plain": [
       "               Reason\n",
       "month Result         \n",
       "1     FAILURE   52240\n",
       "      FRAUD        17\n",
       "      SUCCESS  877108\n",
       "2     FAILURE   47489\n",
       "      FRAUD        18"
      ]
     },
     "execution_count": 28,
     "metadata": {},
     "output_type": "execute_result"
    }
   ],
   "source": [
    "users_logs_by_month.head()"
   ]
  },
  {
   "cell_type": "code",
   "execution_count": 29,
   "metadata": {},
   "outputs": [],
   "source": [
    "ax = users_logs_by_month.unstack(level=1)\n",
    "ax.columns = ax.columns.droplevel()\n",
    "ax.drop(columns=['FRAUD'], inplace=True)"
   ]
  },
  {
   "cell_type": "code",
   "execution_count": 30,
   "metadata": {},
   "outputs": [],
   "source": [
    "ax['success_percent'] = round((ax['SUCCESS'] / (ax['SUCCESS'] + ax['FAILURE'])),2)\n",
    "ax['failure_percent'] = round((ax['FAILURE'] / (ax['SUCCESS'] + ax['FAILURE'])),2)"
   ]
  },
  {
   "cell_type": "code",
   "execution_count": 31,
   "metadata": {},
   "outputs": [
    {
     "data": {
      "text/html": [
       "<div>\n",
       "<style scoped>\n",
       "    .dataframe tbody tr th:only-of-type {\n",
       "        vertical-align: middle;\n",
       "    }\n",
       "\n",
       "    .dataframe tbody tr th {\n",
       "        vertical-align: top;\n",
       "    }\n",
       "\n",
       "    .dataframe thead th {\n",
       "        text-align: right;\n",
       "    }\n",
       "</style>\n",
       "<table border=\"1\" class=\"dataframe\">\n",
       "  <thead>\n",
       "    <tr style=\"text-align: right;\">\n",
       "      <th>Result</th>\n",
       "      <th>FAILURE</th>\n",
       "      <th>SUCCESS</th>\n",
       "      <th>success_percent</th>\n",
       "      <th>failure_percent</th>\n",
       "    </tr>\n",
       "    <tr>\n",
       "      <th>month</th>\n",
       "      <th></th>\n",
       "      <th></th>\n",
       "      <th></th>\n",
       "      <th></th>\n",
       "    </tr>\n",
       "  </thead>\n",
       "  <tbody>\n",
       "    <tr>\n",
       "      <th>1</th>\n",
       "      <td>52240</td>\n",
       "      <td>877108</td>\n",
       "      <td>0.94</td>\n",
       "      <td>0.06</td>\n",
       "    </tr>\n",
       "    <tr>\n",
       "      <th>2</th>\n",
       "      <td>47489</td>\n",
       "      <td>1064246</td>\n",
       "      <td>0.96</td>\n",
       "      <td>0.04</td>\n",
       "    </tr>\n",
       "    <tr>\n",
       "      <th>3</th>\n",
       "      <td>41964</td>\n",
       "      <td>936941</td>\n",
       "      <td>0.96</td>\n",
       "      <td>0.04</td>\n",
       "    </tr>\n",
       "    <tr>\n",
       "      <th>4</th>\n",
       "      <td>46608</td>\n",
       "      <td>1075649</td>\n",
       "      <td>0.96</td>\n",
       "      <td>0.04</td>\n",
       "    </tr>\n",
       "    <tr>\n",
       "      <th>11</th>\n",
       "      <td>57298</td>\n",
       "      <td>1058468</td>\n",
       "      <td>0.95</td>\n",
       "      <td>0.05</td>\n",
       "    </tr>\n",
       "    <tr>\n",
       "      <th>12</th>\n",
       "      <td>42738</td>\n",
       "      <td>805198</td>\n",
       "      <td>0.95</td>\n",
       "      <td>0.05</td>\n",
       "    </tr>\n",
       "  </tbody>\n",
       "</table>\n",
       "</div>"
      ],
      "text/plain": [
       "Result  FAILURE  SUCCESS  success_percent  failure_percent\n",
       "month                                                     \n",
       "1         52240   877108             0.94             0.06\n",
       "2         47489  1064246             0.96             0.04\n",
       "3         41964   936941             0.96             0.04\n",
       "4         46608  1075649             0.96             0.04\n",
       "11        57298  1058468             0.95             0.05\n",
       "12        42738   805198             0.95             0.05"
      ]
     },
     "execution_count": 31,
     "metadata": {},
     "output_type": "execute_result"
    }
   ],
   "source": [
    "ax"
   ]
  },
  {
   "cell_type": "code",
   "execution_count": 32,
   "metadata": {},
   "outputs": [],
   "source": [
    "new_index = [11,12,1,2,3,4]\n",
    "ax = ax.reindex(new_index)"
   ]
  },
  {
   "cell_type": "code",
   "execution_count": 33,
   "metadata": {},
   "outputs": [],
   "source": [
    "ax = ax.rename(index={11: 'November', 12: 'December', 1: 'January', 2: 'February', 3: 'March', 4: 'April'})"
   ]
  },
  {
   "cell_type": "code",
   "execution_count": 34,
   "metadata": {},
   "outputs": [
    {
     "data": {
      "image/png": "[encoded data removed]",
      "text/plain": [
       "<Figure size 1440x720 with 1 Axes>"
      ]
     },
     "metadata": {
      "needs_background": "light"
     },
     "output_type": "display_data"
    }
   ],
   "source": [
    "# ax[['failure_percent','success_percent']].plot.bar(stacked=True, rot=0)\n",
    "ax[['failure_percent','success_percent']].plot.bar(stacked=True, rot=0, color=['tab:red','mediumseagreen'])\n",
    "# ax[['FAILURE','SUCCESS']].plot(rot=0, color=['tab:red','mediumseagreen'])\n",
    "plt.title('Success vs Failure')\n",
    "plt.ylabel('Percent')\n",
    "plt.legend(bbox_to_anchor=(1.0, 1.0))\n",
    "plt.show()"
   ]
  },
  {
   "cell_type": "code",
   "execution_count": null,
   "metadata": {},
   "outputs": [],
   "source": []
  },
  {
   "cell_type": "code",
   "execution_count": 220,
   "metadata": {},
   "outputs": [],
   "source": [
    "authenticationFailures = logs[logs['Result'] == 'FAILURE']"
   ]
  },
  {
   "cell_type": "code",
   "execution_count": 221,
   "metadata": {},
   "outputs": [
    {
     "data": {
      "image/png": "[encoded data removed]",
      "text/plain": [
       "<Figure size 1440x720 with 1 Axes>"
      ]
     },
     "metadata": {
      "needs_background": "light"
     },
     "output_type": "display_data"
    }
   ],
   "source": [
    "authenticationFailures.Reason.value_counts().plot.bar()\n",
    "plt.rcParams[\"figure.figsize\"] = (4,4)\n",
    "plt.xticks(rotation= 45) \n",
    "plt.ylabel('Frequency')\n",
    "plt.xlabel('Type of Error')\n",
    "plt.title('Failed Authentications')\n",
    "plt.show()"
   ]
  },
  {
   "cell_type": "code",
   "execution_count": null,
   "metadata": {},
   "outputs": [],
   "source": []
  },
  {
   "cell_type": "code",
   "execution_count": null,
   "metadata": {},
   "outputs": [],
   "source": []
  },
  {
   "cell_type": "code",
   "execution_count": null,
   "metadata": {},
   "outputs": [],
   "source": []
  },
  {
   "cell_type": "code",
   "execution_count": 55,
   "metadata": {},
   "outputs": [],
   "source": [
    "userErrorRate = logs[['Alias','Result','Reason']].groupby(['Alias','Result']).count()"
   ]
  },
  {
   "cell_type": "code",
   "execution_count": 65,
   "metadata": {},
   "outputs": [],
   "source": [
    "userQuantifiedLogs = userErrorRate.reset_index().pivot(index='Alias',columns='Result',values='Reason').drop(columns=['FRAUD'])"
   ]
  },
  {
   "cell_type": "code",
   "execution_count": 73,
   "metadata": {},
   "outputs": [
    {
     "name": "stdout",
     "output_type": "stream",
     "text": [
      "Index(['FAILURE', 'SUCCESS'], dtype='object', name='Result')\n"
     ]
    }
   ],
   "source": [
    "print(userQuantifiedLogs.columns)"
   ]
  },
  {
   "cell_type": "code",
   "execution_count": 74,
   "metadata": {},
   "outputs": [
    {
     "data": {
      "text/html": [
       "<div>\n",
       "<style scoped>\n",
       "    .dataframe tbody tr th:only-of-type {\n",
       "        vertical-align: middle;\n",
       "    }\n",
       "\n",
       "    .dataframe tbody tr th {\n",
       "        vertical-align: top;\n",
       "    }\n",
       "\n",
       "    .dataframe thead th {\n",
       "        text-align: right;\n",
       "    }\n",
       "</style>\n",
       "<table border=\"1\" class=\"dataframe\">\n",
       "  <thead>\n",
       "    <tr style=\"text-align: right;\">\n",
       "      <th>Result</th>\n",
       "      <th>FAILURE</th>\n",
       "      <th>SUCCESS</th>\n",
       "    </tr>\n",
       "    <tr>\n",
       "      <th>Alias</th>\n",
       "      <th></th>\n",
       "      <th></th>\n",
       "    </tr>\n",
       "  </thead>\n",
       "  <tbody>\n",
       "    <tr>\n",
       "      <th>user_000001</th>\n",
       "      <td>7.0</td>\n",
       "      <td>177.0</td>\n",
       "    </tr>\n",
       "    <tr>\n",
       "      <th>user_000002</th>\n",
       "      <td>2.0</td>\n",
       "      <td>494.0</td>\n",
       "    </tr>\n",
       "    <tr>\n",
       "      <th>user_000003</th>\n",
       "      <td>31.0</td>\n",
       "      <td>372.0</td>\n",
       "    </tr>\n",
       "    <tr>\n",
       "      <th>user_000004</th>\n",
       "      <td>7.0</td>\n",
       "      <td>306.0</td>\n",
       "    </tr>\n",
       "    <tr>\n",
       "      <th>user_000005</th>\n",
       "      <td>6.0</td>\n",
       "      <td>448.0</td>\n",
       "    </tr>\n",
       "  </tbody>\n",
       "</table>\n",
       "</div>"
      ],
      "text/plain": [
       "Result       FAILURE  SUCCESS\n",
       "Alias                        \n",
       "user_000001      7.0    177.0\n",
       "user_000002      2.0    494.0\n",
       "user_000003     31.0    372.0\n",
       "user_000004      7.0    306.0\n",
       "user_000005      6.0    448.0"
      ]
     },
     "execution_count": 74,
     "metadata": {},
     "output_type": "execute_result"
    }
   ],
   "source": [
    "userQuantifiedLogs.head()"
   ]
  },
  {
   "cell_type": "code",
   "execution_count": 75,
   "metadata": {},
   "outputs": [],
   "source": [
    "userQuantifiedLogs['errorRate'] = userQuantifiedLogs['FAILURE'] / userQuantifiedLogs['SUCCESS']"
   ]
  },
  {
   "cell_type": "code",
   "execution_count": 81,
   "metadata": {},
   "outputs": [],
   "source": [
    "userQuantifiedLogs.sort_values(by='errorRate', inplace=True)"
   ]
  },
  {
   "cell_type": "code",
   "execution_count": 91,
   "metadata": {},
   "outputs": [],
   "source": [
    "userQuantifiedLogs.insert(0,'New_ID', range(1, len(userQuantifiedLogs)+1))"
   ]
  },
  {
   "cell_type": "code",
   "execution_count": 94,
   "metadata": {},
   "outputs": [
    {
     "data": {
      "text/html": [
       "<div>\n",
       "<style scoped>\n",
       "    .dataframe tbody tr th:only-of-type {\n",
       "        vertical-align: middle;\n",
       "    }\n",
       "\n",
       "    .dataframe tbody tr th {\n",
       "        vertical-align: top;\n",
       "    }\n",
       "\n",
       "    .dataframe thead th {\n",
       "        text-align: right;\n",
       "    }\n",
       "</style>\n",
       "<table border=\"1\" class=\"dataframe\">\n",
       "  <thead>\n",
       "    <tr style=\"text-align: right;\">\n",
       "      <th>Result</th>\n",
       "      <th>New_ID</th>\n",
       "      <th>FAILURE</th>\n",
       "      <th>SUCCESS</th>\n",
       "      <th>errorRate</th>\n",
       "      <th>userPercentage</th>\n",
       "    </tr>\n",
       "    <tr>\n",
       "      <th>Alias</th>\n",
       "      <th></th>\n",
       "      <th></th>\n",
       "      <th></th>\n",
       "      <th></th>\n",
       "      <th></th>\n",
       "    </tr>\n",
       "  </thead>\n",
       "  <tbody>\n",
       "    <tr>\n",
       "      <th>user_000131</th>\n",
       "      <td>1</td>\n",
       "      <td>1.0</td>\n",
       "      <td>1071.0</td>\n",
       "      <td>0.000934</td>\n",
       "      <td>0.000028</td>\n",
       "    </tr>\n",
       "    <tr>\n",
       "      <th>user_016940</th>\n",
       "      <td>2</td>\n",
       "      <td>1.0</td>\n",
       "      <td>978.0</td>\n",
       "      <td>0.001022</td>\n",
       "      <td>0.000056</td>\n",
       "    </tr>\n",
       "    <tr>\n",
       "      <th>user_008563</th>\n",
       "      <td>3</td>\n",
       "      <td>1.0</td>\n",
       "      <td>976.0</td>\n",
       "      <td>0.001025</td>\n",
       "      <td>0.000084</td>\n",
       "    </tr>\n",
       "    <tr>\n",
       "      <th>user_000788</th>\n",
       "      <td>4</td>\n",
       "      <td>1.0</td>\n",
       "      <td>946.0</td>\n",
       "      <td>0.001057</td>\n",
       "      <td>0.000111</td>\n",
       "    </tr>\n",
       "    <tr>\n",
       "      <th>user_003565</th>\n",
       "      <td>5</td>\n",
       "      <td>1.0</td>\n",
       "      <td>928.0</td>\n",
       "      <td>0.001078</td>\n",
       "      <td>0.000139</td>\n",
       "    </tr>\n",
       "  </tbody>\n",
       "</table>\n",
       "</div>"
      ],
      "text/plain": [
       "Result       New_ID  FAILURE  SUCCESS  errorRate  userPercentage\n",
       "Alias                                                           \n",
       "user_000131       1      1.0   1071.0   0.000934        0.000028\n",
       "user_016940       2      1.0    978.0   0.001022        0.000056\n",
       "user_008563       3      1.0    976.0   0.001025        0.000084\n",
       "user_000788       4      1.0    946.0   0.001057        0.000111\n",
       "user_003565       5      1.0    928.0   0.001078        0.000139"
      ]
     },
     "execution_count": 94,
     "metadata": {},
     "output_type": "execute_result"
    }
   ],
   "source": [
    "userQuantifiedLogs.head()"
   ]
  },
  {
   "cell_type": "code",
   "execution_count": 93,
   "metadata": {},
   "outputs": [],
   "source": [
    "userQuantifiedLogs['userPercentage'] = userQuantifiedLogs['New_ID'].apply(lambda num: num/len(userQuantifiedLogs))"
   ]
  },
  {
   "cell_type": "code",
   "execution_count": 103,
   "metadata": {},
   "outputs": [
    {
     "data": {
      "image/png": "[encoded data removed]",
      "text/plain": [
       "<Figure size 1440x720 with 1 Axes>"
      ]
     },
     "metadata": {
      "needs_background": "light"
     },
     "output_type": "display_data"
    }
   ],
   "source": [
    "userQuantifiedLogs.plot(x='errorRate', y='userPercentage', legend=False)\n",
    "plt.ylabel('Percentage of Users')\n",
    "plt.xlabel('Error rate')\n",
    "plt.legend(bbox_to_anchor=(1.0, 1.0))\n",
    "plt.xlim(0,1)\n",
    "plt.title('User Error Rate')\n",
    "plt.show()"
   ]
  },
  {
   "cell_type": "code",
   "execution_count": 105,
   "metadata": {},
   "outputs": [],
   "source": [
    "authenticationFailures = logs[logs['Result'] == 'FAILURE']"
   ]
  },
  {
   "cell_type": "code",
   "execution_count": 118,
   "metadata": {},
   "outputs": [],
   "source": [
    "factorLogs = logs"
   ]
  },
  {
   "cell_type": "code",
   "execution_count": 127,
   "metadata": {},
   "outputs": [],
   "source": [
    "factorLogs = factorLogs[['Factor','Result','Reason']].groupby(by=['Factor','Result']).count().reset_index(level=1).pivot(columns=\"Result\")"
   ]
  },
  {
   "cell_type": "code",
   "execution_count": 135,
   "metadata": {},
   "outputs": [],
   "source": [
    "factorLogs.columns = factorLogs.columns.droplevel()"
   ]
  },
  {
   "cell_type": "code",
   "execution_count": 140,
   "metadata": {},
   "outputs": [],
   "source": [
    "factorLogs.drop(columns='FRAUD', inplace=True)"
   ]
  },
  {
   "cell_type": "code",
   "execution_count": 144,
   "metadata": {},
   "outputs": [],
   "source": [
    "factorLogs.fillna(0, inplace=True)"
   ]
  },
  {
   "cell_type": "code",
   "execution_count": 149,
   "metadata": {},
   "outputs": [],
   "source": [
    "factorLogs['failurePercent'] = (factorLogs['FAILURE'] / (factorLogs['FAILURE'] + factorLogs['SUCCESS']))*100"
   ]
  },
  {
   "cell_type": "code",
   "execution_count": 152,
   "metadata": {},
   "outputs": [],
   "source": [
    "factorLogs.drop('Bypass Status', inplace=True)"
   ]
  },
  {
   "cell_type": "code",
   "execution_count": null,
   "metadata": {},
   "outputs": [],
   "source": []
  },
  {
   "cell_type": "code",
   "execution_count": null,
   "metadata": {},
   "outputs": [],
   "source": []
  },
  {
   "cell_type": "code",
   "execution_count": null,
   "metadata": {},
   "outputs": [],
   "source": []
  },
  {
   "cell_type": "code",
   "execution_count": 157,
   "metadata": {},
   "outputs": [],
   "source": [
    "passCodeFailure = factorLogs.loc['Bypass Code']['FAILURE'] + factorLogs.loc['Duo Mobile Passcode']['FAILURE'] + factorLogs.loc['Hardware Token']['FAILURE'] + factorLogs.loc['Passcode']['FAILURE'] + factorLogs.loc['Yubikey Passcode']['FAILURE']"
   ]
  },
  {
   "cell_type": "code",
   "execution_count": 158,
   "metadata": {},
   "outputs": [],
   "source": [
    "passCodeSucess = factorLogs.loc['Bypass Code']['SUCCESS'] + factorLogs.loc['Duo Mobile Passcode']['SUCCESS'] + factorLogs.loc['Hardware Token']['SUCCESS'] + factorLogs.loc['Passcode']['SUCCESS'] + factorLogs.loc['Yubikey Passcode']['SUCCESS']"
   ]
  },
  {
   "cell_type": "code",
   "execution_count": 161,
   "metadata": {},
   "outputs": [],
   "source": [
    "factorLogs.loc['passcode'] = [passCodeFailure, passCodeSucess, (passCodeFailure/passCodeSucess)*100]"
   ]
  },
  {
   "cell_type": "code",
   "execution_count": 163,
   "metadata": {},
   "outputs": [],
   "source": [
    "factorLogs.drop(['Bypass Code','Duo Mobile Passcode','Hardware Token','Passcode'], inplace=True)"
   ]
  },
  {
   "cell_type": "code",
   "execution_count": 167,
   "metadata": {},
   "outputs": [],
   "source": [
    "factorLogs.drop(['Yubikey Passcode'], inplace=True)"
   ]
  },
  {
   "cell_type": "code",
   "execution_count": 173,
   "metadata": {},
   "outputs": [
    {
     "data": {
      "text/html": [
       "<div>\n",
       "<style scoped>\n",
       "    .dataframe tbody tr th:only-of-type {\n",
       "        vertical-align: middle;\n",
       "    }\n",
       "\n",
       "    .dataframe tbody tr th {\n",
       "        vertical-align: top;\n",
       "    }\n",
       "\n",
       "    .dataframe thead th {\n",
       "        text-align: right;\n",
       "    }\n",
       "</style>\n",
       "<table border=\"1\" class=\"dataframe\">\n",
       "  <thead>\n",
       "    <tr style=\"text-align: right;\">\n",
       "      <th>Result</th>\n",
       "      <th>failurePercent</th>\n",
       "    </tr>\n",
       "    <tr>\n",
       "      <th>Factor</th>\n",
       "      <th></th>\n",
       "    </tr>\n",
       "  </thead>\n",
       "  <tbody>\n",
       "    <tr>\n",
       "      <th>passcode</th>\n",
       "      <td>5.182556</td>\n",
       "    </tr>\n",
       "    <tr>\n",
       "      <th>Phone Call</th>\n",
       "      <td>3.864738</td>\n",
       "    </tr>\n",
       "    <tr>\n",
       "      <th>Duo Push</th>\n",
       "      <td>2.926649</td>\n",
       "    </tr>\n",
       "    <tr>\n",
       "      <th>Remembered Device</th>\n",
       "      <td>0.000000</td>\n",
       "    </tr>\n",
       "    <tr>\n",
       "      <th>Security Key (WebAuthn)</th>\n",
       "      <td>0.000000</td>\n",
       "    </tr>\n",
       "    <tr>\n",
       "      <th>Touch ID (WebAuthn)</th>\n",
       "      <td>0.000000</td>\n",
       "    </tr>\n",
       "    <tr>\n",
       "      <th>U2F Token</th>\n",
       "      <td>0.000000</td>\n",
       "    </tr>\n",
       "  </tbody>\n",
       "</table>\n",
       "</div>"
      ],
      "text/plain": [
       "Result                   failurePercent\n",
       "Factor                                 \n",
       "passcode                       5.182556\n",
       "Phone Call                     3.864738\n",
       "Duo Push                       2.926649\n",
       "Remembered Device              0.000000\n",
       "Security Key (WebAuthn)        0.000000\n",
       "Touch ID (WebAuthn)            0.000000\n",
       "U2F Token                      0.000000"
      ]
     },
     "execution_count": 173,
     "metadata": {},
     "output_type": "execute_result"
    }
   ],
   "source": [
    "factorLogs[['failurePercent']].sort_values(by='failurePercent', ascending=False)"
   ]
  },
  {
   "cell_type": "code",
   "execution_count": null,
   "metadata": {},
   "outputs": [],
   "source": []
  },
  {
   "cell_type": "code",
   "execution_count": null,
   "metadata": {},
   "outputs": [],
   "source": []
  },
  {
   "cell_type": "code",
   "execution_count": 174,
   "metadata": {},
   "outputs": [
    {
     "data": {
      "text/html": [
       "<div>\n",
       "<style scoped>\n",
       "    .dataframe tbody tr th:only-of-type {\n",
       "        vertical-align: middle;\n",
       "    }\n",
       "\n",
       "    .dataframe tbody tr th {\n",
       "        vertical-align: top;\n",
       "    }\n",
       "\n",
       "    .dataframe thead th {\n",
       "        text-align: right;\n",
       "    }\n",
       "</style>\n",
       "<table border=\"1\" class=\"dataframe\">\n",
       "  <thead>\n",
       "    <tr style=\"text-align: right;\">\n",
       "      <th></th>\n",
       "      <th>Factor</th>\n",
       "      <th>Description</th>\n",
       "      <th>Reason</th>\n",
       "      <th>Alias</th>\n",
       "    </tr>\n",
       "  </thead>\n",
       "  <tbody>\n",
       "    <tr>\n",
       "      <th>0</th>\n",
       "      <td>Phone Call</td>\n",
       "      <td>Active (Student)</td>\n",
       "      <td>User approved</td>\n",
       "      <td>user_008576</td>\n",
       "    </tr>\n",
       "    <tr>\n",
       "      <th>1</th>\n",
       "      <td>Duo Push</td>\n",
       "      <td>Active (Student)</td>\n",
       "      <td>User approved</td>\n",
       "      <td>user_049277</td>\n",
       "    </tr>\n",
       "    <tr>\n",
       "      <th>2</th>\n",
       "      <td>Duo Push</td>\n",
       "      <td>Active (Student)</td>\n",
       "      <td>User approved</td>\n",
       "      <td>user_025756</td>\n",
       "    </tr>\n",
       "    <tr>\n",
       "      <th>3</th>\n",
       "      <td>Duo Push</td>\n",
       "      <td>Active (Student)</td>\n",
       "      <td>User approved</td>\n",
       "      <td>user_030286</td>\n",
       "    </tr>\n",
       "    <tr>\n",
       "      <th>4</th>\n",
       "      <td>Duo Push</td>\n",
       "      <td>Active (Student)</td>\n",
       "      <td>User approved</td>\n",
       "      <td>user_019093</td>\n",
       "    </tr>\n",
       "  </tbody>\n",
       "</table>\n",
       "</div>"
      ],
      "text/plain": [
       "       Factor       Description         Reason        Alias\n",
       "0  Phone Call  Active (Student)  User approved  user_008576\n",
       "1    Duo Push  Active (Student)  User approved  user_049277\n",
       "2    Duo Push  Active (Student)  User approved  user_025756\n",
       "3    Duo Push  Active (Student)  User approved  user_030286\n",
       "4    Duo Push  Active (Student)  User approved  user_019093"
      ]
     },
     "execution_count": 174,
     "metadata": {},
     "output_type": "execute_result"
    }
   ],
   "source": [
    "factorsBeingUsed = logs.reset_index()[['Factor','Description','Reason','Alias']]\n",
    "factorsBeingUsed.head()"
   ]
  },
  {
   "cell_type": "code",
   "execution_count": 187,
   "metadata": {},
   "outputs": [],
   "source": [
    "factorUsage = factorsBeingUsed.groupby(['Description','Factor','Alias']).count().unstack(level=2).count(axis=1).reset_index()"
   ]
  },
  {
   "cell_type": "code",
   "execution_count": 188,
   "metadata": {},
   "outputs": [],
   "source": [
    "def computePercentageOfGroup(row):\n",
    "    if(row['Description']=='Active (Faculty)'):\n",
    "        return round((row[0] / 1773) * 100, 1)\n",
    "    elif(row['Description']=='Active (Staff)'):\n",
    "        return round((row[0] / 1179) * 100, 1)\n",
    "    elif(row['Description']=='Active (Student)'):\n",
    "        return round((row[0] / 32931) * 100, 1)"
   ]
  },
  {
   "cell_type": "code",
   "execution_count": 189,
   "metadata": {},
   "outputs": [],
   "source": [
    "factorUsage['percentOfPopulation'] = factorUsage.apply(lambda row: computePercentageOfGroup(row), axis=1)"
   ]
  },
  {
   "cell_type": "code",
   "execution_count": 211,
   "metadata": {
    "collapsed": true
   },
   "outputs": [
    {
     "data": {
      "text/html": [
       "<div>\n",
       "<style scoped>\n",
       "    .dataframe tbody tr th:only-of-type {\n",
       "        vertical-align: middle;\n",
       "    }\n",
       "\n",
       "    .dataframe tbody tr th {\n",
       "        vertical-align: top;\n",
       "    }\n",
       "\n",
       "    .dataframe thead th {\n",
       "        text-align: right;\n",
       "    }\n",
       "</style>\n",
       "<table border=\"1\" class=\"dataframe\">\n",
       "  <thead>\n",
       "    <tr style=\"text-align: right;\">\n",
       "      <th>Description</th>\n",
       "      <th>Active (Faculty)</th>\n",
       "      <th>Active (Staff)</th>\n",
       "      <th>Active (Student)</th>\n",
       "    </tr>\n",
       "    <tr>\n",
       "      <th>Factor</th>\n",
       "      <th></th>\n",
       "      <th></th>\n",
       "      <th></th>\n",
       "    </tr>\n",
       "  </thead>\n",
       "  <tbody>\n",
       "    <tr>\n",
       "      <th>Duo Push</th>\n",
       "      <td>72.3</td>\n",
       "      <td>68.7</td>\n",
       "      <td>87.7</td>\n",
       "    </tr>\n",
       "    <tr>\n",
       "      <th>Remembered Device</th>\n",
       "      <td>58.0</td>\n",
       "      <td>68.8</td>\n",
       "      <td>55.2</td>\n",
       "    </tr>\n",
       "    <tr>\n",
       "      <th>Phone Call</th>\n",
       "      <td>41.2</td>\n",
       "      <td>45.5</td>\n",
       "      <td>39.1</td>\n",
       "    </tr>\n",
       "    <tr>\n",
       "      <th>Duo Mobile Passcode</th>\n",
       "      <td>16.0</td>\n",
       "      <td>11.0</td>\n",
       "      <td>20.8</td>\n",
       "    </tr>\n",
       "    <tr>\n",
       "      <th>Touch ID (WebAuthn)</th>\n",
       "      <td>0.2</td>\n",
       "      <td>0.2</td>\n",
       "      <td>1.1</td>\n",
       "    </tr>\n",
       "    <tr>\n",
       "      <th>Bypass Code</th>\n",
       "      <td>0.5</td>\n",
       "      <td>0.8</td>\n",
       "      <td>0.6</td>\n",
       "    </tr>\n",
       "    <tr>\n",
       "      <th>Hardware Token</th>\n",
       "      <td>14.4</td>\n",
       "      <td>28.6</td>\n",
       "      <td>0.6</td>\n",
       "    </tr>\n",
       "    <tr>\n",
       "      <th>Bypass Status</th>\n",
       "      <td>0.2</td>\n",
       "      <td>0.0</td>\n",
       "      <td>0.1</td>\n",
       "    </tr>\n",
       "    <tr>\n",
       "      <th>Security Key (WebAuthn)</th>\n",
       "      <td>2.0</td>\n",
       "      <td>0.9</td>\n",
       "      <td>0.0</td>\n",
       "    </tr>\n",
       "    <tr>\n",
       "      <th>U2F Token</th>\n",
       "      <td>3.9</td>\n",
       "      <td>2.5</td>\n",
       "      <td>0.0</td>\n",
       "    </tr>\n",
       "    <tr>\n",
       "      <th>Yubikey Passcode</th>\n",
       "      <td>0.0</td>\n",
       "      <td>0.1</td>\n",
       "      <td>0.0</td>\n",
       "    </tr>\n",
       "  </tbody>\n",
       "</table>\n",
       "</div>"
      ],
      "text/plain": [
       "Description              Active (Faculty)  Active (Staff)  Active (Student)\n",
       "Factor                                                                     \n",
       "Duo Push                             72.3            68.7              87.7\n",
       "Remembered Device                    58.0            68.8              55.2\n",
       "Phone Call                           41.2            45.5              39.1\n",
       "Duo Mobile Passcode                  16.0            11.0              20.8\n",
       "Touch ID (WebAuthn)                   0.2             0.2               1.1\n",
       "Bypass Code                           0.5             0.8               0.6\n",
       "Hardware Token                       14.4            28.6               0.6\n",
       "Bypass Status                         0.2             0.0               0.1\n",
       "Security Key (WebAuthn)               2.0             0.9               0.0\n",
       "U2F Token                             3.9             2.5               0.0\n",
       "Yubikey Passcode                      0.0             0.1               0.0"
      ]
     },
     "execution_count": 211,
     "metadata": {},
     "output_type": "execute_result"
    }
   ],
   "source": [
    "factorUsageResult = factorUsage.set_index(['Description','Factor'])['percentOfPopulation'].unstack(level=1).transpose().fillna(0).sort_values(by='Active (Student)', ascending=False)\n",
    "factorUsageResult.drop('Passcode', inplace=True)\n"
   ]
  },
  {
   "cell_type": "code",
   "execution_count": 212,
   "metadata": {},
   "outputs": [
    {
     "data": {
      "text/html": [
       "<div>\n",
       "<style scoped>\n",
       "    .dataframe tbody tr th:only-of-type {\n",
       "        vertical-align: middle;\n",
       "    }\n",
       "\n",
       "    .dataframe tbody tr th {\n",
       "        vertical-align: top;\n",
       "    }\n",
       "\n",
       "    .dataframe thead th {\n",
       "        text-align: right;\n",
       "    }\n",
       "</style>\n",
       "<table border=\"1\" class=\"dataframe\">\n",
       "  <thead>\n",
       "    <tr style=\"text-align: right;\">\n",
       "      <th>Description</th>\n",
       "      <th>Active (Faculty)</th>\n",
       "      <th>Active (Staff)</th>\n",
       "      <th>Active (Student)</th>\n",
       "    </tr>\n",
       "    <tr>\n",
       "      <th>Factor</th>\n",
       "      <th></th>\n",
       "      <th></th>\n",
       "      <th></th>\n",
       "    </tr>\n",
       "  </thead>\n",
       "  <tbody>\n",
       "    <tr>\n",
       "      <th>Duo Push</th>\n",
       "      <td>72.3</td>\n",
       "      <td>68.7</td>\n",
       "      <td>87.7</td>\n",
       "    </tr>\n",
       "    <tr>\n",
       "      <th>Remembered Device</th>\n",
       "      <td>58.0</td>\n",
       "      <td>68.8</td>\n",
       "      <td>55.2</td>\n",
       "    </tr>\n",
       "    <tr>\n",
       "      <th>Phone Call</th>\n",
       "      <td>41.2</td>\n",
       "      <td>45.5</td>\n",
       "      <td>39.1</td>\n",
       "    </tr>\n",
       "    <tr>\n",
       "      <th>Duo Mobile Passcode</th>\n",
       "      <td>16.0</td>\n",
       "      <td>11.0</td>\n",
       "      <td>20.8</td>\n",
       "    </tr>\n",
       "    <tr>\n",
       "      <th>Touch ID (WebAuthn)</th>\n",
       "      <td>0.2</td>\n",
       "      <td>0.2</td>\n",
       "      <td>1.1</td>\n",
       "    </tr>\n",
       "    <tr>\n",
       "      <th>Bypass Code</th>\n",
       "      <td>0.5</td>\n",
       "      <td>0.8</td>\n",
       "      <td>0.6</td>\n",
       "    </tr>\n",
       "    <tr>\n",
       "      <th>Hardware Token</th>\n",
       "      <td>14.4</td>\n",
       "      <td>28.6</td>\n",
       "      <td>0.6</td>\n",
       "    </tr>\n",
       "    <tr>\n",
       "      <th>Bypass Status</th>\n",
       "      <td>0.2</td>\n",
       "      <td>0.0</td>\n",
       "      <td>0.1</td>\n",
       "    </tr>\n",
       "    <tr>\n",
       "      <th>Security Key (WebAuthn)</th>\n",
       "      <td>2.0</td>\n",
       "      <td>0.9</td>\n",
       "      <td>0.0</td>\n",
       "    </tr>\n",
       "    <tr>\n",
       "      <th>U2F Token</th>\n",
       "      <td>3.9</td>\n",
       "      <td>2.5</td>\n",
       "      <td>0.0</td>\n",
       "    </tr>\n",
       "    <tr>\n",
       "      <th>Yubikey Passcode</th>\n",
       "      <td>0.0</td>\n",
       "      <td>0.1</td>\n",
       "      <td>0.0</td>\n",
       "    </tr>\n",
       "  </tbody>\n",
       "</table>\n",
       "</div>"
      ],
      "text/plain": [
       "Description              Active (Faculty)  Active (Staff)  Active (Student)\n",
       "Factor                                                                     \n",
       "Duo Push                             72.3            68.7              87.7\n",
       "Remembered Device                    58.0            68.8              55.2\n",
       "Phone Call                           41.2            45.5              39.1\n",
       "Duo Mobile Passcode                  16.0            11.0              20.8\n",
       "Touch ID (WebAuthn)                   0.2             0.2               1.1\n",
       "Bypass Code                           0.5             0.8               0.6\n",
       "Hardware Token                       14.4            28.6               0.6\n",
       "Bypass Status                         0.2             0.0               0.1\n",
       "Security Key (WebAuthn)               2.0             0.9               0.0\n",
       "U2F Token                             3.9             2.5               0.0\n",
       "Yubikey Passcode                      0.0             0.1               0.0"
      ]
     },
     "execution_count": 212,
     "metadata": {},
     "output_type": "execute_result"
    }
   ],
   "source": [
    "factorUsageResult"
   ]
  },
  {
   "cell_type": "code",
   "execution_count": null,
   "metadata": {},
   "outputs": [],
   "source": []
  },
  {
   "cell_type": "markdown",
   "metadata": {},
   "source": [
    "Recovery"
   ]
  },
  {
   "cell_type": "code",
   "execution_count": 191,
   "metadata": {},
   "outputs": [],
   "source": [
    "y = pd.read_csv('updatedRT.csv')"
   ]
  },
  {
   "cell_type": "code",
   "execution_count": 192,
   "metadata": {},
   "outputs": [],
   "source": [
    "y['Description'] = y.user.apply(lambda alias: typeOfUsers[alias])"
   ]
  },
  {
   "cell_type": "code",
   "execution_count": 193,
   "metadata": {},
   "outputs": [],
   "source": [
    "y['recovery_time'] = y['recovery_time'].astype(int)"
   ]
  },
  {
   "cell_type": "code",
   "execution_count": 194,
   "metadata": {},
   "outputs": [],
   "source": [
    "y['recovery_time_in_minutes'] = y['recovery_time'].apply(lambda seconds: seconds // 60)"
   ]
  },
  {
   "cell_type": "code",
   "execution_count": 195,
   "metadata": {},
   "outputs": [],
   "source": [
    "def convert(seconds):\n",
    "    min, sec = divmod(seconds, 60)\n",
    "    print(min, sec)\n",
    "    if min != 0:\n",
    "        return min\n",
    "    else:\n",
    "        return sec      "
   ]
  },
  {
   "cell_type": "code",
   "execution_count": 196,
   "metadata": {},
   "outputs": [
    {
     "data": {
      "text/html": [
       "<div>\n",
       "<style scoped>\n",
       "    .dataframe tbody tr th:only-of-type {\n",
       "        vertical-align: middle;\n",
       "    }\n",
       "\n",
       "    .dataframe tbody tr th {\n",
       "        vertical-align: top;\n",
       "    }\n",
       "\n",
       "    .dataframe thead th {\n",
       "        text-align: right;\n",
       "    }\n",
       "</style>\n",
       "<table border=\"1\" class=\"dataframe\">\n",
       "  <thead>\n",
       "    <tr style=\"text-align: right;\">\n",
       "      <th></th>\n",
       "      <th>user</th>\n",
       "      <th>recovery_time</th>\n",
       "      <th>Description</th>\n",
       "      <th>recovery_time_in_minutes</th>\n",
       "    </tr>\n",
       "  </thead>\n",
       "  <tbody>\n",
       "    <tr>\n",
       "      <th>0</th>\n",
       "      <td>user_000001</td>\n",
       "      <td>19</td>\n",
       "      <td>Active (Staff)</td>\n",
       "      <td>0</td>\n",
       "    </tr>\n",
       "    <tr>\n",
       "      <th>1</th>\n",
       "      <td>user_000002</td>\n",
       "      <td>30067</td>\n",
       "      <td>Active (Staff)</td>\n",
       "      <td>501</td>\n",
       "    </tr>\n",
       "    <tr>\n",
       "      <th>2</th>\n",
       "      <td>user_000003</td>\n",
       "      <td>345</td>\n",
       "      <td>Active (Staff)</td>\n",
       "      <td>5</td>\n",
       "    </tr>\n",
       "    <tr>\n",
       "      <th>3</th>\n",
       "      <td>user_000004</td>\n",
       "      <td>5</td>\n",
       "      <td>Active (Staff)</td>\n",
       "      <td>0</td>\n",
       "    </tr>\n",
       "    <tr>\n",
       "      <th>4</th>\n",
       "      <td>user_000005</td>\n",
       "      <td>164</td>\n",
       "      <td>Active (Staff)</td>\n",
       "      <td>2</td>\n",
       "    </tr>\n",
       "  </tbody>\n",
       "</table>\n",
       "</div>"
      ],
      "text/plain": [
       "          user  recovery_time     Description  recovery_time_in_minutes\n",
       "0  user_000001             19  Active (Staff)                         0\n",
       "1  user_000002          30067  Active (Staff)                       501\n",
       "2  user_000003            345  Active (Staff)                         5\n",
       "3  user_000004              5  Active (Staff)                         0\n",
       "4  user_000005            164  Active (Staff)                         2"
      ]
     },
     "execution_count": 196,
     "metadata": {},
     "output_type": "execute_result"
    }
   ],
   "source": [
    "y.head()"
   ]
  },
  {
   "cell_type": "code",
   "execution_count": 197,
   "metadata": {},
   "outputs": [],
   "source": [
    "y.sort_values(by='recovery_time', inplace=True)"
   ]
  },
  {
   "cell_type": "code",
   "execution_count": 198,
   "metadata": {},
   "outputs": [
    {
     "data": {
      "text/html": [
       "<div>\n",
       "<style scoped>\n",
       "    .dataframe tbody tr th:only-of-type {\n",
       "        vertical-align: middle;\n",
       "    }\n",
       "\n",
       "    .dataframe tbody tr th {\n",
       "        vertical-align: top;\n",
       "    }\n",
       "\n",
       "    .dataframe thead th {\n",
       "        text-align: right;\n",
       "    }\n",
       "</style>\n",
       "<table border=\"1\" class=\"dataframe\">\n",
       "  <thead>\n",
       "    <tr style=\"text-align: right;\">\n",
       "      <th></th>\n",
       "      <th>user</th>\n",
       "      <th>recovery_time</th>\n",
       "      <th>Description</th>\n",
       "      <th>recovery_time_in_minutes</th>\n",
       "    </tr>\n",
       "  </thead>\n",
       "  <tbody>\n",
       "    <tr>\n",
       "      <th>31124</th>\n",
       "      <td>user_046676</td>\n",
       "      <td>0</td>\n",
       "      <td>Active (Student)</td>\n",
       "      <td>0</td>\n",
       "    </tr>\n",
       "    <tr>\n",
       "      <th>4974</th>\n",
       "      <td>user_007729</td>\n",
       "      <td>0</td>\n",
       "      <td>Active (Student)</td>\n",
       "      <td>0</td>\n",
       "    </tr>\n",
       "    <tr>\n",
       "      <th>29216</th>\n",
       "      <td>user_044532</td>\n",
       "      <td>0</td>\n",
       "      <td>Active (Student)</td>\n",
       "      <td>0</td>\n",
       "    </tr>\n",
       "    <tr>\n",
       "      <th>29210</th>\n",
       "      <td>user_044525</td>\n",
       "      <td>0</td>\n",
       "      <td>Active (Student)</td>\n",
       "      <td>0</td>\n",
       "    </tr>\n",
       "    <tr>\n",
       "      <th>29206</th>\n",
       "      <td>user_044521</td>\n",
       "      <td>0</td>\n",
       "      <td>Active (Student)</td>\n",
       "      <td>0</td>\n",
       "    </tr>\n",
       "  </tbody>\n",
       "</table>\n",
       "</div>"
      ],
      "text/plain": [
       "              user  recovery_time       Description  recovery_time_in_minutes\n",
       "31124  user_046676              0  Active (Student)                         0\n",
       "4974   user_007729              0  Active (Student)                         0\n",
       "29216  user_044532              0  Active (Student)                         0\n",
       "29210  user_044525              0  Active (Student)                         0\n",
       "29206  user_044521              0  Active (Student)                         0"
      ]
     },
     "execution_count": 198,
     "metadata": {},
     "output_type": "execute_result"
    }
   ],
   "source": [
    "y.head()"
   ]
  },
  {
   "cell_type": "code",
   "execution_count": 199,
   "metadata": {},
   "outputs": [],
   "source": [
    "y.insert(0,'New_ID', range(1, len(y)+1))"
   ]
  },
  {
   "cell_type": "code",
   "execution_count": 200,
   "metadata": {},
   "outputs": [],
   "source": [
    "y['userPercentage'] = y['New_ID'].apply(lambda num: num/len(y))"
   ]
  },
  {
   "cell_type": "code",
   "execution_count": 201,
   "metadata": {},
   "outputs": [
    {
     "data": {
      "text/html": [
       "<div>\n",
       "<style scoped>\n",
       "    .dataframe tbody tr th:only-of-type {\n",
       "        vertical-align: middle;\n",
       "    }\n",
       "\n",
       "    .dataframe tbody tr th {\n",
       "        vertical-align: top;\n",
       "    }\n",
       "\n",
       "    .dataframe thead th {\n",
       "        text-align: right;\n",
       "    }\n",
       "</style>\n",
       "<table border=\"1\" class=\"dataframe\">\n",
       "  <thead>\n",
       "    <tr style=\"text-align: right;\">\n",
       "      <th></th>\n",
       "      <th>New_ID</th>\n",
       "      <th>user</th>\n",
       "      <th>recovery_time</th>\n",
       "      <th>Description</th>\n",
       "      <th>recovery_time_in_minutes</th>\n",
       "      <th>userPercentage</th>\n",
       "    </tr>\n",
       "  </thead>\n",
       "  <tbody>\n",
       "    <tr>\n",
       "      <th>31124</th>\n",
       "      <td>1</td>\n",
       "      <td>user_046676</td>\n",
       "      <td>0</td>\n",
       "      <td>Active (Student)</td>\n",
       "      <td>0</td>\n",
       "      <td>0.000028</td>\n",
       "    </tr>\n",
       "    <tr>\n",
       "      <th>4974</th>\n",
       "      <td>2</td>\n",
       "      <td>user_007729</td>\n",
       "      <td>0</td>\n",
       "      <td>Active (Student)</td>\n",
       "      <td>0</td>\n",
       "      <td>0.000056</td>\n",
       "    </tr>\n",
       "    <tr>\n",
       "      <th>29216</th>\n",
       "      <td>3</td>\n",
       "      <td>user_044532</td>\n",
       "      <td>0</td>\n",
       "      <td>Active (Student)</td>\n",
       "      <td>0</td>\n",
       "      <td>0.000084</td>\n",
       "    </tr>\n",
       "    <tr>\n",
       "      <th>29210</th>\n",
       "      <td>4</td>\n",
       "      <td>user_044525</td>\n",
       "      <td>0</td>\n",
       "      <td>Active (Student)</td>\n",
       "      <td>0</td>\n",
       "      <td>0.000111</td>\n",
       "    </tr>\n",
       "    <tr>\n",
       "      <th>29206</th>\n",
       "      <td>5</td>\n",
       "      <td>user_044521</td>\n",
       "      <td>0</td>\n",
       "      <td>Active (Student)</td>\n",
       "      <td>0</td>\n",
       "      <td>0.000139</td>\n",
       "    </tr>\n",
       "  </tbody>\n",
       "</table>\n",
       "</div>"
      ],
      "text/plain": [
       "       New_ID         user  recovery_time       Description  \\\n",
       "31124       1  user_046676              0  Active (Student)   \n",
       "4974        2  user_007729              0  Active (Student)   \n",
       "29216       3  user_044532              0  Active (Student)   \n",
       "29210       4  user_044525              0  Active (Student)   \n",
       "29206       5  user_044521              0  Active (Student)   \n",
       "\n",
       "       recovery_time_in_minutes  userPercentage  \n",
       "31124                         0        0.000028  \n",
       "4974                          0        0.000056  \n",
       "29216                         0        0.000084  \n",
       "29210                         0        0.000111  \n",
       "29206                         0        0.000139  "
      ]
     },
     "execution_count": 201,
     "metadata": {},
     "output_type": "execute_result"
    }
   ],
   "source": [
    "y.head()"
   ]
  },
  {
   "cell_type": "code",
   "execution_count": 245,
   "metadata": {},
   "outputs": [
    {
     "data": {
      "image/png": "[encoded data removed]",
      "text/plain": [
       "<Figure size 1440x720 with 1 Axes>"
      ]
     },
     "metadata": {
      "needs_background": "light"
     },
     "output_type": "display_data"
    }
   ],
   "source": [
    "plt.rcParams[\"figure.figsize\"] = (20,10)\n",
    "y.plot(x='recovery_time', y='userPercentage', legend=False)\n",
    "plt.ylabel('Percentage of Users')\n",
    "plt.xlabel('Error rate')\n",
    "# plt.legend(bbox_to_anchor=(1.0, 1.0))\n",
    "plt.xlim(0,1000)\n",
    "x_ticks = [10,100,1000]\n",
    "plt.xticks(x_ticks)\n",
    "plt.title('User Error Rate')\n",
    "plt.show()"
   ]
  },
  {
   "cell_type": "code",
   "execution_count": null,
   "metadata": {},
   "outputs": [],
   "source": []
  },
  {
   "cell_type": "code",
   "execution_count": null,
   "metadata": {},
   "outputs": [],
   "source": []
  },
  {
   "cell_type": "code",
   "execution_count": null,
   "metadata": {},
   "outputs": [],
   "source": []
  },
  {
   "cell_type": "code",
   "execution_count": 246,
   "metadata": {},
   "outputs": [
    {
     "data": {
      "text/html": [
       "<div>\n",
       "<style scoped>\n",
       "    .dataframe tbody tr th:only-of-type {\n",
       "        vertical-align: middle;\n",
       "    }\n",
       "\n",
       "    .dataframe tbody tr th {\n",
       "        vertical-align: top;\n",
       "    }\n",
       "\n",
       "    .dataframe thead th {\n",
       "        text-align: right;\n",
       "    }\n",
       "</style>\n",
       "<table border=\"1\" class=\"dataframe\">\n",
       "  <thead>\n",
       "    <tr style=\"text-align: right;\">\n",
       "      <th></th>\n",
       "      <th>Timestamp (UTC)</th>\n",
       "      <th>Alias</th>\n",
       "      <th>Integration</th>\n",
       "      <th>Factor</th>\n",
       "      <th>Result</th>\n",
       "      <th>Reason</th>\n",
       "      <th>Enrollment</th>\n",
       "      <th>Access Device Country</th>\n",
       "      <th>Access Device State</th>\n",
       "      <th>Access Device City</th>\n",
       "      <th>Access Device Hostname</th>\n",
       "      <th>date</th>\n",
       "      <th>month</th>\n",
       "      <th>hour</th>\n",
       "      <th>minute</th>\n",
       "      <th>second</th>\n",
       "      <th>Description</th>\n",
       "    </tr>\n",
       "  </thead>\n",
       "  <tbody>\n",
       "    <tr>\n",
       "      <th>0</th>\n",
       "      <td>2021-04-01 07:00:07.957411+00:00</td>\n",
       "      <td>user_008576</td>\n",
       "      <td>Single Sign-On</td>\n",
       "      <td>Phone Call</td>\n",
       "      <td>SUCCESS</td>\n",
       "      <td>User approved</td>\n",
       "      <td>False</td>\n",
       "      <td>US</td>\n",
       "      <td>California</td>\n",
       "      <td>Rocklin</td>\n",
       "      <td>NaN</td>\n",
       "      <td>2021-04-01</td>\n",
       "      <td>4</td>\n",
       "      <td>7</td>\n",
       "      <td>0</td>\n",
       "      <td>7</td>\n",
       "      <td>Active (Student)</td>\n",
       "    </tr>\n",
       "    <tr>\n",
       "      <th>1</th>\n",
       "      <td>2021-04-01 07:00:10.492910+00:00</td>\n",
       "      <td>user_049277</td>\n",
       "      <td>Single Sign-On</td>\n",
       "      <td>Duo Push</td>\n",
       "      <td>SUCCESS</td>\n",
       "      <td>User approved</td>\n",
       "      <td>False</td>\n",
       "      <td>US</td>\n",
       "      <td>California</td>\n",
       "      <td>Santa Maria</td>\n",
       "      <td>NaN</td>\n",
       "      <td>2021-04-01</td>\n",
       "      <td>4</td>\n",
       "      <td>7</td>\n",
       "      <td>0</td>\n",
       "      <td>10</td>\n",
       "      <td>Active (Student)</td>\n",
       "    </tr>\n",
       "    <tr>\n",
       "      <th>3</th>\n",
       "      <td>2021-04-01 07:00:25.203564+00:00</td>\n",
       "      <td>user_025756</td>\n",
       "      <td>Single Sign-On</td>\n",
       "      <td>Duo Push</td>\n",
       "      <td>SUCCESS</td>\n",
       "      <td>User approved</td>\n",
       "      <td>False</td>\n",
       "      <td>US</td>\n",
       "      <td>California</td>\n",
       "      <td>Lodi</td>\n",
       "      <td>NaN</td>\n",
       "      <td>2021-04-01</td>\n",
       "      <td>4</td>\n",
       "      <td>7</td>\n",
       "      <td>0</td>\n",
       "      <td>25</td>\n",
       "      <td>Active (Student)</td>\n",
       "    </tr>\n",
       "    <tr>\n",
       "      <th>4</th>\n",
       "      <td>2021-04-01 07:00:27.389194+00:00</td>\n",
       "      <td>user_030286</td>\n",
       "      <td>Single Sign-On</td>\n",
       "      <td>Duo Push</td>\n",
       "      <td>SUCCESS</td>\n",
       "      <td>User approved</td>\n",
       "      <td>False</td>\n",
       "      <td>US</td>\n",
       "      <td>California</td>\n",
       "      <td>Antioch</td>\n",
       "      <td>NaN</td>\n",
       "      <td>2021-04-01</td>\n",
       "      <td>4</td>\n",
       "      <td>7</td>\n",
       "      <td>0</td>\n",
       "      <td>27</td>\n",
       "      <td>Active (Student)</td>\n",
       "    </tr>\n",
       "    <tr>\n",
       "      <th>5</th>\n",
       "      <td>2021-04-01 07:00:30.814923+00:00</td>\n",
       "      <td>user_019093</td>\n",
       "      <td>Single Sign-On</td>\n",
       "      <td>Duo Push</td>\n",
       "      <td>SUCCESS</td>\n",
       "      <td>User approved</td>\n",
       "      <td>False</td>\n",
       "      <td>PH</td>\n",
       "      <td>Metro Manila</td>\n",
       "      <td>Pasig</td>\n",
       "      <td>NaN</td>\n",
       "      <td>2021-04-01</td>\n",
       "      <td>4</td>\n",
       "      <td>7</td>\n",
       "      <td>0</td>\n",
       "      <td>30</td>\n",
       "      <td>Active (Student)</td>\n",
       "    </tr>\n",
       "  </tbody>\n",
       "</table>\n",
       "</div>"
      ],
      "text/plain": [
       "                   Timestamp (UTC)        Alias     Integration      Factor  \\\n",
       "0 2021-04-01 07:00:07.957411+00:00  user_008576  Single Sign-On  Phone Call   \n",
       "1 2021-04-01 07:00:10.492910+00:00  user_049277  Single Sign-On    Duo Push   \n",
       "3 2021-04-01 07:00:25.203564+00:00  user_025756  Single Sign-On    Duo Push   \n",
       "4 2021-04-01 07:00:27.389194+00:00  user_030286  Single Sign-On    Duo Push   \n",
       "5 2021-04-01 07:00:30.814923+00:00  user_019093  Single Sign-On    Duo Push   \n",
       "\n",
       "    Result         Reason  Enrollment Access Device Country  \\\n",
       "0  SUCCESS  User approved       False                    US   \n",
       "1  SUCCESS  User approved       False                    US   \n",
       "3  SUCCESS  User approved       False                    US   \n",
       "4  SUCCESS  User approved       False                    US   \n",
       "5  SUCCESS  User approved       False                    PH   \n",
       "\n",
       "  Access Device State Access Device City Access Device Hostname        date  \\\n",
       "0          California            Rocklin                    NaN  2021-04-01   \n",
       "1          California        Santa Maria                    NaN  2021-04-01   \n",
       "3          California               Lodi                    NaN  2021-04-01   \n",
       "4          California            Antioch                    NaN  2021-04-01   \n",
       "5        Metro Manila              Pasig                    NaN  2021-04-01   \n",
       "\n",
       "   month  hour  minute  second       Description  \n",
       "0      4     7       0       7  Active (Student)  \n",
       "1      4     7       0      10  Active (Student)  \n",
       "3      4     7       0      25  Active (Student)  \n",
       "4      4     7       0      27  Active (Student)  \n",
       "5      4     7       0      30  Active (Student)  "
      ]
     },
     "execution_count": 246,
     "metadata": {},
     "output_type": "execute_result"
    }
   ],
   "source": [
    "logs.head()"
   ]
  },
  {
   "cell_type": "code",
   "execution_count": 251,
   "metadata": {},
   "outputs": [
    {
     "data": {
      "text/html": [
       "<div>\n",
       "<style scoped>\n",
       "    .dataframe tbody tr th:only-of-type {\n",
       "        vertical-align: middle;\n",
       "    }\n",
       "\n",
       "    .dataframe tbody tr th {\n",
       "        vertical-align: top;\n",
       "    }\n",
       "\n",
       "    .dataframe thead th {\n",
       "        text-align: right;\n",
       "    }\n",
       "</style>\n",
       "<table border=\"1\" class=\"dataframe\">\n",
       "  <thead>\n",
       "    <tr style=\"text-align: right;\">\n",
       "      <th></th>\n",
       "      <th></th>\n",
       "      <th>Result</th>\n",
       "    </tr>\n",
       "    <tr>\n",
       "      <th>month</th>\n",
       "      <th>Factor</th>\n",
       "      <th></th>\n",
       "    </tr>\n",
       "  </thead>\n",
       "  <tbody>\n",
       "    <tr>\n",
       "      <th rowspan=\"12\" valign=\"top\">1</th>\n",
       "      <th>Bypass Code</th>\n",
       "      <td>140</td>\n",
       "    </tr>\n",
       "    <tr>\n",
       "      <th>Bypass Status</th>\n",
       "      <td>462</td>\n",
       "    </tr>\n",
       "    <tr>\n",
       "      <th>Duo Mobile Passcode</th>\n",
       "      <td>34174</td>\n",
       "    </tr>\n",
       "    <tr>\n",
       "      <th>Duo Push</th>\n",
       "      <td>573462</td>\n",
       "    </tr>\n",
       "    <tr>\n",
       "      <th>Hardware Token</th>\n",
       "      <td>12354</td>\n",
       "    </tr>\n",
       "    <tr>\n",
       "      <th>Passcode</th>\n",
       "      <td>2029</td>\n",
       "    </tr>\n",
       "    <tr>\n",
       "      <th>Phone Call</th>\n",
       "      <td>114449</td>\n",
       "    </tr>\n",
       "    <tr>\n",
       "      <th>Remembered Device</th>\n",
       "      <td>163239</td>\n",
       "    </tr>\n",
       "    <tr>\n",
       "      <th>Security Key (WebAuthn)</th>\n",
       "      <td>557</td>\n",
       "    </tr>\n",
       "    <tr>\n",
       "      <th>Touch ID (WebAuthn)</th>\n",
       "      <td>3065</td>\n",
       "    </tr>\n",
       "    <tr>\n",
       "      <th>U2F Token</th>\n",
       "      <td>2180</td>\n",
       "    </tr>\n",
       "    <tr>\n",
       "      <th>Yubikey Passcode</th>\n",
       "      <td>1</td>\n",
       "    </tr>\n",
       "    <tr>\n",
       "      <th rowspan=\"12\" valign=\"top\">2</th>\n",
       "      <th>Bypass Code</th>\n",
       "      <td>268</td>\n",
       "    </tr>\n",
       "    <tr>\n",
       "      <th>Bypass Status</th>\n",
       "      <td>454</td>\n",
       "    </tr>\n",
       "    <tr>\n",
       "      <th>Duo Mobile Passcode</th>\n",
       "      <td>38983</td>\n",
       "    </tr>\n",
       "    <tr>\n",
       "      <th>Duo Push</th>\n",
       "      <td>685134</td>\n",
       "    </tr>\n",
       "    <tr>\n",
       "      <th>Hardware Token</th>\n",
       "      <td>14302</td>\n",
       "    </tr>\n",
       "    <tr>\n",
       "      <th>Passcode</th>\n",
       "      <td>1957</td>\n",
       "    </tr>\n",
       "    <tr>\n",
       "      <th>Phone Call</th>\n",
       "      <td>131844</td>\n",
       "    </tr>\n",
       "    <tr>\n",
       "      <th>Remembered Device</th>\n",
       "      <td>208977</td>\n",
       "    </tr>\n",
       "    <tr>\n",
       "      <th>Security Key (WebAuthn)</th>\n",
       "      <td>651</td>\n",
       "    </tr>\n",
       "    <tr>\n",
       "      <th>Touch ID (WebAuthn)</th>\n",
       "      <td>3627</td>\n",
       "    </tr>\n",
       "    <tr>\n",
       "      <th>U2F Token</th>\n",
       "      <td>2654</td>\n",
       "    </tr>\n",
       "    <tr>\n",
       "      <th>Yubikey Passcode</th>\n",
       "      <td>1</td>\n",
       "    </tr>\n",
       "    <tr>\n",
       "      <th rowspan=\"12\" valign=\"top\">3</th>\n",
       "      <th>Bypass Code</th>\n",
       "      <td>220</td>\n",
       "    </tr>\n",
       "    <tr>\n",
       "      <th>Bypass Status</th>\n",
       "      <td>447</td>\n",
       "    </tr>\n",
       "    <tr>\n",
       "      <th>Duo Mobile Passcode</th>\n",
       "      <td>32669</td>\n",
       "    </tr>\n",
       "    <tr>\n",
       "      <th>Duo Push</th>\n",
       "      <td>605309</td>\n",
       "    </tr>\n",
       "    <tr>\n",
       "      <th>Hardware Token</th>\n",
       "      <td>13976</td>\n",
       "    </tr>\n",
       "    <tr>\n",
       "      <th>Passcode</th>\n",
       "      <td>1757</td>\n",
       "    </tr>\n",
       "    <tr>\n",
       "      <th>Phone Call</th>\n",
       "      <td>118483</td>\n",
       "    </tr>\n",
       "    <tr>\n",
       "      <th>Remembered Device</th>\n",
       "      <td>179256</td>\n",
       "    </tr>\n",
       "    <tr>\n",
       "      <th>Security Key (WebAuthn)</th>\n",
       "      <td>565</td>\n",
       "    </tr>\n",
       "    <tr>\n",
       "      <th>Touch ID (WebAuthn)</th>\n",
       "      <td>3285</td>\n",
       "    </tr>\n",
       "    <tr>\n",
       "      <th>U2F Token</th>\n",
       "      <td>2602</td>\n",
       "    </tr>\n",
       "    <tr>\n",
       "      <th>Yubikey Passcode</th>\n",
       "      <td>7</td>\n",
       "    </tr>\n",
       "    <tr>\n",
       "      <th rowspan=\"11\" valign=\"top\">4</th>\n",
       "      <th>Bypass Code</th>\n",
       "      <td>329</td>\n",
       "    </tr>\n",
       "    <tr>\n",
       "      <th>Bypass Status</th>\n",
       "      <td>474</td>\n",
       "    </tr>\n",
       "    <tr>\n",
       "      <th>Duo Mobile Passcode</th>\n",
       "      <td>35228</td>\n",
       "    </tr>\n",
       "    <tr>\n",
       "      <th>Duo Push</th>\n",
       "      <td>687033</td>\n",
       "    </tr>\n",
       "    <tr>\n",
       "      <th>Hardware Token</th>\n",
       "      <td>14034</td>\n",
       "    </tr>\n",
       "    <tr>\n",
       "      <th>Passcode</th>\n",
       "      <td>1924</td>\n",
       "    </tr>\n",
       "    <tr>\n",
       "      <th>Phone Call</th>\n",
       "      <td>133840</td>\n",
       "    </tr>\n",
       "    <tr>\n",
       "      <th>Remembered Device</th>\n",
       "      <td>220139</td>\n",
       "    </tr>\n",
       "    <tr>\n",
       "      <th>Security Key (WebAuthn)</th>\n",
       "      <td>563</td>\n",
       "    </tr>\n",
       "    <tr>\n",
       "      <th>Touch ID (WebAuthn)</th>\n",
       "      <td>3700</td>\n",
       "    </tr>\n",
       "    <tr>\n",
       "      <th>U2F Token</th>\n",
       "      <td>2822</td>\n",
       "    </tr>\n",
       "    <tr>\n",
       "      <th rowspan=\"11\" valign=\"top\">5</th>\n",
       "      <th>Bypass Code</th>\n",
       "      <td>2</td>\n",
       "    </tr>\n",
       "    <tr>\n",
       "      <th>Bypass Status</th>\n",
       "      <td>1</td>\n",
       "    </tr>\n",
       "    <tr>\n",
       "      <th>Duo Mobile Passcode</th>\n",
       "      <td>343</td>\n",
       "    </tr>\n",
       "    <tr>\n",
       "      <th>Duo Push</th>\n",
       "      <td>7070</td>\n",
       "    </tr>\n",
       "    <tr>\n",
       "      <th>Hardware Token</th>\n",
       "      <td>64</td>\n",
       "    </tr>\n",
       "    <tr>\n",
       "      <th>Passcode</th>\n",
       "      <td>23</td>\n",
       "    </tr>\n",
       "    <tr>\n",
       "      <th>Phone Call</th>\n",
       "      <td>1401</td>\n",
       "    </tr>\n",
       "    <tr>\n",
       "      <th>Remembered Device</th>\n",
       "      <td>2404</td>\n",
       "    </tr>\n",
       "    <tr>\n",
       "      <th>Security Key (WebAuthn)</th>\n",
       "      <td>3</td>\n",
       "    </tr>\n",
       "    <tr>\n",
       "      <th>Touch ID (WebAuthn)</th>\n",
       "      <td>48</td>\n",
       "    </tr>\n",
       "    <tr>\n",
       "      <th>U2F Token</th>\n",
       "      <td>10</td>\n",
       "    </tr>\n",
       "    <tr>\n",
       "      <th rowspan=\"11\" valign=\"top\">11</th>\n",
       "      <th>Bypass Code</th>\n",
       "      <td>240</td>\n",
       "    </tr>\n",
       "    <tr>\n",
       "      <th>Bypass Status</th>\n",
       "      <td>342</td>\n",
       "    </tr>\n",
       "    <tr>\n",
       "      <th>Duo Mobile Passcode</th>\n",
       "      <td>49332</td>\n",
       "    </tr>\n",
       "    <tr>\n",
       "      <th>Duo Push</th>\n",
       "      <td>690756</td>\n",
       "    </tr>\n",
       "    <tr>\n",
       "      <th>Hardware Token</th>\n",
       "      <td>12855</td>\n",
       "    </tr>\n",
       "    <tr>\n",
       "      <th>Passcode</th>\n",
       "      <td>2642</td>\n",
       "    </tr>\n",
       "    <tr>\n",
       "      <th>Phone Call</th>\n",
       "      <td>122046</td>\n",
       "    </tr>\n",
       "    <tr>\n",
       "      <th>Remembered Device</th>\n",
       "      <td>204621</td>\n",
       "    </tr>\n",
       "    <tr>\n",
       "      <th>Security Key (WebAuthn)</th>\n",
       "      <td>536</td>\n",
       "    </tr>\n",
       "    <tr>\n",
       "      <th>Touch ID (WebAuthn)</th>\n",
       "      <td>3403</td>\n",
       "    </tr>\n",
       "    <tr>\n",
       "      <th>U2F Token</th>\n",
       "      <td>2177</td>\n",
       "    </tr>\n",
       "    <tr>\n",
       "      <th rowspan=\"11\" valign=\"top\">12</th>\n",
       "      <th>Bypass Code</th>\n",
       "      <td>172</td>\n",
       "    </tr>\n",
       "    <tr>\n",
       "      <th>Bypass Status</th>\n",
       "      <td>308</td>\n",
       "    </tr>\n",
       "    <tr>\n",
       "      <th>Duo Mobile Passcode</th>\n",
       "      <td>35132</td>\n",
       "    </tr>\n",
       "    <tr>\n",
       "      <th>Duo Push</th>\n",
       "      <td>527273</td>\n",
       "    </tr>\n",
       "    <tr>\n",
       "      <th>Hardware Token</th>\n",
       "      <td>11504</td>\n",
       "    </tr>\n",
       "    <tr>\n",
       "      <th>Passcode</th>\n",
       "      <td>1957</td>\n",
       "    </tr>\n",
       "    <tr>\n",
       "      <th>Phone Call</th>\n",
       "      <td>98426</td>\n",
       "    </tr>\n",
       "    <tr>\n",
       "      <th>Remembered Device</th>\n",
       "      <td>148852</td>\n",
       "    </tr>\n",
       "    <tr>\n",
       "      <th>Security Key (WebAuthn)</th>\n",
       "      <td>444</td>\n",
       "    </tr>\n",
       "    <tr>\n",
       "      <th>Touch ID (WebAuthn)</th>\n",
       "      <td>2684</td>\n",
       "    </tr>\n",
       "    <tr>\n",
       "      <th>U2F Token</th>\n",
       "      <td>2183</td>\n",
       "    </tr>\n",
       "  </tbody>\n",
       "</table>\n",
       "</div>"
      ],
      "text/plain": [
       "                               Result\n",
       "month Factor                         \n",
       "1     Bypass Code                 140\n",
       "      Bypass Status               462\n",
       "      Duo Mobile Passcode       34174\n",
       "      Duo Push                 573462\n",
       "      Hardware Token            12354\n",
       "      Passcode                   2029\n",
       "      Phone Call               114449\n",
       "      Remembered Device        163239\n",
       "      Security Key (WebAuthn)     557\n",
       "      Touch ID (WebAuthn)        3065\n",
       "      U2F Token                  2180\n",
       "      Yubikey Passcode              1\n",
       "2     Bypass Code                 268\n",
       "      Bypass Status               454\n",
       "      Duo Mobile Passcode       38983\n",
       "      Duo Push                 685134\n",
       "      Hardware Token            14302\n",
       "      Passcode                   1957\n",
       "      Phone Call               131844\n",
       "      Remembered Device        208977\n",
       "      Security Key (WebAuthn)     651\n",
       "      Touch ID (WebAuthn)        3627\n",
       "      U2F Token                  2654\n",
       "      Yubikey Passcode              1\n",
       "3     Bypass Code                 220\n",
       "      Bypass Status               447\n",
       "      Duo Mobile Passcode       32669\n",
       "      Duo Push                 605309\n",
       "      Hardware Token            13976\n",
       "      Passcode                   1757\n",
       "      Phone Call               118483\n",
       "      Remembered Device        179256\n",
       "      Security Key (WebAuthn)     565\n",
       "      Touch ID (WebAuthn)        3285\n",
       "      U2F Token                  2602\n",
       "      Yubikey Passcode              7\n",
       "4     Bypass Code                 329\n",
       "      Bypass Status               474\n",
       "      Duo Mobile Passcode       35228\n",
       "      Duo Push                 687033\n",
       "      Hardware Token            14034\n",
       "      Passcode                   1924\n",
       "      Phone Call               133840\n",
       "      Remembered Device        220139\n",
       "      Security Key (WebAuthn)     563\n",
       "      Touch ID (WebAuthn)        3700\n",
       "      U2F Token                  2822\n",
       "5     Bypass Code                   2\n",
       "      Bypass Status                 1\n",
       "      Duo Mobile Passcode         343\n",
       "      Duo Push                   7070\n",
       "      Hardware Token               64\n",
       "      Passcode                     23\n",
       "      Phone Call                 1401\n",
       "      Remembered Device          2404\n",
       "      Security Key (WebAuthn)       3\n",
       "      Touch ID (WebAuthn)          48\n",
       "      U2F Token                    10\n",
       "11    Bypass Code                 240\n",
       "      Bypass Status               342\n",
       "      Duo Mobile Passcode       49332\n",
       "      Duo Push                 690756\n",
       "      Hardware Token            12855\n",
       "      Passcode                   2642\n",
       "      Phone Call               122046\n",
       "      Remembered Device        204621\n",
       "      Security Key (WebAuthn)     536\n",
       "      Touch ID (WebAuthn)        3403\n",
       "      U2F Token                  2177\n",
       "12    Bypass Code                 172\n",
       "      Bypass Status               308\n",
       "      Duo Mobile Passcode       35132\n",
       "      Duo Push                 527273\n",
       "      Hardware Token            11504\n",
       "      Passcode                   1957\n",
       "      Phone Call                98426\n",
       "      Remembered Device        148852\n",
       "      Security Key (WebAuthn)     444\n",
       "      Touch ID (WebAuthn)        2684\n",
       "      U2F Token                  2183"
      ]
     },
     "execution_count": 251,
     "metadata": {},
     "output_type": "execute_result"
    }
   ],
   "source": [
    "logs[['Factor','Result','month']].groupby(['month','Factor']).count()"
   ]
  },
  {
   "cell_type": "code",
   "execution_count": null,
   "metadata": {},
   "outputs": [],
   "source": []
  }
 ],
 "metadata": {
  "kernelspec": {
   "display_name": "Python 3",
   "language": "python",
   "name": "python3"
  },
  "language_info": {
   "codemirror_mode": {
    "name": "ipython",
    "version": 3
   },
   "file_extension": ".py",
   "mimetype": "text/x-python",
   "name": "python",
   "nbconvert_exporter": "python",
   "pygments_lexer": "ipython3",
   "version": "3.8.5"
  }
 },
 "nbformat": 4,
 "nbformat_minor": 4
}
