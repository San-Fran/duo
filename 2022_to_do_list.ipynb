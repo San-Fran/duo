{
 "cells": [
  {
   "cell_type": "code",
   "execution_count": 1,
   "metadata": {},
   "outputs": [],
   "source": [
    "import pandas as pd\n",
    "import matplotlib.pyplot as plt\n",
    "from matplotlib.pyplot import figure\n",
    "import math\n",
    "from datetime import datetime, timedelta\n",
    "import seaborn as sns\n",
    "\n",
    "import datetime\n",
    "from dateutil.parser import parse\n",
    "\n",
    "import numpy as np\n",
    "\n",
    "\n",
    "from matplotlib import rcParams\n",
    "\n",
    "from scipy.stats import chi2_contingency\n",
    "\n",
    "plt.rcParams[\"figure.figsize\"] = (20,10)\n",
    "# %reset"
   ]
  },
  {
   "cell_type": "code",
   "execution_count": 2,
   "metadata": {},
   "outputs": [
    {
     "name": "stdout",
     "output_type": "stream",
     "text": [
      "Requirement already satisfied: scikit-posthocs in c:\\users\\francisco\\anaconda3\\lib\\site-packages (0.6.7)Note: you may need to restart the kernel to use updated packages.\n",
      "\n",
      "Requirement already satisfied: statsmodels in c:\\users\\francisco\\anaconda3\\lib\\site-packages (from scikit-posthocs) (0.12.0)\n",
      "Requirement already satisfied: scipy in c:\\users\\francisco\\anaconda3\\lib\\site-packages (from scikit-posthocs) (1.5.2)\n",
      "Requirement already satisfied: pandas>=0.20.0 in c:\\users\\francisco\\anaconda3\\lib\\site-packages (from scikit-posthocs) (1.3.4)\n",
      "Requirement already satisfied: seaborn in c:\\users\\francisco\\anaconda3\\lib\\site-packages (from scikit-posthocs) (0.11.0)\n",
      "Requirement already satisfied: matplotlib in c:\\users\\francisco\\anaconda3\\lib\\site-packages (from scikit-posthocs) (3.3.2)\n",
      "Requirement already satisfied: numpy in c:\\users\\francisco\\anaconda3\\lib\\site-packages (from scikit-posthocs) (1.19.2)\n",
      "Requirement already satisfied: patsy>=0.5 in c:\\users\\francisco\\anaconda3\\lib\\site-packages (from statsmodels->scikit-posthocs) (0.5.1)\n",
      "Requirement already satisfied: pytz>=2017.3 in c:\\users\\francisco\\anaconda3\\lib\\site-packages (from pandas>=0.20.0->scikit-posthocs) (2020.1)\n",
      "Requirement already satisfied: python-dateutil>=2.7.3 in c:\\users\\francisco\\anaconda3\\lib\\site-packages (from pandas>=0.20.0->scikit-posthocs) (2.8.1)\n",
      "Requirement already satisfied: kiwisolver>=1.0.1 in c:\\users\\francisco\\anaconda3\\lib\\site-packages (from matplotlib->scikit-posthocs) (1.3.0)\n",
      "Requirement already satisfied: pyparsing!=2.0.4,!=2.1.2,!=2.1.6,>=2.0.3 in c:\\users\\francisco\\anaconda3\\lib\\site-packages (from matplotlib->scikit-posthocs) (2.4.7)\n",
      "Requirement already satisfied: pillow>=6.2.0 in c:\\users\\francisco\\anaconda3\\lib\\site-packages (from matplotlib->scikit-posthocs) (8.0.1)\n",
      "Requirement already satisfied: cycler>=0.10 in c:\\users\\francisco\\anaconda3\\lib\\site-packages (from matplotlib->scikit-posthocs) (0.10.0)\n",
      "Requirement already satisfied: certifi>=2020.06.20 in c:\\users\\francisco\\anaconda3\\lib\\site-packages (from matplotlib->scikit-posthocs) (2020.6.20)\n",
      "Requirement already satisfied: six in c:\\users\\francisco\\anaconda3\\lib\\site-packages (from patsy>=0.5->statsmodels->scikit-posthocs) (1.15.0)\n"
     ]
    }
   ],
   "source": [
    "pip install scikit-posthocs\n"
   ]
  },
  {
   "cell_type": "code",
   "execution_count": 186,
   "metadata": {},
   "outputs": [],
   "source": [
    "from scipy import stats\n",
    "import scikit_posthocs as sp\n",
    "plt.rcParams[\"figure.figsize\"] = (20,10)"
   ]
  },
  {
   "cell_type": "code",
   "execution_count": 4,
   "metadata": {},
   "outputs": [],
   "source": [
    "# Setup and Import data\n",
    "from statsmodels.tsa.stattools import adfuller"
   ]
  },
  {
   "cell_type": "code",
   "execution_count": 5,
   "metadata": {},
   "outputs": [],
   "source": [
    "pd.set_option('display.max_rows', None)\n",
    "pd.set_option('display.max_columns', None)\n",
    "pd.set_option('display.max_colwidth', None)"
   ]
  },
  {
   "cell_type": "code",
   "execution_count": 6,
   "metadata": {},
   "outputs": [
    {
     "name": "stderr",
     "output_type": "stream",
     "text": [
      "C:\\Users\\Francisco\\anaconda3\\lib\\site-packages\\IPython\\core\\interactiveshell.py:3418: DtypeWarning: Columns (10) have mixed types.Specify dtype option on import or set low_memory=False.\n",
      "  exec(code_obj, self.user_global_ns, self.user_ns)\n"
     ]
    }
   ],
   "source": [
    "import glob\n",
    "\n",
    "all_files = glob.glob(\"./Duo_Auth*.csv\")\n",
    "\n",
    "li = []\n",
    "\n",
    "for filename in all_files:\n",
    "#     print(filename)\n",
    "    df = pd.read_csv(filename, index_col=None, header=0)\n",
    "    li.append(df)\n",
    "df = pd.concat(li, axis=0, ignore_index=True)"
   ]
  },
  {
   "cell_type": "code",
   "execution_count": 7,
   "metadata": {},
   "outputs": [],
   "source": [
    "df['Timestamp (UTC)'] = pd.to_datetime(df['Timestamp (UTC)'])\n",
    "df['date'] = df['Timestamp (UTC)'].apply(lambda timestamp: timestamp.date())\n",
    "df['month'] = df['Timestamp (UTC)'].apply(lambda timestamp:  timestamp.month)\n",
    "df['hour'] = df['Timestamp (UTC)'].apply(lambda timestamp:  timestamp.hour)\n",
    "df['minute'] = df['Timestamp (UTC)'].apply(lambda timestamp:  timestamp.minute)\n",
    "df['second'] = df['Timestamp (UTC)'].apply(lambda timestamp:  timestamp.second)"
   ]
  },
  {
   "cell_type": "code",
   "execution_count": 8,
   "metadata": {},
   "outputs": [
    {
     "name": "stdout",
     "output_type": "stream",
     "text": [
      "(7077783, 16)\n"
     ]
    },
    {
     "data": {
      "text/html": [
       "<div>\n",
       "<style scoped>\n",
       "    .dataframe tbody tr th:only-of-type {\n",
       "        vertical-align: middle;\n",
       "    }\n",
       "\n",
       "    .dataframe tbody tr th {\n",
       "        vertical-align: top;\n",
       "    }\n",
       "\n",
       "    .dataframe thead th {\n",
       "        text-align: right;\n",
       "    }\n",
       "</style>\n",
       "<table border=\"1\" class=\"dataframe\">\n",
       "  <thead>\n",
       "    <tr style=\"text-align: right;\">\n",
       "      <th></th>\n",
       "      <th>Timestamp (UTC)</th>\n",
       "      <th>Alias</th>\n",
       "      <th>Integration</th>\n",
       "      <th>Factor</th>\n",
       "      <th>Result</th>\n",
       "      <th>Reason</th>\n",
       "      <th>Enrollment</th>\n",
       "      <th>Access Device Country</th>\n",
       "      <th>Access Device State</th>\n",
       "      <th>Access Device City</th>\n",
       "      <th>Access Device Hostname</th>\n",
       "      <th>date</th>\n",
       "      <th>month</th>\n",
       "      <th>hour</th>\n",
       "      <th>minute</th>\n",
       "      <th>second</th>\n",
       "    </tr>\n",
       "  </thead>\n",
       "  <tbody>\n",
       "    <tr>\n",
       "      <th>0</th>\n",
       "      <td>2021-04-01 07:00:07.957411+00:00</td>\n",
       "      <td>user_008576</td>\n",
       "      <td>Single Sign-On</td>\n",
       "      <td>Phone Call</td>\n",
       "      <td>SUCCESS</td>\n",
       "      <td>User approved</td>\n",
       "      <td>False</td>\n",
       "      <td>US</td>\n",
       "      <td>California</td>\n",
       "      <td>Rocklin</td>\n",
       "      <td>NaN</td>\n",
       "      <td>2021-04-01</td>\n",
       "      <td>4</td>\n",
       "      <td>7</td>\n",
       "      <td>0</td>\n",
       "      <td>7</td>\n",
       "    </tr>\n",
       "    <tr>\n",
       "      <th>1</th>\n",
       "      <td>2021-04-01 07:00:10.492910+00:00</td>\n",
       "      <td>user_049277</td>\n",
       "      <td>Single Sign-On</td>\n",
       "      <td>Duo Push</td>\n",
       "      <td>SUCCESS</td>\n",
       "      <td>User approved</td>\n",
       "      <td>False</td>\n",
       "      <td>US</td>\n",
       "      <td>California</td>\n",
       "      <td>Santa Maria</td>\n",
       "      <td>NaN</td>\n",
       "      <td>2021-04-01</td>\n",
       "      <td>4</td>\n",
       "      <td>7</td>\n",
       "      <td>0</td>\n",
       "      <td>10</td>\n",
       "    </tr>\n",
       "  </tbody>\n",
       "</table>\n",
       "</div>"
      ],
      "text/plain": [
       "                   Timestamp (UTC)        Alias     Integration      Factor  \\\n",
       "0 2021-04-01 07:00:07.957411+00:00  user_008576  Single Sign-On  Phone Call   \n",
       "1 2021-04-01 07:00:10.492910+00:00  user_049277  Single Sign-On    Duo Push   \n",
       "\n",
       "    Result         Reason  Enrollment Access Device Country  \\\n",
       "0  SUCCESS  User approved       False                    US   \n",
       "1  SUCCESS  User approved       False                    US   \n",
       "\n",
       "  Access Device State Access Device City Access Device Hostname        date  \\\n",
       "0          California            Rocklin                    NaN  2021-04-01   \n",
       "1          California        Santa Maria                    NaN  2021-04-01   \n",
       "\n",
       "   month  hour  minute  second  \n",
       "0      4     7       0       7  \n",
       "1      4     7       0      10  "
      ]
     },
     "execution_count": 8,
     "metadata": {},
     "output_type": "execute_result"
    }
   ],
   "source": [
    "logs = df\n",
    "print(logs.shape)\n",
    "logs.head(2)"
   ]
  },
  {
   "cell_type": "code",
   "execution_count": 9,
   "metadata": {},
   "outputs": [
    {
     "data": {
      "text/html": [
       "<div>\n",
       "<style scoped>\n",
       "    .dataframe tbody tr th:only-of-type {\n",
       "        vertical-align: middle;\n",
       "    }\n",
       "\n",
       "    .dataframe tbody tr th {\n",
       "        vertical-align: top;\n",
       "    }\n",
       "\n",
       "    .dataframe thead th {\n",
       "        text-align: right;\n",
       "    }\n",
       "</style>\n",
       "<table border=\"1\" class=\"dataframe\">\n",
       "  <thead>\n",
       "    <tr style=\"text-align: right;\">\n",
       "      <th></th>\n",
       "      <th>Alias</th>\n",
       "      <th>Status</th>\n",
       "      <th>Created</th>\n",
       "      <th>Last Login</th>\n",
       "      <th>Phone 1 platform</th>\n",
       "      <th>Phone 2 platform</th>\n",
       "      <th>Phone 3 platform</th>\n",
       "      <th>Phone 4 platform</th>\n",
       "      <th>Phone 5 platform</th>\n",
       "      <th>Phone 6 platform</th>\n",
       "      <th>Phone 7 platform</th>\n",
       "      <th>Student</th>\n",
       "      <th>Description</th>\n",
       "      <th>Index</th>\n",
       "    </tr>\n",
       "  </thead>\n",
       "  <tbody>\n",
       "    <tr>\n",
       "      <th>0</th>\n",
       "      <td>user_000001</td>\n",
       "      <td>Active</td>\n",
       "      <td>2017-04-26 18:31:00</td>\n",
       "      <td>4/7/2021 15:00</td>\n",
       "      <td>Landline</td>\n",
       "      <td>NaN</td>\n",
       "      <td>NaN</td>\n",
       "      <td>NaN</td>\n",
       "      <td>NaN</td>\n",
       "      <td>NaN</td>\n",
       "      <td>NaN</td>\n",
       "      <td>False</td>\n",
       "      <td>Active (Staff)</td>\n",
       "      <td>1</td>\n",
       "    </tr>\n",
       "    <tr>\n",
       "      <th>1</th>\n",
       "      <td>user_000002</td>\n",
       "      <td>Active</td>\n",
       "      <td>2017-04-26 18:58:00</td>\n",
       "      <td>4/6/2021 21:34</td>\n",
       "      <td>Android</td>\n",
       "      <td>Landline</td>\n",
       "      <td>NaN</td>\n",
       "      <td>NaN</td>\n",
       "      <td>NaN</td>\n",
       "      <td>NaN</td>\n",
       "      <td>NaN</td>\n",
       "      <td>False</td>\n",
       "      <td>Active (Staff)</td>\n",
       "      <td>2</td>\n",
       "    </tr>\n",
       "    <tr>\n",
       "      <th>2</th>\n",
       "      <td>user_000003</td>\n",
       "      <td>Active</td>\n",
       "      <td>2017-04-27 20:42:00</td>\n",
       "      <td>4/6/2021 16:35</td>\n",
       "      <td>Landline</td>\n",
       "      <td>Android</td>\n",
       "      <td>NaN</td>\n",
       "      <td>NaN</td>\n",
       "      <td>NaN</td>\n",
       "      <td>NaN</td>\n",
       "      <td>NaN</td>\n",
       "      <td>False</td>\n",
       "      <td>Active (Staff)</td>\n",
       "      <td>3</td>\n",
       "    </tr>\n",
       "    <tr>\n",
       "      <th>3</th>\n",
       "      <td>user_000004</td>\n",
       "      <td>Active</td>\n",
       "      <td>2017-08-16 17:10:00</td>\n",
       "      <td>4/7/2021 14:23</td>\n",
       "      <td>iOS</td>\n",
       "      <td>Landline</td>\n",
       "      <td>NaN</td>\n",
       "      <td>NaN</td>\n",
       "      <td>NaN</td>\n",
       "      <td>NaN</td>\n",
       "      <td>NaN</td>\n",
       "      <td>False</td>\n",
       "      <td>Active (Staff)</td>\n",
       "      <td>4</td>\n",
       "    </tr>\n",
       "    <tr>\n",
       "      <th>4</th>\n",
       "      <td>user_000005</td>\n",
       "      <td>Active</td>\n",
       "      <td>2017-09-12 22:03:00</td>\n",
       "      <td>4/7/2021 0:17</td>\n",
       "      <td>Android</td>\n",
       "      <td>Landline</td>\n",
       "      <td>NaN</td>\n",
       "      <td>NaN</td>\n",
       "      <td>NaN</td>\n",
       "      <td>NaN</td>\n",
       "      <td>NaN</td>\n",
       "      <td>False</td>\n",
       "      <td>Active (Staff)</td>\n",
       "      <td>5</td>\n",
       "    </tr>\n",
       "  </tbody>\n",
       "</table>\n",
       "</div>"
      ],
      "text/plain": [
       "         Alias  Status             Created      Last Login Phone 1 platform  \\\n",
       "0  user_000001  Active 2017-04-26 18:31:00  4/7/2021 15:00         Landline   \n",
       "1  user_000002  Active 2017-04-26 18:58:00  4/6/2021 21:34          Android   \n",
       "2  user_000003  Active 2017-04-27 20:42:00  4/6/2021 16:35         Landline   \n",
       "3  user_000004  Active 2017-08-16 17:10:00  4/7/2021 14:23              iOS   \n",
       "4  user_000005  Active 2017-09-12 22:03:00   4/7/2021 0:17          Android   \n",
       "\n",
       "  Phone 2 platform Phone 3 platform Phone 4 platform Phone 5 platform  \\\n",
       "0              NaN              NaN              NaN              NaN   \n",
       "1         Landline              NaN              NaN              NaN   \n",
       "2          Android              NaN              NaN              NaN   \n",
       "3         Landline              NaN              NaN              NaN   \n",
       "4         Landline              NaN              NaN              NaN   \n",
       "\n",
       "  Phone 6 platform Phone 7 platform  Student     Description  Index  \n",
       "0              NaN              NaN    False  Active (Staff)      1  \n",
       "1              NaN              NaN    False  Active (Staff)      2  \n",
       "2              NaN              NaN    False  Active (Staff)      3  \n",
       "3              NaN              NaN    False  Active (Staff)      4  \n",
       "4              NaN              NaN    False  Active (Staff)      5  "
      ]
     },
     "execution_count": 9,
     "metadata": {},
     "output_type": "execute_result"
    }
   ],
   "source": [
    "users = pd.read_csv('duo_users_clean.csv')\n",
    "users['Created'] = users['Created'].apply(lambda date: parse(date))\n",
    "users.head()"
   ]
  },
  {
   "cell_type": "code",
   "execution_count": 10,
   "metadata": {},
   "outputs": [],
   "source": [
    "# Get a list of users who have logged in\n",
    "usersWhoHaveLoggedIn = logs.Alias.unique()"
   ]
  },
  {
   "cell_type": "code",
   "execution_count": 11,
   "metadata": {},
   "outputs": [
    {
     "data": {
      "text/plain": [
       "50962"
      ]
     },
     "execution_count": 11,
     "metadata": {},
     "output_type": "execute_result"
    }
   ],
   "source": [
    "subsetOfUsers = users[users['Alias'].isin(usersWhoHaveLoggedIn)]\n",
    "len(subsetOfUsers)"
   ]
  },
  {
   "cell_type": "code",
   "execution_count": 12,
   "metadata": {},
   "outputs": [
    {
     "name": "stderr",
     "output_type": "stream",
     "text": [
      "C:\\Users\\Francisco\\anaconda3\\lib\\site-packages\\pandas\\core\\generic.py:6392: SettingWithCopyWarning: \n",
      "A value is trying to be set on a copy of a slice from a DataFrame\n",
      "\n",
      "See the caveats in the documentation: https://pandas.pydata.org/pandas-docs/stable/user_guide/indexing.html#returning-a-view-versus-a-copy\n",
      "  return self._update_inplace(result)\n"
     ]
    }
   ],
   "source": [
    "subsetOfUsers['Description'].fillna(\"\", inplace=True)"
   ]
  },
  {
   "cell_type": "code",
   "execution_count": 13,
   "metadata": {},
   "outputs": [],
   "source": [
    "subsetOfUsers = subsetOfUsers[~subsetOfUsers[\"Description\"].str.contains(\"Disabled\")]\n",
    "subsetOfUsers = subsetOfUsers[~subsetOfUsers[\"Description\"].str.contains(\"DISABLED\")]"
   ]
  },
  {
   "cell_type": "code",
   "execution_count": 14,
   "metadata": {
    "scrolled": true
   },
   "outputs": [
    {
     "data": {
      "text/plain": [
       "Active (Student)                                                32931\n",
       "Active (Formerstudent)                                           6685\n",
       "Active (Student, Applicant)                                      4319\n",
       "Active (Faculty)                                                 1773\n",
       "Active (Staff)                                                   1179\n",
       "Active (Applicant)                                                750\n",
       "Active (Applicant, Formerstudent)                                 371\n",
       "Active (Student, Volunteer)                                       276\n",
       "Active (Staff, Student)                                           201\n",
       "Active (Faculty, Poi)                                             171\n",
       "Active (Faculty, Emeritus)                                        152\n",
       "Active (Faculty, Staff)                                           147\n",
       "Active (Student, Asi)                                             146\n",
       "Active (Emeritus)                                                 131\n",
       "Active (Uei)                                                      118\n",
       "Active (Cpr)                                                      104\n",
       "Active (Formerstudent, Volunteer)                                  89\n",
       "Active (Guest)                                                     88\n",
       "Active (Faculty, Staff, Student)                                   74\n",
       "Active (Staff, Formerstudent)                                      71\n",
       "Active (Asi)                                                       63\n",
       "Active (Formerstudent, Asi)                                        60\n",
       "Active (Positional)                                                51\n",
       "Active (Faculty, Formerstudent)                                    49\n",
       "Active (Student, Uei)                                              46\n",
       "Active (Poi)                                                       30\n",
       "Active (Student, Poi)                                              25\n",
       "Active (Owp)                                                       22\n",
       "Active (Uu)                                                        22\n",
       "Active (Generic)                                                   21\n",
       "Active (Formerstudent, Uei)                                        19\n",
       "Active (Volunteer)                                                 18\n",
       "                                                                   17\n",
       "Active (Faculty, Student)                                          16\n",
       "Active (Staff, Applicant)                                          15\n",
       "Active (Student, Poi, Uei)                                         14\n",
       "Active (Uei, Poi)                                                  13\n",
       "Active (Uu, Uei)                                                   12\n",
       "Active (Contractor)                                                12\n",
       "Active (Applicant, Asi, Formerstudent)                             10\n",
       "Active (Faculty, Emeritus, Staff)                                  10\n",
       "Active (Student, Applicant, Asi)                                    9\n",
       "OWP                                                                 9\n",
       "Active (Staff, Applicant, Formerstudent)                            9\n",
       "Active (Staff, Applicant, Student)                                  7\n",
       "Active (Applicant, Formerstudent, Volunteer)                        7\n",
       "Active (Staff, Faculty, Student)                                    6\n",
       "Active (Faculty, Applicant)                                         6\n",
       "Active (Faculty, Emeritus, Poi)                                     5\n",
       "Active (Formerstudent, Uu)                                          5\n",
       "Active (Formerstudent, Asi, Volunteer)                              5\n",
       "Active (Uu, Poi)                                                    4\n",
       "Active (Faculty, Formerstudent, Poi)                                4\n",
       "Active (Formerstudent, Cpr)                                         4\n",
       "Active (Faculty, Formerstudent, Staff)                              4\n",
       "Active (Student, Cpr)                                               3\n",
       "Active (Faculty, Uei)                                               3\n",
       "Active (Formerstudent, Poi)                                         3\n",
       "Active (Staff, Poi)                                                 3\n",
       "Active (Vendor)                                                     3\n",
       "Active (Staff, Emeritus)                                            3\n",
       "Active (GenericExt) Jan 30, 2009                                    3\n",
       "Active (Faculty, Adjunct)                                           3\n",
       "Active (Uei, Guest)                                                 3\n",
       "Active (Faculty, Poi, Staff)                                        2\n",
       "Active (Formerstudent, Poi, Uei)                                    2\n",
       "Active (Uu, Formerstudent, Uei)                                     2\n",
       "Active (Faculty, Volunteer)                                         2\n",
       "Active (Student, Asi, Poi)                                          2\n",
       "Active (Student, Formerstudent)                                     2\n",
       "Active (Formerstudent, Guest)                                       2\n",
       "SacLink System (Collado, Michael)                                   1\n",
       "SacLink Administrator (Kellogg, Christopher)                        1\n",
       "SacLink System (Rao, Sandhya)                                       1\n",
       "SacLink System (Raney, Chris)                                       1\n",
       "SacLink System (Cruz, Nathaniel)                                    1\n",
       "SacLink System (Cahail, Darrell)                                    1\n",
       "SacLink System (Louie, Kevin)                                       1\n",
       "SacLink System (Nosenko, Alexandr)                                  1\n",
       "SacLink System (Iwasa, Matt)                                        1\n",
       "SacLink System (Ochieng, Quentin)                                   1\n",
       "SacLink System (Delgado, Nina)                                      1\n",
       "SacLink System (Rush, Arthur)                                       1\n",
       "SacLink System (Halterman, Ehsan)                                   1\n",
       "SacLink System (Lyon, Eric)                                         1\n",
       "SacLink System (Chanthilack, Patrick)                               1\n",
       "SacLink System (Price, Joanna)                                      1\n",
       "SacLink System (Wong, Eugenia)                                      1\n",
       "SacLink System (Bingel, Jeff)                                       1\n",
       "SacLink System (Hayes, Jim)                                         1\n",
       "SacLink System (Robbins, Bruce)                                     1\n",
       "SacLink System (Tanton, Weston)                                     1\n",
       "SacLink System (Krantz, Jason)                                      1\n",
       "SacLink System (Kjelvik, Keith)                                     1\n",
       "SacLink System (Nucal, Katrina)                                     1\n",
       "SacLink System (Schwartz, Joel)                                     1\n",
       "SacLink System (Vo, Aaron)                                          1\n",
       "SacLink System (Van Winkle, Robert)                                 1\n",
       "SacLink System (Cortright, Jason)                                   1\n",
       "SacLink System (Wyatt, Russell)                                     1\n",
       "SacLink System (Ahrens, Jonathan)                                   1\n",
       "SacLink System (Valdez, Susana)                                     1\n",
       "SacLink System (Preuss, Frank)                                      1\n",
       "SacLink System (Novak, Kristine)                                    1\n",
       "SacLink System (Lok, Jonathan)                                      1\n",
       "SacLink System (Pokhrel, Binod)                                     1\n",
       "SacLink System (Marsh, Baron)                                       1\n",
       "SacLink System (Ngouyaphanh, Danny)                                 1\n",
       "SacLink System (Tubo, Gerald)                                       1\n",
       "SacLink System (Brownell, James)                                    1\n",
       "SacLink System (Young, Matthew)                                     1\n",
       "SacLink System (Grondin, Steve)                                     1\n",
       "SacLink System (Soza, Nikolas)                                      1\n",
       "SacLink System (Espinoza, Ruby)                                     1\n",
       "SacLink System (Phung, Luong)                                       1\n",
       "SacLink System (Sparks, Matthew)                                    1\n",
       "SacLink System (Jones, Steve)                                       1\n",
       "SacLink System (Stage, Tracy)                                       1\n",
       "SacLink Administrator (Wells, David)                                1\n",
       "SacLink Adminstrator (Watts-Willis, Ian)                            1\n",
       "SacLink System (O'Donnell, Andrea)                                  1\n",
       "SacLink System (Chuchas, James)                                     1\n",
       "SacLink System (Murphy, Kinzie)                                     1\n",
       "SacLink System (Zarchy, Razi)                                       1\n",
       "SacLink System (Harms, Debra)                                       1\n",
       "SacLink System (Herbert, Geoffrey)                                  1\n",
       "SacLink System (DeMartini, Lois)                                    1\n",
       "SacLink System (D'Angelo, Lisa)                                     1\n",
       "SacLink System (Oakley, Karen)                                      1\n",
       "SacLink System (Hickie, Jayson)                                     1\n",
       "SacLink System (McGinty, Barbara)                                   1\n",
       "Active (Faculty, Poi, Student)                                      1\n",
       "SacLink System (Witthans, Chris)                                    1\n",
       "SacLink System (Esguerra, Robert)                                   1\n",
       "SacLink System (Nick-Kearney, Kayla)                                1\n",
       "Active (Faculty, Poi, Volunteer)                                    1\n",
       "Active (Student, Applicant, Volunteer)                              1\n",
       "Active (Applicant, Formerstudent, Guest)                            1\n",
       "SacLink System (Montejano, Marissa)                                 1\n",
       "SacLink System (Haberstock, Keith)                                  1\n",
       "Active (GenericExt) Sep 9, 2008                                     1\n",
       "SacLink System (Pillai, Shivakumar)                                 1\n",
       "SacLink System (Mai, Thai)                                          1\n",
       "SacLink System (Gok, Alivia)                                        1\n",
       "SacLink System (Chuong, Justin)                                     1\n",
       "Active (Applicant, Volunteer)                                       1\n",
       "SacLink System (Murphy, Gary)                                       1\n",
       "SacLink System (Thordardottir, Ragna)                               1\n",
       "SacLink System (Faherty, Karen)                                     1\n",
       "SacLink System (Brown, Shauna)                                      1\n",
       "SacLink System (Dani, Sameer)                                       1\n",
       "SacLink Administrator (Pike, John)                                  1\n",
       "Saclink Administrator (Hansen, Kevin)                               1\n",
       "SacLink Administrator (Sladojevic, Nikica)                          1\n",
       "SacLink Administrator (Mokay, Nicolasa)                             1\n",
       "SacLink Administrator (Barnard, Phon)                               1\n",
       "Active (Faculty, Applicant, Contractor, Guest, Poi, Student)        1\n",
       "SacLink System (Blake, Jerry)                                       1\n",
       "Active (GenericExt) Jul 14, 2008                                    1\n",
       "Office of Water Programs OWP-SP09                                   1\n",
       "Office of Water Programs, owp-sp12                                  1\n",
       "Active (GenericExt) Feb 5, 2009                                     1\n",
       "Active (Uei, Uu)                                                    1\n",
       "SacLink System (Carrillo, Susana)                                   1\n",
       "SacLink System (Louney, Kelly)                                      1\n",
       "Active (Faculty, Poi, Uei, Uu)                                      1\n",
       "Active (GuestExt) Oct 4, 2004                                       1\n",
       "Active (Applicant, Formerstudent, Guest, Volunteer)                 1\n",
       "Active (Applicant, Guest)                                           1\n",
       "Active (Student, Applicant, Contractor)                             1\n",
       "Active (Applicant, Asi)                                             1\n",
       "SacLink System (Kaul, Sandra)                                       1\n",
       "SacLink System (Thompson, Heather)                                  1\n",
       "SacLink System (Mojibi, Marcella)                                   1\n",
       "Active (Faculty, Guest)                                             1\n",
       "SacLink System (Brickley, Jennifer)                                 1\n",
       "SacLink System (Dodge, Kelly)                                       1\n",
       "SacLink System (Martinez-Vasquez, Marco)                            1\n",
       "SacLink System (Divanyan, Seyran)                                   1\n",
       "Active (GenericExt) Jan 16, 2008                                    1\n",
       "SacLink System (Todd, Evan)                                         1\n",
       "Active (Uei, Asi)                                                   1\n",
       "Active (Applicant, Uei)                                             1\n",
       "Active (Formerstudent, Owp, Uei)                                    1\n",
       "Active (Faculty, Owp, Poi)                                          1\n",
       "Active (Staff, Asi, Student)                                        1\n",
       "SacLink System (Pike, Brennan)                                      1\n",
       "SacLink System (Her, Meng)                                          1\n",
       "SacLink System (Biondi, Dan)                                        1\n",
       "SacLink System (Wells, David)                                       1\n",
       "SacLink System (Osburn, Andy)                                       1\n",
       "SacLink System (Zhang, Bin)                                         1\n",
       "SacLink System (Saechao, A-Be)                                      1\n",
       "SacLink System (Mokay, Nicolasa)                                    1\n",
       "SacLink System (Moua, Bee)                                          1\n",
       "SacLink System (Ward, Christian)                                    1\n",
       "SacLink System (Oakes, Carl)                                        1\n",
       "SacLink System (Palmer, Teresa)                                     1\n",
       "SacLink System (Grebitus, Brad)                                     1\n",
       "SacLink System (Konrad, Mark)                                       1\n",
       "SacLink System (Mattos, Corrin)                                     1\n",
       "SacLink System (Power, Rich)                                        1\n",
       "SacLink System (Luo, Hongyi)                                        1\n",
       "SacLink System (Truong, Dung)                                       1\n",
       "SacLink System (Pandarinathan, Jagan)                               1\n",
       "Active (Applicant, Owp, Uei)                                        1\n",
       "Active (Owp, Uei)                                                   1\n",
       "Active (Staff, Guest)                                               1\n",
       "Active (Uu, Poi, Uei)                                               1\n",
       "SacLink System (Crawford, David)                                    1\n",
       "Active (Emeritus, Volunteer)                                        1\n",
       "SacLink System (Sumner, Shawn)                                      1\n",
       "SacLink System (Kellogg, Christopher)                               1\n",
       "SacLink System (Hansen, Kevin)                                      1\n",
       "SacLink System (Barnard, Phon)                                      1\n",
       "SacLink System (Sladojevic, Nick)                                   1\n",
       "Active (Faculty, Formerstudent, Uei)                                1\n",
       "Active (Adjunct)                                                    1\n",
       "Active (Uu, Formerstudent, Poi, Uei)                                1\n",
       "Active (Genericmo)                                                  1\n",
       "Active (Staff, Uei)                                                 1\n",
       "Active (Faculty, Applicant, Formerstudent)                          1\n",
       "Active (Faculty, Uu)                                                1\n",
       "SacLink System (Watts-Willis, Ian)                                  1\n",
       "Active (Asi, Cpr)                                                   1\n",
       "Active (Asi, Poi)                                                   1\n",
       "Active (Staff, Asi)                                                 1\n",
       "Active (Faculty, Formerstudent, Uu)                                 1\n",
       "Active (Faculty, Poi, Uei)                                          1\n",
       "Active (Faculty, Student, Uei, Uu)                                  1\n",
       "Active (Student, Uu)                                                1\n",
       "Active (Student, Owp, Uei)                                          1\n",
       "Active (Asi, Uei)                                                   1\n",
       "SacLink System (Fox, Marc)                                          1\n",
       "SacLink System (Vera, Yazmin)                                       1\n",
       "SacLink System (Liu, Yuan)                                          1\n",
       "SacLink System (Cuffe, Derek)                                       1\n",
       "SacLink System (Beck, Erik)                                         1\n",
       "SacLink System (Smart, Sari)                                        1\n",
       "SacLink System (Rowland, Corinne)                                   1\n",
       "SacLink System (Nannapaneni, Sreekanth)                             1\n",
       "SacLink System (Estes, James)                                       1\n",
       "SacLink System (Yung, Sharon)                                       1\n",
       "SacLink System (Buntin, Arthur)                                     1\n",
       "SacLink System (Pech, Seima)                                        1\n",
       "SacLink System (Farina, Becky)                                      1\n",
       "Active (Cpr, Poi)                                                   1\n",
       "Active (Cpr, Guest)                                                 1\n",
       "SacLink System (Koropp, Lynne)                                      1\n",
       "SacLink System (Flood, Monica)                                      1\n",
       "SacLink System (Keenan, Michael)                                    1\n",
       "SacLink System (Jones, John)                                        1\n",
       "SacLink System (Brannan, Patrick)                                   1\n",
       "SacLink System (Fraizer, Raymond)                                   1\n",
       "Office of Water Programs, owp-sp25                                  1\n",
       "Active (Formerstudent, Guest, Uei)                                  1\n",
       "Active (Staff, Formerstudent, Volunteer)                            1\n",
       "Active (Student, Applicant, Poi)                                    1\n",
       "Office of Water Programs, owp-sp06                                  1\n",
       "Active (Staff, Poi, Volunteer)                                      1\n",
       "SacLink System (Yang, Pelion)                                       1\n",
       "SacLink System (Donaldson, William \"Jay\")                           1\n",
       "SacLink System (Lim, Bruce)                                         1\n",
       "SacLink System (Vargas, Jeffrey)                                    1\n",
       "SacLink System (Pinkney, Tyler)                                     1\n",
       "SacLink System (Vera, Cryssel)                                      1\n",
       "SacLink System (Krieger, Jeanie)                                    1\n",
       "SacLink System (Porter, Greg)                                       1\n",
       "SacLink System (Oreno, Brandon)                                     1\n",
       "SacLink System (Baker, Carol)                                       1\n",
       "SacLink System (Lim, Long)                                          1\n",
       "SacLink System (Mayeda, Tuffer)                                     1\n",
       "SacLink System (Hood, Marvis)                                       1\n",
       "SacLink System (Wolfe, Ted)                                         1\n",
       "SacLink System (Beekman, Katie)                                     1\n",
       "SacLink System (Penumalli, Ashok)                                   1\n",
       "SacLink System (Rex, Nathen)                                        1\n",
       "SacLink System (Almquist, Victor)                                   1\n",
       "SacLink System (Barone, Michael)                                    1\n",
       "SacLink System (Lee, Damian)                                        1\n",
       "SacLink System (Surprenant, Gary)                                   1\n",
       "SacLink System (Maurer, Jeff)                                       1\n",
       "SacLink System (Urban, Agata)                                       1\n",
       "SacLink System (Lewis, Darren)                                      1\n",
       "SacLink System (Crow, William)                                      1\n",
       "SacLink System (Walsh, Sean)                                        1\n",
       "SacLink System (Kay, Matthew)                                       1\n",
       "SacLink System (Villegas, Joshua)                                   1\n",
       "SacLink System (Fraizer, Lani)                                      1\n",
       "Name: Description, dtype: int64"
      ]
     },
     "execution_count": 14,
     "metadata": {},
     "output_type": "execute_result"
    }
   ],
   "source": [
    "subsetOfUsers.Description.value_counts()"
   ]
  },
  {
   "cell_type": "code",
   "execution_count": 15,
   "metadata": {},
   "outputs": [],
   "source": [
    "mask1 = subsetOfUsers[\"Description\"]==\"Active (Student)\"\n",
    "mask2 = subsetOfUsers[\"Description\"]==\"Active (Faculty)\"\n",
    "mask3 = subsetOfUsers[\"Description\"]==\"Active (Staff)\""
   ]
  },
  {
   "cell_type": "code",
   "execution_count": 16,
   "metadata": {},
   "outputs": [
    {
     "data": {
      "text/plain": [
       "(35883, 14)"
      ]
     },
     "execution_count": 16,
     "metadata": {},
     "output_type": "execute_result"
    }
   ],
   "source": [
    "subsetOfUsers = subsetOfUsers[(mask1) | (mask2) | (mask3)]\n",
    "subsetOfUsers.shape"
   ]
  },
  {
   "cell_type": "code",
   "execution_count": 17,
   "metadata": {},
   "outputs": [
    {
     "data": {
      "text/plain": [
       "(7077783, 16)"
      ]
     },
     "execution_count": 17,
     "metadata": {},
     "output_type": "execute_result"
    }
   ],
   "source": [
    "logs.shape"
   ]
  },
  {
   "cell_type": "code",
   "execution_count": 18,
   "metadata": {},
   "outputs": [
    {
     "data": {
      "text/plain": [
       "(6130032, 16)"
      ]
     },
     "execution_count": 18,
     "metadata": {},
     "output_type": "execute_result"
    }
   ],
   "source": [
    "logs = logs[logs['Alias'].isin(subsetOfUsers.set_index(\"Alias\")[\"Description\"].to_dict())]\n",
    "logs.shape"
   ]
  },
  {
   "cell_type": "code",
   "execution_count": 19,
   "metadata": {},
   "outputs": [],
   "source": [
    "logs = logs[logs.month!=5]"
   ]
  },
  {
   "cell_type": "code",
   "execution_count": null,
   "metadata": {},
   "outputs": [],
   "source": [
    "# Determine if the number of users that experince failures per day is stationary"
   ]
  },
  {
   "cell_type": "code",
   "execution_count": 91,
   "metadata": {},
   "outputs": [],
   "source": [
    "failedLogins = logs[logs[\"Result\"]==\"FAILURE\"]"
   ]
  },
  {
   "cell_type": "code",
   "execution_count": 26,
   "metadata": {},
   "outputs": [],
   "source": [
    "failedLoginsByDay = failedLogins.groupby([\"Alias\",\"date\"]).size()"
   ]
  },
  {
   "cell_type": "code",
   "execution_count": 27,
   "metadata": {},
   "outputs": [],
   "source": [
    "failedLoginsByDay = failedLoginsByDay.reset_index()"
   ]
  },
  {
   "cell_type": "code",
   "execution_count": 28,
   "metadata": {},
   "outputs": [],
   "source": [
    "uniqueFailedUsersPerDay = failedLoginsByDay.groupby([\"date\"]).size()"
   ]
  },
  {
   "cell_type": "code",
   "execution_count": 32,
   "metadata": {},
   "outputs": [],
   "source": [
    "result = adfuller(uniqueFailedUsersPerDay, autolag='AIC')"
   ]
  },
  {
   "cell_type": "code",
   "execution_count": 33,
   "metadata": {},
   "outputs": [
    {
     "name": "stdout",
     "output_type": "stream",
     "text": [
      "ADF Statistic: -3.006339425028\n",
      "p-value: 0.03430660398470878\n",
      "Critial Values:\n",
      "   1%, -3.470126426071447\n",
      "Critial Values:\n",
      "   5%, -2.8790075987120027\n",
      "Critial Values:\n",
      "   10%, -2.5760826967621644\n"
     ]
    }
   ],
   "source": [
    "print(f'ADF Statistic: {result[0]}')\n",
    "print(f'p-value: {result[1]}')\n",
    "for key, value in result[4].items():\n",
    "    print('Critial Values:')\n",
    "    print(f'   {key}, {value}')"
   ]
  },
  {
   "cell_type": "code",
   "execution_count": null,
   "metadata": {},
   "outputs": [],
   "source": [
    "# p value is less than .05 so we reject the null hypothesis, the data does not have a unit root and is stationary. This means\n",
    "# that the number of users that experinces errors every day is not increaseing or decreasing over time"
   ]
  },
  {
   "cell_type": "code",
   "execution_count": 35,
   "metadata": {},
   "outputs": [
    {
     "data": {
      "image/png": "[encoded data removed]",
      "text/plain": [
       "<Figure size 1440x720 with 1 Axes>"
      ]
     },
     "metadata": {
      "needs_background": "light"
     },
     "output_type": "display_data"
    }
   ],
   "source": [
    "uniqueFailedUsersPerDay.plot(figsize=(20,10))\n",
    "plt.ylabel('Users ', fontsize=20)\n",
    "plt.xlabel('Date', fontsize=20)\n",
    "plt.title('Number of Users that Experience Errors Per Day', fontsize=24)\n",
    "plt.show()"
   ]
  },
  {
   "cell_type": "code",
   "execution_count": null,
   "metadata": {},
   "outputs": [],
   "source": [
    "# Determine if the error Rate by month is stationary "
   ]
  },
  {
   "cell_type": "code",
   "execution_count": 67,
   "metadata": {},
   "outputs": [],
   "source": [
    "failedLoginsByMonth = failedLogins.groupby([\"month\"]).size()"
   ]
  },
  {
   "cell_type": "code",
   "execution_count": 68,
   "metadata": {},
   "outputs": [],
   "source": [
    "failedLoginsByMonthRearranged = failedLoginsByMonth.reindex([11,12,1,2,3,4,5])"
   ]
  },
  {
   "cell_type": "code",
   "execution_count": 73,
   "metadata": {},
   "outputs": [],
   "source": [
    "failedLoginsByMonthRearranged.drop([5], inplace=True)"
   ]
  },
  {
   "cell_type": "code",
   "execution_count": 74,
   "metadata": {},
   "outputs": [
    {
     "data": {
      "text/plain": [
       "month\n",
       "11    57298\n",
       "12    42738\n",
       "1     52240\n",
       "2     47489\n",
       "3     41964\n",
       "4     46608\n",
       "dtype: int64"
      ]
     },
     "execution_count": 74,
     "metadata": {},
     "output_type": "execute_result"
    }
   ],
   "source": [
    "failedLoginsByMonthRearranged"
   ]
  },
  {
   "cell_type": "code",
   "execution_count": 78,
   "metadata": {},
   "outputs": [],
   "source": [
    "failedLoginsByMonthRearranged = failedLoginsByMonthRearranged.rename( index={11: 'November', 12: 'December', 1: 'January', 2: 'Febuary', 3: 'March', 4: 'April'})"
   ]
  },
  {
   "cell_type": "code",
   "execution_count": 81,
   "metadata": {},
   "outputs": [],
   "source": [
    "resultOfFailedLoginsPerMonth = adfuller(failedLoginsByMonthRearranged, autolag='AIC')"
   ]
  },
  {
   "cell_type": "code",
   "execution_count": 82,
   "metadata": {},
   "outputs": [
    {
     "name": "stdout",
     "output_type": "stream",
     "text": [
      "ADF Statistic: -4.391237051186632\n",
      "p-value: 0.00030761347361887186\n",
      "Critial Values:\n",
      "   1%, -6.045114\n",
      "Critial Values:\n",
      "   5%, -3.9292800000000003\n",
      "Critial Values:\n",
      "   10%, -2.98681\n"
     ]
    }
   ],
   "source": [
    "print(f'ADF Statistic: {resultOfFailedLoginsPerMonth[0]}')\n",
    "print(f'p-value: {resultOfFailedLoginsPerMonth[1]}')\n",
    "for key, value in resultOfFailedLoginsPerMonth[4].items():\n",
    "    print('Critial Values:')\n",
    "    print(f'   {key}, {value}')"
   ]
  },
  {
   "cell_type": "code",
   "execution_count": 85,
   "metadata": {},
   "outputs": [
    {
     "data": {
      "image/png": "[encoded data removed]",
      "text/plain": [
       "<Figure size 1440x720 with 1 Axes>"
      ]
     },
     "metadata": {
      "needs_background": "light"
     },
     "output_type": "display_data"
    }
   ],
   "source": [
    "failedLoginsByMonthRearranged.plot()\n",
    "plt.ylim(0,60000)\n",
    "\n",
    "plt.ylabel('Errors ', fontsize=20)\n",
    "plt.xlabel('Date', fontsize=20)\n",
    "plt.title('Number Of Errors By Month', fontsize=24)\n",
    "plt.show()"
   ]
  },
  {
   "cell_type": "code",
   "execution_count": null,
   "metadata": {},
   "outputs": [],
   "source": [
    "# Compare the number of type of errors that occur"
   ]
  },
  {
   "cell_type": "code",
   "execution_count": 35,
   "metadata": {},
   "outputs": [],
   "source": [
    "users_logs_by_month = logs[(logs['month']!=5) & (logs['Result']==\"FAILURE\")][[\"month\",\"Result\",\"Reason\"]]"
   ]
  },
  {
   "cell_type": "code",
   "execution_count": 214,
   "metadata": {},
   "outputs": [
    {
     "data": {
      "text/html": [
       "<div>\n",
       "<style scoped>\n",
       "    .dataframe tbody tr th:only-of-type {\n",
       "        vertical-align: middle;\n",
       "    }\n",
       "\n",
       "    .dataframe tbody tr th {\n",
       "        vertical-align: top;\n",
       "    }\n",
       "\n",
       "    .dataframe thead th {\n",
       "        text-align: right;\n",
       "    }\n",
       "</style>\n",
       "<table border=\"1\" class=\"dataframe\">\n",
       "  <thead>\n",
       "    <tr style=\"text-align: right;\">\n",
       "      <th></th>\n",
       "      <th>month</th>\n",
       "      <th>Result</th>\n",
       "      <th>Reason</th>\n",
       "    </tr>\n",
       "  </thead>\n",
       "  <tbody>\n",
       "    <tr>\n",
       "      <th>10</th>\n",
       "      <td>4</td>\n",
       "      <td>FAILURE</td>\n",
       "      <td>No response</td>\n",
       "    </tr>\n",
       "    <tr>\n",
       "      <th>14</th>\n",
       "      <td>4</td>\n",
       "      <td>FAILURE</td>\n",
       "      <td>No response</td>\n",
       "    </tr>\n",
       "    <tr>\n",
       "      <th>33</th>\n",
       "      <td>4</td>\n",
       "      <td>FAILURE</td>\n",
       "      <td>User cancelled</td>\n",
       "    </tr>\n",
       "    <tr>\n",
       "      <th>68</th>\n",
       "      <td>4</td>\n",
       "      <td>FAILURE</td>\n",
       "      <td>No response</td>\n",
       "    </tr>\n",
       "    <tr>\n",
       "      <th>84</th>\n",
       "      <td>4</td>\n",
       "      <td>FAILURE</td>\n",
       "      <td>User cancelled</td>\n",
       "    </tr>\n",
       "  </tbody>\n",
       "</table>\n",
       "</div>"
      ],
      "text/plain": [
       "    month   Result          Reason\n",
       "10      4  FAILURE     No response\n",
       "14      4  FAILURE     No response\n",
       "33      4  FAILURE  User cancelled\n",
       "68      4  FAILURE     No response\n",
       "84      4  FAILURE  User cancelled"
      ]
     },
     "execution_count": 214,
     "metadata": {},
     "output_type": "execute_result"
    }
   ],
   "source": [
    "users_logs_by_month.head()"
   ]
  },
  {
   "cell_type": "code",
   "execution_count": 37,
   "metadata": {},
   "outputs": [
    {
     "data": {
      "text/plain": [
       "User cancelled      22327.833333\n",
       "No response         20783.000000\n",
       "Invalid passcode     2612.000000\n",
       "No keys pressed       985.500000\n",
       "Call timed out        762.166667\n",
       "User mistake          478.666667\n",
       "Locked out             99.166667\n",
       "Error                   4.833333\n",
       "Invalid device          1.833333\n",
       "User is disabled        1.166667\n",
       "Name: Reason, dtype: float64"
      ]
     },
     "execution_count": 37,
     "metadata": {},
     "output_type": "execute_result"
    }
   ],
   "source": [
    "users_logs_by_month.Reason.value_counts()/6"
   ]
  },
  {
   "cell_type": "code",
   "execution_count": 38,
   "metadata": {
    "scrolled": false
   },
   "outputs": [
    {
     "data": {
      "image/png": "[encoded data removed]",
      "text/plain": [
       "<Figure size 1080x432 with 1 Axes>"
      ]
     },
     "metadata": {
      "needs_background": "light"
     },
     "output_type": "display_data"
    }
   ],
   "source": [
    "rcParams['figure.figsize'] = 15,6\n",
    "(users_logs_by_month.Reason.value_counts()/6).plot.bar()\n",
    "plt.xticks(rotation=45)\n",
    "plt.ylabel('Frequency ', fontsize=20)\n",
    "plt.xlabel('Day', fontsize=20)\n",
    "plt.title('Average Number Of Errors Per Month', fontsize=24)\n",
    "plt.show()"
   ]
  },
  {
   "cell_type": "code",
   "execution_count": 28,
   "metadata": {},
   "outputs": [
    {
     "data": {
      "image/png": "[encoded data removed]",
      "text/plain": [
       "<Figure size 1440x720 with 1 Axes>"
      ]
     },
     "metadata": {
      "needs_background": "light"
     },
     "output_type": "display_data"
    }
   ],
   "source": [
    "users_logs_by_month.groupby(['month', 'Reason']).size().unstack(level=1).fillna(0).boxplot(grid=False)\n",
    "plt.ylabel('Percent ', fontsize=20)\n",
    "plt.xlabel('Factor', fontsize=20)\n",
    "plt.title('Second Factor Authentication Failure Rate Per Month', fontsize=24)\n",
    "plt.show()"
   ]
  },
  {
   "cell_type": "code",
   "execution_count": 39,
   "metadata": {},
   "outputs": [],
   "source": [
    "users_logs_by_month_errors = users_logs_by_month.groupby(['month', 'Reason']).size().unstack(level=1).fillna(0)"
   ]
  },
  {
   "cell_type": "code",
   "execution_count": 40,
   "metadata": {},
   "outputs": [
    {
     "data": {
      "text/plain": [
       "Index(['Call timed out', 'Error', 'Invalid device', 'Invalid passcode',\n",
       "       'Locked out', 'No keys pressed', 'No response', 'User cancelled',\n",
       "       'User is disabled', 'User mistake'],\n",
       "      dtype='object', name='Reason')"
      ]
     },
     "execution_count": 40,
     "metadata": {},
     "output_type": "execute_result"
    }
   ],
   "source": [
    "users_logs_by_month_errors.columns"
   ]
  },
  {
   "cell_type": "code",
   "execution_count": 41,
   "metadata": {},
   "outputs": [
    {
     "data": {
      "text/plain": [
       "KruskalResult(statistic=31.99622382423619, pvalue=5.951498358220317e-06)"
      ]
     },
     "execution_count": 41,
     "metadata": {},
     "output_type": "execute_result"
    }
   ],
   "source": [
    "stats.kruskal(users_logs_by_month_errors['Call timed out'], \n",
    "              users_logs_by_month_errors['Invalid passcode'],\n",
    "              users_logs_by_month_errors['No keys pressed'], \n",
    "              users_logs_by_month_errors['No response'],\n",
    "              users_logs_by_month_errors['User cancelled'],\n",
    "              users_logs_by_month_errors['User mistake'])"
   ]
  },
  {
   "cell_type": "code",
   "execution_count": 57,
   "metadata": {},
   "outputs": [
    {
     "data": {
      "text/html": [
       "<div>\n",
       "<style scoped>\n",
       "    .dataframe tbody tr th:only-of-type {\n",
       "        vertical-align: middle;\n",
       "    }\n",
       "\n",
       "    .dataframe tbody tr th {\n",
       "        vertical-align: top;\n",
       "    }\n",
       "\n",
       "    .dataframe thead th {\n",
       "        text-align: right;\n",
       "    }\n",
       "</style>\n",
       "<table border=\"1\" class=\"dataframe\">\n",
       "  <thead>\n",
       "    <tr style=\"text-align: right;\">\n",
       "      <th></th>\n",
       "      <th>1</th>\n",
       "      <th>2</th>\n",
       "      <th>3</th>\n",
       "      <th>4</th>\n",
       "      <th>5</th>\n",
       "      <th>6</th>\n",
       "    </tr>\n",
       "  </thead>\n",
       "  <tbody>\n",
       "    <tr>\n",
       "      <th>1</th>\n",
       "      <td>1.000000</td>\n",
       "      <td>1.000000</td>\n",
       "      <td>0.026763</td>\n",
       "      <td>1.000000</td>\n",
       "      <td>0.138489</td>\n",
       "      <td>0.000366</td>\n",
       "    </tr>\n",
       "    <tr>\n",
       "      <th>2</th>\n",
       "      <td>1.000000</td>\n",
       "      <td>1.000000</td>\n",
       "      <td>0.010181</td>\n",
       "      <td>1.000000</td>\n",
       "      <td>0.060154</td>\n",
       "      <td>0.000105</td>\n",
       "    </tr>\n",
       "    <tr>\n",
       "      <th>3</th>\n",
       "      <td>0.026763</td>\n",
       "      <td>0.010181</td>\n",
       "      <td>1.000000</td>\n",
       "      <td>1.000000</td>\n",
       "      <td>1.000000</td>\n",
       "      <td>1.000000</td>\n",
       "    </tr>\n",
       "    <tr>\n",
       "      <th>4</th>\n",
       "      <td>1.000000</td>\n",
       "      <td>1.000000</td>\n",
       "      <td>1.000000</td>\n",
       "      <td>1.000000</td>\n",
       "      <td>1.000000</td>\n",
       "      <td>0.060154</td>\n",
       "    </tr>\n",
       "    <tr>\n",
       "      <th>5</th>\n",
       "      <td>0.138489</td>\n",
       "      <td>0.060154</td>\n",
       "      <td>1.000000</td>\n",
       "      <td>1.000000</td>\n",
       "      <td>1.000000</td>\n",
       "      <td>1.000000</td>\n",
       "    </tr>\n",
       "    <tr>\n",
       "      <th>6</th>\n",
       "      <td>0.000366</td>\n",
       "      <td>0.000105</td>\n",
       "      <td>1.000000</td>\n",
       "      <td>0.060154</td>\n",
       "      <td>1.000000</td>\n",
       "      <td>1.000000</td>\n",
       "    </tr>\n",
       "  </tbody>\n",
       "</table>\n",
       "</div>"
      ],
      "text/plain": [
       "          1         2         3         4         5         6\n",
       "1  1.000000  1.000000  0.026763  1.000000  0.138489  0.000366\n",
       "2  1.000000  1.000000  0.010181  1.000000  0.060154  0.000105\n",
       "3  0.026763  0.010181  1.000000  1.000000  1.000000  1.000000\n",
       "4  1.000000  1.000000  1.000000  1.000000  1.000000  0.060154\n",
       "5  0.138489  0.060154  1.000000  1.000000  1.000000  1.000000\n",
       "6  0.000366  0.000105  1.000000  0.060154  1.000000  1.000000"
      ]
     },
     "execution_count": 57,
     "metadata": {},
     "output_type": "execute_result"
    }
   ],
   "source": [
    "month_error_groups = [users_logs_by_month_errors['No response'],\n",
    "                      users_logs_by_month_errors['User cancelled'],\n",
    "                      users_logs_by_month_errors['Call timed out'], \n",
    "                      users_logs_by_month_errors['Invalid passcode'],\n",
    "                      users_logs_by_month_errors['No keys pressed'], \n",
    "                      users_logs_by_month_errors['User mistake']]\n",
    "sp.posthoc_dunn(month_error_groups, p_adjust = 'bonferroni')"
   ]
  },
  {
   "cell_type": "code",
   "execution_count": 56,
   "metadata": {},
   "outputs": [
    {
     "data": {
      "image/png": "[encoded data removed]",
      "text/plain": [
       "<Figure size 1080x432 with 2 Axes>"
      ]
     },
     "metadata": {
      "needs_background": "light"
     },
     "output_type": "display_data"
    }
   ],
   "source": [
    "sns.heatmap(sp.posthoc_tukey(month_error_groups),cmap='coolwarm', linewidths = 0.30, annot = True)\n",
    "plt.show()"
   ]
  },
  {
   "cell_type": "code",
   "execution_count": null,
   "metadata": {},
   "outputs": [],
   "source": []
  },
  {
   "cell_type": "code",
   "execution_count": null,
   "metadata": {},
   "outputs": [],
   "source": [
    "# Compute the average number of errors that occur throughout the week"
   ]
  },
  {
   "cell_type": "code",
   "execution_count": 89,
   "metadata": {},
   "outputs": [
    {
     "name": "stderr",
     "output_type": "stream",
     "text": [
      "<ipython-input-89-8212a08c5e6e>:1: SettingWithCopyWarning: \n",
      "A value is trying to be set on a copy of a slice from a DataFrame.\n",
      "Try using .loc[row_indexer,col_indexer] = value instead\n",
      "\n",
      "See the caveats in the documentation: https://pandas.pydata.org/pandas-docs/stable/user_guide/indexing.html#returning-a-view-versus-a-copy\n",
      "  logs[\"Day\"] = logs[\"date\"].apply(lambda date: date.strftime('%a'))\n"
     ]
    }
   ],
   "source": [
    "logs[\"Day\"] = logs[\"date\"].apply(lambda date: date.strftime('%a'))"
   ]
  },
  {
   "cell_type": "code",
   "execution_count": 146,
   "metadata": {},
   "outputs": [],
   "source": [
    "failedLoginsByTimeOfDay = failedLogins.groupby([\"Day\", \"hour\"]).size().unstack(level=0)"
   ]
  },
  {
   "cell_type": "code",
   "execution_count": 114,
   "metadata": {
    "scrolled": false
   },
   "outputs": [
    {
     "name": "stdout",
     "output_type": "stream",
     "text": [
      "percent of errors outside of IRT service hours\n",
      "86.32692554012746\n"
     ]
    }
   ],
   "source": [
    "failuresOutsideIRTServiceHours = 0\n",
    "failuresWithinIRTServiceHours = 0\n",
    "for idx, val  in enumerate(failedLoginsByTimeOfDay.sum(axis=1)):\n",
    "    if(idx<=8 or idx>=17):\n",
    "#         print(val)\n",
    "        failuresOutsideIRTServiceHours += val\n",
    "    else:\n",
    "        failuresWithinIRTServiceHours += val\n",
    "        \n",
    "print('percent of errors outside of IRT service hours')\n",
    "print(failuresOutsideIRTServiceHours / (failuresWithinIRTServiceHours + failuresOutsideIRTServiceHours)*100)"
   ]
  },
  {
   "cell_type": "code",
   "execution_count": 115,
   "metadata": {},
   "outputs": [
    {
     "data": {
      "image/png": "[encoded data removed]",
      "text/plain": [
       "<Figure size 1080x432 with 2 Axes>"
      ]
     },
     "metadata": {
      "needs_background": "light"
     },
     "output_type": "display_data"
    }
   ],
   "source": [
    "df_m = failedLoginsByTimeOfDay\n",
    "df_m = df_m.fillna(0)\n",
    "rcParams['figure.figsize'] = 15,6\n",
    "ax = sns.heatmap(df_m.transpose(), cmap='coolwarm')\n",
    "# plt.xticks(rotation=45)\n",
    "ax.vlines([8,17.5],*ax.get_xlim(), color='white', linestyle='dashdot')\n",
    "plt.yticks(rotation=0)\n",
    "# plt.xticks(rotation=80)\n",
    "plt.show()\n",
    "plt.rcParams[\"figure.figsize\"] = (20,50)"
   ]
  },
  {
   "cell_type": "code",
   "execution_count": 153,
   "metadata": {},
   "outputs": [
    {
     "data": {
      "text/plain": [
       "Day\n",
       "Fri    1640.666667\n",
       "Mon    2288.750000\n",
       "Sat    1123.750000\n",
       "Sun    1109.041667\n",
       "Thu    1944.125000\n",
       "Tue    2067.083333\n",
       "Wed    1862.708333\n",
       "dtype: float64"
      ]
     },
     "execution_count": 153,
     "metadata": {},
     "output_type": "execute_result"
    }
   ],
   "source": [
    "failedAverageLoginsByDay = failedLoginsByTimeOfDay.sum()/24\n",
    "failedAverageLoginsByDay"
   ]
  },
  {
   "cell_type": "code",
   "execution_count": 154,
   "metadata": {},
   "outputs": [],
   "source": [
    "failedLoginsByDay = failedAverageLoginsByDay.reindex([\"Mon\",\"Tue\",\"Wed\",\"Thu\",\"Fri\",\"Sat\",\"Sun\"])"
   ]
  },
  {
   "cell_type": "code",
   "execution_count": 155,
   "metadata": {},
   "outputs": [],
   "source": [
    "resultOfFailedLoginsByDay= adfuller(failedLoginsByDay, autolag='AIC')"
   ]
  },
  {
   "cell_type": "code",
   "execution_count": 156,
   "metadata": {},
   "outputs": [
    {
     "name": "stdout",
     "output_type": "stream",
     "text": [
      "ADF Statistic: -0.4013164490412419\n",
      "p-value: 0.909878745368705\n",
      "Critial Values:\n",
      "   1%, -5.354256481481482\n",
      "Critial Values:\n",
      "   5%, -3.6462381481481483\n",
      "Critial Values:\n",
      "   10%, -2.901197777777778\n"
     ]
    }
   ],
   "source": [
    "print(f'ADF Statistic: {resultOfFailedLoginsByDay[0]}')\n",
    "print(f'p-value: {resultOfFailedLoginsByDay[1]}')\n",
    "for key, value in resultOfFailedLoginsByDay[4].items():\n",
    "    print('Critial Values:')\n",
    "    print(f'   {key}, {value}')"
   ]
  },
  {
   "cell_type": "code",
   "execution_count": 157,
   "metadata": {
    "scrolled": false
   },
   "outputs": [
    {
     "data": {
      "image/png": "[encoded data removed]",
      "text/plain": [
       "<Figure size 1296x576 with 1 Axes>"
      ]
     },
     "metadata": {
      "needs_background": "light"
     },
     "output_type": "display_data"
    }
   ],
   "source": [
    "failedLoginsByDay.plot(figsize=(18, 8))\n",
    "plt.ylabel('Errors ', fontsize=20)\n",
    "plt.xlabel('Day', fontsize=20)\n",
    "plt.title('Average Number Of Errors Per Day', fontsize=24)\n",
    "plt.show()"
   ]
  },
  {
   "cell_type": "code",
   "execution_count": null,
   "metadata": {},
   "outputs": [],
   "source": [
    "# compute the error rate of the population"
   ]
  },
  {
   "cell_type": "code",
   "execution_count": 59,
   "metadata": {},
   "outputs": [],
   "source": [
    "userErrorRate = logs[['Alias','Result','Reason']].groupby(['Alias','Result']).size().reset_index(name='counts')"
   ]
  },
  {
   "cell_type": "code",
   "execution_count": 60,
   "metadata": {},
   "outputs": [],
   "source": [
    "userQuantifiedLogs = userErrorRate.pivot(index='Alias',columns='Result',values='counts').drop(columns=['FRAUD'])"
   ]
  },
  {
   "cell_type": "code",
   "execution_count": 61,
   "metadata": {},
   "outputs": [],
   "source": [
    "userQuantifiedLogs['FAILURE'] = userQuantifiedLogs['FAILURE'].fillna(0)"
   ]
  },
  {
   "cell_type": "code",
   "execution_count": 62,
   "metadata": {},
   "outputs": [],
   "source": [
    "userQuantifiedLogs['SUCCESS'] = userQuantifiedLogs['SUCCESS'].fillna(0)"
   ]
  },
  {
   "cell_type": "code",
   "execution_count": 63,
   "metadata": {},
   "outputs": [],
   "source": [
    "userQuantifiedLogs['failureRate'] = userQuantifiedLogs['FAILURE'] / (userQuantifiedLogs['SUCCESS'] + userQuantifiedLogs['FAILURE'])"
   ]
  },
  {
   "cell_type": "code",
   "execution_count": 64,
   "metadata": {},
   "outputs": [],
   "source": [
    "userQuantifiedLogs.sort_values(by='failureRate', inplace=True)"
   ]
  },
  {
   "cell_type": "code",
   "execution_count": 65,
   "metadata": {},
   "outputs": [],
   "source": [
    "userQuantifiedLogs.insert(0,'New_ID', range(1, len(userQuantifiedLogs)+1))"
   ]
  },
  {
   "cell_type": "code",
   "execution_count": 66,
   "metadata": {},
   "outputs": [
    {
     "data": {
      "text/html": [
       "<div>\n",
       "<style scoped>\n",
       "    .dataframe tbody tr th:only-of-type {\n",
       "        vertical-align: middle;\n",
       "    }\n",
       "\n",
       "    .dataframe tbody tr th {\n",
       "        vertical-align: top;\n",
       "    }\n",
       "\n",
       "    .dataframe thead th {\n",
       "        text-align: right;\n",
       "    }\n",
       "</style>\n",
       "<table border=\"1\" class=\"dataframe\">\n",
       "  <thead>\n",
       "    <tr style=\"text-align: right;\">\n",
       "      <th>Result</th>\n",
       "      <th>New_ID</th>\n",
       "      <th>FAILURE</th>\n",
       "      <th>SUCCESS</th>\n",
       "      <th>failureRate</th>\n",
       "    </tr>\n",
       "    <tr>\n",
       "      <th>Alias</th>\n",
       "      <th></th>\n",
       "      <th></th>\n",
       "      <th></th>\n",
       "      <th></th>\n",
       "    </tr>\n",
       "  </thead>\n",
       "  <tbody>\n",
       "    <tr>\n",
       "      <th>user_035709</th>\n",
       "      <td>1</td>\n",
       "      <td>0.0</td>\n",
       "      <td>98.0</td>\n",
       "      <td>0.0</td>\n",
       "    </tr>\n",
       "    <tr>\n",
       "      <th>user_029741</th>\n",
       "      <td>2</td>\n",
       "      <td>0.0</td>\n",
       "      <td>289.0</td>\n",
       "      <td>0.0</td>\n",
       "    </tr>\n",
       "    <tr>\n",
       "      <th>user_031721</th>\n",
       "      <td>3</td>\n",
       "      <td>0.0</td>\n",
       "      <td>88.0</td>\n",
       "      <td>0.0</td>\n",
       "    </tr>\n",
       "    <tr>\n",
       "      <th>user_010406</th>\n",
       "      <td>4</td>\n",
       "      <td>0.0</td>\n",
       "      <td>218.0</td>\n",
       "      <td>0.0</td>\n",
       "    </tr>\n",
       "    <tr>\n",
       "      <th>user_046676</th>\n",
       "      <td>5</td>\n",
       "      <td>0.0</td>\n",
       "      <td>121.0</td>\n",
       "      <td>0.0</td>\n",
       "    </tr>\n",
       "  </tbody>\n",
       "</table>\n",
       "</div>"
      ],
      "text/plain": [
       "Result       New_ID  FAILURE  SUCCESS  failureRate\n",
       "Alias                                             \n",
       "user_035709       1      0.0     98.0          0.0\n",
       "user_029741       2      0.0    289.0          0.0\n",
       "user_031721       3      0.0     88.0          0.0\n",
       "user_010406       4      0.0    218.0          0.0\n",
       "user_046676       5      0.0    121.0          0.0"
      ]
     },
     "execution_count": 66,
     "metadata": {},
     "output_type": "execute_result"
    }
   ],
   "source": [
    "userQuantifiedLogs.head()"
   ]
  },
  {
   "cell_type": "code",
   "execution_count": 67,
   "metadata": {},
   "outputs": [],
   "source": [
    "userQuantifiedLogs['userPercentage'] = userQuantifiedLogs['New_ID'].apply(lambda num: num/len(userQuantifiedLogs))"
   ]
  },
  {
   "cell_type": "code",
   "execution_count": 68,
   "metadata": {},
   "outputs": [],
   "source": [
    "a = userQuantifiedLogs[['failureRate']].groupby('failureRate').size().to_frame('frequency')"
   ]
  },
  {
   "cell_type": "code",
   "execution_count": 69,
   "metadata": {},
   "outputs": [],
   "source": [
    "a['CF']  = (a.frequency.cumsum() / userQuantifiedLogs.shape[0])*100"
   ]
  },
  {
   "cell_type": "code",
   "execution_count": 70,
   "metadata": {},
   "outputs": [],
   "source": [
    "a.reset_index(inplace=True)"
   ]
  },
  {
   "cell_type": "code",
   "execution_count": 71,
   "metadata": {},
   "outputs": [],
   "source": [
    "a[\"failureRate\"] = a[\"failureRate\"]*100"
   ]
  },
  {
   "cell_type": "code",
   "execution_count": 72,
   "metadata": {},
   "outputs": [
    {
     "data": {
      "image/png": "[encoded data removed]",
      "text/plain": [
       "<Figure size 1440x720 with 1 Axes>"
      ]
     },
     "metadata": {
      "needs_background": "light"
     },
     "output_type": "display_data"
    }
   ],
   "source": [
    "plt.rcParams[\"figure.figsize\"] = (20,10)\n",
    "ax = a.plot(x='failureRate', y='CF', legend=False, ls = '--', lw = 2,)\n",
    "plt.ylabel('Cumulative Relative Frequency (%)', fontsize=20)\n",
    "plt.xlabel('Failure rate (%)', fontsize=20)\n",
    "plt.xlim(0,100)\n",
    "plt.title(\"Users' Failure Rate\", fontsize=24)\n",
    "\n",
    "\n",
    "plt.yticks(fontsize=15)\n",
    "plt.xticks(fontsize=15)\n",
    "\n",
    "plt.ylim(0,101)\n",
    "\n",
    "plt.savefig('failureRates.png')\n",
    "plt.show()"
   ]
  },
  {
   "cell_type": "code",
   "execution_count": 73,
   "metadata": {},
   "outputs": [
    {
     "data": {
      "text/html": [
       "<div>\n",
       "<style scoped>\n",
       "    .dataframe tbody tr th:only-of-type {\n",
       "        vertical-align: middle;\n",
       "    }\n",
       "\n",
       "    .dataframe tbody tr th {\n",
       "        vertical-align: top;\n",
       "    }\n",
       "\n",
       "    .dataframe thead th {\n",
       "        text-align: right;\n",
       "    }\n",
       "</style>\n",
       "<table border=\"1\" class=\"dataframe\">\n",
       "  <thead>\n",
       "    <tr style=\"text-align: right;\">\n",
       "      <th>Result</th>\n",
       "      <th>New_ID</th>\n",
       "      <th>FAILURE</th>\n",
       "      <th>SUCCESS</th>\n",
       "      <th>failureRate</th>\n",
       "      <th>userPercentage</th>\n",
       "    </tr>\n",
       "    <tr>\n",
       "      <th>Alias</th>\n",
       "      <th></th>\n",
       "      <th></th>\n",
       "      <th></th>\n",
       "      <th></th>\n",
       "      <th></th>\n",
       "    </tr>\n",
       "  </thead>\n",
       "  <tbody>\n",
       "    <tr>\n",
       "      <th>user_035709</th>\n",
       "      <td>1</td>\n",
       "      <td>0.0</td>\n",
       "      <td>98.0</td>\n",
       "      <td>0.0</td>\n",
       "      <td>0.000028</td>\n",
       "    </tr>\n",
       "    <tr>\n",
       "      <th>user_029741</th>\n",
       "      <td>2</td>\n",
       "      <td>0.0</td>\n",
       "      <td>289.0</td>\n",
       "      <td>0.0</td>\n",
       "      <td>0.000056</td>\n",
       "    </tr>\n",
       "    <tr>\n",
       "      <th>user_031721</th>\n",
       "      <td>3</td>\n",
       "      <td>0.0</td>\n",
       "      <td>88.0</td>\n",
       "      <td>0.0</td>\n",
       "      <td>0.000084</td>\n",
       "    </tr>\n",
       "    <tr>\n",
       "      <th>user_010406</th>\n",
       "      <td>4</td>\n",
       "      <td>0.0</td>\n",
       "      <td>218.0</td>\n",
       "      <td>0.0</td>\n",
       "      <td>0.000111</td>\n",
       "    </tr>\n",
       "    <tr>\n",
       "      <th>user_046676</th>\n",
       "      <td>5</td>\n",
       "      <td>0.0</td>\n",
       "      <td>121.0</td>\n",
       "      <td>0.0</td>\n",
       "      <td>0.000139</td>\n",
       "    </tr>\n",
       "  </tbody>\n",
       "</table>\n",
       "</div>"
      ],
      "text/plain": [
       "Result       New_ID  FAILURE  SUCCESS  failureRate  userPercentage\n",
       "Alias                                                             \n",
       "user_035709       1      0.0     98.0          0.0        0.000028\n",
       "user_029741       2      0.0    289.0          0.0        0.000056\n",
       "user_031721       3      0.0     88.0          0.0        0.000084\n",
       "user_010406       4      0.0    218.0          0.0        0.000111\n",
       "user_046676       5      0.0    121.0          0.0        0.000139"
      ]
     },
     "execution_count": 73,
     "metadata": {},
     "output_type": "execute_result"
    }
   ],
   "source": [
    "userQuantifiedLogs.head()"
   ]
  },
  {
   "cell_type": "code",
   "execution_count": 74,
   "metadata": {},
   "outputs": [],
   "source": [
    "userQuantifiedLogs['loginTimes'] = userQuantifiedLogs['SUCCESS'] + userQuantifiedLogs['FAILURE']"
   ]
  },
  {
   "cell_type": "code",
   "execution_count": 77,
   "metadata": {},
   "outputs": [],
   "source": [
    "userQuantifiedLogs['quartile'] = userQuantifiedLogs['userPercentage'].apply(lambda num: quartileRange(num))"
   ]
  },
  {
   "cell_type": "code",
   "execution_count": 76,
   "metadata": {},
   "outputs": [],
   "source": [
    "def quartileRange(num):\n",
    "    if(num<=.25):\n",
    "        return \"first_quartile\"\n",
    "    elif(num>.25 and num <.75):\n",
    "        return \"inter_quartile\"\n",
    "    elif(num>=.75):\n",
    "        return \"third_quartile\""
   ]
  },
  {
   "cell_type": "code",
   "execution_count": 78,
   "metadata": {},
   "outputs": [
    {
     "data": {
      "text/plain": [
       "count    35883.000000\n",
       "mean         0.054584\n",
       "std          0.076036\n",
       "min          0.000000\n",
       "25%          0.012346\n",
       "50%          0.032258\n",
       "75%          0.067258\n",
       "max          1.000000\n",
       "Name: failureRate, dtype: float64"
      ]
     },
     "execution_count": 78,
     "metadata": {},
     "output_type": "execute_result"
    }
   ],
   "source": [
    "userQuantifiedLogs['failureRate'].describe()"
   ]
  },
  {
   "cell_type": "code",
   "execution_count": 79,
   "metadata": {},
   "outputs": [
    {
     "data": {
      "image/png": "[encoded data removed]",
      "text/plain": [
       "<Figure size 1008x576 with 1 Axes>"
      ]
     },
     "metadata": {
      "needs_background": "light"
     },
     "output_type": "display_data"
    }
   ],
   "source": [
    "plt.rcParams[\"figure.figsize\"] = (14,8)\n",
    "sns.boxplot(x=\"quartile\", y=\"loginTimes\", data=userQuantifiedLogs)\n",
    "plt.ylim(0,500)\n",
    "plt.show()"
   ]
  },
  {
   "cell_type": "code",
   "execution_count": 82,
   "metadata": {},
   "outputs": [
    {
     "data": {
      "text/html": [
       "<div>\n",
       "<style scoped>\n",
       "    .dataframe tbody tr th:only-of-type {\n",
       "        vertical-align: middle;\n",
       "    }\n",
       "\n",
       "    .dataframe tbody tr th {\n",
       "        vertical-align: top;\n",
       "    }\n",
       "\n",
       "    .dataframe thead th {\n",
       "        text-align: right;\n",
       "    }\n",
       "</style>\n",
       "<table border=\"1\" class=\"dataframe\">\n",
       "  <thead>\n",
       "    <tr style=\"text-align: right;\">\n",
       "      <th>Result</th>\n",
       "      <th>New_ID</th>\n",
       "      <th>FAILURE</th>\n",
       "      <th>SUCCESS</th>\n",
       "      <th>failureRate</th>\n",
       "      <th>userPercentage</th>\n",
       "      <th>loginTimes</th>\n",
       "      <th>quartile</th>\n",
       "      <th>Description</th>\n",
       "    </tr>\n",
       "    <tr>\n",
       "      <th>Alias</th>\n",
       "      <th></th>\n",
       "      <th></th>\n",
       "      <th></th>\n",
       "      <th></th>\n",
       "      <th></th>\n",
       "      <th></th>\n",
       "      <th></th>\n",
       "      <th></th>\n",
       "    </tr>\n",
       "  </thead>\n",
       "  <tbody>\n",
       "    <tr>\n",
       "      <th>user_035709</th>\n",
       "      <td>1</td>\n",
       "      <td>0.0</td>\n",
       "      <td>98.0</td>\n",
       "      <td>0.0</td>\n",
       "      <td>0.000028</td>\n",
       "      <td>98.0</td>\n",
       "      <td>first_quartile</td>\n",
       "      <td>Active (Student)</td>\n",
       "    </tr>\n",
       "    <tr>\n",
       "      <th>user_029741</th>\n",
       "      <td>2</td>\n",
       "      <td>0.0</td>\n",
       "      <td>289.0</td>\n",
       "      <td>0.0</td>\n",
       "      <td>0.000056</td>\n",
       "      <td>289.0</td>\n",
       "      <td>first_quartile</td>\n",
       "      <td>Active (Student)</td>\n",
       "    </tr>\n",
       "    <tr>\n",
       "      <th>user_031721</th>\n",
       "      <td>3</td>\n",
       "      <td>0.0</td>\n",
       "      <td>88.0</td>\n",
       "      <td>0.0</td>\n",
       "      <td>0.000084</td>\n",
       "      <td>88.0</td>\n",
       "      <td>first_quartile</td>\n",
       "      <td>Active (Student)</td>\n",
       "    </tr>\n",
       "    <tr>\n",
       "      <th>user_010406</th>\n",
       "      <td>4</td>\n",
       "      <td>0.0</td>\n",
       "      <td>218.0</td>\n",
       "      <td>0.0</td>\n",
       "      <td>0.000111</td>\n",
       "      <td>218.0</td>\n",
       "      <td>first_quartile</td>\n",
       "      <td>Active (Student)</td>\n",
       "    </tr>\n",
       "    <tr>\n",
       "      <th>user_046676</th>\n",
       "      <td>5</td>\n",
       "      <td>0.0</td>\n",
       "      <td>121.0</td>\n",
       "      <td>0.0</td>\n",
       "      <td>0.000139</td>\n",
       "      <td>121.0</td>\n",
       "      <td>first_quartile</td>\n",
       "      <td>Active (Student)</td>\n",
       "    </tr>\n",
       "  </tbody>\n",
       "</table>\n",
       "</div>"
      ],
      "text/plain": [
       "Result       New_ID  FAILURE  SUCCESS  failureRate  userPercentage  \\\n",
       "Alias                                                                \n",
       "user_035709       1      0.0     98.0          0.0        0.000028   \n",
       "user_029741       2      0.0    289.0          0.0        0.000056   \n",
       "user_031721       3      0.0     88.0          0.0        0.000084   \n",
       "user_010406       4      0.0    218.0          0.0        0.000111   \n",
       "user_046676       5      0.0    121.0          0.0        0.000139   \n",
       "\n",
       "Result       loginTimes        quartile       Description  \n",
       "Alias                                                      \n",
       "user_035709        98.0  first_quartile  Active (Student)  \n",
       "user_029741       289.0  first_quartile  Active (Student)  \n",
       "user_031721        88.0  first_quartile  Active (Student)  \n",
       "user_010406       218.0  first_quartile  Active (Student)  \n",
       "user_046676       121.0  first_quartile  Active (Student)  "
      ]
     },
     "execution_count": 82,
     "metadata": {},
     "output_type": "execute_result"
    }
   ],
   "source": [
    "userQuantifiedLogs.head()"
   ]
  },
  {
   "cell_type": "code",
   "execution_count": 83,
   "metadata": {},
   "outputs": [
    {
     "data": {
      "text/plain": [
       "<AxesSubplot:xlabel='failureRate', ylabel='loginTimes'>"
      ]
     },
     "execution_count": 83,
     "metadata": {},
     "output_type": "execute_result"
    },
    {
     "data": {
      "image/png": "[encoded data removed]",
      "text/plain": [
       "<Figure size 1008x576 with 1 Axes>"
      ]
     },
     "metadata": {
      "needs_background": "light"
     },
     "output_type": "display_data"
    }
   ],
   "source": [
    "sns.scatterplot(data=userQuantifiedLogs, x=\"failureRate\", y=\"loginTimes\")"
   ]
  },
  {
   "cell_type": "code",
   "execution_count": null,
   "metadata": {},
   "outputs": [],
   "source": []
  },
  {
   "cell_type": "code",
   "execution_count": 80,
   "metadata": {},
   "outputs": [],
   "source": [
    "userQuantifiedLogs[\"Description\"] = userQuantifiedLogs.index.map(subsetOfUsers.set_index(\"Alias\")[\"Description\"].to_dict())"
   ]
  },
  {
   "cell_type": "code",
   "execution_count": 97,
   "metadata": {},
   "outputs": [
    {
     "data": {
      "text/html": [
       "<div>\n",
       "<style scoped>\n",
       "    .dataframe tbody tr th:only-of-type {\n",
       "        vertical-align: middle;\n",
       "    }\n",
       "\n",
       "    .dataframe tbody tr th {\n",
       "        vertical-align: top;\n",
       "    }\n",
       "\n",
       "    .dataframe thead th {\n",
       "        text-align: right;\n",
       "    }\n",
       "</style>\n",
       "<table border=\"1\" class=\"dataframe\">\n",
       "  <thead>\n",
       "    <tr style=\"text-align: right;\">\n",
       "      <th>Result</th>\n",
       "      <th>New_ID</th>\n",
       "      <th>FAILURE</th>\n",
       "      <th>SUCCESS</th>\n",
       "      <th>failureRate</th>\n",
       "      <th>userPercentage</th>\n",
       "      <th>loginTimes</th>\n",
       "      <th>quartile</th>\n",
       "      <th>Description</th>\n",
       "    </tr>\n",
       "    <tr>\n",
       "      <th>Alias</th>\n",
       "      <th></th>\n",
       "      <th></th>\n",
       "      <th></th>\n",
       "      <th></th>\n",
       "      <th></th>\n",
       "      <th></th>\n",
       "      <th></th>\n",
       "      <th></th>\n",
       "    </tr>\n",
       "  </thead>\n",
       "  <tbody>\n",
       "    <tr>\n",
       "      <th>user_035709</th>\n",
       "      <td>1</td>\n",
       "      <td>0.0</td>\n",
       "      <td>98.0</td>\n",
       "      <td>0.0</td>\n",
       "      <td>0.000028</td>\n",
       "      <td>98.0</td>\n",
       "      <td>first_quartile</td>\n",
       "      <td>Active (Student)</td>\n",
       "    </tr>\n",
       "  </tbody>\n",
       "</table>\n",
       "</div>"
      ],
      "text/plain": [
       "Result       New_ID  FAILURE  SUCCESS  failureRate  userPercentage  \\\n",
       "Alias                                                                \n",
       "user_035709       1      0.0     98.0          0.0        0.000028   \n",
       "\n",
       "Result       loginTimes        quartile       Description  \n",
       "Alias                                                      \n",
       "user_035709        98.0  first_quartile  Active (Student)  "
      ]
     },
     "execution_count": 97,
     "metadata": {},
     "output_type": "execute_result"
    }
   ],
   "source": [
    "userQuantifiedLogs.head(1)"
   ]
  },
  {
   "cell_type": "code",
   "execution_count": 213,
   "metadata": {},
   "outputs": [
    {
     "data": {
      "image/png": "[encoded data removed]",
      "text/plain": [
       "<Figure size 360x360 with 1 Axes>"
      ]
     },
     "metadata": {
      "needs_background": "light"
     },
     "output_type": "display_data"
    }
   ],
   "source": [
    "sns.catplot(\n",
    "    data=userQuantifiedLogs, kind=\"bar\",\n",
    "    x=\"Description\", y=\"failureRate\", palette=\"dark\", alpha=.5, height=5\n",
    ")\n",
    "plt.show()"
   ]
  },
  {
   "cell_type": "code",
   "execution_count": 212,
   "metadata": {},
   "outputs": [
    {
     "data": {
      "image/png": "[encoded data removed]",
      "text/plain": [
       "<Figure size 1008x576 with 1 Axes>"
      ]
     },
     "metadata": {
      "needs_background": "light"
     },
     "output_type": "display_data"
    }
   ],
   "source": [
    "plt.rcParams[\"figure.figsize\"] = (14,8)\n",
    "sns.boxplot(x=\"Description\", y=\"failureRate\", data=userQuantifiedLogs)\n",
    "# userQuantifiedLogs[['Description','failureRate']].boxplot(grid=False)\n",
    "plt.ylim(0,.2)\n",
    "plt.show()"
   ]
  },
  {
   "cell_type": "code",
   "execution_count": 99,
   "metadata": {},
   "outputs": [],
   "source": [
    "groupStudents = userQuantifiedLogs[userQuantifiedLogs['Description']=='Active (Student)']['failureRate']\n",
    "groupStaff = userQuantifiedLogs[userQuantifiedLogs['Description']=='Active (Staff)']['failureRate']\n",
    "groupFaculty = userQuantifiedLogs[userQuantifiedLogs['Description']=='Active (Faculty)']['failureRate']"
   ]
  },
  {
   "cell_type": "code",
   "execution_count": 100,
   "metadata": {},
   "outputs": [
    {
     "data": {
      "text/plain": [
       "KruskalResult(statistic=43.53998412128433, pvalue=3.5108524431859926e-10)"
      ]
     },
     "execution_count": 100,
     "metadata": {},
     "output_type": "execute_result"
    }
   ],
   "source": [
    "stats.kruskal(groupStudents, groupStaff, groupFaculty)"
   ]
  },
  {
   "cell_type": "code",
   "execution_count": 101,
   "metadata": {},
   "outputs": [],
   "source": [
    "groupData = [groupStudents, groupStaff, groupFaculty]"
   ]
  },
  {
   "cell_type": "code",
   "execution_count": 201,
   "metadata": {},
   "outputs": [
    {
     "data": {
      "text/html": [
       "<div>\n",
       "<style scoped>\n",
       "    .dataframe tbody tr th:only-of-type {\n",
       "        vertical-align: middle;\n",
       "    }\n",
       "\n",
       "    .dataframe tbody tr th {\n",
       "        vertical-align: top;\n",
       "    }\n",
       "\n",
       "    .dataframe thead th {\n",
       "        text-align: right;\n",
       "    }\n",
       "</style>\n",
       "<table border=\"1\" class=\"dataframe\">\n",
       "  <thead>\n",
       "    <tr style=\"text-align: right;\">\n",
       "      <th></th>\n",
       "      <th>1</th>\n",
       "      <th>2</th>\n",
       "      <th>3</th>\n",
       "    </tr>\n",
       "  </thead>\n",
       "  <tbody>\n",
       "    <tr>\n",
       "      <th>1</th>\n",
       "      <td>1.000000e+00</td>\n",
       "      <td>3.402927e-10</td>\n",
       "      <td>0.022036</td>\n",
       "    </tr>\n",
       "    <tr>\n",
       "      <th>2</th>\n",
       "      <td>3.402927e-10</td>\n",
       "      <td>1.000000e+00</td>\n",
       "      <td>0.000526</td>\n",
       "    </tr>\n",
       "    <tr>\n",
       "      <th>3</th>\n",
       "      <td>2.203557e-02</td>\n",
       "      <td>5.259759e-04</td>\n",
       "      <td>1.000000</td>\n",
       "    </tr>\n",
       "  </tbody>\n",
       "</table>\n",
       "</div>"
      ],
      "text/plain": [
       "              1             2         3\n",
       "1  1.000000e+00  3.402927e-10  0.022036\n",
       "2  3.402927e-10  1.000000e+00  0.000526\n",
       "3  2.203557e-02  5.259759e-04  1.000000"
      ]
     },
     "execution_count": 201,
     "metadata": {},
     "output_type": "execute_result"
    }
   ],
   "source": [
    "sp.posthoc_dunn(groupData)"
   ]
  },
  {
   "cell_type": "code",
   "execution_count": 364,
   "metadata": {},
   "outputs": [
    {
     "data": {
      "image/png": "[encoded data removed]",
      "text/plain": [
       "<Figure size 1008x576 with 2 Axes>"
      ]
     },
     "metadata": {
      "needs_background": "light"
     },
     "output_type": "display_data"
    }
   ],
   "source": [
    "sns.heatmap(sp.posthoc_dunn(groupData, p_adjust = 'bonferroni'),cmap='coolwarm', linewidths = 0.30, annot = True)\n",
    "plt.show()"
   ]
  },
  {
   "cell_type": "code",
   "execution_count": 102,
   "metadata": {},
   "outputs": [
    {
     "data": {
      "image/png": "[encoded data removed]",
      "text/plain": [
       "<Figure size 1008x576 with 2 Axes>"
      ]
     },
     "metadata": {
      "needs_background": "light"
     },
     "output_type": "display_data"
    }
   ],
   "source": [
    "sns.heatmap(sp.posthoc_tukey(groupData),cmap='coolwarm', linewidths = 0.30, annot = True)\n",
    "plt.show()\n",
    "# student, staff, faculty"
   ]
  },
  {
   "cell_type": "code",
   "execution_count": null,
   "metadata": {},
   "outputs": [],
   "source": []
  },
  {
   "cell_type": "code",
   "execution_count": null,
   "metadata": {},
   "outputs": [],
   "source": []
  },
  {
   "cell_type": "code",
   "execution_count": null,
   "metadata": {},
   "outputs": [],
   "source": []
  },
  {
   "cell_type": "code",
   "execution_count": null,
   "metadata": {},
   "outputs": [],
   "source": []
  },
  {
   "cell_type": "code",
   "execution_count": null,
   "metadata": {},
   "outputs": [],
   "source": []
  },
  {
   "cell_type": "code",
   "execution_count": null,
   "metadata": {},
   "outputs": [],
   "source": [
    "# compare error rate by authentication method"
   ]
  },
  {
   "cell_type": "code",
   "execution_count": 167,
   "metadata": {},
   "outputs": [],
   "source": [
    "modifiedLogs = logs"
   ]
  },
  {
   "cell_type": "code",
   "execution_count": 168,
   "metadata": {},
   "outputs": [],
   "source": [
    "def modifyFactor(factor):\n",
    "    if(factor=='Bypass Code' or factor=='Duo Mobile Passcode' or factor=='Hardware Token' or factor=='Yubikey Passcode'):\n",
    "        return 'Passcode'\n",
    "    elif(factor=='U2F Token' or factor=='Security Key (WebAuthn)'):\n",
    "        return 'Security Key'\n",
    "    else:\n",
    "        return factor"
   ]
  },
  {
   "cell_type": "code",
   "execution_count": 169,
   "metadata": {},
   "outputs": [],
   "source": [
    "modifiedLogs['Factor'] = modifiedLogs['Factor'].apply(lambda factor: modifyFactor(factor))"
   ]
  },
  {
   "cell_type": "code",
   "execution_count": 170,
   "metadata": {},
   "outputs": [
    {
     "data": {
      "text/plain": [
       "Duo Push               3768967\n",
       "Remembered Device      1125084\n",
       "Phone Call              719088\n",
       "Passcode                318187\n",
       "Touch ID (WebAuthn)      19764\n",
       "Security Key             17934\n",
       "Bypass Status             2487\n",
       "Name: Factor, dtype: int64"
      ]
     },
     "execution_count": 170,
     "metadata": {},
     "output_type": "execute_result"
    }
   ],
   "source": [
    "modifiedLogs['Factor'].value_counts()"
   ]
  },
  {
   "cell_type": "code",
   "execution_count": 171,
   "metadata": {
    "scrolled": false
   },
   "outputs": [
    {
     "data": {
      "text/html": [
       "<div>\n",
       "<style scoped>\n",
       "    .dataframe tbody tr th:only-of-type {\n",
       "        vertical-align: middle;\n",
       "    }\n",
       "\n",
       "    .dataframe tbody tr th {\n",
       "        vertical-align: top;\n",
       "    }\n",
       "\n",
       "    .dataframe thead th {\n",
       "        text-align: right;\n",
       "    }\n",
       "</style>\n",
       "<table border=\"1\" class=\"dataframe\">\n",
       "  <thead>\n",
       "    <tr style=\"text-align: right;\">\n",
       "      <th></th>\n",
       "      <th>Result</th>\n",
       "      <th>FAILURE</th>\n",
       "      <th>FRAUD</th>\n",
       "      <th>SUCCESS</th>\n",
       "    </tr>\n",
       "    <tr>\n",
       "      <th>month</th>\n",
       "      <th>Factor</th>\n",
       "      <th></th>\n",
       "      <th></th>\n",
       "      <th></th>\n",
       "    </tr>\n",
       "  </thead>\n",
       "  <tbody>\n",
       "    <tr>\n",
       "      <th rowspan=\"5\" valign=\"top\">1</th>\n",
       "      <th>Bypass Status</th>\n",
       "      <td>0.0</td>\n",
       "      <td>0.0</td>\n",
       "      <td>462.0</td>\n",
       "    </tr>\n",
       "    <tr>\n",
       "      <th>Duo Push</th>\n",
       "      <td>21304.0</td>\n",
       "      <td>17.0</td>\n",
       "      <td>552141.0</td>\n",
       "    </tr>\n",
       "    <tr>\n",
       "      <th>Passcode</th>\n",
       "      <td>2627.0</td>\n",
       "      <td>0.0</td>\n",
       "      <td>46071.0</td>\n",
       "    </tr>\n",
       "    <tr>\n",
       "      <th>Phone Call</th>\n",
       "      <td>5048.0</td>\n",
       "      <td>0.0</td>\n",
       "      <td>109401.0</td>\n",
       "    </tr>\n",
       "    <tr>\n",
       "      <th>Remembered Device</th>\n",
       "      <td>0.0</td>\n",
       "      <td>0.0</td>\n",
       "      <td>163239.0</td>\n",
       "    </tr>\n",
       "  </tbody>\n",
       "</table>\n",
       "</div>"
      ],
      "text/plain": [
       "Result                   FAILURE  FRAUD   SUCCESS\n",
       "month Factor                                     \n",
       "1     Bypass Status          0.0    0.0     462.0\n",
       "      Duo Push           21304.0   17.0  552141.0\n",
       "      Passcode            2627.0    0.0   46071.0\n",
       "      Phone Call          5048.0    0.0  109401.0\n",
       "      Remembered Device      0.0    0.0  163239.0"
      ]
     },
     "execution_count": 171,
     "metadata": {},
     "output_type": "execute_result"
    }
   ],
   "source": [
    "authLogsByMonth = modifiedLogs.groupby(['month','Factor','Result']).size().unstack(level=2).fillna(0)\n",
    "authLogsByMonth.head()"
   ]
  },
  {
   "cell_type": "code",
   "execution_count": 172,
   "metadata": {},
   "outputs": [],
   "source": [
    "authLogsByMonth['failureRate'] = authLogsByMonth['FAILURE'] / (authLogsByMonth['FAILURE'] + authLogsByMonth['SUCCESS'])"
   ]
  },
  {
   "cell_type": "code",
   "execution_count": 173,
   "metadata": {},
   "outputs": [],
   "source": [
    "authLogsByMonthFailureRate = authLogsByMonth.drop(columns=['FAILURE','FRAUD','SUCCESS'])"
   ]
  },
  {
   "cell_type": "code",
   "execution_count": 174,
   "metadata": {},
   "outputs": [],
   "source": [
    "authLogsByMonthFailureRate = authLogsByMonthFailureRate.unstack(level=1).fillna(0)"
   ]
  },
  {
   "cell_type": "code",
   "execution_count": 175,
   "metadata": {},
   "outputs": [],
   "source": [
    "authLogsByMonthFailureRate.columns = authLogsByMonthFailureRate.columns.droplevel()"
   ]
  },
  {
   "cell_type": "code",
   "execution_count": 176,
   "metadata": {},
   "outputs": [],
   "source": [
    "authLogsByMonthFailureRate.drop(columns=['Bypass Status','Remembered Device'], inplace=True)"
   ]
  },
  {
   "cell_type": "code",
   "execution_count": 177,
   "metadata": {},
   "outputs": [
    {
     "data": {
      "text/html": [
       "<div>\n",
       "<style scoped>\n",
       "    .dataframe tbody tr th:only-of-type {\n",
       "        vertical-align: middle;\n",
       "    }\n",
       "\n",
       "    .dataframe tbody tr th {\n",
       "        vertical-align: top;\n",
       "    }\n",
       "\n",
       "    .dataframe thead th {\n",
       "        text-align: right;\n",
       "    }\n",
       "</style>\n",
       "<table border=\"1\" class=\"dataframe\">\n",
       "  <thead>\n",
       "    <tr style=\"text-align: right;\">\n",
       "      <th>Factor</th>\n",
       "      <th>Duo Push</th>\n",
       "      <th>Passcode</th>\n",
       "      <th>Phone Call</th>\n",
       "      <th>Security Key</th>\n",
       "      <th>Touch ID (WebAuthn)</th>\n",
       "    </tr>\n",
       "    <tr>\n",
       "      <th>month</th>\n",
       "      <th></th>\n",
       "      <th></th>\n",
       "      <th></th>\n",
       "      <th></th>\n",
       "      <th></th>\n",
       "    </tr>\n",
       "  </thead>\n",
       "  <tbody>\n",
       "    <tr>\n",
       "      <th>1</th>\n",
       "      <td>0.037151</td>\n",
       "      <td>0.053945</td>\n",
       "      <td>0.044107</td>\n",
       "      <td>0.0</td>\n",
       "      <td>0.0</td>\n",
       "    </tr>\n",
       "    <tr>\n",
       "      <th>2</th>\n",
       "      <td>0.025590</td>\n",
       "      <td>0.044874</td>\n",
       "      <td>0.034366</td>\n",
       "      <td>0.0</td>\n",
       "      <td>0.0</td>\n",
       "    </tr>\n",
       "    <tr>\n",
       "      <th>3</th>\n",
       "      <td>0.025404</td>\n",
       "      <td>0.043678</td>\n",
       "      <td>0.034587</td>\n",
       "      <td>0.0</td>\n",
       "      <td>0.0</td>\n",
       "    </tr>\n",
       "    <tr>\n",
       "      <th>4</th>\n",
       "      <td>0.025415</td>\n",
       "      <td>0.046220</td>\n",
       "      <td>0.034078</td>\n",
       "      <td>0.0</td>\n",
       "      <td>0.0</td>\n",
       "    </tr>\n",
       "    <tr>\n",
       "      <th>11</th>\n",
       "      <td>0.030477</td>\n",
       "      <td>0.055065</td>\n",
       "      <td>0.048031</td>\n",
       "      <td>0.0</td>\n",
       "      <td>0.0</td>\n",
       "    </tr>\n",
       "    <tr>\n",
       "      <th>12</th>\n",
       "      <td>0.033336</td>\n",
       "      <td>0.050569</td>\n",
       "      <td>0.037521</td>\n",
       "      <td>0.0</td>\n",
       "      <td>0.0</td>\n",
       "    </tr>\n",
       "  </tbody>\n",
       "</table>\n",
       "</div>"
      ],
      "text/plain": [
       "Factor  Duo Push  Passcode  Phone Call  Security Key  Touch ID (WebAuthn)\n",
       "month                                                                    \n",
       "1       0.037151  0.053945    0.044107           0.0                  0.0\n",
       "2       0.025590  0.044874    0.034366           0.0                  0.0\n",
       "3       0.025404  0.043678    0.034587           0.0                  0.0\n",
       "4       0.025415  0.046220    0.034078           0.0                  0.0\n",
       "11      0.030477  0.055065    0.048031           0.0                  0.0\n",
       "12      0.033336  0.050569    0.037521           0.0                  0.0"
      ]
     },
     "execution_count": 177,
     "metadata": {},
     "output_type": "execute_result"
    }
   ],
   "source": [
    "authLogsByMonthFailureRate"
   ]
  },
  {
   "cell_type": "code",
   "execution_count": 187,
   "metadata": {},
   "outputs": [
    {
     "data": {
      "image/png": "[encoded data removed]",
      "text/plain": [
       "<Figure size 1440x720 with 1 Axes>"
      ]
     },
     "metadata": {
      "needs_background": "light"
     },
     "output_type": "display_data"
    }
   ],
   "source": [
    "authLogsByMonthFailureRate.mean().sort_values(ascending=False).plot.bar(rot=0, yerr=[authLogsByMonthFailureRate.mean()-authLogsByMonthFailureRate.min(), authLogsByMonthFailureRate.max()-authLogsByMonthFailureRate.mean()])\n",
    "plt.ylabel('Percent ', fontsize=20)\n",
    "plt.xlabel('Factor', fontsize=20)\n",
    "plt.title('Second Factor Authentication Failure Rate Per Month', fontsize=24)\n",
    "plt.show()"
   ]
  },
  {
   "cell_type": "code",
   "execution_count": 188,
   "metadata": {},
   "outputs": [
    {
     "data": {
      "image/png": "[encoded data removed]",
      "text/plain": [
       "<Figure size 1440x720 with 1 Axes>"
      ]
     },
     "metadata": {
      "needs_background": "light"
     },
     "output_type": "display_data"
    }
   ],
   "source": [
    "authLogsByMonthFailureRate.boxplot(grid=False)\n",
    "plt.ylabel('Percent ', fontsize=20)\n",
    "plt.xlabel('Factor', fontsize=20)\n",
    "plt.title('Second Factor Authentication Failure Rate Per Month', fontsize=24)\n",
    "plt.show()"
   ]
  },
  {
   "cell_type": "code",
   "execution_count": 181,
   "metadata": {},
   "outputs": [
    {
     "data": {
      "text/plain": [
       "KruskalResult(statistic=27.17874396135266, pvalue=1.8291416285905837e-05)"
      ]
     },
     "execution_count": 181,
     "metadata": {},
     "output_type": "execute_result"
    }
   ],
   "source": [
    "stats.kruskal(authLogsByMonthFailureRate['Duo Push'], \n",
    "              authLogsByMonthFailureRate['Passcode'],\n",
    "              authLogsByMonthFailureRate['Phone Call'],\n",
    "              authLogsByMonthFailureRate['Security Key'],\n",
    "              authLogsByMonthFailureRate['Touch ID (WebAuthn)'])"
   ]
  },
  {
   "cell_type": "code",
   "execution_count": 182,
   "metadata": {},
   "outputs": [],
   "source": [
    "data = [authLogsByMonthFailureRate['Duo Push'], \n",
    "              authLogsByMonthFailureRate['Passcode'],\n",
    "              authLogsByMonthFailureRate['Phone Call'],\n",
    "              authLogsByMonthFailureRate['Security Key'],\n",
    "              authLogsByMonthFailureRate['Touch ID (WebAuthn)']]"
   ]
  },
  {
   "cell_type": "code",
   "execution_count": 184,
   "metadata": {},
   "outputs": [
    {
     "data": {
      "text/html": [
       "<div>\n",
       "<style scoped>\n",
       "    .dataframe tbody tr th:only-of-type {\n",
       "        vertical-align: middle;\n",
       "    }\n",
       "\n",
       "    .dataframe tbody tr th {\n",
       "        vertical-align: top;\n",
       "    }\n",
       "\n",
       "    .dataframe thead th {\n",
       "        text-align: right;\n",
       "    }\n",
       "</style>\n",
       "<table border=\"1\" class=\"dataframe\">\n",
       "  <thead>\n",
       "    <tr style=\"text-align: right;\">\n",
       "      <th></th>\n",
       "      <th>1</th>\n",
       "      <th>2</th>\n",
       "      <th>3</th>\n",
       "      <th>4</th>\n",
       "      <th>5</th>\n",
       "    </tr>\n",
       "  </thead>\n",
       "  <tbody>\n",
       "    <tr>\n",
       "      <th>1</th>\n",
       "      <td>1.000000</td>\n",
       "      <td>0.027619</td>\n",
       "      <td>0.249255</td>\n",
       "      <td>0.053414</td>\n",
       "      <td>0.053414</td>\n",
       "    </tr>\n",
       "    <tr>\n",
       "      <th>2</th>\n",
       "      <td>0.027619</td>\n",
       "      <td>1.000000</td>\n",
       "      <td>0.293489</td>\n",
       "      <td>0.000036</td>\n",
       "      <td>0.000036</td>\n",
       "    </tr>\n",
       "    <tr>\n",
       "      <th>3</th>\n",
       "      <td>0.249255</td>\n",
       "      <td>0.293489</td>\n",
       "      <td>1.000000</td>\n",
       "      <td>0.002044</td>\n",
       "      <td>0.002044</td>\n",
       "    </tr>\n",
       "    <tr>\n",
       "      <th>4</th>\n",
       "      <td>0.053414</td>\n",
       "      <td>0.000036</td>\n",
       "      <td>0.002044</td>\n",
       "      <td>1.000000</td>\n",
       "      <td>1.000000</td>\n",
       "    </tr>\n",
       "    <tr>\n",
       "      <th>5</th>\n",
       "      <td>0.053414</td>\n",
       "      <td>0.000036</td>\n",
       "      <td>0.002044</td>\n",
       "      <td>1.000000</td>\n",
       "      <td>1.000000</td>\n",
       "    </tr>\n",
       "  </tbody>\n",
       "</table>\n",
       "</div>"
      ],
      "text/plain": [
       "          1         2         3         4         5\n",
       "1  1.000000  0.027619  0.249255  0.053414  0.053414\n",
       "2  0.027619  1.000000  0.293489  0.000036  0.000036\n",
       "3  0.249255  0.293489  1.000000  0.002044  0.002044\n",
       "4  0.053414  0.000036  0.002044  1.000000  1.000000\n",
       "5  0.053414  0.000036  0.002044  1.000000  1.000000"
      ]
     },
     "execution_count": 184,
     "metadata": {},
     "output_type": "execute_result"
    }
   ],
   "source": [
    "sp.posthoc_dunn(data)"
   ]
  },
  {
   "cell_type": "code",
   "execution_count": 196,
   "metadata": {},
   "outputs": [
    {
     "data": {
      "image/png": "[encoded data removed]",
      "text/plain": [
       "<Figure size 1440x720 with 2 Axes>"
      ]
     },
     "metadata": {
      "needs_background": "light"
     },
     "output_type": "display_data"
    }
   ],
   "source": [
    "sns.heatmap(sp.posthoc_dunn(data, p_adjust=\"bonferroni\"),cmap='coolwarm', linewidths = 0.30, annot = True)\n",
    "plt.show()\n",
    "# bonerroni correction is .0055"
   ]
  },
  {
   "cell_type": "code",
   "execution_count": 197,
   "metadata": {},
   "outputs": [
    {
     "data": {
      "image/png": "[encoded data removed]",
      "text/plain": [
       "<Figure size 1440x720 with 2 Axes>"
      ]
     },
     "metadata": {
      "needs_background": "light"
     },
     "output_type": "display_data"
    }
   ],
   "source": [
    "sns.heatmap(sp.posthoc_dunn(data),cmap='coolwarm', linewidths = 0.30, annot = True)\n",
    "plt.show()\n",
    "# bonerroni correction is .0055"
   ]
  },
  {
   "cell_type": "code",
   "execution_count": null,
   "metadata": {},
   "outputs": [],
   "source": [
    "# Compare the usage of second factors by group"
   ]
  },
  {
   "cell_type": "code",
   "execution_count": 369,
   "metadata": {},
   "outputs": [],
   "source": [
    "usageOfSecondFactorLogs = logs"
   ]
  },
  {
   "cell_type": "code",
   "execution_count": 370,
   "metadata": {},
   "outputs": [
    {
     "name": "stderr",
     "output_type": "stream",
     "text": [
      "<ipython-input-370-3445250fef56>:1: SettingWithCopyWarning: \n",
      "A value is trying to be set on a copy of a slice from a DataFrame.\n",
      "Try using .loc[row_indexer,col_indexer] = value instead\n",
      "\n",
      "See the caveats in the documentation: https://pandas.pydata.org/pandas-docs/stable/user_guide/indexing.html#returning-a-view-versus-a-copy\n",
      "  usageOfSecondFactorLogs[\"Description\"] = usageOfSecondFactorLogs['Alias'].map(subsetOfUsers.set_index(\"Alias\")[\"Description\"].to_dict())\n"
     ]
    }
   ],
   "source": [
    "usageOfSecondFactorLogs[\"Description\"] = usageOfSecondFactorLogs['Alias'].map(subsetOfUsers.set_index(\"Alias\")[\"Description\"].to_dict())"
   ]
  },
  {
   "cell_type": "code",
   "execution_count": 374,
   "metadata": {},
   "outputs": [
    {
     "data": {
      "text/html": [
       "<div>\n",
       "<style scoped>\n",
       "    .dataframe tbody tr th:only-of-type {\n",
       "        vertical-align: middle;\n",
       "    }\n",
       "\n",
       "    .dataframe tbody tr th {\n",
       "        vertical-align: top;\n",
       "    }\n",
       "\n",
       "    .dataframe thead th {\n",
       "        text-align: right;\n",
       "    }\n",
       "</style>\n",
       "<table border=\"1\" class=\"dataframe\">\n",
       "  <thead>\n",
       "    <tr style=\"text-align: right;\">\n",
       "      <th></th>\n",
       "      <th>Factor</th>\n",
       "      <th>Description</th>\n",
       "      <th>Reason</th>\n",
       "      <th>Alias</th>\n",
       "    </tr>\n",
       "  </thead>\n",
       "  <tbody>\n",
       "    <tr>\n",
       "      <th>0</th>\n",
       "      <td>Phone Call</td>\n",
       "      <td>Active (Student)</td>\n",
       "      <td>User approved</td>\n",
       "      <td>user_008576</td>\n",
       "    </tr>\n",
       "    <tr>\n",
       "      <th>1</th>\n",
       "      <td>Duo Push</td>\n",
       "      <td>Active (Student)</td>\n",
       "      <td>User approved</td>\n",
       "      <td>user_049277</td>\n",
       "    </tr>\n",
       "    <tr>\n",
       "      <th>3</th>\n",
       "      <td>Duo Push</td>\n",
       "      <td>Active (Student)</td>\n",
       "      <td>User approved</td>\n",
       "      <td>user_025756</td>\n",
       "    </tr>\n",
       "    <tr>\n",
       "      <th>4</th>\n",
       "      <td>Duo Push</td>\n",
       "      <td>Active (Student)</td>\n",
       "      <td>User approved</td>\n",
       "      <td>user_030286</td>\n",
       "    </tr>\n",
       "    <tr>\n",
       "      <th>5</th>\n",
       "      <td>Duo Push</td>\n",
       "      <td>Active (Student)</td>\n",
       "      <td>User approved</td>\n",
       "      <td>user_019093</td>\n",
       "    </tr>\n",
       "  </tbody>\n",
       "</table>\n",
       "</div>"
      ],
      "text/plain": [
       "       Factor       Description         Reason        Alias\n",
       "0  Phone Call  Active (Student)  User approved  user_008576\n",
       "1    Duo Push  Active (Student)  User approved  user_049277\n",
       "3    Duo Push  Active (Student)  User approved  user_025756\n",
       "4    Duo Push  Active (Student)  User approved  user_030286\n",
       "5    Duo Push  Active (Student)  User approved  user_019093"
      ]
     },
     "execution_count": 374,
     "metadata": {},
     "output_type": "execute_result"
    }
   ],
   "source": [
    "factorsBeingUsed = usageOfSecondFactorLogs[['Factor','Description','Reason','Alias']]\n",
    "factorsBeingUsed.head()"
   ]
  },
  {
   "cell_type": "code",
   "execution_count": 395,
   "metadata": {},
   "outputs": [],
   "source": [
    "t = factorsBeingUsed.groupby(['Description','Factor','Alias']).count()"
   ]
  },
  {
   "cell_type": "code",
   "execution_count": 396,
   "metadata": {
    "scrolled": true
   },
   "outputs": [
    {
     "data": {
      "text/html": [
       "<div>\n",
       "<style scoped>\n",
       "    .dataframe tbody tr th:only-of-type {\n",
       "        vertical-align: middle;\n",
       "    }\n",
       "\n",
       "    .dataframe tbody tr th {\n",
       "        vertical-align: top;\n",
       "    }\n",
       "\n",
       "    .dataframe thead th {\n",
       "        text-align: right;\n",
       "    }\n",
       "</style>\n",
       "<table border=\"1\" class=\"dataframe\">\n",
       "  <thead>\n",
       "    <tr style=\"text-align: right;\">\n",
       "      <th></th>\n",
       "      <th></th>\n",
       "      <th></th>\n",
       "      <th>Reason</th>\n",
       "    </tr>\n",
       "    <tr>\n",
       "      <th>Description</th>\n",
       "      <th>Factor</th>\n",
       "      <th>Alias</th>\n",
       "      <th></th>\n",
       "    </tr>\n",
       "  </thead>\n",
       "  <tbody>\n",
       "    <tr>\n",
       "      <th rowspan=\"50\" valign=\"top\">Active (Faculty)</th>\n",
       "      <th rowspan=\"4\" valign=\"top\">Bypass Status</th>\n",
       "      <th>user_002555</th>\n",
       "      <td>183</td>\n",
       "    </tr>\n",
       "    <tr>\n",
       "      <th>user_003242</th>\n",
       "      <td>2</td>\n",
       "    </tr>\n",
       "    <tr>\n",
       "      <th>user_003282</th>\n",
       "      <td>17</td>\n",
       "    </tr>\n",
       "    <tr>\n",
       "      <th>user_003287</th>\n",
       "      <td>419</td>\n",
       "    </tr>\n",
       "    <tr>\n",
       "      <th rowspan=\"46\" valign=\"top\">Duo Push</th>\n",
       "      <th>user_000105</th>\n",
       "      <td>402</td>\n",
       "    </tr>\n",
       "    <tr>\n",
       "      <th>user_000107</th>\n",
       "      <td>323</td>\n",
       "    </tr>\n",
       "    <tr>\n",
       "      <th>user_000113</th>\n",
       "      <td>192</td>\n",
       "    </tr>\n",
       "    <tr>\n",
       "      <th>user_000115</th>\n",
       "      <td>648</td>\n",
       "    </tr>\n",
       "    <tr>\n",
       "      <th>user_000116</th>\n",
       "      <td>158</td>\n",
       "    </tr>\n",
       "    <tr>\n",
       "      <th>user_000121</th>\n",
       "      <td>75</td>\n",
       "    </tr>\n",
       "    <tr>\n",
       "      <th>user_000122</th>\n",
       "      <td>321</td>\n",
       "    </tr>\n",
       "    <tr>\n",
       "      <th>user_000125</th>\n",
       "      <td>471</td>\n",
       "    </tr>\n",
       "    <tr>\n",
       "      <th>user_000128</th>\n",
       "      <td>448</td>\n",
       "    </tr>\n",
       "    <tr>\n",
       "      <th>user_000131</th>\n",
       "      <td>468</td>\n",
       "    </tr>\n",
       "    <tr>\n",
       "      <th>user_000135</th>\n",
       "      <td>84</td>\n",
       "    </tr>\n",
       "    <tr>\n",
       "      <th>user_000146</th>\n",
       "      <td>335</td>\n",
       "    </tr>\n",
       "    <tr>\n",
       "      <th>user_000149</th>\n",
       "      <td>122</td>\n",
       "    </tr>\n",
       "    <tr>\n",
       "      <th>user_000165</th>\n",
       "      <td>42</td>\n",
       "    </tr>\n",
       "    <tr>\n",
       "      <th>user_000168</th>\n",
       "      <td>91</td>\n",
       "    </tr>\n",
       "    <tr>\n",
       "      <th>user_000188</th>\n",
       "      <td>266</td>\n",
       "    </tr>\n",
       "    <tr>\n",
       "      <th>user_000253</th>\n",
       "      <td>249</td>\n",
       "    </tr>\n",
       "    <tr>\n",
       "      <th>user_000270</th>\n",
       "      <td>50</td>\n",
       "    </tr>\n",
       "    <tr>\n",
       "      <th>user_000352</th>\n",
       "      <td>10</td>\n",
       "    </tr>\n",
       "    <tr>\n",
       "      <th>user_000417</th>\n",
       "      <td>64</td>\n",
       "    </tr>\n",
       "    <tr>\n",
       "      <th>user_000495</th>\n",
       "      <td>13</td>\n",
       "    </tr>\n",
       "    <tr>\n",
       "      <th>user_000498</th>\n",
       "      <td>187</td>\n",
       "    </tr>\n",
       "    <tr>\n",
       "      <th>user_000567</th>\n",
       "      <td>244</td>\n",
       "    </tr>\n",
       "    <tr>\n",
       "      <th>user_000583</th>\n",
       "      <td>126</td>\n",
       "    </tr>\n",
       "    <tr>\n",
       "      <th>user_000601</th>\n",
       "      <td>235</td>\n",
       "    </tr>\n",
       "    <tr>\n",
       "      <th>user_000602</th>\n",
       "      <td>115</td>\n",
       "    </tr>\n",
       "    <tr>\n",
       "      <th>user_000603</th>\n",
       "      <td>355</td>\n",
       "    </tr>\n",
       "    <tr>\n",
       "      <th>user_000614</th>\n",
       "      <td>161</td>\n",
       "    </tr>\n",
       "    <tr>\n",
       "      <th>user_000623</th>\n",
       "      <td>313</td>\n",
       "    </tr>\n",
       "    <tr>\n",
       "      <th>user_000624</th>\n",
       "      <td>135</td>\n",
       "    </tr>\n",
       "    <tr>\n",
       "      <th>user_000626</th>\n",
       "      <td>49</td>\n",
       "    </tr>\n",
       "    <tr>\n",
       "      <th>user_000642</th>\n",
       "      <td>189</td>\n",
       "    </tr>\n",
       "    <tr>\n",
       "      <th>user_000644</th>\n",
       "      <td>190</td>\n",
       "    </tr>\n",
       "    <tr>\n",
       "      <th>user_000646</th>\n",
       "      <td>375</td>\n",
       "    </tr>\n",
       "    <tr>\n",
       "      <th>user_000651</th>\n",
       "      <td>439</td>\n",
       "    </tr>\n",
       "    <tr>\n",
       "      <th>user_000660</th>\n",
       "      <td>101</td>\n",
       "    </tr>\n",
       "    <tr>\n",
       "      <th>user_000686</th>\n",
       "      <td>110</td>\n",
       "    </tr>\n",
       "    <tr>\n",
       "      <th>user_000688</th>\n",
       "      <td>7</td>\n",
       "    </tr>\n",
       "    <tr>\n",
       "      <th>user_000701</th>\n",
       "      <td>4</td>\n",
       "    </tr>\n",
       "    <tr>\n",
       "      <th>user_000719</th>\n",
       "      <td>600</td>\n",
       "    </tr>\n",
       "    <tr>\n",
       "      <th>user_000743</th>\n",
       "      <td>255</td>\n",
       "    </tr>\n",
       "    <tr>\n",
       "      <th>user_000806</th>\n",
       "      <td>144</td>\n",
       "    </tr>\n",
       "    <tr>\n",
       "      <th>user_000808</th>\n",
       "      <td>237</td>\n",
       "    </tr>\n",
       "    <tr>\n",
       "      <th>user_000833</th>\n",
       "      <td>124</td>\n",
       "    </tr>\n",
       "    <tr>\n",
       "      <th>user_000837</th>\n",
       "      <td>321</td>\n",
       "    </tr>\n",
       "    <tr>\n",
       "      <th>user_000840</th>\n",
       "      <td>44</td>\n",
       "    </tr>\n",
       "  </tbody>\n",
       "</table>\n",
       "</div>"
      ],
      "text/plain": [
       "                                            Reason\n",
       "Description      Factor        Alias              \n",
       "Active (Faculty) Bypass Status user_002555     183\n",
       "                               user_003242       2\n",
       "                               user_003282      17\n",
       "                               user_003287     419\n",
       "                 Duo Push      user_000105     402\n",
       "                               user_000107     323\n",
       "                               user_000113     192\n",
       "                               user_000115     648\n",
       "                               user_000116     158\n",
       "                               user_000121      75\n",
       "                               user_000122     321\n",
       "                               user_000125     471\n",
       "                               user_000128     448\n",
       "                               user_000131     468\n",
       "                               user_000135      84\n",
       "                               user_000146     335\n",
       "                               user_000149     122\n",
       "                               user_000165      42\n",
       "                               user_000168      91\n",
       "                               user_000188     266\n",
       "                               user_000253     249\n",
       "                               user_000270      50\n",
       "                               user_000352      10\n",
       "                               user_000417      64\n",
       "                               user_000495      13\n",
       "                               user_000498     187\n",
       "                               user_000567     244\n",
       "                               user_000583     126\n",
       "                               user_000601     235\n",
       "                               user_000602     115\n",
       "                               user_000603     355\n",
       "                               user_000614     161\n",
       "                               user_000623     313\n",
       "                               user_000624     135\n",
       "                               user_000626      49\n",
       "                               user_000642     189\n",
       "                               user_000644     190\n",
       "                               user_000646     375\n",
       "                               user_000651     439\n",
       "                               user_000660     101\n",
       "                               user_000686     110\n",
       "                               user_000688       7\n",
       "                               user_000701       4\n",
       "                               user_000719     600\n",
       "                               user_000743     255\n",
       "                               user_000806     144\n",
       "                               user_000808     237\n",
       "                               user_000833     124\n",
       "                               user_000837     321\n",
       "                               user_000840      44"
      ]
     },
     "execution_count": 396,
     "metadata": {},
     "output_type": "execute_result"
    }
   ],
   "source": [
    "t.head(50)"
   ]
  },
  {
   "cell_type": "code",
   "execution_count": 401,
   "metadata": {},
   "outputs": [],
   "source": [
    "t = factorsBeingUsed.groupby(['Description','Factor','Alias']).count().unstack(level=2).count(axis=1).reset_index()"
   ]
  },
  {
   "cell_type": "code",
   "execution_count": 411,
   "metadata": {},
   "outputs": [],
   "source": [
    "factorsBeingUsedByGroup = factorsBeingUsed.groupby(['Description','Factor','Alias']).count().unstack(level=2).count(axis=1).unstack(level=1).fillna(0)"
   ]
  },
  {
   "cell_type": "code",
   "execution_count": 413,
   "metadata": {},
   "outputs": [
    {
     "data": {
      "text/html": [
       "<div>\n",
       "<style scoped>\n",
       "    .dataframe tbody tr th:only-of-type {\n",
       "        vertical-align: middle;\n",
       "    }\n",
       "\n",
       "    .dataframe tbody tr th {\n",
       "        vertical-align: top;\n",
       "    }\n",
       "\n",
       "    .dataframe thead th {\n",
       "        text-align: right;\n",
       "    }\n",
       "</style>\n",
       "<table border=\"1\" class=\"dataframe\">\n",
       "  <thead>\n",
       "    <tr style=\"text-align: right;\">\n",
       "      <th>Factor</th>\n",
       "      <th>Bypass Status</th>\n",
       "      <th>Duo Push</th>\n",
       "      <th>Passcode</th>\n",
       "      <th>Phone Call</th>\n",
       "      <th>Remembered Device</th>\n",
       "      <th>Security Key</th>\n",
       "      <th>Touch ID (WebAuthn)</th>\n",
       "    </tr>\n",
       "    <tr>\n",
       "      <th>Description</th>\n",
       "      <th></th>\n",
       "      <th></th>\n",
       "      <th></th>\n",
       "      <th></th>\n",
       "      <th></th>\n",
       "      <th></th>\n",
       "      <th></th>\n",
       "    </tr>\n",
       "  </thead>\n",
       "  <tbody>\n",
       "    <tr>\n",
       "      <th>Active (Faculty)</th>\n",
       "      <td>4.0</td>\n",
       "      <td>1282.0</td>\n",
       "      <td>573.0</td>\n",
       "      <td>730.0</td>\n",
       "      <td>1029.0</td>\n",
       "      <td>90.0</td>\n",
       "      <td>4.0</td>\n",
       "    </tr>\n",
       "    <tr>\n",
       "      <th>Active (Staff)</th>\n",
       "      <td>0.0</td>\n",
       "      <td>810.0</td>\n",
       "      <td>476.0</td>\n",
       "      <td>537.0</td>\n",
       "      <td>811.0</td>\n",
       "      <td>34.0</td>\n",
       "      <td>2.0</td>\n",
       "    </tr>\n",
       "    <tr>\n",
       "      <th>Active (Student)</th>\n",
       "      <td>18.0</td>\n",
       "      <td>28873.0</td>\n",
       "      <td>8719.0</td>\n",
       "      <td>12878.0</td>\n",
       "      <td>18183.0</td>\n",
       "      <td>11.0</td>\n",
       "      <td>361.0</td>\n",
       "    </tr>\n",
       "  </tbody>\n",
       "</table>\n",
       "</div>"
      ],
      "text/plain": [
       "Factor            Bypass Status  Duo Push  Passcode  Phone Call  \\\n",
       "Description                                                       \n",
       "Active (Faculty)            4.0    1282.0     573.0       730.0   \n",
       "Active (Staff)              0.0     810.0     476.0       537.0   \n",
       "Active (Student)           18.0   28873.0    8719.0     12878.0   \n",
       "\n",
       "Factor            Remembered Device  Security Key  Touch ID (WebAuthn)  \n",
       "Description                                                             \n",
       "Active (Faculty)             1029.0          90.0                  4.0  \n",
       "Active (Staff)                811.0          34.0                  2.0  \n",
       "Active (Student)            18183.0          11.0                361.0  "
      ]
     },
     "execution_count": 413,
     "metadata": {},
     "output_type": "execute_result"
    }
   ],
   "source": [
    "factorsBeingUsedByGroup"
   ]
  },
  {
   "cell_type": "code",
   "execution_count": 514,
   "metadata": {},
   "outputs": [],
   "source": [
    "# run chi squared test\n"
   ]
  },
  {
   "cell_type": "code",
   "execution_count": 515,
   "metadata": {},
   "outputs": [],
   "source": [
    "totalFaculty = 1773\n",
    "totalStaff = 1179\n",
    "totalStudents = 32931\n",
    "def createFactorDataFrame(factor):  \n",
    "    d = { factor + ' Enabled': factorsBeingUsedByGroup[factor]}\n",
    "    factorUsers = pd.DataFrame(data=d)\n",
    "    factorUsers[factor+' Not Enabled'] = [totalFaculty  - factorUsers[factor+' Enabled'][0],\n",
    "                                          totalStaff    - factorUsers[factor+' Enabled'][1],\n",
    "                                          totalStudents - factorUsers[factor+' Enabled'][2]]\n",
    "    return factorUsers.transpose()"
   ]
  },
  {
   "cell_type": "code",
   "execution_count": 568,
   "metadata": {
    "scrolled": true
   },
   "outputs": [
    {
     "name": "stdout",
     "output_type": "stream",
     "text": [
      "Description           Active (Faculty)  Active (Staff)  Active (Student)\n",
      "Duo Push Enabled                1282.0           810.0           28873.0\n",
      "Duo Push Not Enabled             491.0           369.0            4058.0\n",
      "Duo Push\n",
      "(655.0538136757496, 5.713098153219391e-143, 2, array([[ 1529.99874592,  1017.41033358, 28417.59092049],\n",
      "       [  243.00125408,   161.58966642,  4513.40907951]]))\n",
      "\n",
      "Faculty VS Staff\n",
      "False\n",
      "////////////////\n",
      "Faculty VS Student\n",
      "True\n",
      "////////////////\n",
      "Staff VS Student\n",
      "True\n",
      "\n",
      "Description           Active (Faculty)  Active (Staff)  Active (Student)\n",
      "Passcode Enabled                 573.0           476.0            8719.0\n",
      "Passcode Not Enabled            1200.0           703.0           24212.0\n",
      "Passcode\n",
      "(135.40422939049918, 3.956809800162018e-30, 2, array([[  482.64258841,   320.94507148,  8964.41234011],\n",
      "       [ 1290.35741159,   858.05492852, 23966.58765989]]))\n",
      "\n",
      "Faculty VS Staff\n",
      "True\n",
      "////////////////\n",
      "Faculty VS Student\n",
      "True\n",
      "////////////////\n",
      "Staff VS Student\n",
      "True\n",
      "\n",
      "Description             Active (Faculty)  Active (Staff)  Active (Student)\n",
      "Phone Call Enabled                 730.0           537.0           12878.0\n",
      "Phone Call Not Enabled            1043.0           642.0           20053.0\n",
      "Phone Call\n",
      "(22.17572516520308, 1.5296866069562997e-05, 2, array([[  698.91271633,   464.75921746, 12981.32806622],\n",
      "       [ 1074.08728367,   714.24078254, 19949.67193378]]))\n",
      "\n",
      "Faculty VS Staff\n",
      "False\n",
      "////////////////\n",
      "Faculty VS Student\n",
      "False\n",
      "////////////////\n",
      "Staff VS Student\n",
      "True\n",
      "\n",
      "Description                    Active (Faculty)  Active (Staff)  \\\n",
      "Remembered Device Enabled                1029.0           811.0   \n",
      "Remembered Device Not Enabled             744.0           368.0   \n",
      "\n",
      "Description                    Active (Student)  \n",
      "Remembered Device Enabled               18183.0  \n",
      "Remembered Device Not Enabled           14748.0  \n",
      "Remembered Device\n",
      "(88.78810562298486, 5.2469609817945547e-20, 2, array([[  989.34813143,   657.89139704, 18375.76047153],\n",
      "       [  783.65186857,   521.10860296, 14555.23952847]]))\n",
      "\n",
      "Faculty VS Staff\n",
      "True\n",
      "////////////////\n",
      "Faculty VS Student\n",
      "False\n",
      "////////////////\n",
      "Staff VS Student\n",
      "True\n",
      "\n",
      "Description               Active (Faculty)  Active (Staff)  Active (Student)\n",
      "Security Key Enabled                  90.0            34.0              11.0\n",
      "Security Key Not Enabled            1683.0          1145.0           32920.0\n",
      "Security Key\n",
      "(1345.969966020083, 5.325194502470501e-293, 2, array([[6.67042889e+00, 4.43566591e+00, 1.23893905e+02],\n",
      "       [1.76632957e+03, 1.17456433e+03, 3.28071061e+04]]))\n",
      "\n",
      "Faculty VS Staff\n",
      "True\n",
      "////////////////\n",
      "Faculty VS Student\n",
      "True\n",
      "////////////////\n",
      "Staff VS Student\n",
      "True\n",
      "\n",
      "Description                      Active (Faculty)  Active (Staff)  \\\n",
      "Touch ID (WebAuthn) Enabled                   4.0             2.0   \n",
      "Touch ID (WebAuthn) Not Enabled            1769.0          1177.0   \n",
      "\n",
      "Description                      Active (Student)  \n",
      "Touch ID (WebAuthn) Enabled                 361.0  \n",
      "Touch ID (WebAuthn) Not Enabled           32570.0  \n",
      "Touch ID (WebAuthn)\n",
      "(21.362329179848974, 2.297360545518485e-05, 2, array([[1.81336845e+01, 1.20584399e+01, 3.36807876e+02],\n",
      "       [1.75486632e+03, 1.16694156e+03, 3.25941921e+04]]))\n",
      "\n",
      "Faculty VS Staff\n",
      "False\n",
      "////////////////\n",
      "Faculty VS Student\n",
      "True\n",
      "////////////////\n",
      "Staff VS Student\n",
      "True\n",
      "\n"
     ]
    }
   ],
   "source": [
    "factors = factorsBeingUsedByGroup.columns\n",
    "for factor in factors:\n",
    "    if(factor!=\"Bypass Status\"):\n",
    "        factorUsageDataFrame = createFactorDataFrame(factor)\n",
    "        print(factorUsageDataFrame)\n",
    "        print(factor)\n",
    "        print(chi2_contingency(factorUsageDataFrame))\n",
    "        print('')\n",
    "        computePairWiseChiSquared(factorUsageDataFrame)\n",
    "        print('')"
   ]
  },
  {
   "cell_type": "code",
   "execution_count": 32,
   "metadata": {},
   "outputs": [],
   "source": [
    "def computePairWiseChiSquared(dataFrame):\n",
    "    pVal = .016\n",
    "    print(\"Faculty VS Staff\")\n",
    "    print(chi2_contingency(dataFrame[['Active (Faculty)','Active (Staff)']])[1]<pVal)\n",
    "#     print(chi2_contingency(dataFrame[['Active (Faculty)','Active (Staff)']]))\n",
    "    print(\"////////////////\")\n",
    "    print(\"Faculty VS Student\")\n",
    "    print(chi2_contingency(dataFrame[['Active (Faculty)','Active (Student)']])[1]<pVal)\n",
    "#     print(chi2_contingency(dataFrame[['Active (Faculty)','Active (Student)']]))\n",
    "    print(\"////////////////\")\n",
    "    print(\"Staff VS Student\")\n",
    "    print(chi2_contingency(dataFrame[['Active (Staff)','Active (Student)']])[1]<pVal)\n",
    "#     print(chi2_contingency(dataFrame[['Active (Staff)','Active (Student)']]))"
   ]
  },
  {
   "cell_type": "code",
   "execution_count": null,
   "metadata": {},
   "outputs": [],
   "source": [
    "# p value is .01\n",
    "# Conclusion is that students are more likley to use Duo push authentcation compared to faculty and staff"
   ]
  },
  {
   "cell_type": "code",
   "execution_count": 498,
   "metadata": {},
   "outputs": [],
   "source": [
    "# percentagesOfDuoPushUsers = (duoPushUsers.transpose()[\"Duo Push Enabled\"] / (duoPushUsers.transpose()[\"Duo Push Enabled\"] + duoPushUsers.transpose()[\"Duo Push Not Enabled\"]))*100"
   ]
  },
  {
   "cell_type": "code",
   "execution_count": 499,
   "metadata": {},
   "outputs": [],
   "source": [
    "# percentagesOfDuoPushUsers.plot.bar()"
   ]
  },
  {
   "cell_type": "code",
   "execution_count": null,
   "metadata": {},
   "outputs": [],
   "source": [
    "# Determine if the usage of second factors over time is stationary"
   ]
  },
  {
   "cell_type": "code",
   "execution_count": 570,
   "metadata": {},
   "outputs": [],
   "source": [
    "logFactorsOverTime = logs"
   ]
  },
  {
   "cell_type": "code",
   "execution_count": 574,
   "metadata": {},
   "outputs": [
    {
     "data": {
      "text/html": [
       "<div>\n",
       "<style scoped>\n",
       "    .dataframe tbody tr th:only-of-type {\n",
       "        vertical-align: middle;\n",
       "    }\n",
       "\n",
       "    .dataframe tbody tr th {\n",
       "        vertical-align: top;\n",
       "    }\n",
       "\n",
       "    .dataframe thead th {\n",
       "        text-align: right;\n",
       "    }\n",
       "</style>\n",
       "<table border=\"1\" class=\"dataframe\">\n",
       "  <thead>\n",
       "    <tr style=\"text-align: right;\">\n",
       "      <th></th>\n",
       "      <th>Timestamp (UTC)</th>\n",
       "      <th>Alias</th>\n",
       "      <th>Integration</th>\n",
       "      <th>Factor</th>\n",
       "      <th>Result</th>\n",
       "      <th>Reason</th>\n",
       "      <th>Enrollment</th>\n",
       "      <th>Access Device Country</th>\n",
       "      <th>Access Device State</th>\n",
       "      <th>Access Device City</th>\n",
       "      <th>Access Device Hostname</th>\n",
       "      <th>date</th>\n",
       "      <th>month</th>\n",
       "      <th>hour</th>\n",
       "      <th>minute</th>\n",
       "      <th>second</th>\n",
       "      <th>Description</th>\n",
       "    </tr>\n",
       "  </thead>\n",
       "  <tbody>\n",
       "    <tr>\n",
       "      <th>0</th>\n",
       "      <td>2021-04-01 07:00:07.957411+00:00</td>\n",
       "      <td>user_008576</td>\n",
       "      <td>Single Sign-On</td>\n",
       "      <td>Phone Call</td>\n",
       "      <td>SUCCESS</td>\n",
       "      <td>User approved</td>\n",
       "      <td>False</td>\n",
       "      <td>US</td>\n",
       "      <td>California</td>\n",
       "      <td>Rocklin</td>\n",
       "      <td>NaN</td>\n",
       "      <td>2021-04-01</td>\n",
       "      <td>4</td>\n",
       "      <td>7</td>\n",
       "      <td>0</td>\n",
       "      <td>7</td>\n",
       "      <td>Active (Student)</td>\n",
       "    </tr>\n",
       "    <tr>\n",
       "      <th>1</th>\n",
       "      <td>2021-04-01 07:00:10.492910+00:00</td>\n",
       "      <td>user_049277</td>\n",
       "      <td>Single Sign-On</td>\n",
       "      <td>Duo Push</td>\n",
       "      <td>SUCCESS</td>\n",
       "      <td>User approved</td>\n",
       "      <td>False</td>\n",
       "      <td>US</td>\n",
       "      <td>California</td>\n",
       "      <td>Santa Maria</td>\n",
       "      <td>NaN</td>\n",
       "      <td>2021-04-01</td>\n",
       "      <td>4</td>\n",
       "      <td>7</td>\n",
       "      <td>0</td>\n",
       "      <td>10</td>\n",
       "      <td>Active (Student)</td>\n",
       "    </tr>\n",
       "    <tr>\n",
       "      <th>3</th>\n",
       "      <td>2021-04-01 07:00:25.203564+00:00</td>\n",
       "      <td>user_025756</td>\n",
       "      <td>Single Sign-On</td>\n",
       "      <td>Duo Push</td>\n",
       "      <td>SUCCESS</td>\n",
       "      <td>User approved</td>\n",
       "      <td>False</td>\n",
       "      <td>US</td>\n",
       "      <td>California</td>\n",
       "      <td>Lodi</td>\n",
       "      <td>NaN</td>\n",
       "      <td>2021-04-01</td>\n",
       "      <td>4</td>\n",
       "      <td>7</td>\n",
       "      <td>0</td>\n",
       "      <td>25</td>\n",
       "      <td>Active (Student)</td>\n",
       "    </tr>\n",
       "    <tr>\n",
       "      <th>4</th>\n",
       "      <td>2021-04-01 07:00:27.389194+00:00</td>\n",
       "      <td>user_030286</td>\n",
       "      <td>Single Sign-On</td>\n",
       "      <td>Duo Push</td>\n",
       "      <td>SUCCESS</td>\n",
       "      <td>User approved</td>\n",
       "      <td>False</td>\n",
       "      <td>US</td>\n",
       "      <td>California</td>\n",
       "      <td>Antioch</td>\n",
       "      <td>NaN</td>\n",
       "      <td>2021-04-01</td>\n",
       "      <td>4</td>\n",
       "      <td>7</td>\n",
       "      <td>0</td>\n",
       "      <td>27</td>\n",
       "      <td>Active (Student)</td>\n",
       "    </tr>\n",
       "    <tr>\n",
       "      <th>5</th>\n",
       "      <td>2021-04-01 07:00:30.814923+00:00</td>\n",
       "      <td>user_019093</td>\n",
       "      <td>Single Sign-On</td>\n",
       "      <td>Duo Push</td>\n",
       "      <td>SUCCESS</td>\n",
       "      <td>User approved</td>\n",
       "      <td>False</td>\n",
       "      <td>PH</td>\n",
       "      <td>Metro Manila</td>\n",
       "      <td>Pasig</td>\n",
       "      <td>NaN</td>\n",
       "      <td>2021-04-01</td>\n",
       "      <td>4</td>\n",
       "      <td>7</td>\n",
       "      <td>0</td>\n",
       "      <td>30</td>\n",
       "      <td>Active (Student)</td>\n",
       "    </tr>\n",
       "  </tbody>\n",
       "</table>\n",
       "</div>"
      ],
      "text/plain": [
       "                   Timestamp (UTC)        Alias     Integration      Factor  \\\n",
       "0 2021-04-01 07:00:07.957411+00:00  user_008576  Single Sign-On  Phone Call   \n",
       "1 2021-04-01 07:00:10.492910+00:00  user_049277  Single Sign-On    Duo Push   \n",
       "3 2021-04-01 07:00:25.203564+00:00  user_025756  Single Sign-On    Duo Push   \n",
       "4 2021-04-01 07:00:27.389194+00:00  user_030286  Single Sign-On    Duo Push   \n",
       "5 2021-04-01 07:00:30.814923+00:00  user_019093  Single Sign-On    Duo Push   \n",
       "\n",
       "    Result         Reason  Enrollment Access Device Country  \\\n",
       "0  SUCCESS  User approved       False                    US   \n",
       "1  SUCCESS  User approved       False                    US   \n",
       "3  SUCCESS  User approved       False                    US   \n",
       "4  SUCCESS  User approved       False                    US   \n",
       "5  SUCCESS  User approved       False                    PH   \n",
       "\n",
       "  Access Device State Access Device City Access Device Hostname        date  \\\n",
       "0          California            Rocklin                    NaN  2021-04-01   \n",
       "1          California        Santa Maria                    NaN  2021-04-01   \n",
       "3          California               Lodi                    NaN  2021-04-01   \n",
       "4          California            Antioch                    NaN  2021-04-01   \n",
       "5        Metro Manila              Pasig                    NaN  2021-04-01   \n",
       "\n",
       "   month  hour  minute  second       Description  \n",
       "0      4     7       0       7  Active (Student)  \n",
       "1      4     7       0      10  Active (Student)  \n",
       "3      4     7       0      25  Active (Student)  \n",
       "4      4     7       0      27  Active (Student)  \n",
       "5      4     7       0      30  Active (Student)  "
      ]
     },
     "execution_count": 574,
     "metadata": {},
     "output_type": "execute_result"
    }
   ],
   "source": [
    "logFactorsOverTime.head()"
   ]
  },
  {
   "cell_type": "code",
   "execution_count": 578,
   "metadata": {
    "scrolled": false
   },
   "outputs": [
    {
     "data": {
      "text/html": [
       "<div>\n",
       "<style scoped>\n",
       "    .dataframe tbody tr th:only-of-type {\n",
       "        vertical-align: middle;\n",
       "    }\n",
       "\n",
       "    .dataframe tbody tr th {\n",
       "        vertical-align: top;\n",
       "    }\n",
       "\n",
       "    .dataframe thead th {\n",
       "        text-align: right;\n",
       "    }\n",
       "</style>\n",
       "<table border=\"1\" class=\"dataframe\">\n",
       "  <thead>\n",
       "    <tr style=\"text-align: right;\">\n",
       "      <th>Factor</th>\n",
       "      <th>Bypass Status</th>\n",
       "      <th>Duo Push</th>\n",
       "      <th>Passcode</th>\n",
       "      <th>Phone Call</th>\n",
       "      <th>Remembered Device</th>\n",
       "      <th>Security Key</th>\n",
       "      <th>Touch ID (WebAuthn)</th>\n",
       "    </tr>\n",
       "    <tr>\n",
       "      <th>month</th>\n",
       "      <th></th>\n",
       "      <th></th>\n",
       "      <th></th>\n",
       "      <th></th>\n",
       "      <th></th>\n",
       "      <th></th>\n",
       "      <th></th>\n",
       "    </tr>\n",
       "  </thead>\n",
       "  <tbody>\n",
       "    <tr>\n",
       "      <th>1</th>\n",
       "      <td>462</td>\n",
       "      <td>573462</td>\n",
       "      <td>48698</td>\n",
       "      <td>114449</td>\n",
       "      <td>163239</td>\n",
       "      <td>2737</td>\n",
       "      <td>3065</td>\n",
       "    </tr>\n",
       "    <tr>\n",
       "      <th>2</th>\n",
       "      <td>454</td>\n",
       "      <td>685134</td>\n",
       "      <td>55511</td>\n",
       "      <td>131844</td>\n",
       "      <td>208977</td>\n",
       "      <td>3305</td>\n",
       "      <td>3627</td>\n",
       "    </tr>\n",
       "    <tr>\n",
       "      <th>3</th>\n",
       "      <td>447</td>\n",
       "      <td>605309</td>\n",
       "      <td>48629</td>\n",
       "      <td>118483</td>\n",
       "      <td>179256</td>\n",
       "      <td>3167</td>\n",
       "      <td>3285</td>\n",
       "    </tr>\n",
       "    <tr>\n",
       "      <th>4</th>\n",
       "      <td>474</td>\n",
       "      <td>687033</td>\n",
       "      <td>51515</td>\n",
       "      <td>133840</td>\n",
       "      <td>220139</td>\n",
       "      <td>3385</td>\n",
       "      <td>3700</td>\n",
       "    </tr>\n",
       "    <tr>\n",
       "      <th>5</th>\n",
       "      <td>1</td>\n",
       "      <td>7070</td>\n",
       "      <td>432</td>\n",
       "      <td>1401</td>\n",
       "      <td>2404</td>\n",
       "      <td>13</td>\n",
       "      <td>48</td>\n",
       "    </tr>\n",
       "    <tr>\n",
       "      <th>11</th>\n",
       "      <td>342</td>\n",
       "      <td>690756</td>\n",
       "      <td>65069</td>\n",
       "      <td>122046</td>\n",
       "      <td>204621</td>\n",
       "      <td>2713</td>\n",
       "      <td>3403</td>\n",
       "    </tr>\n",
       "    <tr>\n",
       "      <th>12</th>\n",
       "      <td>308</td>\n",
       "      <td>527273</td>\n",
       "      <td>48765</td>\n",
       "      <td>98426</td>\n",
       "      <td>148852</td>\n",
       "      <td>2627</td>\n",
       "      <td>2684</td>\n",
       "    </tr>\n",
       "  </tbody>\n",
       "</table>\n",
       "</div>"
      ],
      "text/plain": [
       "Factor  Bypass Status  Duo Push  Passcode  Phone Call  Remembered Device  \\\n",
       "month                                                                      \n",
       "1                 462    573462     48698      114449             163239   \n",
       "2                 454    685134     55511      131844             208977   \n",
       "3                 447    605309     48629      118483             179256   \n",
       "4                 474    687033     51515      133840             220139   \n",
       "5                   1      7070       432        1401               2404   \n",
       "11                342    690756     65069      122046             204621   \n",
       "12                308    527273     48765       98426             148852   \n",
       "\n",
       "Factor  Security Key  Touch ID (WebAuthn)  \n",
       "month                                      \n",
       "1               2737                 3065  \n",
       "2               3305                 3627  \n",
       "3               3167                 3285  \n",
       "4               3385                 3700  \n",
       "5                 13                   48  \n",
       "11              2713                 3403  \n",
       "12              2627                 2684  "
      ]
     },
     "execution_count": 578,
     "metadata": {},
     "output_type": "execute_result"
    }
   ],
   "source": [
    "logFactorsOverTime.groupby(['month','Factor']).size().unstack()"
   ]
  },
  {
   "cell_type": "code",
   "execution_count": null,
   "metadata": {},
   "outputs": [],
   "source": []
  },
  {
   "cell_type": "code",
   "execution_count": 88,
   "metadata": {},
   "outputs": [],
   "source": [
    "logs_by_factor = logs"
   ]
  },
  {
   "cell_type": "code",
   "execution_count": 89,
   "metadata": {},
   "outputs": [
    {
     "data": {
      "text/html": [
       "<div>\n",
       "<style scoped>\n",
       "    .dataframe tbody tr th:only-of-type {\n",
       "        vertical-align: middle;\n",
       "    }\n",
       "\n",
       "    .dataframe tbody tr th {\n",
       "        vertical-align: top;\n",
       "    }\n",
       "\n",
       "    .dataframe thead th {\n",
       "        text-align: right;\n",
       "    }\n",
       "</style>\n",
       "<table border=\"1\" class=\"dataframe\">\n",
       "  <thead>\n",
       "    <tr style=\"text-align: right;\">\n",
       "      <th></th>\n",
       "      <th>Timestamp (UTC)</th>\n",
       "      <th>Alias</th>\n",
       "      <th>Integration</th>\n",
       "      <th>Factor</th>\n",
       "      <th>Result</th>\n",
       "      <th>Reason</th>\n",
       "      <th>Enrollment</th>\n",
       "      <th>Access Device Country</th>\n",
       "      <th>Access Device State</th>\n",
       "      <th>Access Device City</th>\n",
       "      <th>Access Device Hostname</th>\n",
       "      <th>date</th>\n",
       "      <th>month</th>\n",
       "      <th>hour</th>\n",
       "      <th>minute</th>\n",
       "      <th>second</th>\n",
       "    </tr>\n",
       "  </thead>\n",
       "  <tbody>\n",
       "    <tr>\n",
       "      <th>0</th>\n",
       "      <td>2021-04-01 07:00:07.957411+00:00</td>\n",
       "      <td>user_008576</td>\n",
       "      <td>Single Sign-On</td>\n",
       "      <td>Phone Call</td>\n",
       "      <td>SUCCESS</td>\n",
       "      <td>User approved</td>\n",
       "      <td>False</td>\n",
       "      <td>US</td>\n",
       "      <td>California</td>\n",
       "      <td>Rocklin</td>\n",
       "      <td>NaN</td>\n",
       "      <td>2021-04-01</td>\n",
       "      <td>4</td>\n",
       "      <td>7</td>\n",
       "      <td>0</td>\n",
       "      <td>7</td>\n",
       "    </tr>\n",
       "    <tr>\n",
       "      <th>1</th>\n",
       "      <td>2021-04-01 07:00:10.492910+00:00</td>\n",
       "      <td>user_049277</td>\n",
       "      <td>Single Sign-On</td>\n",
       "      <td>Duo Push</td>\n",
       "      <td>SUCCESS</td>\n",
       "      <td>User approved</td>\n",
       "      <td>False</td>\n",
       "      <td>US</td>\n",
       "      <td>California</td>\n",
       "      <td>Santa Maria</td>\n",
       "      <td>NaN</td>\n",
       "      <td>2021-04-01</td>\n",
       "      <td>4</td>\n",
       "      <td>7</td>\n",
       "      <td>0</td>\n",
       "      <td>10</td>\n",
       "    </tr>\n",
       "    <tr>\n",
       "      <th>3</th>\n",
       "      <td>2021-04-01 07:00:25.203564+00:00</td>\n",
       "      <td>user_025756</td>\n",
       "      <td>Single Sign-On</td>\n",
       "      <td>Duo Push</td>\n",
       "      <td>SUCCESS</td>\n",
       "      <td>User approved</td>\n",
       "      <td>False</td>\n",
       "      <td>US</td>\n",
       "      <td>California</td>\n",
       "      <td>Lodi</td>\n",
       "      <td>NaN</td>\n",
       "      <td>2021-04-01</td>\n",
       "      <td>4</td>\n",
       "      <td>7</td>\n",
       "      <td>0</td>\n",
       "      <td>25</td>\n",
       "    </tr>\n",
       "    <tr>\n",
       "      <th>4</th>\n",
       "      <td>2021-04-01 07:00:27.389194+00:00</td>\n",
       "      <td>user_030286</td>\n",
       "      <td>Single Sign-On</td>\n",
       "      <td>Duo Push</td>\n",
       "      <td>SUCCESS</td>\n",
       "      <td>User approved</td>\n",
       "      <td>False</td>\n",
       "      <td>US</td>\n",
       "      <td>California</td>\n",
       "      <td>Antioch</td>\n",
       "      <td>NaN</td>\n",
       "      <td>2021-04-01</td>\n",
       "      <td>4</td>\n",
       "      <td>7</td>\n",
       "      <td>0</td>\n",
       "      <td>27</td>\n",
       "    </tr>\n",
       "    <tr>\n",
       "      <th>5</th>\n",
       "      <td>2021-04-01 07:00:30.814923+00:00</td>\n",
       "      <td>user_019093</td>\n",
       "      <td>Single Sign-On</td>\n",
       "      <td>Duo Push</td>\n",
       "      <td>SUCCESS</td>\n",
       "      <td>User approved</td>\n",
       "      <td>False</td>\n",
       "      <td>PH</td>\n",
       "      <td>Metro Manila</td>\n",
       "      <td>Pasig</td>\n",
       "      <td>NaN</td>\n",
       "      <td>2021-04-01</td>\n",
       "      <td>4</td>\n",
       "      <td>7</td>\n",
       "      <td>0</td>\n",
       "      <td>30</td>\n",
       "    </tr>\n",
       "  </tbody>\n",
       "</table>\n",
       "</div>"
      ],
      "text/plain": [
       "                   Timestamp (UTC)        Alias     Integration      Factor  \\\n",
       "0 2021-04-01 07:00:07.957411+00:00  user_008576  Single Sign-On  Phone Call   \n",
       "1 2021-04-01 07:00:10.492910+00:00  user_049277  Single Sign-On    Duo Push   \n",
       "3 2021-04-01 07:00:25.203564+00:00  user_025756  Single Sign-On    Duo Push   \n",
       "4 2021-04-01 07:00:27.389194+00:00  user_030286  Single Sign-On    Duo Push   \n",
       "5 2021-04-01 07:00:30.814923+00:00  user_019093  Single Sign-On    Duo Push   \n",
       "\n",
       "    Result         Reason  Enrollment Access Device Country  \\\n",
       "0  SUCCESS  User approved       False                    US   \n",
       "1  SUCCESS  User approved       False                    US   \n",
       "3  SUCCESS  User approved       False                    US   \n",
       "4  SUCCESS  User approved       False                    US   \n",
       "5  SUCCESS  User approved       False                    PH   \n",
       "\n",
       "  Access Device State Access Device City Access Device Hostname        date  \\\n",
       "0          California            Rocklin                    NaN  2021-04-01   \n",
       "1          California        Santa Maria                    NaN  2021-04-01   \n",
       "3          California               Lodi                    NaN  2021-04-01   \n",
       "4          California            Antioch                    NaN  2021-04-01   \n",
       "5        Metro Manila              Pasig                    NaN  2021-04-01   \n",
       "\n",
       "   month  hour  minute  second  \n",
       "0      4     7       0       7  \n",
       "1      4     7       0      10  \n",
       "3      4     7       0      25  \n",
       "4      4     7       0      27  \n",
       "5      4     7       0      30  "
      ]
     },
     "execution_count": 89,
     "metadata": {},
     "output_type": "execute_result"
    }
   ],
   "source": [
    "logs_by_factor.head()"
   ]
  },
  {
   "cell_type": "code",
   "execution_count": 90,
   "metadata": {},
   "outputs": [],
   "source": [
    "logs_by_factor_users = logs_by_factor.groupby(['month','Alias','Factor']).size()"
   ]
  },
  {
   "cell_type": "code",
   "execution_count": 96,
   "metadata": {},
   "outputs": [],
   "source": [
    "i = logs_by_factor_users.unstack(level=2).fillna(0)"
   ]
  },
  {
   "cell_type": "code",
   "execution_count": 107,
   "metadata": {},
   "outputs": [],
   "source": [
    "i = i.applymap(lambda x: hasUsedFactor(x))"
   ]
  },
  {
   "cell_type": "code",
   "execution_count": 109,
   "metadata": {},
   "outputs": [],
   "source": [
    "g = i.reset_index()"
   ]
  },
  {
   "cell_type": "code",
   "execution_count": 108,
   "metadata": {},
   "outputs": [
    {
     "data": {
      "text/html": [
       "<div>\n",
       "<style scoped>\n",
       "    .dataframe tbody tr th:only-of-type {\n",
       "        vertical-align: middle;\n",
       "    }\n",
       "\n",
       "    .dataframe tbody tr th {\n",
       "        vertical-align: top;\n",
       "    }\n",
       "\n",
       "    .dataframe thead th {\n",
       "        text-align: right;\n",
       "    }\n",
       "</style>\n",
       "<table border=\"1\" class=\"dataframe\">\n",
       "  <thead>\n",
       "    <tr style=\"text-align: right;\">\n",
       "      <th>Factor</th>\n",
       "      <th>month</th>\n",
       "      <th>Alias</th>\n",
       "      <th>Bypass Code</th>\n",
       "      <th>Bypass Status</th>\n",
       "      <th>Duo Mobile Passcode</th>\n",
       "      <th>Duo Push</th>\n",
       "      <th>Hardware Token</th>\n",
       "      <th>Passcode</th>\n",
       "      <th>Phone Call</th>\n",
       "      <th>Remembered Device</th>\n",
       "      <th>Security Key (WebAuthn)</th>\n",
       "      <th>Touch ID (WebAuthn)</th>\n",
       "      <th>U2F Token</th>\n",
       "      <th>Yubikey Passcode</th>\n",
       "    </tr>\n",
       "  </thead>\n",
       "  <tbody>\n",
       "    <tr>\n",
       "      <th>0</th>\n",
       "      <td>1</td>\n",
       "      <td>user_000001</td>\n",
       "      <td>0</td>\n",
       "      <td>0</td>\n",
       "      <td>0</td>\n",
       "      <td>0</td>\n",
       "      <td>1</td>\n",
       "      <td>1</td>\n",
       "      <td>0</td>\n",
       "      <td>1</td>\n",
       "      <td>0</td>\n",
       "      <td>0</td>\n",
       "      <td>0</td>\n",
       "      <td>0</td>\n",
       "    </tr>\n",
       "    <tr>\n",
       "      <th>1</th>\n",
       "      <td>1</td>\n",
       "      <td>user_000002</td>\n",
       "      <td>0</td>\n",
       "      <td>0</td>\n",
       "      <td>0</td>\n",
       "      <td>1</td>\n",
       "      <td>0</td>\n",
       "      <td>0</td>\n",
       "      <td>0</td>\n",
       "      <td>1</td>\n",
       "      <td>0</td>\n",
       "      <td>0</td>\n",
       "      <td>1</td>\n",
       "      <td>1</td>\n",
       "    </tr>\n",
       "    <tr>\n",
       "      <th>2</th>\n",
       "      <td>1</td>\n",
       "      <td>user_000003</td>\n",
       "      <td>0</td>\n",
       "      <td>0</td>\n",
       "      <td>0</td>\n",
       "      <td>1</td>\n",
       "      <td>1</td>\n",
       "      <td>0</td>\n",
       "      <td>0</td>\n",
       "      <td>0</td>\n",
       "      <td>0</td>\n",
       "      <td>0</td>\n",
       "      <td>0</td>\n",
       "      <td>0</td>\n",
       "    </tr>\n",
       "    <tr>\n",
       "      <th>3</th>\n",
       "      <td>1</td>\n",
       "      <td>user_000004</td>\n",
       "      <td>0</td>\n",
       "      <td>0</td>\n",
       "      <td>0</td>\n",
       "      <td>1</td>\n",
       "      <td>1</td>\n",
       "      <td>1</td>\n",
       "      <td>0</td>\n",
       "      <td>0</td>\n",
       "      <td>0</td>\n",
       "      <td>0</td>\n",
       "      <td>0</td>\n",
       "      <td>0</td>\n",
       "    </tr>\n",
       "    <tr>\n",
       "      <th>4</th>\n",
       "      <td>1</td>\n",
       "      <td>user_000005</td>\n",
       "      <td>0</td>\n",
       "      <td>0</td>\n",
       "      <td>0</td>\n",
       "      <td>0</td>\n",
       "      <td>1</td>\n",
       "      <td>0</td>\n",
       "      <td>0</td>\n",
       "      <td>1</td>\n",
       "      <td>0</td>\n",
       "      <td>0</td>\n",
       "      <td>1</td>\n",
       "      <td>0</td>\n",
       "    </tr>\n",
       "  </tbody>\n",
       "</table>\n",
       "</div>"
      ],
      "text/plain": [
       "Factor  month        Alias  Bypass Code  Bypass Status  Duo Mobile Passcode  \\\n",
       "0           1  user_000001            0              0                    0   \n",
       "1           1  user_000002            0              0                    0   \n",
       "2           1  user_000003            0              0                    0   \n",
       "3           1  user_000004            0              0                    0   \n",
       "4           1  user_000005            0              0                    0   \n",
       "\n",
       "Factor  Duo Push  Hardware Token  Passcode  Phone Call  Remembered Device  \\\n",
       "0              0               1         1           0                  1   \n",
       "1              1               0         0           0                  1   \n",
       "2              1               1         0           0                  0   \n",
       "3              1               1         1           0                  0   \n",
       "4              0               1         0           0                  1   \n",
       "\n",
       "Factor  Security Key (WebAuthn)  Touch ID (WebAuthn)  U2F Token  \\\n",
       "0                             0                    0          0   \n",
       "1                             0                    0          1   \n",
       "2                             0                    0          0   \n",
       "3                             0                    0          0   \n",
       "4                             0                    0          1   \n",
       "\n",
       "Factor  Yubikey Passcode  \n",
       "0                      0  \n",
       "1                      1  \n",
       "2                      0  \n",
       "3                      0  \n",
       "4                      0  "
      ]
     },
     "execution_count": 108,
     "metadata": {},
     "output_type": "execute_result"
    }
   ],
   "source": [
    "i.reset_index().head()"
   ]
  },
  {
   "cell_type": "code",
   "execution_count": 105,
   "metadata": {},
   "outputs": [],
   "source": [
    "def hasUsedFactor(num):\n",
    "    if(num>0):\n",
    "        return 1\n",
    "    else:\n",
    "        return 0"
   ]
  },
  {
   "cell_type": "code",
   "execution_count": 110,
   "metadata": {},
   "outputs": [
    {
     "data": {
      "text/html": [
       "<div>\n",
       "<style scoped>\n",
       "    .dataframe tbody tr th:only-of-type {\n",
       "        vertical-align: middle;\n",
       "    }\n",
       "\n",
       "    .dataframe tbody tr th {\n",
       "        vertical-align: top;\n",
       "    }\n",
       "\n",
       "    .dataframe thead th {\n",
       "        text-align: right;\n",
       "    }\n",
       "</style>\n",
       "<table border=\"1\" class=\"dataframe\">\n",
       "  <thead>\n",
       "    <tr style=\"text-align: right;\">\n",
       "      <th>Factor</th>\n",
       "      <th>month</th>\n",
       "      <th>Alias</th>\n",
       "      <th>Bypass Code</th>\n",
       "      <th>Bypass Status</th>\n",
       "      <th>Duo Mobile Passcode</th>\n",
       "      <th>Duo Push</th>\n",
       "      <th>Hardware Token</th>\n",
       "      <th>Passcode</th>\n",
       "      <th>Phone Call</th>\n",
       "      <th>Remembered Device</th>\n",
       "      <th>Security Key (WebAuthn)</th>\n",
       "      <th>Touch ID (WebAuthn)</th>\n",
       "      <th>U2F Token</th>\n",
       "      <th>Yubikey Passcode</th>\n",
       "    </tr>\n",
       "  </thead>\n",
       "  <tbody>\n",
       "    <tr>\n",
       "      <th>0</th>\n",
       "      <td>1</td>\n",
       "      <td>user_000001</td>\n",
       "      <td>0</td>\n",
       "      <td>0</td>\n",
       "      <td>0</td>\n",
       "      <td>0</td>\n",
       "      <td>1</td>\n",
       "      <td>1</td>\n",
       "      <td>0</td>\n",
       "      <td>1</td>\n",
       "      <td>0</td>\n",
       "      <td>0</td>\n",
       "      <td>0</td>\n",
       "      <td>0</td>\n",
       "    </tr>\n",
       "    <tr>\n",
       "      <th>1</th>\n",
       "      <td>1</td>\n",
       "      <td>user_000002</td>\n",
       "      <td>0</td>\n",
       "      <td>0</td>\n",
       "      <td>0</td>\n",
       "      <td>1</td>\n",
       "      <td>0</td>\n",
       "      <td>0</td>\n",
       "      <td>0</td>\n",
       "      <td>1</td>\n",
       "      <td>0</td>\n",
       "      <td>0</td>\n",
       "      <td>1</td>\n",
       "      <td>1</td>\n",
       "    </tr>\n",
       "    <tr>\n",
       "      <th>2</th>\n",
       "      <td>1</td>\n",
       "      <td>user_000003</td>\n",
       "      <td>0</td>\n",
       "      <td>0</td>\n",
       "      <td>0</td>\n",
       "      <td>1</td>\n",
       "      <td>1</td>\n",
       "      <td>0</td>\n",
       "      <td>0</td>\n",
       "      <td>0</td>\n",
       "      <td>0</td>\n",
       "      <td>0</td>\n",
       "      <td>0</td>\n",
       "      <td>0</td>\n",
       "    </tr>\n",
       "    <tr>\n",
       "      <th>3</th>\n",
       "      <td>1</td>\n",
       "      <td>user_000004</td>\n",
       "      <td>0</td>\n",
       "      <td>0</td>\n",
       "      <td>0</td>\n",
       "      <td>1</td>\n",
       "      <td>1</td>\n",
       "      <td>1</td>\n",
       "      <td>0</td>\n",
       "      <td>0</td>\n",
       "      <td>0</td>\n",
       "      <td>0</td>\n",
       "      <td>0</td>\n",
       "      <td>0</td>\n",
       "    </tr>\n",
       "    <tr>\n",
       "      <th>4</th>\n",
       "      <td>1</td>\n",
       "      <td>user_000005</td>\n",
       "      <td>0</td>\n",
       "      <td>0</td>\n",
       "      <td>0</td>\n",
       "      <td>0</td>\n",
       "      <td>1</td>\n",
       "      <td>0</td>\n",
       "      <td>0</td>\n",
       "      <td>1</td>\n",
       "      <td>0</td>\n",
       "      <td>0</td>\n",
       "      <td>1</td>\n",
       "      <td>0</td>\n",
       "    </tr>\n",
       "  </tbody>\n",
       "</table>\n",
       "</div>"
      ],
      "text/plain": [
       "Factor  month        Alias  Bypass Code  Bypass Status  Duo Mobile Passcode  \\\n",
       "0           1  user_000001            0              0                    0   \n",
       "1           1  user_000002            0              0                    0   \n",
       "2           1  user_000003            0              0                    0   \n",
       "3           1  user_000004            0              0                    0   \n",
       "4           1  user_000005            0              0                    0   \n",
       "\n",
       "Factor  Duo Push  Hardware Token  Passcode  Phone Call  Remembered Device  \\\n",
       "0              0               1         1           0                  1   \n",
       "1              1               0         0           0                  1   \n",
       "2              1               1         0           0                  0   \n",
       "3              1               1         1           0                  0   \n",
       "4              0               1         0           0                  1   \n",
       "\n",
       "Factor  Security Key (WebAuthn)  Touch ID (WebAuthn)  U2F Token  \\\n",
       "0                             0                    0          0   \n",
       "1                             0                    0          1   \n",
       "2                             0                    0          0   \n",
       "3                             0                    0          0   \n",
       "4                             0                    0          1   \n",
       "\n",
       "Factor  Yubikey Passcode  \n",
       "0                      0  \n",
       "1                      1  \n",
       "2                      0  \n",
       "3                      0  \n",
       "4                      0  "
      ]
     },
     "execution_count": 110,
     "metadata": {},
     "output_type": "execute_result"
    }
   ],
   "source": [
    "g.head()"
   ]
  },
  {
   "cell_type": "code",
   "execution_count": 118,
   "metadata": {},
   "outputs": [],
   "source": [
    "h = g"
   ]
  },
  {
   "cell_type": "code",
   "execution_count": 150,
   "metadata": {},
   "outputs": [
    {
     "data": {
      "text/plain": [
       "Index(['Bypass Code', 'Bypass Status', 'Duo Mobile Passcode', 'Duo Push',\n",
       "       'Hardware Token', 'Passcode', 'Phone Call', 'Remembered Device',\n",
       "       'Security Key (WebAuthn)', 'Touch ID (WebAuthn)', 'U2F Token',\n",
       "       'Yubikey Passcode'],\n",
       "      dtype='object', name='Factor')"
      ]
     },
     "execution_count": 150,
     "metadata": {},
     "output_type": "execute_result"
    }
   ],
   "source": [
    "h.columns[2:]"
   ]
  },
  {
   "cell_type": "code",
   "execution_count": 187,
   "metadata": {},
   "outputs": [
    {
     "data": {
      "text/html": [
       "<div>\n",
       "<style scoped>\n",
       "    .dataframe tbody tr th:only-of-type {\n",
       "        vertical-align: middle;\n",
       "    }\n",
       "\n",
       "    .dataframe tbody tr th {\n",
       "        vertical-align: top;\n",
       "    }\n",
       "\n",
       "    .dataframe thead th {\n",
       "        text-align: right;\n",
       "    }\n",
       "</style>\n",
       "<table border=\"1\" class=\"dataframe\">\n",
       "  <thead>\n",
       "    <tr style=\"text-align: right;\">\n",
       "      <th>Factor</th>\n",
       "      <th>Bypass Code</th>\n",
       "      <th>Bypass Status</th>\n",
       "      <th>Duo Mobile Passcode</th>\n",
       "      <th>Duo Push</th>\n",
       "      <th>Hardware Token</th>\n",
       "      <th>Passcode</th>\n",
       "      <th>Phone Call</th>\n",
       "      <th>Remembered Device</th>\n",
       "      <th>Security Key (WebAuthn)</th>\n",
       "      <th>Touch ID (WebAuthn)</th>\n",
       "      <th>U2F Token</th>\n",
       "      <th>Yubikey Passcode</th>\n",
       "    </tr>\n",
       "  </thead>\n",
       "  <tbody>\n",
       "  </tbody>\n",
       "</table>\n",
       "</div>"
      ],
      "text/plain": [
       "Empty DataFrame\n",
       "Columns: [Bypass Code, Bypass Status, Duo Mobile Passcode, Duo Push, Hardware Token, Passcode, Phone Call, Remembered Device, Security Key (WebAuthn), Touch ID (WebAuthn), U2F Token, Yubikey Passcode]\n",
       "Index: []"
      ]
     },
     "execution_count": 187,
     "metadata": {},
     "output_type": "execute_result"
    }
   ],
   "source": [
    "dataFramee = pd.DataFrame(columns=h.columns[2:])\n",
    "dataFramee"
   ]
  },
  {
   "cell_type": "code",
   "execution_count": 188,
   "metadata": {
    "scrolled": true
   },
   "outputs": [],
   "source": [
    "months = [11,12,1,2,3,4]\n",
    "for i in months:\n",
    "    row = []\n",
    "    for j in h.columns:\n",
    "        if(j!='month' and j!='Alias'):\n",
    "#             print(i, j)\n",
    "            d = h[h['month']==i][j].sum()\n",
    "            row.append(d)\n",
    "    tempDF = pd.DataFrame(data=np.array([row]),columns=h.columns[2:],index = [i])\n",
    "    dataFramee = pd.concat([dataFramee, tempDF])"
   ]
  },
  {
   "cell_type": "code",
   "execution_count": 193,
   "metadata": {},
   "outputs": [
    {
     "data": {
      "text/html": [
       "<div>\n",
       "<style scoped>\n",
       "    .dataframe tbody tr th:only-of-type {\n",
       "        vertical-align: middle;\n",
       "    }\n",
       "\n",
       "    .dataframe tbody tr th {\n",
       "        vertical-align: top;\n",
       "    }\n",
       "\n",
       "    .dataframe thead th {\n",
       "        text-align: right;\n",
       "    }\n",
       "</style>\n",
       "<table border=\"1\" class=\"dataframe\">\n",
       "  <thead>\n",
       "    <tr style=\"text-align: right;\">\n",
       "      <th>Factor</th>\n",
       "      <th>Bypass Code</th>\n",
       "      <th>Bypass Status</th>\n",
       "      <th>Duo Mobile Passcode</th>\n",
       "      <th>Duo Push</th>\n",
       "      <th>Hardware Token</th>\n",
       "      <th>Passcode</th>\n",
       "      <th>Phone Call</th>\n",
       "      <th>Remembered Device</th>\n",
       "      <th>Security Key (WebAuthn)</th>\n",
       "      <th>Touch ID (WebAuthn)</th>\n",
       "      <th>U2F Token</th>\n",
       "      <th>Yubikey Passcode</th>\n",
       "    </tr>\n",
       "  </thead>\n",
       "  <tbody>\n",
       "    <tr>\n",
       "      <th>November</th>\n",
       "      <td>66</td>\n",
       "      <td>17</td>\n",
       "      <td>4041</td>\n",
       "      <td>27693</td>\n",
       "      <td>613</td>\n",
       "      <td>1489</td>\n",
       "      <td>7790</td>\n",
       "      <td>15097</td>\n",
       "      <td>32</td>\n",
       "      <td>261</td>\n",
       "      <td>83</td>\n",
       "      <td>0</td>\n",
       "    </tr>\n",
       "    <tr>\n",
       "      <th>December</th>\n",
       "      <td>39</td>\n",
       "      <td>14</td>\n",
       "      <td>3189</td>\n",
       "      <td>27598</td>\n",
       "      <td>607</td>\n",
       "      <td>1078</td>\n",
       "      <td>7435</td>\n",
       "      <td>14275</td>\n",
       "      <td>37</td>\n",
       "      <td>252</td>\n",
       "      <td>92</td>\n",
       "      <td>0</td>\n",
       "    </tr>\n",
       "    <tr>\n",
       "      <th>January</th>\n",
       "      <td>40</td>\n",
       "      <td>11</td>\n",
       "      <td>3127</td>\n",
       "      <td>28495</td>\n",
       "      <td>620</td>\n",
       "      <td>1137</td>\n",
       "      <td>7949</td>\n",
       "      <td>15248</td>\n",
       "      <td>35</td>\n",
       "      <td>269</td>\n",
       "      <td>94</td>\n",
       "      <td>1</td>\n",
       "    </tr>\n",
       "    <tr>\n",
       "      <th>Febuary</th>\n",
       "      <td>49</td>\n",
       "      <td>11</td>\n",
       "      <td>2863</td>\n",
       "      <td>27271</td>\n",
       "      <td>607</td>\n",
       "      <td>1076</td>\n",
       "      <td>7260</td>\n",
       "      <td>15590</td>\n",
       "      <td>36</td>\n",
       "      <td>271</td>\n",
       "      <td>96</td>\n",
       "      <td>1</td>\n",
       "    </tr>\n",
       "    <tr>\n",
       "      <th>March</th>\n",
       "      <td>45</td>\n",
       "      <td>11</td>\n",
       "      <td>2525</td>\n",
       "      <td>26847</td>\n",
       "      <td>607</td>\n",
       "      <td>943</td>\n",
       "      <td>7239</td>\n",
       "      <td>14987</td>\n",
       "      <td>32</td>\n",
       "      <td>282</td>\n",
       "      <td>88</td>\n",
       "      <td>2</td>\n",
       "    </tr>\n",
       "    <tr>\n",
       "      <th>April</th>\n",
       "      <td>41</td>\n",
       "      <td>11</td>\n",
       "      <td>2575</td>\n",
       "      <td>26947</td>\n",
       "      <td>581</td>\n",
       "      <td>997</td>\n",
       "      <td>7332</td>\n",
       "      <td>15627</td>\n",
       "      <td>32</td>\n",
       "      <td>267</td>\n",
       "      <td>87</td>\n",
       "      <td>0</td>\n",
       "    </tr>\n",
       "  </tbody>\n",
       "</table>\n",
       "</div>"
      ],
      "text/plain": [
       "Factor   Bypass Code Bypass Status Duo Mobile Passcode Duo Push  \\\n",
       "November          66            17                4041    27693   \n",
       "December          39            14                3189    27598   \n",
       "January           40            11                3127    28495   \n",
       "Febuary           49            11                2863    27271   \n",
       "March             45            11                2525    26847   \n",
       "April             41            11                2575    26947   \n",
       "\n",
       "Factor   Hardware Token Passcode Phone Call Remembered Device  \\\n",
       "November            613     1489       7790             15097   \n",
       "December            607     1078       7435             14275   \n",
       "January             620     1137       7949             15248   \n",
       "Febuary             607     1076       7260             15590   \n",
       "March               607      943       7239             14987   \n",
       "April               581      997       7332             15627   \n",
       "\n",
       "Factor   Security Key (WebAuthn) Touch ID (WebAuthn) U2F Token  \\\n",
       "November                      32                 261        83   \n",
       "December                      37                 252        92   \n",
       "January                       35                 269        94   \n",
       "Febuary                       36                 271        96   \n",
       "March                         32                 282        88   \n",
       "April                         32                 267        87   \n",
       "\n",
       "Factor   Yubikey Passcode  \n",
       "November                0  \n",
       "December                0  \n",
       "January                 1  \n",
       "Febuary                 1  \n",
       "March                   2  \n",
       "April                   0  "
      ]
     },
     "execution_count": 193,
     "metadata": {},
     "output_type": "execute_result"
    }
   ],
   "source": [
    "dataFrameeRanamed = dataFramee.rename( index={11: 'November', 12: 'December', 1: 'January', 2: 'Febuary', 3: 'March', 4: 'April'})\n",
    "dataFrameeRanamed"
   ]
  },
  {
   "cell_type": "code",
   "execution_count": 207,
   "metadata": {},
   "outputs": [
    {
     "data": {
      "image/png": "[encoded data removed]",
      "text/plain": [
       "<Figure size 1440x720 with 1 Axes>"
      ]
     },
     "metadata": {
      "needs_background": "light"
     },
     "output_type": "display_data"
    }
   ],
   "source": [
    "dataFrameeRanamed.plot()\n",
    "plt.ylabel('Users ', fontsize=20)\n",
    "plt.xlabel('Date', fontsize=20)\n",
    "plt.title('Number Users Using Eeach Factor', fontsize=24)\n",
    "plt.legend(bbox_to_anchor=(1.01, 1))\n",
    "plt.show()"
   ]
  },
  {
   "cell_type": "code",
   "execution_count": 198,
   "metadata": {
    "scrolled": true
   },
   "outputs": [
    {
     "name": "stdout",
     "output_type": "stream",
     "text": [
      "Bypass Code\n",
      "November    66\n",
      "December    39\n",
      "January     40\n",
      "Febuary     49\n",
      "March       45\n",
      "April       41\n",
      "Name: Bypass Code, dtype: object\n",
      "ADF Statistic: -5.072606779866837\n",
      "p-value: 1.5910411083921384e-05\n",
      "Critial Values:\n",
      "   1%, -7.355440625\n",
      "Critial Values:\n",
      "   5%, -4.474365000000001\n",
      "Critial Values:\n",
      "   10%, -3.1269325\n",
      "\n",
      "Bypass Status\n",
      "November    17\n",
      "December    14\n",
      "January     11\n",
      "Febuary     11\n",
      "March       11\n",
      "April       11\n",
      "Name: Bypass Status, dtype: object\n",
      "ADF Statistic: -4.024922359499622\n",
      "p-value: 0.0012854882033324431\n",
      "Critial Values:\n",
      "   1%, -6.045114\n",
      "Critial Values:\n",
      "   5%, -3.9292800000000003\n",
      "Critial Values:\n",
      "   10%, -2.98681\n",
      "\n",
      "Duo Mobile Passcode\n",
      "November    4041\n",
      "December    3189\n",
      "January     3127\n",
      "Febuary     2863\n",
      "March       2525\n",
      "April       2575\n",
      "Name: Duo Mobile Passcode, dtype: object\n",
      "ADF Statistic: -0.91393998626957\n",
      "p-value: 0.7833471238347087\n",
      "Critial Values:\n",
      "   1%, -7.355440625\n",
      "Critial Values:\n",
      "   5%, -4.474365000000001\n",
      "Critial Values:\n",
      "   10%, -3.1269325\n",
      "\n",
      "Duo Push\n",
      "November    27693\n",
      "December    27598\n",
      "January     28495\n",
      "Febuary     27271\n",
      "March       26847\n",
      "April       26947\n",
      "Name: Duo Push, dtype: object\n",
      "ADF Statistic: -1.1737510375865834\n",
      "p-value: 0.6847842241521374\n",
      "Critial Values:\n",
      "   1%, -6.045114\n",
      "Critial Values:\n",
      "   5%, -3.9292800000000003\n",
      "Critial Values:\n",
      "   10%, -2.98681\n",
      "\n",
      "Hardware Token\n",
      "November    613\n",
      "December    607\n",
      "January     620\n",
      "Febuary     607\n",
      "March       607\n",
      "April       581\n",
      "Name: Hardware Token, dtype: object\n",
      "ADF Statistic: -0.44518374890468065\n",
      "p-value: 0.9022769967600641\n",
      "Critial Values:\n",
      "   1%, -6.045114\n",
      "Critial Values:\n",
      "   5%, -3.9292800000000003\n",
      "Critial Values:\n",
      "   10%, -2.98681\n",
      "\n",
      "Passcode\n",
      "November    1489\n",
      "December    1078\n",
      "January     1137\n",
      "Febuary     1076\n",
      "March        943\n",
      "April        997\n",
      "Name: Passcode, dtype: object\n",
      "ADF Statistic: -0.6267480342234577\n",
      "p-value: 0.8648228079927167\n",
      "Critial Values:\n",
      "   1%, -7.355440625\n",
      "Critial Values:\n",
      "   5%, -4.474365000000001\n",
      "Critial Values:\n",
      "   10%, -3.1269325\n",
      "\n",
      "Phone Call\n",
      "November    7790\n",
      "December    7435\n",
      "January     7949\n",
      "Febuary     7260\n",
      "March       7239\n",
      "April       7332\n",
      "Name: Phone Call, dtype: object\n",
      "ADF Statistic: -2.085127919992805\n",
      "p-value: 0.25053663564214135\n",
      "Critial Values:\n",
      "   1%, -6.045114\n",
      "Critial Values:\n",
      "   5%, -3.9292800000000003\n",
      "Critial Values:\n",
      "   10%, -2.98681\n",
      "\n",
      "Remembered Device\n",
      "November    15097\n",
      "December    14275\n",
      "January     15248\n",
      "Febuary     15590\n",
      "March       14987\n",
      "April       15627\n",
      "Name: Remembered Device, dtype: object\n",
      "ADF Statistic: -1.7732147283169455\n",
      "p-value: 0.39383856107550064\n",
      "Critial Values:\n",
      "   1%, -6.045114\n",
      "Critial Values:\n",
      "   5%, -3.9292800000000003\n",
      "Critial Values:\n",
      "   10%, -2.98681\n",
      "\n",
      "Security Key (WebAuthn)\n",
      "November    32\n",
      "December    37\n",
      "January     35\n",
      "Febuary     36\n",
      "March       32\n",
      "April       32\n",
      "Name: Security Key (WebAuthn), dtype: object\n",
      "ADF Statistic: -1.885921798730752\n",
      "p-value: 0.338712646730602\n",
      "Critial Values:\n",
      "   1%, -6.045114\n",
      "Critial Values:\n",
      "   5%, -3.9292800000000003\n",
      "Critial Values:\n",
      "   10%, -2.98681\n",
      "\n",
      "Touch ID (WebAuthn)\n",
      "November    261\n",
      "December    252\n",
      "January     269\n",
      "Febuary     271\n",
      "March       282\n",
      "April       267\n",
      "Name: Touch ID (WebAuthn), dtype: object\n",
      "ADF Statistic: -1.4029127687900906\n",
      "p-value: 0.5808789066378921\n",
      "Critial Values:\n",
      "   1%, -6.045114\n",
      "Critial Values:\n",
      "   5%, -3.9292800000000003\n",
      "Critial Values:\n",
      "   10%, -2.98681\n",
      "\n",
      "U2F Token\n",
      "November    83\n",
      "December    92\n",
      "January     94\n",
      "Febuary     96\n",
      "March       88\n",
      "April       87\n",
      "Name: U2F Token, dtype: object\n",
      "ADF Statistic: -0.9964467299415827\n",
      "p-value: 0.7545580675421284\n",
      "Critial Values:\n",
      "   1%, -7.355440625\n",
      "Critial Values:\n",
      "   5%, -4.474365000000001\n",
      "Critial Values:\n",
      "   10%, -3.1269325\n",
      "\n",
      "Yubikey Passcode\n",
      "November    0\n",
      "December    0\n",
      "January     1\n",
      "Febuary     1\n",
      "March       2\n",
      "April       0\n",
      "Name: Yubikey Passcode, dtype: object\n",
      "ADF Statistic: -1.860521018838126\n",
      "p-value: 0.35085495989067494\n",
      "Critial Values:\n",
      "   1%, -6.045114\n",
      "Critial Values:\n",
      "   5%, -3.9292800000000003\n",
      "Critial Values:\n",
      "   10%, -2.98681\n",
      "\n"
     ]
    }
   ],
   "source": [
    "for i in dataFrameeRanamed.columns:\n",
    "    print(i)\n",
    "    print(dataFrameeRanamed[i])\n",
    "    resultOfFactorUsage = adfuller(dataFrameeRanamed[i])\n",
    "    print(f'ADF Statistic: {resultOfFactorUsage[0]}')\n",
    "    print(f'p-value: {resultOfFactorUsage[1]}')\n",
    "    for key, value in resultOfFactorUsage[4].items():\n",
    "        print('Critial Values:')\n",
    "        print(f'   {key}, {value}')\n",
    "    print('')"
   ]
  },
  {
   "cell_type": "code",
   "execution_count": 199,
   "metadata": {},
   "outputs": [
    {
     "name": "stdout",
     "output_type": "stream",
     "text": [
      "Collecting pymannkendallNote: you may need to restart the kernel to use updated packages.\n",
      "  Downloading pymannkendall-1.4.2-py3-none-any.whl (12 kB)\n",
      "Requirement already satisfied: numpy in c:\\users\\francisco\\anaconda3\\lib\\site-packages (from pymannkendall) (1.19.2)\n",
      "Requirement already satisfied: scipy in c:\\users\\francisco\\anaconda3\\lib\\site-packages (from pymannkendall) (1.5.2)\n",
      "Installing collected packages: pymannkendall\n",
      "Successfully installed pymannkendall-1.4.2\n",
      "\n"
     ]
    }
   ],
   "source": [
    "pip install pymannkendall"
   ]
  },
  {
   "cell_type": "code",
   "execution_count": 202,
   "metadata": {
    "scrolled": true
   },
   "outputs": [
    {
     "name": "stdout",
     "output_type": "stream",
     "text": [
      "November    66\n",
      "December    39\n",
      "January     40\n",
      "Febuary     49\n",
      "March       45\n",
      "April       41\n",
      "Name: Bypass Code, dtype: object\n",
      "Mann_Kendall_Test(trend='no trend', h=False, p=1.0, z=0.0, Tau=-0.06666666666666667, s=-1.0, var_s=28.333333333333332, slope=-4.0, intercept=53.0)\n",
      "\n",
      "November    17\n",
      "December    14\n",
      "January     11\n",
      "Febuary     11\n",
      "March       11\n",
      "April       11\n",
      "Name: Bypass Status, dtype: object\n",
      "Mann_Kendall_Test(trend='no trend', h=False, p=0.07123907236980909, z=-1.8039504672067892, Tau=-0.6, s=-9.0, var_s=19.666666666666668, slope=-1.0, intercept=13.5)\n",
      "\n",
      "November    4041\n",
      "December    3189\n",
      "January     3127\n",
      "Febuary     2863\n",
      "March       2525\n",
      "April       2575\n",
      "Name: Duo Mobile Passcode, dtype: object\n",
      "Mann_Kendall_Test(trend='decreasing', h=True, p=0.024170547174545254, z=-2.2544074479065386, Tau=-0.8666666666666667, s=-13.0, var_s=28.333333333333332, slope=-264.0, intercept=3655.0)\n",
      "\n",
      "November    27693\n",
      "December    27598\n",
      "January     28495\n",
      "Febuary     27271\n",
      "March       26847\n",
      "April       26947\n",
      "Name: Duo Push, dtype: object\n",
      "Mann_Kendall_Test(trend='no trend', h=False, p=0.13285495573105388, z=-1.502938298604359, Tau=-0.6, s=-9.0, var_s=28.333333333333332, slope=-162.75, intercept=27841.375)\n",
      "\n",
      "November    613\n",
      "December    607\n",
      "January     620\n",
      "Febuary     607\n",
      "March       607\n",
      "April       581\n",
      "Name: Hardware Token, dtype: object\n",
      "Mann_Kendall_Test(trend='no trend', h=False, p=0.1587087334157915, z=-1.409427715949451, Tau=-0.5333333333333333, s=-8.0, var_s=24.666666666666668, slope=-6.0, intercept=622.0)\n",
      "\n",
      "November    1489\n",
      "December    1078\n",
      "January     1137\n",
      "Febuary     1076\n",
      "March        943\n",
      "April        997\n",
      "Name: Passcode, dtype: object\n",
      "Mann_Kendall_Test(trend='no trend', h=False, p=0.060289173990602185, z=-1.8786728732554487, Tau=-0.7333333333333333, s=-11.0, var_s=28.333333333333332, slope=-61.0, intercept=1229.5)\n",
      "\n",
      "November    7790\n",
      "December    7435\n",
      "January     7949\n",
      "Febuary     7260\n",
      "March       7239\n",
      "April       7332\n",
      "Name: Phone Call, dtype: object\n",
      "Mann_Kendall_Test(trend='no trend', h=False, p=0.2596563563704499, z=-1.1272037239532693, Tau=-0.4666666666666667, s=-7.0, var_s=28.333333333333332, slope=-87.5, intercept=7602.25)\n",
      "\n",
      "November    15097\n",
      "December    14275\n",
      "January     15248\n",
      "Febuary     15590\n",
      "March       14987\n",
      "April       15627\n",
      "Name: Remembered Device, dtype: object\n",
      "Mann_Kendall_Test(trend='no trend', h=False, p=0.2596563563704499, z=1.1272037239532693, Tau=0.4666666666666667, s=7.0, var_s=28.333333333333332, slope=126.33333333333333, intercept=14856.666666666666)\n",
      "\n",
      "November    32\n",
      "December    37\n",
      "January     35\n",
      "Febuary     36\n",
      "March       32\n",
      "April       32\n",
      "Name: Security Key (WebAuthn), dtype: object\n",
      "Mann_Kendall_Test(trend='no trend', h=False, p=0.5458167496705262, z=-0.6040404496926219, Tau=-0.26666666666666666, s=-4.0, var_s=24.666666666666668, slope=-0.5, intercept=34.75)\n",
      "\n",
      "November    261\n",
      "December    252\n",
      "January     269\n",
      "Febuary     271\n",
      "March       282\n",
      "April       267\n",
      "Name: Touch ID (WebAuthn), dtype: object\n",
      "Mann_Kendall_Test(trend='no trend', h=False, p=0.2596563563704499, z=1.1272037239532693, Tau=0.4666666666666667, s=7.0, var_s=28.333333333333332, slope=3.75, intercept=258.625)\n",
      "\n",
      "November    83\n",
      "December    92\n",
      "January     94\n",
      "Febuary     96\n",
      "March       88\n",
      "April       87\n",
      "Name: U2F Token, dtype: object\n",
      "Mann_Kendall_Test(trend='no trend', h=False, p=1.0, z=0.0, Tau=0.06666666666666667, s=1.0, var_s=28.333333333333332, slope=0.8, intercept=88.0)\n",
      "\n",
      "November    0\n",
      "December    0\n",
      "January     1\n",
      "Febuary     1\n",
      "March       2\n",
      "April       0\n",
      "Name: Yubikey Passcode, dtype: object\n",
      "Mann_Kendall_Test(trend='no trend', h=False, p=0.4109480267103225, z=0.822226451793038, Tau=0.3333333333333333, s=5.0, var_s=23.666666666666668, slope=0.3333333333333333, intercept=-0.33333333333333326)\n",
      "\n"
     ]
    }
   ],
   "source": [
    "import pymannkendall as mk\n",
    "for i in dataFrameeRanamed.columns:\n",
    "    print(dataFrameeRanamed[i])\n",
    "    print(mk.original_test(dataFrameeRanamed[i]))\n",
    "    print('')"
   ]
  },
  {
   "cell_type": "code",
   "execution_count": null,
   "metadata": {},
   "outputs": [],
   "source": []
  },
  {
   "cell_type": "code",
   "execution_count": null,
   "metadata": {},
   "outputs": [],
   "source": []
  },
  {
   "cell_type": "code",
   "execution_count": 78,
   "metadata": {},
   "outputs": [],
   "source": [
    "logs_by_factor_arranged = logs_by_factor.groupby(['month','Factor']).size().unstack().reindex([11,12,1,2,3,4]).fillna(0).rename( index={11: 'November', 12: 'December', 1: 'January', 2: 'Febuary', 3: 'March', 4: 'April'})"
   ]
  },
  {
   "cell_type": "code",
   "execution_count": 87,
   "metadata": {},
   "outputs": [
    {
     "data": {
      "text/html": [
       "<div>\n",
       "<style scoped>\n",
       "    .dataframe tbody tr th:only-of-type {\n",
       "        vertical-align: middle;\n",
       "    }\n",
       "\n",
       "    .dataframe tbody tr th {\n",
       "        vertical-align: top;\n",
       "    }\n",
       "\n",
       "    .dataframe thead th {\n",
       "        text-align: right;\n",
       "    }\n",
       "</style>\n",
       "<table border=\"1\" class=\"dataframe\">\n",
       "  <thead>\n",
       "    <tr style=\"text-align: right;\">\n",
       "      <th>Factor</th>\n",
       "      <th>Bypass Code</th>\n",
       "      <th>Bypass Status</th>\n",
       "      <th>Duo Mobile Passcode</th>\n",
       "      <th>Duo Push</th>\n",
       "      <th>Hardware Token</th>\n",
       "      <th>Passcode</th>\n",
       "      <th>Phone Call</th>\n",
       "      <th>Remembered Device</th>\n",
       "      <th>Security Key (WebAuthn)</th>\n",
       "      <th>Touch ID (WebAuthn)</th>\n",
       "      <th>U2F Token</th>\n",
       "      <th>Yubikey Passcode</th>\n",
       "    </tr>\n",
       "    <tr>\n",
       "      <th>month</th>\n",
       "      <th></th>\n",
       "      <th></th>\n",
       "      <th></th>\n",
       "      <th></th>\n",
       "      <th></th>\n",
       "      <th></th>\n",
       "      <th></th>\n",
       "      <th></th>\n",
       "      <th></th>\n",
       "      <th></th>\n",
       "      <th></th>\n",
       "      <th></th>\n",
       "    </tr>\n",
       "  </thead>\n",
       "  <tbody>\n",
       "    <tr>\n",
       "      <th>November</th>\n",
       "      <td>240.0</td>\n",
       "      <td>342.0</td>\n",
       "      <td>49332.0</td>\n",
       "      <td>690756.0</td>\n",
       "      <td>12855.0</td>\n",
       "      <td>2642.0</td>\n",
       "      <td>122046.0</td>\n",
       "      <td>204621.0</td>\n",
       "      <td>536.0</td>\n",
       "      <td>3403.0</td>\n",
       "      <td>2177.0</td>\n",
       "      <td>0.0</td>\n",
       "    </tr>\n",
       "    <tr>\n",
       "      <th>December</th>\n",
       "      <td>172.0</td>\n",
       "      <td>308.0</td>\n",
       "      <td>35132.0</td>\n",
       "      <td>527273.0</td>\n",
       "      <td>11504.0</td>\n",
       "      <td>1957.0</td>\n",
       "      <td>98426.0</td>\n",
       "      <td>148852.0</td>\n",
       "      <td>444.0</td>\n",
       "      <td>2684.0</td>\n",
       "      <td>2183.0</td>\n",
       "      <td>0.0</td>\n",
       "    </tr>\n",
       "    <tr>\n",
       "      <th>January</th>\n",
       "      <td>140.0</td>\n",
       "      <td>462.0</td>\n",
       "      <td>34174.0</td>\n",
       "      <td>573462.0</td>\n",
       "      <td>12354.0</td>\n",
       "      <td>2029.0</td>\n",
       "      <td>114449.0</td>\n",
       "      <td>163239.0</td>\n",
       "      <td>557.0</td>\n",
       "      <td>3065.0</td>\n",
       "      <td>2180.0</td>\n",
       "      <td>1.0</td>\n",
       "    </tr>\n",
       "    <tr>\n",
       "      <th>Febuary</th>\n",
       "      <td>268.0</td>\n",
       "      <td>454.0</td>\n",
       "      <td>38983.0</td>\n",
       "      <td>685134.0</td>\n",
       "      <td>14302.0</td>\n",
       "      <td>1957.0</td>\n",
       "      <td>131844.0</td>\n",
       "      <td>208977.0</td>\n",
       "      <td>651.0</td>\n",
       "      <td>3627.0</td>\n",
       "      <td>2654.0</td>\n",
       "      <td>1.0</td>\n",
       "    </tr>\n",
       "    <tr>\n",
       "      <th>March</th>\n",
       "      <td>220.0</td>\n",
       "      <td>447.0</td>\n",
       "      <td>32669.0</td>\n",
       "      <td>605309.0</td>\n",
       "      <td>13976.0</td>\n",
       "      <td>1757.0</td>\n",
       "      <td>118483.0</td>\n",
       "      <td>179256.0</td>\n",
       "      <td>565.0</td>\n",
       "      <td>3285.0</td>\n",
       "      <td>2602.0</td>\n",
       "      <td>7.0</td>\n",
       "    </tr>\n",
       "    <tr>\n",
       "      <th>April</th>\n",
       "      <td>329.0</td>\n",
       "      <td>474.0</td>\n",
       "      <td>35228.0</td>\n",
       "      <td>687033.0</td>\n",
       "      <td>14034.0</td>\n",
       "      <td>1924.0</td>\n",
       "      <td>133840.0</td>\n",
       "      <td>220139.0</td>\n",
       "      <td>563.0</td>\n",
       "      <td>3700.0</td>\n",
       "      <td>2822.0</td>\n",
       "      <td>0.0</td>\n",
       "    </tr>\n",
       "  </tbody>\n",
       "</table>\n",
       "</div>"
      ],
      "text/plain": [
       "Factor    Bypass Code  Bypass Status  Duo Mobile Passcode  Duo Push  \\\n",
       "month                                                                 \n",
       "November        240.0          342.0              49332.0  690756.0   \n",
       "December        172.0          308.0              35132.0  527273.0   \n",
       "January         140.0          462.0              34174.0  573462.0   \n",
       "Febuary         268.0          454.0              38983.0  685134.0   \n",
       "March           220.0          447.0              32669.0  605309.0   \n",
       "April           329.0          474.0              35228.0  687033.0   \n",
       "\n",
       "Factor    Hardware Token  Passcode  Phone Call  Remembered Device  \\\n",
       "month                                                               \n",
       "November         12855.0    2642.0    122046.0           204621.0   \n",
       "December         11504.0    1957.0     98426.0           148852.0   \n",
       "January          12354.0    2029.0    114449.0           163239.0   \n",
       "Febuary          14302.0    1957.0    131844.0           208977.0   \n",
       "March            13976.0    1757.0    118483.0           179256.0   \n",
       "April            14034.0    1924.0    133840.0           220139.0   \n",
       "\n",
       "Factor    Security Key (WebAuthn)  Touch ID (WebAuthn)  U2F Token  \\\n",
       "month                                                               \n",
       "November                    536.0               3403.0     2177.0   \n",
       "December                    444.0               2684.0     2183.0   \n",
       "January                     557.0               3065.0     2180.0   \n",
       "Febuary                     651.0               3627.0     2654.0   \n",
       "March                       565.0               3285.0     2602.0   \n",
       "April                       563.0               3700.0     2822.0   \n",
       "\n",
       "Factor    Yubikey Passcode  \n",
       "month                       \n",
       "November               0.0  \n",
       "December               0.0  \n",
       "January                1.0  \n",
       "Febuary                1.0  \n",
       "March                  7.0  \n",
       "April                  0.0  "
      ]
     },
     "execution_count": 87,
     "metadata": {},
     "output_type": "execute_result"
    }
   ],
   "source": [
    "logs_by_factor_arranged"
   ]
  },
  {
   "cell_type": "code",
   "execution_count": 80,
   "metadata": {},
   "outputs": [
    {
     "data": {
      "image/png": "[encoded data removed]",
      "text/plain": [
       "<Figure size 1440x720 with 1 Axes>"
      ]
     },
     "metadata": {
      "needs_background": "light"
     },
     "output_type": "display_data"
    }
   ],
   "source": [
    "logs_by_factor_arranged.plot()\n",
    "plt.show()"
   ]
  },
  {
   "cell_type": "code",
   "execution_count": 86,
   "metadata": {
    "scrolled": true
   },
   "outputs": [
    {
     "name": "stdout",
     "output_type": "stream",
     "text": [
      "Bypass Code\n",
      "ADF Statistic: -1.2569390367770126\n",
      "p-value: 0.6486354533895218\n",
      "Critial Values:\n",
      "   1%, -6.045114\n",
      "Critial Values:\n",
      "   5%, -3.9292800000000003\n",
      "Critial Values:\n",
      "   10%, -2.98681\n",
      "\n",
      "Bypass Status\n",
      "ADF Statistic: -1.1869102469096628\n",
      "p-value: 0.6792010947995002\n",
      "Critial Values:\n",
      "   1%, -6.045114\n",
      "Critial Values:\n",
      "   5%, -3.9292800000000003\n",
      "Critial Values:\n",
      "   10%, -2.98681\n",
      "\n",
      "Duo Mobile Passcode\n",
      "ADF Statistic: -5.56290607796308\n",
      "p-value: 1.5274726892040531e-06\n",
      "Critial Values:\n",
      "   1%, -6.045114\n",
      "Critial Values:\n",
      "   5%, -3.9292800000000003\n",
      "Critial Values:\n",
      "   10%, -2.98681\n",
      "\n",
      "Duo Push\n",
      "ADF Statistic: -2.570529361979941\n",
      "p-value: 0.0992424966321282\n",
      "Critial Values:\n",
      "   1%, -6.045114\n",
      "Critial Values:\n",
      "   5%, -3.9292800000000003\n",
      "Critial Values:\n",
      "   10%, -2.98681\n",
      "\n",
      "Hardware Token\n",
      "ADF Statistic: -0.9245465667027895\n",
      "p-value: 0.7797814498390915\n",
      "Critial Values:\n",
      "   1%, -6.045114\n",
      "Critial Values:\n",
      "   5%, -3.9292800000000003\n",
      "Critial Values:\n",
      "   10%, -2.98681\n",
      "\n",
      "Passcode\n",
      "ADF Statistic: -5.525497968990551\n",
      "p-value: 1.8367181293821077e-06\n",
      "Critial Values:\n",
      "   1%, -6.045114\n",
      "Critial Values:\n",
      "   5%, -3.9292800000000003\n",
      "Critial Values:\n",
      "   10%, -2.98681\n",
      "\n",
      "Phone Call\n",
      "ADF Statistic: -1.5684382802452228\n",
      "p-value: 0.49942582765973353\n",
      "Critial Values:\n",
      "   1%, -6.045114\n",
      "Critial Values:\n",
      "   5%, -3.9292800000000003\n",
      "Critial Values:\n",
      "   10%, -2.98681\n",
      "\n",
      "Remembered Device\n",
      "ADF Statistic: -2.0065581174574776\n",
      "p-value: 0.28370501715615226\n",
      "Critial Values:\n",
      "   1%, -6.045114\n",
      "Critial Values:\n",
      "   5%, -3.9292800000000003\n",
      "Critial Values:\n",
      "   10%, -2.98681\n",
      "\n",
      "Security Key (WebAuthn)\n",
      "ADF Statistic: -3.2466556349984166\n",
      "p-value: 0.01743799718956586\n",
      "Critial Values:\n",
      "   1%, -7.355440625\n",
      "Critial Values:\n",
      "   5%, -4.474365000000001\n",
      "Critial Values:\n",
      "   10%, -3.1269325\n",
      "\n",
      "Touch ID (WebAuthn)\n",
      "ADF Statistic: -1.5413572170368572\n",
      "p-value: 0.5129624248653747\n",
      "Critial Values:\n",
      "   1%, -6.045114\n",
      "Critial Values:\n",
      "   5%, -3.9292800000000003\n",
      "Critial Values:\n",
      "   10%, -2.98681\n",
      "\n",
      "U2F Token\n",
      "ADF Statistic: -0.389751700695569\n",
      "p-value: 0.9117958656957126\n",
      "Critial Values:\n",
      "   1%, -6.045114\n",
      "Critial Values:\n",
      "   5%, -3.9292800000000003\n",
      "Critial Values:\n",
      "   10%, -2.98681\n",
      "\n",
      "Yubikey Passcode\n",
      "ADF Statistic: 4.608816267117245\n",
      "p-value: 1.0\n",
      "Critial Values:\n",
      "   1%, -7.355440625\n",
      "Critial Values:\n",
      "   5%, -4.474365000000001\n",
      "Critial Values:\n",
      "   10%, -3.1269325\n",
      "\n"
     ]
    }
   ],
   "source": [
    "for i in logs_by_factor_arranged.columns:\n",
    "    print(i)\n",
    "    resultOfFactorUsage = adfuller(logs_by_factor_arranged[i], autolag='AIC')\n",
    "    print(f'ADF Statistic: {resultOfFactorUsage[0]}')\n",
    "    print(f'p-value: {resultOfFactorUsage[1]}')\n",
    "    for key, value in resultOfFactorUsage[4].items():\n",
    "        print('Critial Values:')\n",
    "        print(f'   {key}, {value}')\n",
    "    print('')"
   ]
  },
  {
   "cell_type": "code",
   "execution_count": null,
   "metadata": {},
   "outputs": [],
   "source": []
  },
  {
   "cell_type": "code",
   "execution_count": 20,
   "metadata": {},
   "outputs": [],
   "source": [
    "# Compare the usage of enabling a backup device by group (student, faculty, staff)?"
   ]
  },
  {
   "cell_type": "code",
   "execution_count": 20,
   "metadata": {},
   "outputs": [],
   "source": [
    "def enabledBackup(factor):\n",
    "    if(factor!=0):\n",
    "        return 1\n",
    "    else:\n",
    "        return 0"
   ]
  },
  {
   "cell_type": "code",
   "execution_count": 21,
   "metadata": {},
   "outputs": [],
   "source": [
    "anlysisOfUsers = subsetOfUsers.fillna(0)"
   ]
  },
  {
   "cell_type": "code",
   "execution_count": 22,
   "metadata": {},
   "outputs": [],
   "source": [
    "anlysisOfUsers['Backup enabled'] = anlysisOfUsers['Phone 2 platform'].apply(lambda val: enabledBackup(val))"
   ]
  },
  {
   "cell_type": "code",
   "execution_count": 23,
   "metadata": {},
   "outputs": [
    {
     "data": {
      "text/html": [
       "<div>\n",
       "<style scoped>\n",
       "    .dataframe tbody tr th:only-of-type {\n",
       "        vertical-align: middle;\n",
       "    }\n",
       "\n",
       "    .dataframe tbody tr th {\n",
       "        vertical-align: top;\n",
       "    }\n",
       "\n",
       "    .dataframe thead th {\n",
       "        text-align: right;\n",
       "    }\n",
       "</style>\n",
       "<table border=\"1\" class=\"dataframe\">\n",
       "  <thead>\n",
       "    <tr style=\"text-align: right;\">\n",
       "      <th></th>\n",
       "      <th>Alias</th>\n",
       "      <th>Status</th>\n",
       "      <th>Created</th>\n",
       "      <th>Last Login</th>\n",
       "      <th>Phone 1 platform</th>\n",
       "      <th>Phone 2 platform</th>\n",
       "      <th>Phone 3 platform</th>\n",
       "      <th>Phone 4 platform</th>\n",
       "      <th>Phone 5 platform</th>\n",
       "      <th>Phone 6 platform</th>\n",
       "      <th>Phone 7 platform</th>\n",
       "      <th>Student</th>\n",
       "      <th>Description</th>\n",
       "      <th>Index</th>\n",
       "      <th>Backup enabled</th>\n",
       "    </tr>\n",
       "  </thead>\n",
       "  <tbody>\n",
       "    <tr>\n",
       "      <th>0</th>\n",
       "      <td>user_000001</td>\n",
       "      <td>Active</td>\n",
       "      <td>2017-04-26 18:31:00</td>\n",
       "      <td>4/7/2021 15:00</td>\n",
       "      <td>Landline</td>\n",
       "      <td>0</td>\n",
       "      <td>0</td>\n",
       "      <td>0</td>\n",
       "      <td>0</td>\n",
       "      <td>0</td>\n",
       "      <td>0</td>\n",
       "      <td>False</td>\n",
       "      <td>Active (Staff)</td>\n",
       "      <td>1</td>\n",
       "      <td>0</td>\n",
       "    </tr>\n",
       "    <tr>\n",
       "      <th>1</th>\n",
       "      <td>user_000002</td>\n",
       "      <td>Active</td>\n",
       "      <td>2017-04-26 18:58:00</td>\n",
       "      <td>4/6/2021 21:34</td>\n",
       "      <td>Android</td>\n",
       "      <td>Landline</td>\n",
       "      <td>0</td>\n",
       "      <td>0</td>\n",
       "      <td>0</td>\n",
       "      <td>0</td>\n",
       "      <td>0</td>\n",
       "      <td>False</td>\n",
       "      <td>Active (Staff)</td>\n",
       "      <td>2</td>\n",
       "      <td>1</td>\n",
       "    </tr>\n",
       "    <tr>\n",
       "      <th>2</th>\n",
       "      <td>user_000003</td>\n",
       "      <td>Active</td>\n",
       "      <td>2017-04-27 20:42:00</td>\n",
       "      <td>4/6/2021 16:35</td>\n",
       "      <td>Landline</td>\n",
       "      <td>Android</td>\n",
       "      <td>0</td>\n",
       "      <td>0</td>\n",
       "      <td>0</td>\n",
       "      <td>0</td>\n",
       "      <td>0</td>\n",
       "      <td>False</td>\n",
       "      <td>Active (Staff)</td>\n",
       "      <td>3</td>\n",
       "      <td>1</td>\n",
       "    </tr>\n",
       "    <tr>\n",
       "      <th>3</th>\n",
       "      <td>user_000004</td>\n",
       "      <td>Active</td>\n",
       "      <td>2017-08-16 17:10:00</td>\n",
       "      <td>4/7/2021 14:23</td>\n",
       "      <td>iOS</td>\n",
       "      <td>Landline</td>\n",
       "      <td>0</td>\n",
       "      <td>0</td>\n",
       "      <td>0</td>\n",
       "      <td>0</td>\n",
       "      <td>0</td>\n",
       "      <td>False</td>\n",
       "      <td>Active (Staff)</td>\n",
       "      <td>4</td>\n",
       "      <td>1</td>\n",
       "    </tr>\n",
       "    <tr>\n",
       "      <th>4</th>\n",
       "      <td>user_000005</td>\n",
       "      <td>Active</td>\n",
       "      <td>2017-09-12 22:03:00</td>\n",
       "      <td>4/7/2021 0:17</td>\n",
       "      <td>Android</td>\n",
       "      <td>Landline</td>\n",
       "      <td>0</td>\n",
       "      <td>0</td>\n",
       "      <td>0</td>\n",
       "      <td>0</td>\n",
       "      <td>0</td>\n",
       "      <td>False</td>\n",
       "      <td>Active (Staff)</td>\n",
       "      <td>5</td>\n",
       "      <td>1</td>\n",
       "    </tr>\n",
       "  </tbody>\n",
       "</table>\n",
       "</div>"
      ],
      "text/plain": [
       "         Alias  Status             Created      Last Login Phone 1 platform  \\\n",
       "0  user_000001  Active 2017-04-26 18:31:00  4/7/2021 15:00         Landline   \n",
       "1  user_000002  Active 2017-04-26 18:58:00  4/6/2021 21:34          Android   \n",
       "2  user_000003  Active 2017-04-27 20:42:00  4/6/2021 16:35         Landline   \n",
       "3  user_000004  Active 2017-08-16 17:10:00  4/7/2021 14:23              iOS   \n",
       "4  user_000005  Active 2017-09-12 22:03:00   4/7/2021 0:17          Android   \n",
       "\n",
       "  Phone 2 platform Phone 3 platform Phone 4 platform Phone 5 platform  \\\n",
       "0                0                0                0                0   \n",
       "1         Landline                0                0                0   \n",
       "2          Android                0                0                0   \n",
       "3         Landline                0                0                0   \n",
       "4         Landline                0                0                0   \n",
       "\n",
       "  Phone 6 platform Phone 7 platform  Student     Description  Index  \\\n",
       "0                0                0    False  Active (Staff)      1   \n",
       "1                0                0    False  Active (Staff)      2   \n",
       "2                0                0    False  Active (Staff)      3   \n",
       "3                0                0    False  Active (Staff)      4   \n",
       "4                0                0    False  Active (Staff)      5   \n",
       "\n",
       "   Backup enabled  \n",
       "0               0  \n",
       "1               1  \n",
       "2               1  \n",
       "3               1  \n",
       "4               1  "
      ]
     },
     "execution_count": 23,
     "metadata": {},
     "output_type": "execute_result"
    }
   ],
   "source": [
    "anlysisOfUsers.head()"
   ]
  },
  {
   "cell_type": "code",
   "execution_count": 24,
   "metadata": {},
   "outputs": [],
   "source": [
    "t = anlysisOfUsers.groupby(['Description','Backup enabled']).size().unstack().transpose()"
   ]
  },
  {
   "cell_type": "code",
   "execution_count": 25,
   "metadata": {},
   "outputs": [
    {
     "data": {
      "text/html": [
       "<div>\n",
       "<style scoped>\n",
       "    .dataframe tbody tr th:only-of-type {\n",
       "        vertical-align: middle;\n",
       "    }\n",
       "\n",
       "    .dataframe tbody tr th {\n",
       "        vertical-align: top;\n",
       "    }\n",
       "\n",
       "    .dataframe thead th {\n",
       "        text-align: right;\n",
       "    }\n",
       "</style>\n",
       "<table border=\"1\" class=\"dataframe\">\n",
       "  <thead>\n",
       "    <tr style=\"text-align: right;\">\n",
       "      <th>Description</th>\n",
       "      <th>Active (Faculty)</th>\n",
       "      <th>Active (Staff)</th>\n",
       "      <th>Active (Student)</th>\n",
       "    </tr>\n",
       "    <tr>\n",
       "      <th>Backup enabled</th>\n",
       "      <th></th>\n",
       "      <th></th>\n",
       "      <th></th>\n",
       "    </tr>\n",
       "  </thead>\n",
       "  <tbody>\n",
       "    <tr>\n",
       "      <th>0</th>\n",
       "      <td>1587</td>\n",
       "      <td>780</td>\n",
       "      <td>30785</td>\n",
       "    </tr>\n",
       "    <tr>\n",
       "      <th>1</th>\n",
       "      <td>186</td>\n",
       "      <td>399</td>\n",
       "      <td>2146</td>\n",
       "    </tr>\n",
       "  </tbody>\n",
       "</table>\n",
       "</div>"
      ],
      "text/plain": [
       "Description     Active (Faculty)  Active (Staff)  Active (Student)\n",
       "Backup enabled                                                    \n",
       "0                           1587             780             30785\n",
       "1                            186             399              2146"
      ]
     },
     "execution_count": 25,
     "metadata": {},
     "output_type": "execute_result"
    }
   ],
   "source": [
    "t"
   ]
  },
  {
   "cell_type": "code",
   "execution_count": 26,
   "metadata": {},
   "outputs": [
    {
     "data": {
      "text/html": [
       "<div>\n",
       "<style scoped>\n",
       "    .dataframe tbody tr th:only-of-type {\n",
       "        vertical-align: middle;\n",
       "    }\n",
       "\n",
       "    .dataframe tbody tr th {\n",
       "        vertical-align: top;\n",
       "    }\n",
       "\n",
       "    .dataframe thead th {\n",
       "        text-align: right;\n",
       "    }\n",
       "</style>\n",
       "<table border=\"1\" class=\"dataframe\">\n",
       "  <thead>\n",
       "    <tr style=\"text-align: right;\">\n",
       "      <th>Backup enabled</th>\n",
       "      <th>0</th>\n",
       "      <th>1</th>\n",
       "    </tr>\n",
       "    <tr>\n",
       "      <th>Description</th>\n",
       "      <th></th>\n",
       "      <th></th>\n",
       "    </tr>\n",
       "  </thead>\n",
       "  <tbody>\n",
       "    <tr>\n",
       "      <th>Active (Faculty)</th>\n",
       "      <td>1587</td>\n",
       "      <td>186</td>\n",
       "    </tr>\n",
       "    <tr>\n",
       "      <th>Active (Staff)</th>\n",
       "      <td>780</td>\n",
       "      <td>399</td>\n",
       "    </tr>\n",
       "    <tr>\n",
       "      <th>Active (Student)</th>\n",
       "      <td>30785</td>\n",
       "      <td>2146</td>\n",
       "    </tr>\n",
       "  </tbody>\n",
       "</table>\n",
       "</div>"
      ],
      "text/plain": [
       "Backup enabled        0     1\n",
       "Description                  \n",
       "Active (Faculty)   1587   186\n",
       "Active (Staff)      780   399\n",
       "Active (Student)  30785  2146"
      ]
     },
     "execution_count": 26,
     "metadata": {},
     "output_type": "execute_result"
    }
   ],
   "source": [
    "t.transpose()"
   ]
  },
  {
   "cell_type": "code",
   "execution_count": 27,
   "metadata": {},
   "outputs": [
    {
     "data": {
      "text/plain": [
       "Description\n",
       "Active (Faculty)     1773\n",
       "Active (Staff)       1179\n",
       "Active (Student)    32931\n",
       "dtype: int64"
      ]
     },
     "execution_count": 27,
     "metadata": {},
     "output_type": "execute_result"
    }
   ],
   "source": [
    "t.transpose().sum(axis=1)"
   ]
  },
  {
   "cell_type": "code",
   "execution_count": 28,
   "metadata": {},
   "outputs": [
    {
     "data": {
      "image/png": "[encoded data removed]",
      "text/plain": [
       "<Figure size 1440x720 with 1 Axes>"
      ]
     },
     "metadata": {
      "needs_background": "light"
     },
     "output_type": "display_data"
    }
   ],
   "source": [
    "i = t.transpose()[1].div(t.transpose().sum(axis=1))*100\n",
    "i.sort_values(ascending=False).plot.bar(rot=0)\n",
    "plt.ylabel('Percent (%)', fontsize=20)\n",
    "plt.xlabel('Groups', fontsize=20)\n",
    "plt.title('Users that Enabled a backup device', fontsize=24)\n",
    "plt.show()"
   ]
  },
  {
   "cell_type": "code",
   "execution_count": 29,
   "metadata": {},
   "outputs": [
    {
     "name": "stdout",
     "output_type": "stream",
     "text": [
      "(1230.708398550513, 5.689404851491079e-268, 2, array([[ 1638.05969401,  1089.26812139, 30424.6721846 ],\n",
      "       [  134.94030599,    89.73187861,  2506.3278154 ]]))\n"
     ]
    }
   ],
   "source": [
    "print(chi2_contingency(t))"
   ]
  },
  {
   "cell_type": "code",
   "execution_count": 33,
   "metadata": {},
   "outputs": [
    {
     "name": "stdout",
     "output_type": "stream",
     "text": [
      "Faculty VS Staff\n",
      "True\n",
      "////////////////\n",
      "Faculty VS Student\n",
      "True\n",
      "////////////////\n",
      "Staff VS Student\n",
      "True\n"
     ]
    }
   ],
   "source": [
    "computePairWiseChiSquared(t)"
   ]
  },
  {
   "cell_type": "code",
   "execution_count": 236,
   "metadata": {},
   "outputs": [
    {
     "name": "stdout",
     "output_type": "stream",
     "text": [
      "Faculty VS Staff\n",
      "1.8169225917994618e-54\n",
      "////////////////\n",
      "Faculty VS Student\n",
      "1.0330180177794038e-10\n",
      "////////////////\n",
      "Staff VS Student\n",
      "8.226078550356733e-269\n"
     ]
    }
   ],
   "source": [
    "pVal = .05\n",
    "print(\"Faculty VS Staff\")\n",
    "print(chi2_contingency(t[['Active (Faculty)','Active (Staff)']])[1])\n",
    "#     print(chi2_contingency(dataFrame[['Active (Faculty)','Active (Staff)']]))\n",
    "print(\"////////////////\")\n",
    "print(\"Faculty VS Student\")\n",
    "print(chi2_contingency(t[['Active (Faculty)','Active (Student)']])[1])\n",
    "#     print(chi2_contingency(dataFrame[['Active (Faculty)','Active (Student)']]))\n",
    "print(\"////////////////\")\n",
    "print(\"Staff VS Student\")\n",
    "print(chi2_contingency(t[['Active (Staff)','Active (Student)']])[1])"
   ]
  },
  {
   "cell_type": "code",
   "execution_count": 103,
   "metadata": {},
   "outputs": [],
   "source": [
    "# determine the error rate between iphone users and android users"
   ]
  },
  {
   "cell_type": "code",
   "execution_count": 120,
   "metadata": {},
   "outputs": [],
   "source": [
    "filledNanValues = subsetOfUsers.fillna(0)"
   ]
  },
  {
   "cell_type": "code",
   "execution_count": 121,
   "metadata": {},
   "outputs": [],
   "source": [
    "noBackupUsers = filledNanValues[filledNanValues['Phone 2 platform']==0]"
   ]
  },
  {
   "cell_type": "code",
   "execution_count": 130,
   "metadata": {},
   "outputs": [],
   "source": [
    "iosMask = noBackupUsers['Phone 1 platform']=='iOS'\n",
    "androidMask = noBackupUsers['Phone 1 platform']=='Android'"
   ]
  },
  {
   "cell_type": "code",
   "execution_count": 135,
   "metadata": {
    "scrolled": true
   },
   "outputs": [],
   "source": [
    "androidAndIphoneUsers = noBackupUsers[iosMask | androidMask]"
   ]
  },
  {
   "cell_type": "code",
   "execution_count": 140,
   "metadata": {},
   "outputs": [
    {
     "name": "stderr",
     "output_type": "stream",
     "text": [
      "<ipython-input-140-55af1dc3834e>:1: SettingWithCopyWarning: \n",
      "A value is trying to be set on a copy of a slice from a DataFrame.\n",
      "Try using .loc[row_indexer,col_indexer] = value instead\n",
      "\n",
      "See the caveats in the documentation: https://pandas.pydata.org/pandas-docs/stable/user_guide/indexing.html#returning-a-view-versus-a-copy\n",
      "  androidAndIphoneUsers[\"errorRate\"] = androidAndIphoneUsers['Alias'].map(userQuantifiedLogs[\"failureRate\"].to_dict())\n"
     ]
    }
   ],
   "source": [
    "androidAndIphoneUsers[\"errorRate\"] = androidAndIphoneUsers['Alias'].map(userQuantifiedLogs[\"failureRate\"].to_dict())"
   ]
  },
  {
   "cell_type": "code",
   "execution_count": 141,
   "metadata": {},
   "outputs": [
    {
     "data": {
      "text/html": [
       "<div>\n",
       "<style scoped>\n",
       "    .dataframe tbody tr th:only-of-type {\n",
       "        vertical-align: middle;\n",
       "    }\n",
       "\n",
       "    .dataframe tbody tr th {\n",
       "        vertical-align: top;\n",
       "    }\n",
       "\n",
       "    .dataframe thead th {\n",
       "        text-align: right;\n",
       "    }\n",
       "</style>\n",
       "<table border=\"1\" class=\"dataframe\">\n",
       "  <thead>\n",
       "    <tr style=\"text-align: right;\">\n",
       "      <th></th>\n",
       "      <th>Alias</th>\n",
       "      <th>Status</th>\n",
       "      <th>Created</th>\n",
       "      <th>Last Login</th>\n",
       "      <th>Phone 1 platform</th>\n",
       "      <th>Phone 2 platform</th>\n",
       "      <th>Phone 3 platform</th>\n",
       "      <th>Phone 4 platform</th>\n",
       "      <th>Phone 5 platform</th>\n",
       "      <th>Phone 6 platform</th>\n",
       "      <th>Phone 7 platform</th>\n",
       "      <th>Student</th>\n",
       "      <th>Description</th>\n",
       "      <th>Index</th>\n",
       "      <th>errorRate</th>\n",
       "    </tr>\n",
       "  </thead>\n",
       "  <tbody>\n",
       "    <tr>\n",
       "      <th>34</th>\n",
       "      <td>user_000035</td>\n",
       "      <td>Active</td>\n",
       "      <td>2018-06-27 16:25:00</td>\n",
       "      <td>4/7/2021 15:09</td>\n",
       "      <td>iOS</td>\n",
       "      <td>0</td>\n",
       "      <td>0</td>\n",
       "      <td>0</td>\n",
       "      <td>0</td>\n",
       "      <td>0</td>\n",
       "      <td>0</td>\n",
       "      <td>False</td>\n",
       "      <td>Active (Staff)</td>\n",
       "      <td>35</td>\n",
       "      <td>0.009615</td>\n",
       "    </tr>\n",
       "    <tr>\n",
       "      <th>44</th>\n",
       "      <td>user_000045</td>\n",
       "      <td>Active</td>\n",
       "      <td>2018-06-29 17:37:00</td>\n",
       "      <td>4/6/2021 22:27</td>\n",
       "      <td>iOS</td>\n",
       "      <td>0</td>\n",
       "      <td>0</td>\n",
       "      <td>0</td>\n",
       "      <td>0</td>\n",
       "      <td>0</td>\n",
       "      <td>0</td>\n",
       "      <td>False</td>\n",
       "      <td>Active (Staff)</td>\n",
       "      <td>45</td>\n",
       "      <td>0.047945</td>\n",
       "    </tr>\n",
       "    <tr>\n",
       "      <th>48</th>\n",
       "      <td>user_000049</td>\n",
       "      <td>Active</td>\n",
       "      <td>2018-06-29 20:41:00</td>\n",
       "      <td>4/6/2021 20:00</td>\n",
       "      <td>iOS</td>\n",
       "      <td>0</td>\n",
       "      <td>0</td>\n",
       "      <td>0</td>\n",
       "      <td>0</td>\n",
       "      <td>0</td>\n",
       "      <td>0</td>\n",
       "      <td>False</td>\n",
       "      <td>Active (Staff)</td>\n",
       "      <td>49</td>\n",
       "      <td>0.015556</td>\n",
       "    </tr>\n",
       "    <tr>\n",
       "      <th>52</th>\n",
       "      <td>user_000053</td>\n",
       "      <td>Active</td>\n",
       "      <td>2018-07-02 21:11:00</td>\n",
       "      <td>4/3/2021 10:22</td>\n",
       "      <td>Android</td>\n",
       "      <td>0</td>\n",
       "      <td>0</td>\n",
       "      <td>0</td>\n",
       "      <td>0</td>\n",
       "      <td>0</td>\n",
       "      <td>0</td>\n",
       "      <td>False</td>\n",
       "      <td>Active (Staff)</td>\n",
       "      <td>53</td>\n",
       "      <td>0.000000</td>\n",
       "    </tr>\n",
       "    <tr>\n",
       "      <th>53</th>\n",
       "      <td>user_000054</td>\n",
       "      <td>Active</td>\n",
       "      <td>2018-07-03 17:27:00</td>\n",
       "      <td>4/6/2021 23:25</td>\n",
       "      <td>iOS</td>\n",
       "      <td>0</td>\n",
       "      <td>0</td>\n",
       "      <td>0</td>\n",
       "      <td>0</td>\n",
       "      <td>0</td>\n",
       "      <td>0</td>\n",
       "      <td>False</td>\n",
       "      <td>Active (Staff)</td>\n",
       "      <td>54</td>\n",
       "      <td>0.052632</td>\n",
       "    </tr>\n",
       "  </tbody>\n",
       "</table>\n",
       "</div>"
      ],
      "text/plain": [
       "          Alias  Status             Created      Last Login Phone 1 platform  \\\n",
       "34  user_000035  Active 2018-06-27 16:25:00  4/7/2021 15:09              iOS   \n",
       "44  user_000045  Active 2018-06-29 17:37:00  4/6/2021 22:27              iOS   \n",
       "48  user_000049  Active 2018-06-29 20:41:00  4/6/2021 20:00              iOS   \n",
       "52  user_000053  Active 2018-07-02 21:11:00  4/3/2021 10:22          Android   \n",
       "53  user_000054  Active 2018-07-03 17:27:00  4/6/2021 23:25              iOS   \n",
       "\n",
       "   Phone 2 platform Phone 3 platform Phone 4 platform Phone 5 platform  \\\n",
       "34                0                0                0                0   \n",
       "44                0                0                0                0   \n",
       "48                0                0                0                0   \n",
       "52                0                0                0                0   \n",
       "53                0                0                0                0   \n",
       "\n",
       "   Phone 6 platform Phone 7 platform  Student     Description  Index  \\\n",
       "34                0                0    False  Active (Staff)     35   \n",
       "44                0                0    False  Active (Staff)     45   \n",
       "48                0                0    False  Active (Staff)     49   \n",
       "52                0                0    False  Active (Staff)     53   \n",
       "53                0                0    False  Active (Staff)     54   \n",
       "\n",
       "    errorRate  \n",
       "34   0.009615  \n",
       "44   0.047945  \n",
       "48   0.015556  \n",
       "52   0.000000  \n",
       "53   0.052632  "
      ]
     },
     "execution_count": 141,
     "metadata": {},
     "output_type": "execute_result"
    }
   ],
   "source": [
    "androidAndIphoneUsers.head()"
   ]
  },
  {
   "cell_type": "code",
   "execution_count": 144,
   "metadata": {},
   "outputs": [
    {
     "data": {
      "text/plain": [
       "Ttest_indResult(statistic=-3.461891881967222, pvalue=0.0005370896098907203)"
      ]
     },
     "execution_count": 144,
     "metadata": {},
     "output_type": "execute_result"
    }
   ],
   "source": [
    "stats.ttest_ind(androidAndIphoneUsers[androidAndIphoneUsers['Phone 1 platform']=='iOS']['errorRate'], \n",
    "                androidAndIphoneUsers[androidAndIphoneUsers['Phone 1 platform']=='Android']['errorRate'])"
   ]
  },
  {
   "cell_type": "code",
   "execution_count": 164,
   "metadata": {},
   "outputs": [
    {
     "data": {
      "text/plain": [
       "0.05231436261057126"
      ]
     },
     "execution_count": 164,
     "metadata": {},
     "output_type": "execute_result"
    }
   ],
   "source": [
    "androidAndIphoneUsers[androidAndIphoneUsers['Phone 1 platform']=='iOS']['errorRate'].mean()"
   ]
  },
  {
   "cell_type": "code",
   "execution_count": 165,
   "metadata": {},
   "outputs": [
    {
     "data": {
      "text/plain": [
       "0.055984905763308765"
      ]
     },
     "execution_count": 165,
     "metadata": {},
     "output_type": "execute_result"
    }
   ],
   "source": [
    "androidAndIphoneUsers[androidAndIphoneUsers['Phone 1 platform']=='Android']['errorRate'].mean()"
   ]
  },
  {
   "cell_type": "code",
   "execution_count": 159,
   "metadata": {},
   "outputs": [],
   "source": [
    "from scipy.stats import mannwhitneyu\n",
    "res = mannwhitneyu(androidAndIphoneUsers[androidAndIphoneUsers['Phone 1 platform']=='iOS']['errorRate'], \n",
    "                androidAndIphoneUsers[androidAndIphoneUsers['Phone 1 platform']=='Android']['errorRate'])"
   ]
  },
  {
   "cell_type": "code",
   "execution_count": 160,
   "metadata": {},
   "outputs": [
    {
     "data": {
      "text/plain": [
       "MannwhitneyuResult(statistic=75360502.5, pvalue=1.9061873768973684e-08)"
      ]
     },
     "execution_count": 160,
     "metadata": {},
     "output_type": "execute_result"
    }
   ],
   "source": [
    "res"
   ]
  },
  {
   "cell_type": "code",
   "execution_count": 158,
   "metadata": {},
   "outputs": [
    {
     "data": {
      "image/png": "[encoded data removed]",
      "text/plain": [
       "<Figure size 504x576 with 1 Axes>"
      ]
     },
     "metadata": {
      "needs_background": "light"
     },
     "output_type": "display_data"
    }
   ],
   "source": [
    "plt.rcParams[\"figure.figsize\"] = (7,8)\n",
    "sns.boxplot(x=\"Phone 1 platform\", y=\"errorRate\", data=androidAndIphoneUsers)\n",
    "plt.ylim(0,.2)\n",
    "plt.show()"
   ]
  }
 ],
 "metadata": {
  "kernelspec": {
   "display_name": "Python 3",
   "language": "python",
   "name": "python3"
  },
  "language_info": {
   "codemirror_mode": {
    "name": "ipython",
    "version": 3
   },
   "file_extension": ".py",
   "mimetype": "text/x-python",
   "name": "python",
   "nbconvert_exporter": "python",
   "pygments_lexer": "ipython3",
   "version": "3.8.5"
  }
 },
 "nbformat": 4,
 "nbformat_minor": 4
}
