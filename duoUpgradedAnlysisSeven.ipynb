{
 "cells": [
  {
   "cell_type": "code",
   "execution_count": 1,
   "metadata": {},
   "outputs": [],
   "source": [
    "import pandas as pd\n",
    "import matplotlib.pyplot as plt\n",
    "from matplotlib.pyplot import figure\n",
    "import math\n",
    "from datetime import datetime, timedelta\n",
    "import seaborn as sns\n",
    "\n",
    "import datetime\n",
    "from dateutil.parser import parse\n",
    "\n",
    "import numpy as np\n",
    "\n",
    "\n",
    "from matplotlib import rcParams\n",
    "\n",
    "plt.rcParams[\"figure.figsize\"] = (20,10)\n",
    "# %reset"
   ]
  },
  {
   "cell_type": "code",
   "execution_count": 2,
   "metadata": {},
   "outputs": [],
   "source": [
    "pd.set_option('display.max_rows', None)\n",
    "pd.set_option('display.max_columns', None)\n",
    "pd.set_option('display.max_colwidth', None)"
   ]
  },
  {
   "cell_type": "code",
   "execution_count": 3,
   "metadata": {},
   "outputs": [
    {
     "name": "stderr",
     "output_type": "stream",
     "text": [
      "C:\\Users\\Francisco\\anaconda3\\lib\\site-packages\\IPython\\core\\interactiveshell.py:3146: DtypeWarning: Columns (10) have mixed types.Specify dtype option on import or set low_memory=False.\n",
      "  has_raised = await self.run_ast_nodes(code_ast.body, cell_name,\n"
     ]
    }
   ],
   "source": [
    "import glob\n",
    "\n",
    "all_files = glob.glob(\"./Duo_Auth*.csv\")\n",
    "\n",
    "li = []\n",
    "\n",
    "for filename in all_files:\n",
    "#     print(filename)\n",
    "    df = pd.read_csv(filename, index_col=None, header=0)\n",
    "    li.append(df)\n",
    "df = pd.concat(li, axis=0, ignore_index=True)"
   ]
  },
  {
   "cell_type": "code",
   "execution_count": 4,
   "metadata": {},
   "outputs": [],
   "source": [
    "df['Timestamp (UTC)'] = pd.to_datetime(df['Timestamp (UTC)'])\n",
    "df['date'] = df['Timestamp (UTC)'].apply(lambda timestamp: timestamp.date())\n",
    "df['month'] = df['Timestamp (UTC)'].apply(lambda timestamp:  timestamp.month)\n",
    "df['hour'] = df['Timestamp (UTC)'].apply(lambda timestamp:  timestamp.hour)\n",
    "df['minute'] = df['Timestamp (UTC)'].apply(lambda timestamp:  timestamp.minute)\n",
    "df['second'] = df['Timestamp (UTC)'].apply(lambda timestamp:  timestamp.second)"
   ]
  },
  {
   "cell_type": "code",
   "execution_count": 5,
   "metadata": {},
   "outputs": [
    {
     "name": "stdout",
     "output_type": "stream",
     "text": [
      "(7077783, 16)\n"
     ]
    },
    {
     "data": {
      "text/html": [
       "<div>\n",
       "<style scoped>\n",
       "    .dataframe tbody tr th:only-of-type {\n",
       "        vertical-align: middle;\n",
       "    }\n",
       "\n",
       "    .dataframe tbody tr th {\n",
       "        vertical-align: top;\n",
       "    }\n",
       "\n",
       "    .dataframe thead th {\n",
       "        text-align: right;\n",
       "    }\n",
       "</style>\n",
       "<table border=\"1\" class=\"dataframe\">\n",
       "  <thead>\n",
       "    <tr style=\"text-align: right;\">\n",
       "      <th></th>\n",
       "      <th>Timestamp (UTC)</th>\n",
       "      <th>Alias</th>\n",
       "      <th>Integration</th>\n",
       "      <th>Factor</th>\n",
       "      <th>Result</th>\n",
       "      <th>Reason</th>\n",
       "      <th>Enrollment</th>\n",
       "      <th>Access Device Country</th>\n",
       "      <th>Access Device State</th>\n",
       "      <th>Access Device City</th>\n",
       "      <th>Access Device Hostname</th>\n",
       "      <th>date</th>\n",
       "      <th>month</th>\n",
       "      <th>hour</th>\n",
       "      <th>minute</th>\n",
       "      <th>second</th>\n",
       "    </tr>\n",
       "  </thead>\n",
       "  <tbody>\n",
       "    <tr>\n",
       "      <th>0</th>\n",
       "      <td>2021-04-01 07:00:07.957411+00:00</td>\n",
       "      <td>user_008576</td>\n",
       "      <td>Single Sign-On</td>\n",
       "      <td>Phone Call</td>\n",
       "      <td>SUCCESS</td>\n",
       "      <td>User approved</td>\n",
       "      <td>False</td>\n",
       "      <td>US</td>\n",
       "      <td>California</td>\n",
       "      <td>Rocklin</td>\n",
       "      <td>NaN</td>\n",
       "      <td>2021-04-01</td>\n",
       "      <td>4</td>\n",
       "      <td>7</td>\n",
       "      <td>0</td>\n",
       "      <td>7</td>\n",
       "    </tr>\n",
       "    <tr>\n",
       "      <th>1</th>\n",
       "      <td>2021-04-01 07:00:10.492910+00:00</td>\n",
       "      <td>user_049277</td>\n",
       "      <td>Single Sign-On</td>\n",
       "      <td>Duo Push</td>\n",
       "      <td>SUCCESS</td>\n",
       "      <td>User approved</td>\n",
       "      <td>False</td>\n",
       "      <td>US</td>\n",
       "      <td>California</td>\n",
       "      <td>Santa Maria</td>\n",
       "      <td>NaN</td>\n",
       "      <td>2021-04-01</td>\n",
       "      <td>4</td>\n",
       "      <td>7</td>\n",
       "      <td>0</td>\n",
       "      <td>10</td>\n",
       "    </tr>\n",
       "  </tbody>\n",
       "</table>\n",
       "</div>"
      ],
      "text/plain": [
       "                   Timestamp (UTC)        Alias     Integration      Factor  \\\n",
       "0 2021-04-01 07:00:07.957411+00:00  user_008576  Single Sign-On  Phone Call   \n",
       "1 2021-04-01 07:00:10.492910+00:00  user_049277  Single Sign-On    Duo Push   \n",
       "\n",
       "    Result         Reason  Enrollment Access Device Country  \\\n",
       "0  SUCCESS  User approved       False                    US   \n",
       "1  SUCCESS  User approved       False                    US   \n",
       "\n",
       "  Access Device State Access Device City Access Device Hostname        date  \\\n",
       "0          California            Rocklin                    NaN  2021-04-01   \n",
       "1          California        Santa Maria                    NaN  2021-04-01   \n",
       "\n",
       "   month  hour  minute  second  \n",
       "0      4     7       0       7  \n",
       "1      4     7       0      10  "
      ]
     },
     "execution_count": 5,
     "metadata": {},
     "output_type": "execute_result"
    }
   ],
   "source": [
    "logs = df\n",
    "print(logs.shape)\n",
    "logs.head(2)"
   ]
  },
  {
   "cell_type": "code",
   "execution_count": 6,
   "metadata": {},
   "outputs": [
    {
     "data": {
      "text/html": [
       "<div>\n",
       "<style scoped>\n",
       "    .dataframe tbody tr th:only-of-type {\n",
       "        vertical-align: middle;\n",
       "    }\n",
       "\n",
       "    .dataframe tbody tr th {\n",
       "        vertical-align: top;\n",
       "    }\n",
       "\n",
       "    .dataframe thead th {\n",
       "        text-align: right;\n",
       "    }\n",
       "</style>\n",
       "<table border=\"1\" class=\"dataframe\">\n",
       "  <thead>\n",
       "    <tr style=\"text-align: right;\">\n",
       "      <th></th>\n",
       "      <th>Alias</th>\n",
       "      <th>Status</th>\n",
       "      <th>Created</th>\n",
       "      <th>Last Login</th>\n",
       "      <th>Phone 1 platform</th>\n",
       "      <th>Phone 2 platform</th>\n",
       "      <th>Phone 3 platform</th>\n",
       "      <th>Phone 4 platform</th>\n",
       "      <th>Phone 5 platform</th>\n",
       "      <th>Phone 6 platform</th>\n",
       "      <th>Phone 7 platform</th>\n",
       "      <th>Student</th>\n",
       "      <th>Description</th>\n",
       "      <th>Index</th>\n",
       "    </tr>\n",
       "  </thead>\n",
       "  <tbody>\n",
       "    <tr>\n",
       "      <th>0</th>\n",
       "      <td>user_000001</td>\n",
       "      <td>Active</td>\n",
       "      <td>2017-04-26 18:31:00</td>\n",
       "      <td>4/7/2021 15:00</td>\n",
       "      <td>Landline</td>\n",
       "      <td>NaN</td>\n",
       "      <td>NaN</td>\n",
       "      <td>NaN</td>\n",
       "      <td>NaN</td>\n",
       "      <td>NaN</td>\n",
       "      <td>NaN</td>\n",
       "      <td>False</td>\n",
       "      <td>Active (Staff)</td>\n",
       "      <td>1</td>\n",
       "    </tr>\n",
       "    <tr>\n",
       "      <th>1</th>\n",
       "      <td>user_000002</td>\n",
       "      <td>Active</td>\n",
       "      <td>2017-04-26 18:58:00</td>\n",
       "      <td>4/6/2021 21:34</td>\n",
       "      <td>Android</td>\n",
       "      <td>Landline</td>\n",
       "      <td>NaN</td>\n",
       "      <td>NaN</td>\n",
       "      <td>NaN</td>\n",
       "      <td>NaN</td>\n",
       "      <td>NaN</td>\n",
       "      <td>False</td>\n",
       "      <td>Active (Staff)</td>\n",
       "      <td>2</td>\n",
       "    </tr>\n",
       "    <tr>\n",
       "      <th>2</th>\n",
       "      <td>user_000003</td>\n",
       "      <td>Active</td>\n",
       "      <td>2017-04-27 20:42:00</td>\n",
       "      <td>4/6/2021 16:35</td>\n",
       "      <td>Landline</td>\n",
       "      <td>Android</td>\n",
       "      <td>NaN</td>\n",
       "      <td>NaN</td>\n",
       "      <td>NaN</td>\n",
       "      <td>NaN</td>\n",
       "      <td>NaN</td>\n",
       "      <td>False</td>\n",
       "      <td>Active (Staff)</td>\n",
       "      <td>3</td>\n",
       "    </tr>\n",
       "    <tr>\n",
       "      <th>3</th>\n",
       "      <td>user_000004</td>\n",
       "      <td>Active</td>\n",
       "      <td>2017-08-16 17:10:00</td>\n",
       "      <td>4/7/2021 14:23</td>\n",
       "      <td>iOS</td>\n",
       "      <td>Landline</td>\n",
       "      <td>NaN</td>\n",
       "      <td>NaN</td>\n",
       "      <td>NaN</td>\n",
       "      <td>NaN</td>\n",
       "      <td>NaN</td>\n",
       "      <td>False</td>\n",
       "      <td>Active (Staff)</td>\n",
       "      <td>4</td>\n",
       "    </tr>\n",
       "    <tr>\n",
       "      <th>4</th>\n",
       "      <td>user_000005</td>\n",
       "      <td>Active</td>\n",
       "      <td>2017-09-12 22:03:00</td>\n",
       "      <td>4/7/2021 0:17</td>\n",
       "      <td>Android</td>\n",
       "      <td>Landline</td>\n",
       "      <td>NaN</td>\n",
       "      <td>NaN</td>\n",
       "      <td>NaN</td>\n",
       "      <td>NaN</td>\n",
       "      <td>NaN</td>\n",
       "      <td>False</td>\n",
       "      <td>Active (Staff)</td>\n",
       "      <td>5</td>\n",
       "    </tr>\n",
       "  </tbody>\n",
       "</table>\n",
       "</div>"
      ],
      "text/plain": [
       "         Alias  Status             Created      Last Login Phone 1 platform  \\\n",
       "0  user_000001  Active 2017-04-26 18:31:00  4/7/2021 15:00         Landline   \n",
       "1  user_000002  Active 2017-04-26 18:58:00  4/6/2021 21:34          Android   \n",
       "2  user_000003  Active 2017-04-27 20:42:00  4/6/2021 16:35         Landline   \n",
       "3  user_000004  Active 2017-08-16 17:10:00  4/7/2021 14:23              iOS   \n",
       "4  user_000005  Active 2017-09-12 22:03:00   4/7/2021 0:17          Android   \n",
       "\n",
       "  Phone 2 platform Phone 3 platform Phone 4 platform Phone 5 platform  \\\n",
       "0              NaN              NaN              NaN              NaN   \n",
       "1         Landline              NaN              NaN              NaN   \n",
       "2          Android              NaN              NaN              NaN   \n",
       "3         Landline              NaN              NaN              NaN   \n",
       "4         Landline              NaN              NaN              NaN   \n",
       "\n",
       "  Phone 6 platform Phone 7 platform  Student     Description  Index  \n",
       "0              NaN              NaN    False  Active (Staff)      1  \n",
       "1              NaN              NaN    False  Active (Staff)      2  \n",
       "2              NaN              NaN    False  Active (Staff)      3  \n",
       "3              NaN              NaN    False  Active (Staff)      4  \n",
       "4              NaN              NaN    False  Active (Staff)      5  "
      ]
     },
     "execution_count": 6,
     "metadata": {},
     "output_type": "execute_result"
    }
   ],
   "source": [
    "users = pd.read_csv('duo_users_clean.csv')\n",
    "users['Created'] = users['Created'].apply(lambda date: parse(date))\n",
    "users.head()"
   ]
  },
  {
   "cell_type": "code",
   "execution_count": 8,
   "metadata": {},
   "outputs": [],
   "source": [
    "# Get a list of users who have logged in that have logged in\n",
    "usersWhoHaveLoggedIn = logs.Alias.unique()"
   ]
  },
  {
   "cell_type": "code",
   "execution_count": 9,
   "metadata": {},
   "outputs": [
    {
     "data": {
      "text/plain": [
       "50962"
      ]
     },
     "execution_count": 9,
     "metadata": {},
     "output_type": "execute_result"
    }
   ],
   "source": [
    "subsetOfUsers = users[users['Alias'].isin(usersWhoHaveLoggedIn)]\n",
    "len(subsetOfUsers)"
   ]
  },
  {
   "cell_type": "code",
   "execution_count": 12,
   "metadata": {
    "collapsed": true
   },
   "outputs": [
    {
     "name": "stderr",
     "output_type": "stream",
     "text": [
      "C:\\Users\\Francisco\\anaconda3\\lib\\site-packages\\pandas\\core\\series.py:4517: SettingWithCopyWarning: \n",
      "A value is trying to be set on a copy of a slice from a DataFrame\n",
      "\n",
      "See the caveats in the documentation: https://pandas.pydata.org/pandas-docs/stable/user_guide/indexing.html#returning-a-view-versus-a-copy\n",
      "  return super().fillna(\n"
     ]
    }
   ],
   "source": [
    "subsetOfUsers['Description'].fillna(\"\", inplace=True)"
   ]
  },
  {
   "cell_type": "code",
   "execution_count": 13,
   "metadata": {},
   "outputs": [],
   "source": [
    "subsetOfUsers = subsetOfUsers[~subsetOfUsers[\"Description\"].str.contains(\"Disabled\")]\n",
    "subsetOfUsers = subsetOfUsers[~subsetOfUsers[\"Description\"].str.contains(\"DISABLED\")]"
   ]
  },
  {
   "cell_type": "code",
   "execution_count": null,
   "metadata": {},
   "outputs": [],
   "source": [
    "# have to run up to list line when starting"
   ]
  },
  {
   "cell_type": "code",
   "execution_count": null,
   "metadata": {},
   "outputs": [],
   "source": [
    "##############################################################################################################################"
   ]
  },
  {
   "cell_type": "code",
   "execution_count": 15,
   "metadata": {},
   "outputs": [
    {
     "data": {
      "text/plain": [
       "(5536, 14)"
      ]
     },
     "execution_count": 15,
     "metadata": {},
     "output_type": "execute_result"
    }
   ],
   "source": [
    "# Users Created after november\n",
    "usersCreatedAfterNovember = subsetOfUsers[subsetOfUsers['Created']>'2020-11-01']\n",
    "usersCreatedAfterNovember.shape"
   ]
  },
  {
   "cell_type": "code",
   "execution_count": 16,
   "metadata": {},
   "outputs": [
    {
     "data": {
      "text/html": [
       "<div>\n",
       "<style scoped>\n",
       "    .dataframe tbody tr th:only-of-type {\n",
       "        vertical-align: middle;\n",
       "    }\n",
       "\n",
       "    .dataframe tbody tr th {\n",
       "        vertical-align: top;\n",
       "    }\n",
       "\n",
       "    .dataframe thead th {\n",
       "        text-align: right;\n",
       "    }\n",
       "</style>\n",
       "<table border=\"1\" class=\"dataframe\">\n",
       "  <thead>\n",
       "    <tr style=\"text-align: right;\">\n",
       "      <th></th>\n",
       "      <th>Alias</th>\n",
       "      <th>Status</th>\n",
       "      <th>Created</th>\n",
       "      <th>Last Login</th>\n",
       "      <th>Phone 1 platform</th>\n",
       "      <th>Phone 2 platform</th>\n",
       "      <th>Phone 3 platform</th>\n",
       "      <th>Phone 4 platform</th>\n",
       "      <th>Phone 5 platform</th>\n",
       "      <th>Phone 6 platform</th>\n",
       "      <th>Phone 7 platform</th>\n",
       "      <th>Student</th>\n",
       "      <th>Description</th>\n",
       "      <th>Index</th>\n",
       "    </tr>\n",
       "  </thead>\n",
       "  <tbody>\n",
       "    <tr>\n",
       "      <th>51181</th>\n",
       "      <td>user_051182</td>\n",
       "      <td>Active</td>\n",
       "      <td>2020-11-01 23:10:00</td>\n",
       "      <td>1/1/2021 10:02</td>\n",
       "      <td>iOS</td>\n",
       "      <td>NaN</td>\n",
       "      <td>NaN</td>\n",
       "      <td>NaN</td>\n",
       "      <td>NaN</td>\n",
       "      <td>NaN</td>\n",
       "      <td>NaN</td>\n",
       "      <td>False</td>\n",
       "      <td>Active (Applicant)</td>\n",
       "      <td>51182</td>\n",
       "    </tr>\n",
       "    <tr>\n",
       "      <th>51182</th>\n",
       "      <td>user_051183</td>\n",
       "      <td>Active</td>\n",
       "      <td>2020-11-02 03:33:00</td>\n",
       "      <td>3/10/2021 4:11</td>\n",
       "      <td>iOS</td>\n",
       "      <td>NaN</td>\n",
       "      <td>NaN</td>\n",
       "      <td>NaN</td>\n",
       "      <td>NaN</td>\n",
       "      <td>NaN</td>\n",
       "      <td>NaN</td>\n",
       "      <td>False</td>\n",
       "      <td>Active (Applicant)</td>\n",
       "      <td>51183</td>\n",
       "    </tr>\n",
       "    <tr>\n",
       "      <th>51183</th>\n",
       "      <td>user_051184</td>\n",
       "      <td>Active</td>\n",
       "      <td>2020-11-02 04:47:00</td>\n",
       "      <td>4/7/2021 0:29</td>\n",
       "      <td>iOS</td>\n",
       "      <td>NaN</td>\n",
       "      <td>NaN</td>\n",
       "      <td>NaN</td>\n",
       "      <td>NaN</td>\n",
       "      <td>NaN</td>\n",
       "      <td>NaN</td>\n",
       "      <td>False</td>\n",
       "      <td>Active (Staff, Applicant)</td>\n",
       "      <td>51184</td>\n",
       "    </tr>\n",
       "    <tr>\n",
       "      <th>51184</th>\n",
       "      <td>user_051185</td>\n",
       "      <td>Active</td>\n",
       "      <td>2020-11-02 14:34:00</td>\n",
       "      <td>1/21/2021 8:06</td>\n",
       "      <td>iOS</td>\n",
       "      <td>NaN</td>\n",
       "      <td>NaN</td>\n",
       "      <td>NaN</td>\n",
       "      <td>NaN</td>\n",
       "      <td>NaN</td>\n",
       "      <td>NaN</td>\n",
       "      <td>False</td>\n",
       "      <td>Active (Applicant)</td>\n",
       "      <td>51185</td>\n",
       "    </tr>\n",
       "    <tr>\n",
       "      <th>51185</th>\n",
       "      <td>user_051186</td>\n",
       "      <td>Active</td>\n",
       "      <td>2020-11-02 17:27:00</td>\n",
       "      <td>4/5/2021 4:15</td>\n",
       "      <td>iOS</td>\n",
       "      <td>NaN</td>\n",
       "      <td>NaN</td>\n",
       "      <td>NaN</td>\n",
       "      <td>NaN</td>\n",
       "      <td>NaN</td>\n",
       "      <td>NaN</td>\n",
       "      <td>True</td>\n",
       "      <td>Active (Student)</td>\n",
       "      <td>51186</td>\n",
       "    </tr>\n",
       "  </tbody>\n",
       "</table>\n",
       "</div>"
      ],
      "text/plain": [
       "             Alias  Status             Created      Last Login  \\\n",
       "51181  user_051182  Active 2020-11-01 23:10:00  1/1/2021 10:02   \n",
       "51182  user_051183  Active 2020-11-02 03:33:00  3/10/2021 4:11   \n",
       "51183  user_051184  Active 2020-11-02 04:47:00   4/7/2021 0:29   \n",
       "51184  user_051185  Active 2020-11-02 14:34:00  1/21/2021 8:06   \n",
       "51185  user_051186  Active 2020-11-02 17:27:00   4/5/2021 4:15   \n",
       "\n",
       "      Phone 1 platform Phone 2 platform Phone 3 platform Phone 4 platform  \\\n",
       "51181              iOS              NaN              NaN              NaN   \n",
       "51182              iOS              NaN              NaN              NaN   \n",
       "51183              iOS              NaN              NaN              NaN   \n",
       "51184              iOS              NaN              NaN              NaN   \n",
       "51185              iOS              NaN              NaN              NaN   \n",
       "\n",
       "      Phone 5 platform Phone 6 platform Phone 7 platform  Student  \\\n",
       "51181              NaN              NaN              NaN    False   \n",
       "51182              NaN              NaN              NaN    False   \n",
       "51183              NaN              NaN              NaN    False   \n",
       "51184              NaN              NaN              NaN    False   \n",
       "51185              NaN              NaN              NaN     True   \n",
       "\n",
       "                     Description  Index  \n",
       "51181         Active (Applicant)  51182  \n",
       "51182         Active (Applicant)  51183  \n",
       "51183  Active (Staff, Applicant)  51184  \n",
       "51184         Active (Applicant)  51185  \n",
       "51185           Active (Student)  51186  "
      ]
     },
     "execution_count": 16,
     "metadata": {},
     "output_type": "execute_result"
    }
   ],
   "source": [
    "usersCreatedAfterNovember.iloc[:5]"
   ]
  },
  {
   "cell_type": "code",
   "execution_count": null,
   "metadata": {},
   "outputs": [],
   "source": []
  },
  {
   "cell_type": "code",
   "execution_count": null,
   "metadata": {},
   "outputs": [],
   "source": [
    "# usersCreatedAfterNovember.Description.value_counts()"
   ]
  },
  {
   "cell_type": "code",
   "execution_count": 32,
   "metadata": {},
   "outputs": [],
   "source": [
    "typeOfUsersAfterNovember = usersCreatedAfterNovember.set_index(\"Alias\")[\"Description\"].to_dict()"
   ]
  },
  {
   "cell_type": "code",
   "execution_count": 33,
   "metadata": {},
   "outputs": [],
   "source": [
    "enrollmentAnlysisLogs = logs[logs['Alias'].isin(typeOfUsersAfterNovember)]"
   ]
  },
  {
   "cell_type": "code",
   "execution_count": 34,
   "metadata": {},
   "outputs": [],
   "source": [
    "enrollmentAnlysisLogs = enrollmentAnlysisLogs[enrollmentAnlysisLogs['Reason']!='Remembered device']"
   ]
  },
  {
   "cell_type": "code",
   "execution_count": 35,
   "metadata": {},
   "outputs": [],
   "source": [
    "enrollmentAnlysisLogs = enrollmentAnlysisLogs[enrollmentAnlysisLogs['Reason']!='Allow unenrolled user']"
   ]
  },
  {
   "cell_type": "code",
   "execution_count": 36,
   "metadata": {},
   "outputs": [],
   "source": [
    "enrollmentAnlysisLogs = enrollmentAnlysisLogs[enrollmentAnlysisLogs['Reason']!='User is disabled']"
   ]
  },
  {
   "cell_type": "code",
   "execution_count": 37,
   "metadata": {},
   "outputs": [],
   "source": [
    "enrollmentAnlysisLogs = enrollmentAnlysisLogs[enrollmentAnlysisLogs['Reason']!='Bypass user']"
   ]
  },
  {
   "cell_type": "code",
   "execution_count": 38,
   "metadata": {},
   "outputs": [],
   "source": [
    "enrollmentAnlysisLogs = enrollmentAnlysisLogs[enrollmentAnlysisLogs['Reason'].notna()]"
   ]
  },
  {
   "cell_type": "code",
   "execution_count": 39,
   "metadata": {},
   "outputs": [],
   "source": [
    "enrollmentAnlysisLogs.set_index('Alias', inplace=True)"
   ]
  },
  {
   "cell_type": "code",
   "execution_count": 40,
   "metadata": {},
   "outputs": [
    {
     "data": {
      "text/plain": [
       "User approved       132630\n",
       "Valid passcode       11135\n",
       "User cancelled        5591\n",
       "No response           4536\n",
       "Invalid passcode      1358\n",
       "No keys pressed        260\n",
       "Call timed out         215\n",
       "User mistake            58\n",
       "Locked out               4\n",
       "Name: Reason, dtype: int64"
      ]
     },
     "execution_count": 40,
     "metadata": {},
     "output_type": "execute_result"
    }
   ],
   "source": [
    "enrollmentAnlysisLogs.Reason.value_counts()"
   ]
  },
  {
   "cell_type": "code",
   "execution_count": 41,
   "metadata": {},
   "outputs": [],
   "source": [
    "def addToDataFrame(data):\n",
    "    df_length = len(userEnrollmentLogs)\n",
    "    userEnrollmentLogs.loc[df_length] = data"
   ]
  },
  {
   "cell_type": "code",
   "execution_count": 42,
   "metadata": {},
   "outputs": [
    {
     "data": {
      "text/plain": [
       "(5536, 14)"
      ]
     },
     "execution_count": 42,
     "metadata": {},
     "output_type": "execute_result"
    }
   ],
   "source": [
    "usersCreatedAfterNovember.shape"
   ]
  },
  {
   "cell_type": "code",
   "execution_count": 359,
   "metadata": {},
   "outputs": [
    {
     "data": {
      "text/plain": [
       "(5390,)"
      ]
     },
     "execution_count": 359,
     "metadata": {},
     "output_type": "execute_result"
    }
   ],
   "source": [
    "enrollmentAnlysisLogs.index.unique().shape"
   ]
  },
  {
   "cell_type": "code",
   "execution_count": null,
   "metadata": {},
   "outputs": [],
   "source": [
    "#########################################################"
   ]
  },
  {
   "cell_type": "code",
   "execution_count": 43,
   "metadata": {},
   "outputs": [],
   "source": [
    "usersCreatedAfterNovemberWithLogs = enrollmentAnlysisLogs.index.unique()"
   ]
  },
  {
   "cell_type": "code",
   "execution_count": 44,
   "metadata": {},
   "outputs": [
    {
     "data": {
      "text/plain": [
       "(5390,)"
      ]
     },
     "execution_count": 44,
     "metadata": {},
     "output_type": "execute_result"
    }
   ],
   "source": [
    "usersCreatedAfterNovemberWithLogs.shape"
   ]
  },
  {
   "cell_type": "code",
   "execution_count": 52,
   "metadata": {
    "scrolled": true
   },
   "outputs": [],
   "source": [
    "userEnrollmentLogs = pd.DataFrame(columns=['1','2','3','4','5','6','7','8','9','10'])\n",
    "# success and failure data\n",
    "\n",
    "# users who have authenticated at least 10 times\n",
    "usersWithTenAuth = []\n",
    "\n",
    "for user in usersCreatedAfterNovemberWithLogs[:]:\n",
    "    array = []\n",
    "    counter = 0\n",
    "    errorRate = 0\n",
    "    failures = 0\n",
    "    if(len(enrollmentAnlysisLogs.loc[user]['Result'])<10):\n",
    "        continue\n",
    "    usersWithTenAuth.append(user)\n",
    "    for i in enrollmentAnlysisLogs.loc[user]['Reason']:\n",
    "        counter += 1\n",
    "        array.append(i)\n",
    "        if(counter==10):\n",
    "            break\n",
    "#     print(enrollmentAnlysisLogs.loc[user].Description)\n",
    "    addToDataFrame(array)"
   ]
  },
  {
   "cell_type": "code",
   "execution_count": 53,
   "metadata": {},
   "outputs": [
    {
     "data": {
      "text/plain": [
       "(2622, 10)"
      ]
     },
     "execution_count": 53,
     "metadata": {},
     "output_type": "execute_result"
    }
   ],
   "source": [
    "userEnrollmentLogs.shape"
   ]
  },
  {
   "cell_type": "code",
   "execution_count": 54,
   "metadata": {
    "scrolled": true
   },
   "outputs": [
    {
     "data": {
      "text/html": [
       "<div>\n",
       "<style scoped>\n",
       "    .dataframe tbody tr th:only-of-type {\n",
       "        vertical-align: middle;\n",
       "    }\n",
       "\n",
       "    .dataframe tbody tr th {\n",
       "        vertical-align: top;\n",
       "    }\n",
       "\n",
       "    .dataframe thead th {\n",
       "        text-align: right;\n",
       "    }\n",
       "</style>\n",
       "<table border=\"1\" class=\"dataframe\">\n",
       "  <thead>\n",
       "    <tr style=\"text-align: right;\">\n",
       "      <th></th>\n",
       "      <th>1</th>\n",
       "      <th>2</th>\n",
       "      <th>3</th>\n",
       "      <th>4</th>\n",
       "      <th>5</th>\n",
       "      <th>6</th>\n",
       "      <th>7</th>\n",
       "      <th>8</th>\n",
       "      <th>9</th>\n",
       "      <th>10</th>\n",
       "    </tr>\n",
       "  </thead>\n",
       "  <tbody>\n",
       "    <tr>\n",
       "      <th>0</th>\n",
       "      <td>Valid passcode</td>\n",
       "      <td>Valid passcode</td>\n",
       "      <td>Valid passcode</td>\n",
       "      <td>No response</td>\n",
       "      <td>Invalid passcode</td>\n",
       "      <td>Invalid passcode</td>\n",
       "      <td>Valid passcode</td>\n",
       "      <td>Valid passcode</td>\n",
       "      <td>Valid passcode</td>\n",
       "      <td>Valid passcode</td>\n",
       "    </tr>\n",
       "    <tr>\n",
       "      <th>1</th>\n",
       "      <td>User approved</td>\n",
       "      <td>User approved</td>\n",
       "      <td>User approved</td>\n",
       "      <td>User approved</td>\n",
       "      <td>User approved</td>\n",
       "      <td>User approved</td>\n",
       "      <td>User approved</td>\n",
       "      <td>User approved</td>\n",
       "      <td>User approved</td>\n",
       "      <td>User approved</td>\n",
       "    </tr>\n",
       "    <tr>\n",
       "      <th>2</th>\n",
       "      <td>User approved</td>\n",
       "      <td>User approved</td>\n",
       "      <td>User cancelled</td>\n",
       "      <td>User approved</td>\n",
       "      <td>User approved</td>\n",
       "      <td>User approved</td>\n",
       "      <td>User approved</td>\n",
       "      <td>User approved</td>\n",
       "      <td>No response</td>\n",
       "      <td>User approved</td>\n",
       "    </tr>\n",
       "    <tr>\n",
       "      <th>3</th>\n",
       "      <td>User approved</td>\n",
       "      <td>User approved</td>\n",
       "      <td>User approved</td>\n",
       "      <td>User approved</td>\n",
       "      <td>User approved</td>\n",
       "      <td>User approved</td>\n",
       "      <td>User approved</td>\n",
       "      <td>User approved</td>\n",
       "      <td>User approved</td>\n",
       "      <td>User approved</td>\n",
       "    </tr>\n",
       "    <tr>\n",
       "      <th>4</th>\n",
       "      <td>No response</td>\n",
       "      <td>User approved</td>\n",
       "      <td>User approved</td>\n",
       "      <td>User approved</td>\n",
       "      <td>User approved</td>\n",
       "      <td>User approved</td>\n",
       "      <td>User approved</td>\n",
       "      <td>User approved</td>\n",
       "      <td>User approved</td>\n",
       "      <td>User approved</td>\n",
       "    </tr>\n",
       "    <tr>\n",
       "      <th>5</th>\n",
       "      <td>Valid passcode</td>\n",
       "      <td>Valid passcode</td>\n",
       "      <td>Valid passcode</td>\n",
       "      <td>Valid passcode</td>\n",
       "      <td>User approved</td>\n",
       "      <td>User approved</td>\n",
       "      <td>User approved</td>\n",
       "      <td>User approved</td>\n",
       "      <td>User approved</td>\n",
       "      <td>User approved</td>\n",
       "    </tr>\n",
       "    <tr>\n",
       "      <th>6</th>\n",
       "      <td>User approved</td>\n",
       "      <td>User approved</td>\n",
       "      <td>User approved</td>\n",
       "      <td>User approved</td>\n",
       "      <td>User approved</td>\n",
       "      <td>User approved</td>\n",
       "      <td>User approved</td>\n",
       "      <td>User approved</td>\n",
       "      <td>User approved</td>\n",
       "      <td>User approved</td>\n",
       "    </tr>\n",
       "    <tr>\n",
       "      <th>7</th>\n",
       "      <td>User approved</td>\n",
       "      <td>User approved</td>\n",
       "      <td>User approved</td>\n",
       "      <td>User approved</td>\n",
       "      <td>User cancelled</td>\n",
       "      <td>User approved</td>\n",
       "      <td>User approved</td>\n",
       "      <td>User approved</td>\n",
       "      <td>User cancelled</td>\n",
       "      <td>Valid passcode</td>\n",
       "    </tr>\n",
       "    <tr>\n",
       "      <th>8</th>\n",
       "      <td>User approved</td>\n",
       "      <td>User approved</td>\n",
       "      <td>User approved</td>\n",
       "      <td>User approved</td>\n",
       "      <td>User approved</td>\n",
       "      <td>User approved</td>\n",
       "      <td>User approved</td>\n",
       "      <td>User approved</td>\n",
       "      <td>User approved</td>\n",
       "      <td>User approved</td>\n",
       "    </tr>\n",
       "    <tr>\n",
       "      <th>9</th>\n",
       "      <td>User approved</td>\n",
       "      <td>User approved</td>\n",
       "      <td>User approved</td>\n",
       "      <td>User approved</td>\n",
       "      <td>User approved</td>\n",
       "      <td>User approved</td>\n",
       "      <td>User approved</td>\n",
       "      <td>User approved</td>\n",
       "      <td>User approved</td>\n",
       "      <td>User approved</td>\n",
       "    </tr>\n",
       "  </tbody>\n",
       "</table>\n",
       "</div>"
      ],
      "text/plain": [
       "                1               2               3               4  \\\n",
       "0  Valid passcode  Valid passcode  Valid passcode     No response   \n",
       "1   User approved   User approved   User approved   User approved   \n",
       "2   User approved   User approved  User cancelled   User approved   \n",
       "3   User approved   User approved   User approved   User approved   \n",
       "4     No response   User approved   User approved   User approved   \n",
       "5  Valid passcode  Valid passcode  Valid passcode  Valid passcode   \n",
       "6   User approved   User approved   User approved   User approved   \n",
       "7   User approved   User approved   User approved   User approved   \n",
       "8   User approved   User approved   User approved   User approved   \n",
       "9   User approved   User approved   User approved   User approved   \n",
       "\n",
       "                  5                 6               7               8  \\\n",
       "0  Invalid passcode  Invalid passcode  Valid passcode  Valid passcode   \n",
       "1     User approved     User approved   User approved   User approved   \n",
       "2     User approved     User approved   User approved   User approved   \n",
       "3     User approved     User approved   User approved   User approved   \n",
       "4     User approved     User approved   User approved   User approved   \n",
       "5     User approved     User approved   User approved   User approved   \n",
       "6     User approved     User approved   User approved   User approved   \n",
       "7    User cancelled     User approved   User approved   User approved   \n",
       "8     User approved     User approved   User approved   User approved   \n",
       "9     User approved     User approved   User approved   User approved   \n",
       "\n",
       "                9              10  \n",
       "0  Valid passcode  Valid passcode  \n",
       "1   User approved   User approved  \n",
       "2     No response   User approved  \n",
       "3   User approved   User approved  \n",
       "4   User approved   User approved  \n",
       "5   User approved   User approved  \n",
       "6   User approved   User approved  \n",
       "7  User cancelled  Valid passcode  \n",
       "8   User approved   User approved  \n",
       "9   User approved   User approved  "
      ]
     },
     "execution_count": 54,
     "metadata": {},
     "output_type": "execute_result"
    }
   ],
   "source": [
    "userEnrollmentLogs.head(10)"
   ]
  },
  {
   "cell_type": "code",
   "execution_count": 55,
   "metadata": {},
   "outputs": [],
   "source": [
    "successAndFailureTerms = {\n",
    "    \"User approved\": \"Success\",       \n",
    "    \"Valid passcode\": \"Success\",       \n",
    "    \"User cancelled\": \"Failure\",        \n",
    "    \"No response\": \"Failure\",           \n",
    "    \"Invalid passcode\": \"Failure\",      \n",
    "    \"No keys pressed\": \"Failure\",        \n",
    "    \"Call timed out\": \"Failure\",         \n",
    "    \"User mistake\": \"Failure\",            \n",
    "    \"Locked out\": \"Failure\" \n",
    "}"
   ]
  },
  {
   "cell_type": "code",
   "execution_count": 66,
   "metadata": {},
   "outputs": [
    {
     "data": {
      "text/plain": [
       "(2622, 10)"
      ]
     },
     "execution_count": 66,
     "metadata": {},
     "output_type": "execute_result"
    }
   ],
   "source": [
    "svf = userEnrollmentLogs.replace(successAndFailureTerms)     \n",
    "svf.shape"
   ]
  },
  {
   "cell_type": "code",
   "execution_count": 68,
   "metadata": {},
   "outputs": [
    {
     "data": {
      "text/plain": [
       "224"
      ]
     },
     "execution_count": 68,
     "metadata": {},
     "output_type": "execute_result"
    }
   ],
   "source": [
    "svf[[\"1\"]].value_counts()[1]"
   ]
  },
  {
   "cell_type": "code",
   "execution_count": 72,
   "metadata": {},
   "outputs": [],
   "source": [
    "failiureAndSuccessTerms = {\n",
    "    \"User approved\": \"Success\",       \n",
    "    \"Valid passcode\": \"Success\",                \n",
    "    \"Invalid passcode\": \"User Error\",      \n",
    "    \"No keys pressed\": \"User Error\",        \n",
    "    \"Call timed out\": \"User Error\",         \n",
    "    \"User mistake\": \"User Error\",            \n",
    "    \"Locked out\": \"User Error\" \n",
    "}"
   ]
  },
  {
   "cell_type": "code",
   "execution_count": 74,
   "metadata": {},
   "outputs": [
    {
     "data": {
      "text/plain": [
       "(2622, 10)"
      ]
     },
     "execution_count": 74,
     "metadata": {},
     "output_type": "execute_result"
    }
   ],
   "source": [
    "enrollmentLogsWithTerms = userEnrollmentLogs.replace(successAndFailureTerms)     \n",
    "enrollmentLogsWithTerms.shape"
   ]
  },
  {
   "cell_type": "code",
   "execution_count": 63,
   "metadata": {},
   "outputs": [
    {
     "data": {
      "text/plain": [
       "2622"
      ]
     },
     "execution_count": 63,
     "metadata": {},
     "output_type": "execute_result"
    }
   ],
   "source": [
    "totalUsers = len(userEnrollmentLogs)\n",
    "totalUsers"
   ]
  },
  {
   "cell_type": "code",
   "execution_count": 95,
   "metadata": {},
   "outputs": [
    {
     "data": {
      "text/plain": [
       "10            \n",
       "Success           2409\n",
       "User cancelled     106\n",
       "No response         70\n",
       "User Error          37\n",
       "dtype: int64"
      ]
     },
     "execution_count": 95,
     "metadata": {},
     "output_type": "execute_result"
    }
   ],
   "source": [
    "enrollmentLogsWithTerms[[str(i)]].value_counts()"
   ]
  },
  {
   "cell_type": "code",
   "execution_count": 94,
   "metadata": {},
   "outputs": [
    {
     "data": {
      "text/plain": [
       "[[2398, 120, 71, 33],\n",
       " [2405, 95, 78, 44],\n",
       " [2373, 125, 80, 44],\n",
       " [2399, 102, 79, 42],\n",
       " [2389, 98, 93, 42],\n",
       " [2382, 100, 93, 47],\n",
       " [2389, 111, 87, 35],\n",
       " [2389, 94, 91, 48],\n",
       " [2405, 92, 77, 48],\n",
       " [2409, 106, 70, 37]]"
      ]
     },
     "execution_count": 94,
     "metadata": {},
     "output_type": "execute_result"
    }
   ],
   "source": [
    "arr = []\n",
    "for i in range(1,11):\n",
    "        arr.append([enrollmentLogsWithTerms[[str(i)]].value_counts()[0],\n",
    "                   enrollmentLogsWithTerms[[str(i)]].value_counts()[1],\n",
    "                   enrollmentLogsWithTerms[[str(i)]].value_counts()[2],\n",
    "                   enrollmentLogsWithTerms[[str(i)]].value_counts()[3]])\n",
    "arr"
   ]
  },
  {
   "cell_type": "code",
   "execution_count": 118,
   "metadata": {},
   "outputs": [],
   "source": [
    "enrrollmentResults = pd.DataFrame(data=arr, columns=[\"success\",\"User cancelled\",\"No response\",\"User error\"])"
   ]
  },
  {
   "cell_type": "code",
   "execution_count": 119,
   "metadata": {},
   "outputs": [
    {
     "data": {
      "text/html": [
       "<div>\n",
       "<style scoped>\n",
       "    .dataframe tbody tr th:only-of-type {\n",
       "        vertical-align: middle;\n",
       "    }\n",
       "\n",
       "    .dataframe tbody tr th {\n",
       "        vertical-align: top;\n",
       "    }\n",
       "\n",
       "    .dataframe thead th {\n",
       "        text-align: right;\n",
       "    }\n",
       "</style>\n",
       "<table border=\"1\" class=\"dataframe\">\n",
       "  <thead>\n",
       "    <tr style=\"text-align: right;\">\n",
       "      <th></th>\n",
       "      <th>success</th>\n",
       "      <th>User cancelled</th>\n",
       "      <th>No response</th>\n",
       "      <th>User error</th>\n",
       "    </tr>\n",
       "  </thead>\n",
       "  <tbody>\n",
       "    <tr>\n",
       "      <th>0</th>\n",
       "      <td>2398</td>\n",
       "      <td>120</td>\n",
       "      <td>71</td>\n",
       "      <td>33</td>\n",
       "    </tr>\n",
       "    <tr>\n",
       "      <th>1</th>\n",
       "      <td>2405</td>\n",
       "      <td>95</td>\n",
       "      <td>78</td>\n",
       "      <td>44</td>\n",
       "    </tr>\n",
       "    <tr>\n",
       "      <th>2</th>\n",
       "      <td>2373</td>\n",
       "      <td>125</td>\n",
       "      <td>80</td>\n",
       "      <td>44</td>\n",
       "    </tr>\n",
       "    <tr>\n",
       "      <th>3</th>\n",
       "      <td>2399</td>\n",
       "      <td>102</td>\n",
       "      <td>79</td>\n",
       "      <td>42</td>\n",
       "    </tr>\n",
       "    <tr>\n",
       "      <th>4</th>\n",
       "      <td>2389</td>\n",
       "      <td>98</td>\n",
       "      <td>93</td>\n",
       "      <td>42</td>\n",
       "    </tr>\n",
       "    <tr>\n",
       "      <th>5</th>\n",
       "      <td>2382</td>\n",
       "      <td>100</td>\n",
       "      <td>93</td>\n",
       "      <td>47</td>\n",
       "    </tr>\n",
       "    <tr>\n",
       "      <th>6</th>\n",
       "      <td>2389</td>\n",
       "      <td>111</td>\n",
       "      <td>87</td>\n",
       "      <td>35</td>\n",
       "    </tr>\n",
       "    <tr>\n",
       "      <th>7</th>\n",
       "      <td>2389</td>\n",
       "      <td>94</td>\n",
       "      <td>91</td>\n",
       "      <td>48</td>\n",
       "    </tr>\n",
       "    <tr>\n",
       "      <th>8</th>\n",
       "      <td>2405</td>\n",
       "      <td>92</td>\n",
       "      <td>77</td>\n",
       "      <td>48</td>\n",
       "    </tr>\n",
       "    <tr>\n",
       "      <th>9</th>\n",
       "      <td>2409</td>\n",
       "      <td>106</td>\n",
       "      <td>70</td>\n",
       "      <td>37</td>\n",
       "    </tr>\n",
       "  </tbody>\n",
       "</table>\n",
       "</div>"
      ],
      "text/plain": [
       "   success  User cancelled  No response  User error\n",
       "0     2398             120           71          33\n",
       "1     2405              95           78          44\n",
       "2     2373             125           80          44\n",
       "3     2399             102           79          42\n",
       "4     2389              98           93          42\n",
       "5     2382             100           93          47\n",
       "6     2389             111           87          35\n",
       "7     2389              94           91          48\n",
       "8     2405              92           77          48\n",
       "9     2409             106           70          37"
      ]
     },
     "execution_count": 119,
     "metadata": {},
     "output_type": "execute_result"
    }
   ],
   "source": [
    "enrrollmentResults"
   ]
  },
  {
   "cell_type": "code",
   "execution_count": 120,
   "metadata": {},
   "outputs": [
    {
     "data": {
      "image/png": "[encoded data removed]",
      "text/plain": [
       "<Figure size 1440x720 with 1 Axes>"
      ]
     },
     "metadata": {
      "needs_background": "light"
     },
     "output_type": "display_data"
    }
   ],
   "source": [
    "enrrollmentResults.iloc[:,1:].div(totalUsers).plot(ls = 'dashed', lw = 2, marker = 'o')\n",
    "plt.ylim(0,.1)\n",
    "plt.title('Failure Rate in First 10 Authentication attempts')\n",
    "plt.ylabel('Failure Rate')\n",
    "plt.xlabel('Authentications')\n",
    "plt.show()\n",
    "plt.rcParams[\"figure.figsize\"] = (20,10)"
   ]
  },
  {
   "cell_type": "code",
   "execution_count": null,
   "metadata": {},
   "outputs": [],
   "source": []
  },
  {
   "cell_type": "code",
   "execution_count": 70,
   "metadata": {},
   "outputs": [
    {
     "data": {
      "image/png": "[encoded data removed]",
      "text/plain": [
       "<Figure size 1440x720 with 1 Axes>"
      ]
     },
     "metadata": {
      "needs_background": "light"
     },
     "output_type": "display_data"
    }
   ],
   "source": [
    "successVsfailureEnrollmentLogs = []\n",
    "for i in range(1,11):\n",
    "    value = (userEnrollmentLogs[[str(i)]].value_counts()[1] / totalUsers)\n",
    "    successVsfailureEnrollmentLogs.append(value)\n",
    "plt.ylim(0,.2)\n",
    "plt.title('Failure Rate in First 10 Authentication attempts')\n",
    "plt.ylabel('Failure Rate')\n",
    "plt.xlabel('Authentications')\n",
    "plt.plot(successVsfailureEnrollmentLogs, ls = 'dashed', lw = 2, marker = 'o')\n",
    "plt.show()\n",
    "plt.rcParams[\"figure.figsize\"] = (20,10)"
   ]
  },
  {
   "cell_type": "code",
   "execution_count": null,
   "metadata": {},
   "outputs": [],
   "source": []
  },
  {
   "cell_type": "code",
   "execution_count": 25,
   "metadata": {},
   "outputs": [],
   "source": [
    "# Success Rate by month"
   ]
  },
  {
   "cell_type": "code",
   "execution_count": 26,
   "metadata": {},
   "outputs": [],
   "source": [
    "users_logs_by_month = logs[logs['month']!=5][[\"month\",\"Result\",\"Reason\"]].groupby([\"month\",\"Result\"]).count()"
   ]
  },
  {
   "cell_type": "code",
   "execution_count": 27,
   "metadata": {},
   "outputs": [
    {
     "data": {
      "text/html": [
       "<div>\n",
       "<style scoped>\n",
       "    .dataframe tbody tr th:only-of-type {\n",
       "        vertical-align: middle;\n",
       "    }\n",
       "\n",
       "    .dataframe tbody tr th {\n",
       "        vertical-align: top;\n",
       "    }\n",
       "\n",
       "    .dataframe thead th {\n",
       "        text-align: right;\n",
       "    }\n",
       "</style>\n",
       "<table border=\"1\" class=\"dataframe\">\n",
       "  <thead>\n",
       "    <tr style=\"text-align: right;\">\n",
       "      <th></th>\n",
       "      <th></th>\n",
       "      <th>Reason</th>\n",
       "    </tr>\n",
       "    <tr>\n",
       "      <th>month</th>\n",
       "      <th>Result</th>\n",
       "      <th></th>\n",
       "    </tr>\n",
       "  </thead>\n",
       "  <tbody>\n",
       "    <tr>\n",
       "      <th rowspan=\"3\" valign=\"top\">1</th>\n",
       "      <th>FAILURE</th>\n",
       "      <td>52240</td>\n",
       "    </tr>\n",
       "    <tr>\n",
       "      <th>FRAUD</th>\n",
       "      <td>17</td>\n",
       "    </tr>\n",
       "    <tr>\n",
       "      <th>SUCCESS</th>\n",
       "      <td>877108</td>\n",
       "    </tr>\n",
       "    <tr>\n",
       "      <th rowspan=\"2\" valign=\"top\">2</th>\n",
       "      <th>FAILURE</th>\n",
       "      <td>47489</td>\n",
       "    </tr>\n",
       "    <tr>\n",
       "      <th>FRAUD</th>\n",
       "      <td>18</td>\n",
       "    </tr>\n",
       "  </tbody>\n",
       "</table>\n",
       "</div>"
      ],
      "text/plain": [
       "               Reason\n",
       "month Result         \n",
       "1     FAILURE   52240\n",
       "      FRAUD        17\n",
       "      SUCCESS  877108\n",
       "2     FAILURE   47489\n",
       "      FRAUD        18"
      ]
     },
     "execution_count": 27,
     "metadata": {},
     "output_type": "execute_result"
    }
   ],
   "source": [
    "users_logs_by_month.head()"
   ]
  },
  {
   "cell_type": "code",
   "execution_count": 28,
   "metadata": {},
   "outputs": [],
   "source": [
    "ax = users_logs_by_month.unstack(level=1)\n",
    "ax.columns = ax.columns.droplevel()\n",
    "ax.drop(columns=['FRAUD'], inplace=True)"
   ]
  },
  {
   "cell_type": "code",
   "execution_count": 29,
   "metadata": {},
   "outputs": [],
   "source": [
    "ax['success_percent'] = round((ax['SUCCESS'] / (ax['SUCCESS'] + ax['FAILURE'])),2)\n",
    "ax['failure_percent'] = round((ax['FAILURE'] / (ax['SUCCESS'] + ax['FAILURE'])),2)"
   ]
  },
  {
   "cell_type": "code",
   "execution_count": 30,
   "metadata": {},
   "outputs": [
    {
     "data": {
      "text/html": [
       "<div>\n",
       "<style scoped>\n",
       "    .dataframe tbody tr th:only-of-type {\n",
       "        vertical-align: middle;\n",
       "    }\n",
       "\n",
       "    .dataframe tbody tr th {\n",
       "        vertical-align: top;\n",
       "    }\n",
       "\n",
       "    .dataframe thead th {\n",
       "        text-align: right;\n",
       "    }\n",
       "</style>\n",
       "<table border=\"1\" class=\"dataframe\">\n",
       "  <thead>\n",
       "    <tr style=\"text-align: right;\">\n",
       "      <th>Result</th>\n",
       "      <th>FAILURE</th>\n",
       "      <th>SUCCESS</th>\n",
       "      <th>success_percent</th>\n",
       "      <th>failure_percent</th>\n",
       "    </tr>\n",
       "    <tr>\n",
       "      <th>month</th>\n",
       "      <th></th>\n",
       "      <th></th>\n",
       "      <th></th>\n",
       "      <th></th>\n",
       "    </tr>\n",
       "  </thead>\n",
       "  <tbody>\n",
       "    <tr>\n",
       "      <th>1</th>\n",
       "      <td>52240</td>\n",
       "      <td>877108</td>\n",
       "      <td>0.94</td>\n",
       "      <td>0.06</td>\n",
       "    </tr>\n",
       "    <tr>\n",
       "      <th>2</th>\n",
       "      <td>47489</td>\n",
       "      <td>1064246</td>\n",
       "      <td>0.96</td>\n",
       "      <td>0.04</td>\n",
       "    </tr>\n",
       "    <tr>\n",
       "      <th>3</th>\n",
       "      <td>41964</td>\n",
       "      <td>936941</td>\n",
       "      <td>0.96</td>\n",
       "      <td>0.04</td>\n",
       "    </tr>\n",
       "    <tr>\n",
       "      <th>4</th>\n",
       "      <td>46608</td>\n",
       "      <td>1075649</td>\n",
       "      <td>0.96</td>\n",
       "      <td>0.04</td>\n",
       "    </tr>\n",
       "    <tr>\n",
       "      <th>11</th>\n",
       "      <td>57298</td>\n",
       "      <td>1058468</td>\n",
       "      <td>0.95</td>\n",
       "      <td>0.05</td>\n",
       "    </tr>\n",
       "    <tr>\n",
       "      <th>12</th>\n",
       "      <td>42738</td>\n",
       "      <td>805198</td>\n",
       "      <td>0.95</td>\n",
       "      <td>0.05</td>\n",
       "    </tr>\n",
       "  </tbody>\n",
       "</table>\n",
       "</div>"
      ],
      "text/plain": [
       "Result  FAILURE  SUCCESS  success_percent  failure_percent\n",
       "month                                                     \n",
       "1         52240   877108             0.94             0.06\n",
       "2         47489  1064246             0.96             0.04\n",
       "3         41964   936941             0.96             0.04\n",
       "4         46608  1075649             0.96             0.04\n",
       "11        57298  1058468             0.95             0.05\n",
       "12        42738   805198             0.95             0.05"
      ]
     },
     "execution_count": 30,
     "metadata": {},
     "output_type": "execute_result"
    }
   ],
   "source": [
    "ax"
   ]
  },
  {
   "cell_type": "code",
   "execution_count": 31,
   "metadata": {},
   "outputs": [],
   "source": [
    "new_index = [11,12,1,2,3,4]\n",
    "ax = ax.reindex(new_index)"
   ]
  },
  {
   "cell_type": "code",
   "execution_count": 32,
   "metadata": {},
   "outputs": [],
   "source": [
    "ax = ax.rename(index={11: 'November', 12: 'December', 1: 'January', 2: 'February', 3: 'March', 4: 'April'})"
   ]
  },
  {
   "cell_type": "code",
   "execution_count": 33,
   "metadata": {},
   "outputs": [
    {
     "data": {
      "image/png": "[encoded data removed]",
      "text/plain": [
       "<Figure size 1440x720 with 1 Axes>"
      ]
     },
     "metadata": {
      "needs_background": "light"
     },
     "output_type": "display_data"
    }
   ],
   "source": [
    "# ax[['failure_percent','success_percent']].plot.bar(stacked=True, rot=0)\n",
    "ax[['failure_percent','success_percent']].plot.bar(stacked=True, rot=0, color=['tab:red','mediumseagreen'])\n",
    "# ax[['FAILURE','SUCCESS']].plot(rot=0, color=['tab:red','mediumseagreen'])\n",
    "plt.title('Success vs Failure')\n",
    "plt.ylabel('Percent')\n",
    "plt.legend(bbox_to_anchor=(1.0, 1.0))\n",
    "plt.show()"
   ]
  },
  {
   "cell_type": "code",
   "execution_count": null,
   "metadata": {},
   "outputs": [],
   "source": []
  },
  {
   "cell_type": "code",
   "execution_count": null,
   "metadata": {},
   "outputs": [],
   "source": [
    "# Get user failures "
   ]
  },
  {
   "cell_type": "code",
   "execution_count": 45,
   "metadata": {},
   "outputs": [],
   "source": [
    "users_logs_by_month = logs[(logs['month']!=5) & (logs['Result']==\"FAILURE\")][[\"month\",\"Result\",\"Reason\"]]"
   ]
  },
  {
   "cell_type": "code",
   "execution_count": 46,
   "metadata": {},
   "outputs": [
    {
     "data": {
      "text/html": [
       "<div>\n",
       "<style scoped>\n",
       "    .dataframe tbody tr th:only-of-type {\n",
       "        vertical-align: middle;\n",
       "    }\n",
       "\n",
       "    .dataframe tbody tr th {\n",
       "        vertical-align: top;\n",
       "    }\n",
       "\n",
       "    .dataframe thead th {\n",
       "        text-align: right;\n",
       "    }\n",
       "</style>\n",
       "<table border=\"1\" class=\"dataframe\">\n",
       "  <thead>\n",
       "    <tr style=\"text-align: right;\">\n",
       "      <th></th>\n",
       "      <th>month</th>\n",
       "      <th>Result</th>\n",
       "      <th>Reason</th>\n",
       "    </tr>\n",
       "  </thead>\n",
       "  <tbody>\n",
       "    <tr>\n",
       "      <th>10</th>\n",
       "      <td>4</td>\n",
       "      <td>FAILURE</td>\n",
       "      <td>No response</td>\n",
       "    </tr>\n",
       "    <tr>\n",
       "      <th>14</th>\n",
       "      <td>4</td>\n",
       "      <td>FAILURE</td>\n",
       "      <td>No response</td>\n",
       "    </tr>\n",
       "    <tr>\n",
       "      <th>33</th>\n",
       "      <td>4</td>\n",
       "      <td>FAILURE</td>\n",
       "      <td>User cancelled</td>\n",
       "    </tr>\n",
       "    <tr>\n",
       "      <th>68</th>\n",
       "      <td>4</td>\n",
       "      <td>FAILURE</td>\n",
       "      <td>No response</td>\n",
       "    </tr>\n",
       "    <tr>\n",
       "      <th>84</th>\n",
       "      <td>4</td>\n",
       "      <td>FAILURE</td>\n",
       "      <td>User cancelled</td>\n",
       "    </tr>\n",
       "  </tbody>\n",
       "</table>\n",
       "</div>"
      ],
      "text/plain": [
       "    month   Result          Reason\n",
       "10      4  FAILURE     No response\n",
       "14      4  FAILURE     No response\n",
       "33      4  FAILURE  User cancelled\n",
       "68      4  FAILURE     No response\n",
       "84      4  FAILURE  User cancelled"
      ]
     },
     "execution_count": 46,
     "metadata": {},
     "output_type": "execute_result"
    }
   ],
   "source": [
    "users_logs_by_month.head()"
   ]
  },
  {
   "cell_type": "code",
   "execution_count": null,
   "metadata": {},
   "outputs": [],
   "source": []
  },
  {
   "cell_type": "code",
   "execution_count": 60,
   "metadata": {},
   "outputs": [],
   "source": [
    "def label_failure(value):\n",
    "    if(value==\"User cancelled\"):\n",
    "        return \"User cancelled\"\n",
    "    elif(value==\"No response\"):\n",
    "        return \"No response\"\n",
    "    elif(value==\"User mistake\"):\n",
    "        return \"User mistake\"\n",
    "    elif(value==\"User mistake\"):\n",
    "        return \"user mistake\"\n",
    "    else:\n",
    "        return \"User Error\""
   ]
  },
  {
   "cell_type": "code",
   "execution_count": 61,
   "metadata": {},
   "outputs": [],
   "source": [
    "users_logs_by_month['label'] = users_logs_by_month['Reason'].apply(lambda value: label_failure(value))"
   ]
  },
  {
   "cell_type": "code",
   "execution_count": null,
   "metadata": {},
   "outputs": [],
   "source": []
  },
  {
   "cell_type": "code",
   "execution_count": 49,
   "metadata": {},
   "outputs": [],
   "source": [
    "users_logs_by_month = users_logs_by_month[users_logs_by_month[\"Reason\"]!=\"Invalid device\"]"
   ]
  },
  {
   "cell_type": "code",
   "execution_count": 51,
   "metadata": {},
   "outputs": [],
   "source": [
    "users_logs_by_month = users_logs_by_month[users_logs_by_month[\"Reason\"]!=\"User is disabled\"]"
   ]
  },
  {
   "cell_type": "code",
   "execution_count": 58,
   "metadata": {},
   "outputs": [],
   "source": [
    "users_logs_by_month = users_logs_by_month[users_logs_by_month[\"Reason\"]!=\"Locked out\"]"
   ]
  },
  {
   "cell_type": "code",
   "execution_count": 59,
   "metadata": {},
   "outputs": [
    {
     "data": {
      "text/plain": [
       "User cancelled      158489\n",
       "No response         144498\n",
       "Invalid passcode     19496\n",
       "No keys pressed       7167\n",
       "Call timed out        5359\n",
       "User mistake          3222\n",
       "Error                   29\n",
       "Name: Reason, dtype: int64"
      ]
     },
     "execution_count": 59,
     "metadata": {},
     "output_type": "execute_result"
    }
   ],
   "source": [
    "users_logs_by_month.Reason.value_counts()"
   ]
  },
  {
   "cell_type": "code",
   "execution_count": 66,
   "metadata": {},
   "outputs": [
    {
     "data": {
      "text/html": [
       "<div>\n",
       "<style scoped>\n",
       "    .dataframe tbody tr th:only-of-type {\n",
       "        vertical-align: middle;\n",
       "    }\n",
       "\n",
       "    .dataframe tbody tr th {\n",
       "        vertical-align: top;\n",
       "    }\n",
       "\n",
       "    .dataframe thead th {\n",
       "        text-align: right;\n",
       "    }\n",
       "</style>\n",
       "<table border=\"1\" class=\"dataframe\">\n",
       "  <thead>\n",
       "    <tr style=\"text-align: right;\">\n",
       "      <th></th>\n",
       "      <th>month</th>\n",
       "      <th>Result</th>\n",
       "      <th>Reason</th>\n",
       "      <th>label</th>\n",
       "    </tr>\n",
       "  </thead>\n",
       "  <tbody>\n",
       "    <tr>\n",
       "      <th>10</th>\n",
       "      <td>4</td>\n",
       "      <td>FAILURE</td>\n",
       "      <td>No response</td>\n",
       "      <td>No response</td>\n",
       "    </tr>\n",
       "    <tr>\n",
       "      <th>14</th>\n",
       "      <td>4</td>\n",
       "      <td>FAILURE</td>\n",
       "      <td>No response</td>\n",
       "      <td>No response</td>\n",
       "    </tr>\n",
       "    <tr>\n",
       "      <th>33</th>\n",
       "      <td>4</td>\n",
       "      <td>FAILURE</td>\n",
       "      <td>User cancelled</td>\n",
       "      <td>User cancelled</td>\n",
       "    </tr>\n",
       "    <tr>\n",
       "      <th>68</th>\n",
       "      <td>4</td>\n",
       "      <td>FAILURE</td>\n",
       "      <td>No response</td>\n",
       "      <td>No response</td>\n",
       "    </tr>\n",
       "    <tr>\n",
       "      <th>84</th>\n",
       "      <td>4</td>\n",
       "      <td>FAILURE</td>\n",
       "      <td>User cancelled</td>\n",
       "      <td>User cancelled</td>\n",
       "    </tr>\n",
       "  </tbody>\n",
       "</table>\n",
       "</div>"
      ],
      "text/plain": [
       "    month   Result          Reason           label\n",
       "10      4  FAILURE     No response     No response\n",
       "14      4  FAILURE     No response     No response\n",
       "33      4  FAILURE  User cancelled  User cancelled\n",
       "68      4  FAILURE     No response     No response\n",
       "84      4  FAILURE  User cancelled  User cancelled"
      ]
     },
     "execution_count": 66,
     "metadata": {},
     "output_type": "execute_result"
    }
   ],
   "source": [
    "users_logs_by_month.head()"
   ]
  },
  {
   "cell_type": "code",
   "execution_count": 107,
   "metadata": {},
   "outputs": [],
   "source": [
    "userLogErrors = users_logs_by_month[['Reason','label','month']].groupby([\"month\",\"label\"]).count().unstack(level=1)"
   ]
  },
  {
   "cell_type": "code",
   "execution_count": 108,
   "metadata": {},
   "outputs": [],
   "source": [
    "userLogErrors.columns = userLogErrors.columns.droplevel()"
   ]
  },
  {
   "cell_type": "code",
   "execution_count": 109,
   "metadata": {},
   "outputs": [],
   "source": [
    "userLogErrors[\"totalAuthentications\"] = logs[['Result','month']].groupby([\"month\"]).count()"
   ]
  },
  {
   "cell_type": "code",
   "execution_count": 110,
   "metadata": {},
   "outputs": [
    {
     "data": {
      "text/html": [
       "<div>\n",
       "<style scoped>\n",
       "    .dataframe tbody tr th:only-of-type {\n",
       "        vertical-align: middle;\n",
       "    }\n",
       "\n",
       "    .dataframe tbody tr th {\n",
       "        vertical-align: top;\n",
       "    }\n",
       "\n",
       "    .dataframe thead th {\n",
       "        text-align: right;\n",
       "    }\n",
       "</style>\n",
       "<table border=\"1\" class=\"dataframe\">\n",
       "  <thead>\n",
       "    <tr style=\"text-align: right;\">\n",
       "      <th>label</th>\n",
       "      <th>No response</th>\n",
       "      <th>User Error</th>\n",
       "      <th>User cancelled</th>\n",
       "      <th>User mistake</th>\n",
       "      <th>totalAuthentications</th>\n",
       "    </tr>\n",
       "    <tr>\n",
       "      <th>month</th>\n",
       "      <th></th>\n",
       "      <th></th>\n",
       "      <th></th>\n",
       "      <th></th>\n",
       "      <th></th>\n",
       "    </tr>\n",
       "  </thead>\n",
       "  <tbody>\n",
       "    <tr>\n",
       "      <th>1</th>\n",
       "      <td>27105</td>\n",
       "      <td>5693</td>\n",
       "      <td>27043</td>\n",
       "      <td>522</td>\n",
       "      <td>1077619</td>\n",
       "    </tr>\n",
       "    <tr>\n",
       "      <th>2</th>\n",
       "      <td>22626</td>\n",
       "      <td>4819</td>\n",
       "      <td>26529</td>\n",
       "      <td>546</td>\n",
       "      <td>1251683</td>\n",
       "    </tr>\n",
       "    <tr>\n",
       "      <th>3</th>\n",
       "      <td>20313</td>\n",
       "      <td>4545</td>\n",
       "      <td>24115</td>\n",
       "      <td>539</td>\n",
       "      <td>1121683</td>\n",
       "    </tr>\n",
       "    <tr>\n",
       "      <th>4</th>\n",
       "      <td>23222</td>\n",
       "      <td>5076</td>\n",
       "      <td>26484</td>\n",
       "      <td>574</td>\n",
       "      <td>1283697</td>\n",
       "    </tr>\n",
       "    <tr>\n",
       "      <th>11</th>\n",
       "      <td>27837</td>\n",
       "      <td>7191</td>\n",
       "      <td>31365</td>\n",
       "      <td>578</td>\n",
       "      <td>1309930</td>\n",
       "    </tr>\n",
       "    <tr>\n",
       "      <th>12</th>\n",
       "      <td>23395</td>\n",
       "      <td>4727</td>\n",
       "      <td>22953</td>\n",
       "      <td>463</td>\n",
       "      <td>1019908</td>\n",
       "    </tr>\n",
       "  </tbody>\n",
       "</table>\n",
       "</div>"
      ],
      "text/plain": [
       "label  No response  User Error  User cancelled  User mistake  \\\n",
       "month                                                          \n",
       "1            27105        5693           27043           522   \n",
       "2            22626        4819           26529           546   \n",
       "3            20313        4545           24115           539   \n",
       "4            23222        5076           26484           574   \n",
       "11           27837        7191           31365           578   \n",
       "12           23395        4727           22953           463   \n",
       "\n",
       "label  totalAuthentications  \n",
       "month                        \n",
       "1                   1077619  \n",
       "2                   1251683  \n",
       "3                   1121683  \n",
       "4                   1283697  \n",
       "11                  1309930  \n",
       "12                  1019908  "
      ]
     },
     "execution_count": 110,
     "metadata": {},
     "output_type": "execute_result"
    }
   ],
   "source": [
    "userLogErrors"
   ]
  },
  {
   "cell_type": "code",
   "execution_count": 115,
   "metadata": {},
   "outputs": [],
   "source": [
    "chartOfUsersFailures = userLogErrors.iloc[:,:4].div(userLogErrors.totalAuthentications, axis=0) * 100"
   ]
  },
  {
   "cell_type": "code",
   "execution_count": 118,
   "metadata": {},
   "outputs": [],
   "source": [
    "chartOfUsersFailures.drop(columns=[\"User mistake\"], inplace=True)"
   ]
  },
  {
   "cell_type": "code",
   "execution_count": 119,
   "metadata": {},
   "outputs": [
    {
     "data": {
      "text/html": [
       "<div>\n",
       "<style scoped>\n",
       "    .dataframe tbody tr th:only-of-type {\n",
       "        vertical-align: middle;\n",
       "    }\n",
       "\n",
       "    .dataframe tbody tr th {\n",
       "        vertical-align: top;\n",
       "    }\n",
       "\n",
       "    .dataframe thead th {\n",
       "        text-align: right;\n",
       "    }\n",
       "</style>\n",
       "<table border=\"1\" class=\"dataframe\">\n",
       "  <thead>\n",
       "    <tr style=\"text-align: right;\">\n",
       "      <th>label</th>\n",
       "      <th>No response</th>\n",
       "      <th>User Error</th>\n",
       "      <th>User cancelled</th>\n",
       "    </tr>\n",
       "    <tr>\n",
       "      <th>month</th>\n",
       "      <th></th>\n",
       "      <th></th>\n",
       "      <th></th>\n",
       "    </tr>\n",
       "  </thead>\n",
       "  <tbody>\n",
       "    <tr>\n",
       "      <th>1</th>\n",
       "      <td>2.515267</td>\n",
       "      <td>0.528294</td>\n",
       "      <td>2.509514</td>\n",
       "    </tr>\n",
       "    <tr>\n",
       "      <th>2</th>\n",
       "      <td>1.807646</td>\n",
       "      <td>0.385002</td>\n",
       "      <td>2.119466</td>\n",
       "    </tr>\n",
       "    <tr>\n",
       "      <th>3</th>\n",
       "      <td>1.810939</td>\n",
       "      <td>0.405195</td>\n",
       "      <td>2.149894</td>\n",
       "    </tr>\n",
       "    <tr>\n",
       "      <th>4</th>\n",
       "      <td>1.808994</td>\n",
       "      <td>0.395420</td>\n",
       "      <td>2.063104</td>\n",
       "    </tr>\n",
       "    <tr>\n",
       "      <th>11</th>\n",
       "      <td>2.125075</td>\n",
       "      <td>0.548961</td>\n",
       "      <td>2.394403</td>\n",
       "    </tr>\n",
       "    <tr>\n",
       "      <th>12</th>\n",
       "      <td>2.293834</td>\n",
       "      <td>0.463473</td>\n",
       "      <td>2.250497</td>\n",
       "    </tr>\n",
       "  </tbody>\n",
       "</table>\n",
       "</div>"
      ],
      "text/plain": [
       "label  No response  User Error  User cancelled\n",
       "month                                         \n",
       "1         2.515267    0.528294        2.509514\n",
       "2         1.807646    0.385002        2.119466\n",
       "3         1.810939    0.405195        2.149894\n",
       "4         1.808994    0.395420        2.063104\n",
       "11        2.125075    0.548961        2.394403\n",
       "12        2.293834    0.463473        2.250497"
      ]
     },
     "execution_count": 119,
     "metadata": {},
     "output_type": "execute_result"
    }
   ],
   "source": [
    "chartOfUsersFailures"
   ]
  },
  {
   "cell_type": "code",
   "execution_count": null,
   "metadata": {},
   "outputs": [],
   "source": []
  },
  {
   "cell_type": "code",
   "execution_count": 127,
   "metadata": {},
   "outputs": [],
   "source": [
    "new_index = [11,12,1,2,3,4]\n",
    "chartOfUsersFailures = chartOfUsersFailures.reindex(new_index)"
   ]
  },
  {
   "cell_type": "code",
   "execution_count": 128,
   "metadata": {},
   "outputs": [],
   "source": [
    "chartOfUsersFailures = chartOfUsersFailures.rename(index={11: 'November', 12: 'December', 1: 'January', 2: 'February', 3: 'March', 4: 'April'})"
   ]
  },
  {
   "cell_type": "code",
   "execution_count": 148,
   "metadata": {},
   "outputs": [
    {
     "data": {
      "image/png": "[encoded data removed]",
      "text/plain": [
       "<Figure size 1440x720 with 1 Axes>"
      ]
     },
     "metadata": {
      "needs_background": "light"
     },
     "output_type": "display_data"
    }
   ],
   "source": [
    "chartOfUsersFailures.plot(ls = 'dashed', lw = 2, marker = 'o')\n",
    "plt.title('Monthly Failure Rates')\n",
    "plt.ylabel('Failure Rate')\n",
    "plt.legend(bbox_to_anchor=(1.15, 1.0))\n",
    "# plt.cycler('linestyle', [\"-\",\"--\",\"-.\"])\n",
    "# plt.plot('dates', 'census_people', data=df[df['dates'] < 2004], marker='o', color='green', linewidth=2)\n",
    "\n",
    "plt.show()"
   ]
  },
  {
   "cell_type": "code",
   "execution_count": null,
   "metadata": {},
   "outputs": [],
   "source": []
  },
  {
   "cell_type": "code",
   "execution_count": null,
   "metadata": {},
   "outputs": [],
   "source": []
  },
  {
   "cell_type": "code",
   "execution_count": null,
   "metadata": {},
   "outputs": [],
   "source": []
  },
  {
   "cell_type": "code",
   "execution_count": null,
   "metadata": {},
   "outputs": [],
   "source": []
  },
  {
   "cell_type": "code",
   "execution_count": 36,
   "metadata": {},
   "outputs": [],
   "source": [
    "authenticationFailures = logs[logs['Result'] == 'FAILURE']"
   ]
  },
  {
   "cell_type": "code",
   "execution_count": 443,
   "metadata": {},
   "outputs": [
    {
     "data": {
      "image/png": "[encoded data removed]",
      "text/plain": [
       "<Figure size 864x504 with 1 Axes>"
      ]
     },
     "metadata": {
      "needs_background": "light"
     },
     "output_type": "display_data"
    }
   ],
   "source": [
    "plt.rcParams[\"figure.figsize\"] = (12,7)\n",
    "authenticationFailures.Reason.value_counts().plot.bar()\n",
    "plt.xticks(rotation= 45) \n",
    "plt.ylabel('Frequency')\n",
    "plt.xlabel('Type of Error')\n",
    "plt.title('Failed Authentications')\n",
    "plt.show()"
   ]
  },
  {
   "cell_type": "code",
   "execution_count": 444,
   "metadata": {},
   "outputs": [],
   "source": [
    "r = logs[logs['Reason']=='User cancelled']"
   ]
  },
  {
   "cell_type": "code",
   "execution_count": 448,
   "metadata": {},
   "outputs": [
    {
     "data": {
      "text/plain": [
       "22863"
      ]
     },
     "execution_count": 448,
     "metadata": {},
     "output_type": "execute_result"
    }
   ],
   "source": [
    "r.Alias.nunique()"
   ]
  },
  {
   "cell_type": "code",
   "execution_count": 449,
   "metadata": {},
   "outputs": [],
   "source": [
    "r = logs[logs['Reason']=='No response']"
   ]
  },
  {
   "cell_type": "code",
   "execution_count": 450,
   "metadata": {},
   "outputs": [
    {
     "data": {
      "text/plain": [
       "26400"
      ]
     },
     "execution_count": 450,
     "metadata": {},
     "output_type": "execute_result"
    }
   ],
   "source": [
    "r.Alias.nunique()"
   ]
  },
  {
   "cell_type": "code",
   "execution_count": null,
   "metadata": {},
   "outputs": [],
   "source": []
  },
  {
   "cell_type": "code",
   "execution_count": null,
   "metadata": {},
   "outputs": [],
   "source": []
  },
  {
   "cell_type": "code",
   "execution_count": null,
   "metadata": {},
   "outputs": [],
   "source": []
  },
  {
   "cell_type": "code",
   "execution_count": null,
   "metadata": {},
   "outputs": [],
   "source": []
  },
  {
   "cell_type": "code",
   "execution_count": 483,
   "metadata": {},
   "outputs": [],
   "source": [
    "userErrorRate = logs[['Alias','Result','Reason']].groupby(['Alias','Result']).size().reset_index(name='counts')"
   ]
  },
  {
   "cell_type": "code",
   "execution_count": 484,
   "metadata": {},
   "outputs": [],
   "source": [
    "userQuantifiedLogs = userErrorRate.pivot(index='Alias',columns='Result',values='counts').drop(columns=['FRAUD'])"
   ]
  },
  {
   "cell_type": "code",
   "execution_count": 485,
   "metadata": {},
   "outputs": [
    {
     "name": "stdout",
     "output_type": "stream",
     "text": [
      "Index(['FAILURE', 'SUCCESS'], dtype='object', name='Result')\n"
     ]
    }
   ],
   "source": [
    "print(userQuantifiedLogs.columns)"
   ]
  },
  {
   "cell_type": "code",
   "execution_count": 486,
   "metadata": {},
   "outputs": [
    {
     "data": {
      "text/html": [
       "<div>\n",
       "<style scoped>\n",
       "    .dataframe tbody tr th:only-of-type {\n",
       "        vertical-align: middle;\n",
       "    }\n",
       "\n",
       "    .dataframe tbody tr th {\n",
       "        vertical-align: top;\n",
       "    }\n",
       "\n",
       "    .dataframe thead th {\n",
       "        text-align: right;\n",
       "    }\n",
       "</style>\n",
       "<table border=\"1\" class=\"dataframe\">\n",
       "  <thead>\n",
       "    <tr style=\"text-align: right;\">\n",
       "      <th>Result</th>\n",
       "      <th>FAILURE</th>\n",
       "      <th>SUCCESS</th>\n",
       "    </tr>\n",
       "    <tr>\n",
       "      <th>Alias</th>\n",
       "      <th></th>\n",
       "      <th></th>\n",
       "    </tr>\n",
       "  </thead>\n",
       "  <tbody>\n",
       "    <tr>\n",
       "      <th>user_000001</th>\n",
       "      <td>7.0</td>\n",
       "      <td>177.0</td>\n",
       "    </tr>\n",
       "    <tr>\n",
       "      <th>user_000002</th>\n",
       "      <td>2.0</td>\n",
       "      <td>498.0</td>\n",
       "    </tr>\n",
       "    <tr>\n",
       "      <th>user_000003</th>\n",
       "      <td>31.0</td>\n",
       "      <td>374.0</td>\n",
       "    </tr>\n",
       "    <tr>\n",
       "      <th>user_000004</th>\n",
       "      <td>7.0</td>\n",
       "      <td>307.0</td>\n",
       "    </tr>\n",
       "    <tr>\n",
       "      <th>user_000005</th>\n",
       "      <td>6.0</td>\n",
       "      <td>448.0</td>\n",
       "    </tr>\n",
       "  </tbody>\n",
       "</table>\n",
       "</div>"
      ],
      "text/plain": [
       "Result       FAILURE  SUCCESS\n",
       "Alias                        \n",
       "user_000001      7.0    177.0\n",
       "user_000002      2.0    498.0\n",
       "user_000003     31.0    374.0\n",
       "user_000004      7.0    307.0\n",
       "user_000005      6.0    448.0"
      ]
     },
     "execution_count": 486,
     "metadata": {},
     "output_type": "execute_result"
    }
   ],
   "source": [
    "userQuantifiedLogs.head()"
   ]
  },
  {
   "cell_type": "code",
   "execution_count": 487,
   "metadata": {},
   "outputs": [],
   "source": [
    "userQuantifiedLogs['FAILURE'] = userQuantifiedLogs['FAILURE'].fillna(0)"
   ]
  },
  {
   "cell_type": "code",
   "execution_count": 488,
   "metadata": {},
   "outputs": [],
   "source": [
    "userQuantifiedLogs['SUCCESS'] = userQuantifiedLogs['SUCCESS'].fillna(1)"
   ]
  },
  {
   "cell_type": "code",
   "execution_count": 489,
   "metadata": {},
   "outputs": [],
   "source": [
    "userQuantifiedLogs['errorRate'] = userQuantifiedLogs['FAILURE'] / userQuantifiedLogs['SUCCESS']"
   ]
  },
  {
   "cell_type": "code",
   "execution_count": 490,
   "metadata": {},
   "outputs": [],
   "source": [
    "userQuantifiedLogs.sort_values(by='errorRate', inplace=True)"
   ]
  },
  {
   "cell_type": "code",
   "execution_count": 491,
   "metadata": {},
   "outputs": [],
   "source": [
    "userQuantifiedLogs.insert(0,'New_ID', range(1, len(userQuantifiedLogs)+1))"
   ]
  },
  {
   "cell_type": "code",
   "execution_count": 492,
   "metadata": {},
   "outputs": [
    {
     "data": {
      "text/html": [
       "<div>\n",
       "<style scoped>\n",
       "    .dataframe tbody tr th:only-of-type {\n",
       "        vertical-align: middle;\n",
       "    }\n",
       "\n",
       "    .dataframe tbody tr th {\n",
       "        vertical-align: top;\n",
       "    }\n",
       "\n",
       "    .dataframe thead th {\n",
       "        text-align: right;\n",
       "    }\n",
       "</style>\n",
       "<table border=\"1\" class=\"dataframe\">\n",
       "  <thead>\n",
       "    <tr style=\"text-align: right;\">\n",
       "      <th>Result</th>\n",
       "      <th>New_ID</th>\n",
       "      <th>FAILURE</th>\n",
       "      <th>SUCCESS</th>\n",
       "      <th>errorRate</th>\n",
       "    </tr>\n",
       "    <tr>\n",
       "      <th>Alias</th>\n",
       "      <th></th>\n",
       "      <th></th>\n",
       "      <th></th>\n",
       "      <th></th>\n",
       "    </tr>\n",
       "  </thead>\n",
       "  <tbody>\n",
       "    <tr>\n",
       "      <th>user_045430</th>\n",
       "      <td>1</td>\n",
       "      <td>0.0</td>\n",
       "      <td>45.0</td>\n",
       "      <td>0.0</td>\n",
       "    </tr>\n",
       "    <tr>\n",
       "      <th>user_032306</th>\n",
       "      <td>2</td>\n",
       "      <td>0.0</td>\n",
       "      <td>146.0</td>\n",
       "      <td>0.0</td>\n",
       "    </tr>\n",
       "    <tr>\n",
       "      <th>user_042524</th>\n",
       "      <td>3</td>\n",
       "      <td>0.0</td>\n",
       "      <td>113.0</td>\n",
       "      <td>0.0</td>\n",
       "    </tr>\n",
       "    <tr>\n",
       "      <th>user_032299</th>\n",
       "      <td>4</td>\n",
       "      <td>0.0</td>\n",
       "      <td>95.0</td>\n",
       "      <td>0.0</td>\n",
       "    </tr>\n",
       "    <tr>\n",
       "      <th>user_014028</th>\n",
       "      <td>5</td>\n",
       "      <td>0.0</td>\n",
       "      <td>73.0</td>\n",
       "      <td>0.0</td>\n",
       "    </tr>\n",
       "  </tbody>\n",
       "</table>\n",
       "</div>"
      ],
      "text/plain": [
       "Result       New_ID  FAILURE  SUCCESS  errorRate\n",
       "Alias                                           \n",
       "user_045430       1      0.0     45.0        0.0\n",
       "user_032306       2      0.0    146.0        0.0\n",
       "user_042524       3      0.0    113.0        0.0\n",
       "user_032299       4      0.0     95.0        0.0\n",
       "user_014028       5      0.0     73.0        0.0"
      ]
     },
     "execution_count": 492,
     "metadata": {},
     "output_type": "execute_result"
    }
   ],
   "source": [
    "userQuantifiedLogs.head()"
   ]
  },
  {
   "cell_type": "code",
   "execution_count": 493,
   "metadata": {},
   "outputs": [
    {
     "data": {
      "text/html": [
       "<div>\n",
       "<style scoped>\n",
       "    .dataframe tbody tr th:only-of-type {\n",
       "        vertical-align: middle;\n",
       "    }\n",
       "\n",
       "    .dataframe tbody tr th {\n",
       "        vertical-align: top;\n",
       "    }\n",
       "\n",
       "    .dataframe thead th {\n",
       "        text-align: right;\n",
       "    }\n",
       "</style>\n",
       "<table border=\"1\" class=\"dataframe\">\n",
       "  <thead>\n",
       "    <tr style=\"text-align: right;\">\n",
       "      <th>Result</th>\n",
       "      <th>New_ID</th>\n",
       "      <th>FAILURE</th>\n",
       "      <th>SUCCESS</th>\n",
       "      <th>errorRate</th>\n",
       "    </tr>\n",
       "    <tr>\n",
       "      <th>Alias</th>\n",
       "      <th></th>\n",
       "      <th></th>\n",
       "      <th></th>\n",
       "      <th></th>\n",
       "    </tr>\n",
       "  </thead>\n",
       "  <tbody>\n",
       "    <tr>\n",
       "      <th>user_042725</th>\n",
       "      <td>35879</td>\n",
       "      <td>11.0</td>\n",
       "      <td>2.0</td>\n",
       "      <td>5.5</td>\n",
       "    </tr>\n",
       "    <tr>\n",
       "      <th>user_022473</th>\n",
       "      <td>35880</td>\n",
       "      <td>6.0</td>\n",
       "      <td>1.0</td>\n",
       "      <td>6.0</td>\n",
       "    </tr>\n",
       "    <tr>\n",
       "      <th>user_039879</th>\n",
       "      <td>35881</td>\n",
       "      <td>7.0</td>\n",
       "      <td>1.0</td>\n",
       "      <td>7.0</td>\n",
       "    </tr>\n",
       "    <tr>\n",
       "      <th>user_042880</th>\n",
       "      <td>35882</td>\n",
       "      <td>9.0</td>\n",
       "      <td>1.0</td>\n",
       "      <td>9.0</td>\n",
       "    </tr>\n",
       "    <tr>\n",
       "      <th>user_038190</th>\n",
       "      <td>35883</td>\n",
       "      <td>94.0</td>\n",
       "      <td>5.0</td>\n",
       "      <td>18.8</td>\n",
       "    </tr>\n",
       "  </tbody>\n",
       "</table>\n",
       "</div>"
      ],
      "text/plain": [
       "Result       New_ID  FAILURE  SUCCESS  errorRate\n",
       "Alias                                           \n",
       "user_042725   35879     11.0      2.0        5.5\n",
       "user_022473   35880      6.0      1.0        6.0\n",
       "user_039879   35881      7.0      1.0        7.0\n",
       "user_042880   35882      9.0      1.0        9.0\n",
       "user_038190   35883     94.0      5.0       18.8"
      ]
     },
     "execution_count": 493,
     "metadata": {},
     "output_type": "execute_result"
    }
   ],
   "source": [
    "userQuantifiedLogs.tail()"
   ]
  },
  {
   "cell_type": "code",
   "execution_count": null,
   "metadata": {},
   "outputs": [],
   "source": []
  },
  {
   "cell_type": "code",
   "execution_count": 494,
   "metadata": {},
   "outputs": [],
   "source": [
    "userQuantifiedLogs['userPercentage'] = userQuantifiedLogs['New_ID'].apply(lambda num: num/len(userQuantifiedLogs))"
   ]
  },
  {
   "cell_type": "code",
   "execution_count": 495,
   "metadata": {},
   "outputs": [
    {
     "data": {
      "image/png": "[encoded data removed]",
      "text/plain": [
       "<Figure size 864x504 with 1 Axes>"
      ]
     },
     "metadata": {
      "needs_background": "light"
     },
     "output_type": "display_data"
    }
   ],
   "source": [
    "ax = userQuantifiedLogs.plot(x='errorRate', y='userPercentage', legend=False)\n",
    "plt.ylabel('Percentage of Users')\n",
    "plt.xlabel('Failure rate')\n",
    "plt.xlim(0,1)\n",
    "plt.title('User Failure Rate')\n",
    "plt.show()"
   ]
  },
  {
   "cell_type": "code",
   "execution_count": 496,
   "metadata": {},
   "outputs": [
    {
     "data": {
      "text/plain": [
       "count    35883.000000\n",
       "mean         0.069894\n",
       "std          0.201558\n",
       "min          0.000000\n",
       "25%          0.012500\n",
       "50%          0.033333\n",
       "75%          0.072072\n",
       "max         18.800000\n",
       "Name: errorRate, dtype: float64"
      ]
     },
     "execution_count": 496,
     "metadata": {},
     "output_type": "execute_result"
    }
   ],
   "source": [
    "userQuantifiedLogs['errorRate'].describe()"
   ]
  },
  {
   "cell_type": "code",
   "execution_count": null,
   "metadata": {},
   "outputs": [],
   "source": []
  },
  {
   "cell_type": "code",
   "execution_count": null,
   "metadata": {},
   "outputs": [],
   "source": []
  },
  {
   "cell_type": "code",
   "execution_count": null,
   "metadata": {},
   "outputs": [],
   "source": []
  },
  {
   "cell_type": "code",
   "execution_count": 55,
   "metadata": {},
   "outputs": [],
   "source": [
    "authenticationFailures = logs[logs['Result'] == 'FAILURE']"
   ]
  },
  {
   "cell_type": "code",
   "execution_count": 56,
   "metadata": {},
   "outputs": [],
   "source": [
    "factorLogs = logs"
   ]
  },
  {
   "cell_type": "code",
   "execution_count": 127,
   "metadata": {},
   "outputs": [],
   "source": [
    "factorLogs = factorLogs[['Factor','Result','Reason']].groupby(by=['Factor','Result']).count().reset_index(level=1).pivot(columns=\"Result\")"
   ]
  },
  {
   "cell_type": "code",
   "execution_count": 135,
   "metadata": {},
   "outputs": [],
   "source": [
    "factorLogs.columns = factorLogs.columns.droplevel()"
   ]
  },
  {
   "cell_type": "code",
   "execution_count": 140,
   "metadata": {},
   "outputs": [],
   "source": [
    "factorLogs.drop(columns='FRAUD', inplace=True)"
   ]
  },
  {
   "cell_type": "code",
   "execution_count": 144,
   "metadata": {},
   "outputs": [],
   "source": [
    "factorLogs.fillna(0, inplace=True)"
   ]
  },
  {
   "cell_type": "code",
   "execution_count": 149,
   "metadata": {},
   "outputs": [],
   "source": [
    "factorLogs['failurePercent'] = (factorLogs['FAILURE'] / (factorLogs['FAILURE'] + factorLogs['SUCCESS']))*100"
   ]
  },
  {
   "cell_type": "code",
   "execution_count": 152,
   "metadata": {},
   "outputs": [],
   "source": [
    "factorLogs.drop('Bypass Status', inplace=True)"
   ]
  },
  {
   "cell_type": "code",
   "execution_count": null,
   "metadata": {},
   "outputs": [],
   "source": []
  },
  {
   "cell_type": "code",
   "execution_count": null,
   "metadata": {},
   "outputs": [],
   "source": []
  },
  {
   "cell_type": "code",
   "execution_count": null,
   "metadata": {},
   "outputs": [],
   "source": []
  },
  {
   "cell_type": "code",
   "execution_count": 157,
   "metadata": {},
   "outputs": [],
   "source": [
    "passCodeFailure = factorLogs.loc['Bypass Code']['FAILURE'] + factorLogs.loc['Duo Mobile Passcode']['FAILURE'] + factorLogs.loc['Hardware Token']['FAILURE'] + factorLogs.loc['Passcode']['FAILURE'] + factorLogs.loc['Yubikey Passcode']['FAILURE']"
   ]
  },
  {
   "cell_type": "code",
   "execution_count": 158,
   "metadata": {},
   "outputs": [],
   "source": [
    "passCodeSucess = factorLogs.loc['Bypass Code']['SUCCESS'] + factorLogs.loc['Duo Mobile Passcode']['SUCCESS'] + factorLogs.loc['Hardware Token']['SUCCESS'] + factorLogs.loc['Passcode']['SUCCESS'] + factorLogs.loc['Yubikey Passcode']['SUCCESS']"
   ]
  },
  {
   "cell_type": "code",
   "execution_count": 161,
   "metadata": {},
   "outputs": [],
   "source": [
    "factorLogs.loc['passcode'] = [passCodeFailure, passCodeSucess, (passCodeFailure/passCodeSucess)*100]"
   ]
  },
  {
   "cell_type": "code",
   "execution_count": 163,
   "metadata": {},
   "outputs": [],
   "source": [
    "factorLogs.drop(['Bypass Code','Duo Mobile Passcode','Hardware Token','Passcode'], inplace=True)"
   ]
  },
  {
   "cell_type": "code",
   "execution_count": 167,
   "metadata": {},
   "outputs": [],
   "source": [
    "factorLogs.drop(['Yubikey Passcode'], inplace=True)"
   ]
  },
  {
   "cell_type": "code",
   "execution_count": 173,
   "metadata": {},
   "outputs": [
    {
     "data": {
      "text/html": [
       "<div>\n",
       "<style scoped>\n",
       "    .dataframe tbody tr th:only-of-type {\n",
       "        vertical-align: middle;\n",
       "    }\n",
       "\n",
       "    .dataframe tbody tr th {\n",
       "        vertical-align: top;\n",
       "    }\n",
       "\n",
       "    .dataframe thead th {\n",
       "        text-align: right;\n",
       "    }\n",
       "</style>\n",
       "<table border=\"1\" class=\"dataframe\">\n",
       "  <thead>\n",
       "    <tr style=\"text-align: right;\">\n",
       "      <th>Result</th>\n",
       "      <th>failurePercent</th>\n",
       "    </tr>\n",
       "    <tr>\n",
       "      <th>Factor</th>\n",
       "      <th></th>\n",
       "    </tr>\n",
       "  </thead>\n",
       "  <tbody>\n",
       "    <tr>\n",
       "      <th>passcode</th>\n",
       "      <td>5.182556</td>\n",
       "    </tr>\n",
       "    <tr>\n",
       "      <th>Phone Call</th>\n",
       "      <td>3.864738</td>\n",
       "    </tr>\n",
       "    <tr>\n",
       "      <th>Duo Push</th>\n",
       "      <td>2.926649</td>\n",
       "    </tr>\n",
       "    <tr>\n",
       "      <th>Remembered Device</th>\n",
       "      <td>0.000000</td>\n",
       "    </tr>\n",
       "    <tr>\n",
       "      <th>Security Key (WebAuthn)</th>\n",
       "      <td>0.000000</td>\n",
       "    </tr>\n",
       "    <tr>\n",
       "      <th>Touch ID (WebAuthn)</th>\n",
       "      <td>0.000000</td>\n",
       "    </tr>\n",
       "    <tr>\n",
       "      <th>U2F Token</th>\n",
       "      <td>0.000000</td>\n",
       "    </tr>\n",
       "  </tbody>\n",
       "</table>\n",
       "</div>"
      ],
      "text/plain": [
       "Result                   failurePercent\n",
       "Factor                                 \n",
       "passcode                       5.182556\n",
       "Phone Call                     3.864738\n",
       "Duo Push                       2.926649\n",
       "Remembered Device              0.000000\n",
       "Security Key (WebAuthn)        0.000000\n",
       "Touch ID (WebAuthn)            0.000000\n",
       "U2F Token                      0.000000"
      ]
     },
     "execution_count": 173,
     "metadata": {},
     "output_type": "execute_result"
    }
   ],
   "source": [
    "factorLogs[['failurePercent']].sort_values(by='failurePercent', ascending=False)"
   ]
  },
  {
   "cell_type": "code",
   "execution_count": null,
   "metadata": {},
   "outputs": [],
   "source": []
  },
  {
   "cell_type": "code",
   "execution_count": null,
   "metadata": {},
   "outputs": [],
   "source": []
  },
  {
   "cell_type": "code",
   "execution_count": 174,
   "metadata": {},
   "outputs": [
    {
     "data": {
      "text/html": [
       "<div>\n",
       "<style scoped>\n",
       "    .dataframe tbody tr th:only-of-type {\n",
       "        vertical-align: middle;\n",
       "    }\n",
       "\n",
       "    .dataframe tbody tr th {\n",
       "        vertical-align: top;\n",
       "    }\n",
       "\n",
       "    .dataframe thead th {\n",
       "        text-align: right;\n",
       "    }\n",
       "</style>\n",
       "<table border=\"1\" class=\"dataframe\">\n",
       "  <thead>\n",
       "    <tr style=\"text-align: right;\">\n",
       "      <th></th>\n",
       "      <th>Factor</th>\n",
       "      <th>Description</th>\n",
       "      <th>Reason</th>\n",
       "      <th>Alias</th>\n",
       "    </tr>\n",
       "  </thead>\n",
       "  <tbody>\n",
       "    <tr>\n",
       "      <th>0</th>\n",
       "      <td>Phone Call</td>\n",
       "      <td>Active (Student)</td>\n",
       "      <td>User approved</td>\n",
       "      <td>user_008576</td>\n",
       "    </tr>\n",
       "    <tr>\n",
       "      <th>1</th>\n",
       "      <td>Duo Push</td>\n",
       "      <td>Active (Student)</td>\n",
       "      <td>User approved</td>\n",
       "      <td>user_049277</td>\n",
       "    </tr>\n",
       "    <tr>\n",
       "      <th>2</th>\n",
       "      <td>Duo Push</td>\n",
       "      <td>Active (Student)</td>\n",
       "      <td>User approved</td>\n",
       "      <td>user_025756</td>\n",
       "    </tr>\n",
       "    <tr>\n",
       "      <th>3</th>\n",
       "      <td>Duo Push</td>\n",
       "      <td>Active (Student)</td>\n",
       "      <td>User approved</td>\n",
       "      <td>user_030286</td>\n",
       "    </tr>\n",
       "    <tr>\n",
       "      <th>4</th>\n",
       "      <td>Duo Push</td>\n",
       "      <td>Active (Student)</td>\n",
       "      <td>User approved</td>\n",
       "      <td>user_019093</td>\n",
       "    </tr>\n",
       "  </tbody>\n",
       "</table>\n",
       "</div>"
      ],
      "text/plain": [
       "       Factor       Description         Reason        Alias\n",
       "0  Phone Call  Active (Student)  User approved  user_008576\n",
       "1    Duo Push  Active (Student)  User approved  user_049277\n",
       "2    Duo Push  Active (Student)  User approved  user_025756\n",
       "3    Duo Push  Active (Student)  User approved  user_030286\n",
       "4    Duo Push  Active (Student)  User approved  user_019093"
      ]
     },
     "execution_count": 174,
     "metadata": {},
     "output_type": "execute_result"
    }
   ],
   "source": [
    "factorsBeingUsed = logs.reset_index()[['Factor','Description','Reason','Alias']]\n",
    "factorsBeingUsed.head()"
   ]
  },
  {
   "cell_type": "code",
   "execution_count": 187,
   "metadata": {},
   "outputs": [],
   "source": [
    "factorUsage = factorsBeingUsed.groupby(['Description','Factor','Alias']).count().unstack(level=2).count(axis=1).reset_index()"
   ]
  },
  {
   "cell_type": "code",
   "execution_count": 188,
   "metadata": {},
   "outputs": [],
   "source": [
    "def computePercentageOfGroup(row):\n",
    "    if(row['Description']=='Active (Faculty)'):\n",
    "        return round((row[0] / 1773) * 100, 1)\n",
    "    elif(row['Description']=='Active (Staff)'):\n",
    "        return round((row[0] / 1179) * 100, 1)\n",
    "    elif(row['Description']=='Active (Student)'):\n",
    "        return round((row[0] / 32931) * 100, 1)"
   ]
  },
  {
   "cell_type": "code",
   "execution_count": 189,
   "metadata": {},
   "outputs": [],
   "source": [
    "factorUsage['percentOfPopulation'] = factorUsage.apply(lambda row: computePercentageOfGroup(row), axis=1)"
   ]
  },
  {
   "cell_type": "code",
   "execution_count": 211,
   "metadata": {
    "collapsed": true
   },
   "outputs": [
    {
     "data": {
      "text/html": [
       "<div>\n",
       "<style scoped>\n",
       "    .dataframe tbody tr th:only-of-type {\n",
       "        vertical-align: middle;\n",
       "    }\n",
       "\n",
       "    .dataframe tbody tr th {\n",
       "        vertical-align: top;\n",
       "    }\n",
       "\n",
       "    .dataframe thead th {\n",
       "        text-align: right;\n",
       "    }\n",
       "</style>\n",
       "<table border=\"1\" class=\"dataframe\">\n",
       "  <thead>\n",
       "    <tr style=\"text-align: right;\">\n",
       "      <th>Description</th>\n",
       "      <th>Active (Faculty)</th>\n",
       "      <th>Active (Staff)</th>\n",
       "      <th>Active (Student)</th>\n",
       "    </tr>\n",
       "    <tr>\n",
       "      <th>Factor</th>\n",
       "      <th></th>\n",
       "      <th></th>\n",
       "      <th></th>\n",
       "    </tr>\n",
       "  </thead>\n",
       "  <tbody>\n",
       "    <tr>\n",
       "      <th>Duo Push</th>\n",
       "      <td>72.3</td>\n",
       "      <td>68.7</td>\n",
       "      <td>87.7</td>\n",
       "    </tr>\n",
       "    <tr>\n",
       "      <th>Remembered Device</th>\n",
       "      <td>58.0</td>\n",
       "      <td>68.8</td>\n",
       "      <td>55.2</td>\n",
       "    </tr>\n",
       "    <tr>\n",
       "      <th>Phone Call</th>\n",
       "      <td>41.2</td>\n",
       "      <td>45.5</td>\n",
       "      <td>39.1</td>\n",
       "    </tr>\n",
       "    <tr>\n",
       "      <th>Duo Mobile Passcode</th>\n",
       "      <td>16.0</td>\n",
       "      <td>11.0</td>\n",
       "      <td>20.8</td>\n",
       "    </tr>\n",
       "    <tr>\n",
       "      <th>Touch ID (WebAuthn)</th>\n",
       "      <td>0.2</td>\n",
       "      <td>0.2</td>\n",
       "      <td>1.1</td>\n",
       "    </tr>\n",
       "    <tr>\n",
       "      <th>Bypass Code</th>\n",
       "      <td>0.5</td>\n",
       "      <td>0.8</td>\n",
       "      <td>0.6</td>\n",
       "    </tr>\n",
       "    <tr>\n",
       "      <th>Hardware Token</th>\n",
       "      <td>14.4</td>\n",
       "      <td>28.6</td>\n",
       "      <td>0.6</td>\n",
       "    </tr>\n",
       "    <tr>\n",
       "      <th>Bypass Status</th>\n",
       "      <td>0.2</td>\n",
       "      <td>0.0</td>\n",
       "      <td>0.1</td>\n",
       "    </tr>\n",
       "    <tr>\n",
       "      <th>Security Key (WebAuthn)</th>\n",
       "      <td>2.0</td>\n",
       "      <td>0.9</td>\n",
       "      <td>0.0</td>\n",
       "    </tr>\n",
       "    <tr>\n",
       "      <th>U2F Token</th>\n",
       "      <td>3.9</td>\n",
       "      <td>2.5</td>\n",
       "      <td>0.0</td>\n",
       "    </tr>\n",
       "    <tr>\n",
       "      <th>Yubikey Passcode</th>\n",
       "      <td>0.0</td>\n",
       "      <td>0.1</td>\n",
       "      <td>0.0</td>\n",
       "    </tr>\n",
       "  </tbody>\n",
       "</table>\n",
       "</div>"
      ],
      "text/plain": [
       "Description              Active (Faculty)  Active (Staff)  Active (Student)\n",
       "Factor                                                                     \n",
       "Duo Push                             72.3            68.7              87.7\n",
       "Remembered Device                    58.0            68.8              55.2\n",
       "Phone Call                           41.2            45.5              39.1\n",
       "Duo Mobile Passcode                  16.0            11.0              20.8\n",
       "Touch ID (WebAuthn)                   0.2             0.2               1.1\n",
       "Bypass Code                           0.5             0.8               0.6\n",
       "Hardware Token                       14.4            28.6               0.6\n",
       "Bypass Status                         0.2             0.0               0.1\n",
       "Security Key (WebAuthn)               2.0             0.9               0.0\n",
       "U2F Token                             3.9             2.5               0.0\n",
       "Yubikey Passcode                      0.0             0.1               0.0"
      ]
     },
     "execution_count": 211,
     "metadata": {},
     "output_type": "execute_result"
    }
   ],
   "source": [
    "factorUsageResult = factorUsage.set_index(['Description','Factor'])['percentOfPopulation'].unstack(level=1).transpose().fillna(0).sort_values(by='Active (Student)', ascending=False)\n",
    "factorUsageResult.drop('Passcode', inplace=True)\n"
   ]
  },
  {
   "cell_type": "code",
   "execution_count": 212,
   "metadata": {},
   "outputs": [
    {
     "data": {
      "text/html": [
       "<div>\n",
       "<style scoped>\n",
       "    .dataframe tbody tr th:only-of-type {\n",
       "        vertical-align: middle;\n",
       "    }\n",
       "\n",
       "    .dataframe tbody tr th {\n",
       "        vertical-align: top;\n",
       "    }\n",
       "\n",
       "    .dataframe thead th {\n",
       "        text-align: right;\n",
       "    }\n",
       "</style>\n",
       "<table border=\"1\" class=\"dataframe\">\n",
       "  <thead>\n",
       "    <tr style=\"text-align: right;\">\n",
       "      <th>Description</th>\n",
       "      <th>Active (Faculty)</th>\n",
       "      <th>Active (Staff)</th>\n",
       "      <th>Active (Student)</th>\n",
       "    </tr>\n",
       "    <tr>\n",
       "      <th>Factor</th>\n",
       "      <th></th>\n",
       "      <th></th>\n",
       "      <th></th>\n",
       "    </tr>\n",
       "  </thead>\n",
       "  <tbody>\n",
       "    <tr>\n",
       "      <th>Duo Push</th>\n",
       "      <td>72.3</td>\n",
       "      <td>68.7</td>\n",
       "      <td>87.7</td>\n",
       "    </tr>\n",
       "    <tr>\n",
       "      <th>Remembered Device</th>\n",
       "      <td>58.0</td>\n",
       "      <td>68.8</td>\n",
       "      <td>55.2</td>\n",
       "    </tr>\n",
       "    <tr>\n",
       "      <th>Phone Call</th>\n",
       "      <td>41.2</td>\n",
       "      <td>45.5</td>\n",
       "      <td>39.1</td>\n",
       "    </tr>\n",
       "    <tr>\n",
       "      <th>Duo Mobile Passcode</th>\n",
       "      <td>16.0</td>\n",
       "      <td>11.0</td>\n",
       "      <td>20.8</td>\n",
       "    </tr>\n",
       "    <tr>\n",
       "      <th>Touch ID (WebAuthn)</th>\n",
       "      <td>0.2</td>\n",
       "      <td>0.2</td>\n",
       "      <td>1.1</td>\n",
       "    </tr>\n",
       "    <tr>\n",
       "      <th>Bypass Code</th>\n",
       "      <td>0.5</td>\n",
       "      <td>0.8</td>\n",
       "      <td>0.6</td>\n",
       "    </tr>\n",
       "    <tr>\n",
       "      <th>Hardware Token</th>\n",
       "      <td>14.4</td>\n",
       "      <td>28.6</td>\n",
       "      <td>0.6</td>\n",
       "    </tr>\n",
       "    <tr>\n",
       "      <th>Bypass Status</th>\n",
       "      <td>0.2</td>\n",
       "      <td>0.0</td>\n",
       "      <td>0.1</td>\n",
       "    </tr>\n",
       "    <tr>\n",
       "      <th>Security Key (WebAuthn)</th>\n",
       "      <td>2.0</td>\n",
       "      <td>0.9</td>\n",
       "      <td>0.0</td>\n",
       "    </tr>\n",
       "    <tr>\n",
       "      <th>U2F Token</th>\n",
       "      <td>3.9</td>\n",
       "      <td>2.5</td>\n",
       "      <td>0.0</td>\n",
       "    </tr>\n",
       "    <tr>\n",
       "      <th>Yubikey Passcode</th>\n",
       "      <td>0.0</td>\n",
       "      <td>0.1</td>\n",
       "      <td>0.0</td>\n",
       "    </tr>\n",
       "  </tbody>\n",
       "</table>\n",
       "</div>"
      ],
      "text/plain": [
       "Description              Active (Faculty)  Active (Staff)  Active (Student)\n",
       "Factor                                                                     \n",
       "Duo Push                             72.3            68.7              87.7\n",
       "Remembered Device                    58.0            68.8              55.2\n",
       "Phone Call                           41.2            45.5              39.1\n",
       "Duo Mobile Passcode                  16.0            11.0              20.8\n",
       "Touch ID (WebAuthn)                   0.2             0.2               1.1\n",
       "Bypass Code                           0.5             0.8               0.6\n",
       "Hardware Token                       14.4            28.6               0.6\n",
       "Bypass Status                         0.2             0.0               0.1\n",
       "Security Key (WebAuthn)               2.0             0.9               0.0\n",
       "U2F Token                             3.9             2.5               0.0\n",
       "Yubikey Passcode                      0.0             0.1               0.0"
      ]
     },
     "execution_count": 212,
     "metadata": {},
     "output_type": "execute_result"
    }
   ],
   "source": [
    "factorUsageResult"
   ]
  },
  {
   "cell_type": "code",
   "execution_count": null,
   "metadata": {},
   "outputs": [],
   "source": []
  },
  {
   "cell_type": "code",
   "execution_count": 424,
   "metadata": {},
   "outputs": [],
   "source": [
    "factorLogs = logs[['Factor','Result','month']]"
   ]
  },
  {
   "cell_type": "code",
   "execution_count": 425,
   "metadata": {},
   "outputs": [],
   "source": [
    "factorLogs = factorLogs.groupby(['month','Factor']).count().reset_index(level=1).pivot(columns='Factor',values='Result')"
   ]
  },
  {
   "cell_type": "code",
   "execution_count": 426,
   "metadata": {},
   "outputs": [],
   "source": [
    "factorLogs.drop(5, inplace=True)"
   ]
  },
  {
   "cell_type": "code",
   "execution_count": 427,
   "metadata": {},
   "outputs": [],
   "source": [
    "factorLogs.fillna(0, inplace=True)"
   ]
  },
  {
   "cell_type": "code",
   "execution_count": 428,
   "metadata": {},
   "outputs": [],
   "source": [
    "factorLogs['Passcodes'] = factorLogs['Bypass Code'] + factorLogs['Duo Mobile Passcode'] + factorLogs['Hardware Token'] + factorLogs['Passcode'] + factorLogs['Yubikey Passcode']"
   ]
  },
  {
   "cell_type": "code",
   "execution_count": 431,
   "metadata": {},
   "outputs": [],
   "source": [
    "factorLogs['Security Key'] = factorLogs['Security Key (WebAuthn)'] + factorLogs['U2F Token']"
   ]
  },
  {
   "cell_type": "code",
   "execution_count": 432,
   "metadata": {},
   "outputs": [],
   "source": [
    "factorLogs.drop(columns=['Security Key (WebAuthn)','U2F Token'], inplace=True)"
   ]
  },
  {
   "cell_type": "code",
   "execution_count": 435,
   "metadata": {},
   "outputs": [],
   "source": [
    "factorLogs.drop(columns=['Bypass Status'], inplace=True)"
   ]
  },
  {
   "cell_type": "code",
   "execution_count": 429,
   "metadata": {},
   "outputs": [],
   "source": [
    "factorLogs.drop(columns=['Bypass Code','Duo Mobile Passcode','Hardware Token','Passcode', 'Yubikey Passcode'], inplace=True)"
   ]
  },
  {
   "cell_type": "code",
   "execution_count": 438,
   "metadata": {},
   "outputs": [
    {
     "data": {
      "text/html": [
       "<div>\n",
       "<style scoped>\n",
       "    .dataframe tbody tr th:only-of-type {\n",
       "        vertical-align: middle;\n",
       "    }\n",
       "\n",
       "    .dataframe tbody tr th {\n",
       "        vertical-align: top;\n",
       "    }\n",
       "\n",
       "    .dataframe thead th {\n",
       "        text-align: right;\n",
       "    }\n",
       "</style>\n",
       "<table border=\"1\" class=\"dataframe\">\n",
       "  <thead>\n",
       "    <tr style=\"text-align: right;\">\n",
       "      <th>Factor</th>\n",
       "      <th>Duo Push</th>\n",
       "      <th>Phone Call</th>\n",
       "      <th>Remembered Device</th>\n",
       "      <th>Touch ID (WebAuthn)</th>\n",
       "      <th>Passcodes</th>\n",
       "      <th>Security Key</th>\n",
       "    </tr>\n",
       "    <tr>\n",
       "      <th>month</th>\n",
       "      <th></th>\n",
       "      <th></th>\n",
       "      <th></th>\n",
       "      <th></th>\n",
       "      <th></th>\n",
       "      <th></th>\n",
       "    </tr>\n",
       "  </thead>\n",
       "  <tbody>\n",
       "    <tr>\n",
       "      <th>1</th>\n",
       "      <td>573462.0</td>\n",
       "      <td>114449.0</td>\n",
       "      <td>163239.0</td>\n",
       "      <td>3065.0</td>\n",
       "      <td>48698.0</td>\n",
       "      <td>2737.0</td>\n",
       "    </tr>\n",
       "    <tr>\n",
       "      <th>2</th>\n",
       "      <td>685134.0</td>\n",
       "      <td>131844.0</td>\n",
       "      <td>208977.0</td>\n",
       "      <td>3627.0</td>\n",
       "      <td>55511.0</td>\n",
       "      <td>3305.0</td>\n",
       "    </tr>\n",
       "    <tr>\n",
       "      <th>3</th>\n",
       "      <td>605309.0</td>\n",
       "      <td>118483.0</td>\n",
       "      <td>179256.0</td>\n",
       "      <td>3285.0</td>\n",
       "      <td>48629.0</td>\n",
       "      <td>3167.0</td>\n",
       "    </tr>\n",
       "    <tr>\n",
       "      <th>4</th>\n",
       "      <td>687033.0</td>\n",
       "      <td>133840.0</td>\n",
       "      <td>220139.0</td>\n",
       "      <td>3700.0</td>\n",
       "      <td>51515.0</td>\n",
       "      <td>3385.0</td>\n",
       "    </tr>\n",
       "    <tr>\n",
       "      <th>11</th>\n",
       "      <td>690756.0</td>\n",
       "      <td>122046.0</td>\n",
       "      <td>204621.0</td>\n",
       "      <td>3403.0</td>\n",
       "      <td>65069.0</td>\n",
       "      <td>2713.0</td>\n",
       "    </tr>\n",
       "    <tr>\n",
       "      <th>12</th>\n",
       "      <td>527273.0</td>\n",
       "      <td>98426.0</td>\n",
       "      <td>148852.0</td>\n",
       "      <td>2684.0</td>\n",
       "      <td>48765.0</td>\n",
       "      <td>2627.0</td>\n",
       "    </tr>\n",
       "  </tbody>\n",
       "</table>\n",
       "</div>"
      ],
      "text/plain": [
       "Factor  Duo Push  Phone Call  Remembered Device  Touch ID (WebAuthn)  \\\n",
       "month                                                                  \n",
       "1       573462.0    114449.0           163239.0               3065.0   \n",
       "2       685134.0    131844.0           208977.0               3627.0   \n",
       "3       605309.0    118483.0           179256.0               3285.0   \n",
       "4       687033.0    133840.0           220139.0               3700.0   \n",
       "11      690756.0    122046.0           204621.0               3403.0   \n",
       "12      527273.0     98426.0           148852.0               2684.0   \n",
       "\n",
       "Factor  Passcodes  Security Key  \n",
       "month                            \n",
       "1         48698.0        2737.0  \n",
       "2         55511.0        3305.0  \n",
       "3         48629.0        3167.0  \n",
       "4         51515.0        3385.0  \n",
       "11        65069.0        2713.0  \n",
       "12        48765.0        2627.0  "
      ]
     },
     "execution_count": 438,
     "metadata": {},
     "output_type": "execute_result"
    }
   ],
   "source": [
    "factorLogs"
   ]
  },
  {
   "cell_type": "code",
   "execution_count": 442,
   "metadata": {},
   "outputs": [
    {
     "data": {
      "image/png": "[encoded data removed]",
      "text/plain": [
       "<Figure size 1440x720 with 1 Axes>"
      ]
     },
     "metadata": {
      "needs_background": "light"
     },
     "output_type": "display_data"
    }
   ],
   "source": [
    "factorLogs.div(factorLogs.sum(axis=1), axis=0).plot.bar(stacked=True, cmap='Dark2', rot=0)\n",
    "plt.legend(bbox_to_anchor=(1.0, 1.0))\n",
    "plt.show()"
   ]
  },
  {
   "cell_type": "code",
   "execution_count": null,
   "metadata": {},
   "outputs": [],
   "source": []
  },
  {
   "cell_type": "code",
   "execution_count": null,
   "metadata": {},
   "outputs": [],
   "source": []
  },
  {
   "cell_type": "code",
   "execution_count": null,
   "metadata": {},
   "outputs": [],
   "source": []
  },
  {
   "cell_type": "code",
   "execution_count": null,
   "metadata": {},
   "outputs": [],
   "source": []
  },
  {
   "cell_type": "code",
   "execution_count": null,
   "metadata": {},
   "outputs": [],
   "source": []
  },
  {
   "cell_type": "markdown",
   "metadata": {},
   "source": [
    "Recovery"
   ]
  },
  {
   "cell_type": "code",
   "execution_count": 149,
   "metadata": {},
   "outputs": [],
   "source": [
    "y = pd.read_csv('updatedRT.csv')"
   ]
  },
  {
   "cell_type": "code",
   "execution_count": 152,
   "metadata": {},
   "outputs": [
    {
     "ename": "NameError",
     "evalue": "name 'typeOfUsers' is not defined",
     "output_type": "error",
     "traceback": [
      "\u001b[1;31m---------------------------------------------------------------------------\u001b[0m",
      "\u001b[1;31mNameError\u001b[0m                                 Traceback (most recent call last)",
      "\u001b[1;32m<ipython-input-152-f7b40d31e254>\u001b[0m in \u001b[0;36m<module>\u001b[1;34m\u001b[0m\n\u001b[1;32m----> 1\u001b[1;33m \u001b[0my\u001b[0m\u001b[1;33m[\u001b[0m\u001b[1;34m'Description'\u001b[0m\u001b[1;33m]\u001b[0m \u001b[1;33m=\u001b[0m \u001b[0my\u001b[0m\u001b[1;33m.\u001b[0m\u001b[0muser\u001b[0m\u001b[1;33m.\u001b[0m\u001b[0mapply\u001b[0m\u001b[1;33m(\u001b[0m\u001b[1;32mlambda\u001b[0m \u001b[0malias\u001b[0m\u001b[1;33m:\u001b[0m \u001b[0mtypeOfUsers\u001b[0m\u001b[1;33m[\u001b[0m\u001b[0malias\u001b[0m\u001b[1;33m]\u001b[0m\u001b[1;33m)\u001b[0m\u001b[1;33m\u001b[0m\u001b[1;33m\u001b[0m\u001b[0m\n\u001b[0m",
      "\u001b[1;32m~\\anaconda3\\lib\\site-packages\\pandas\\core\\series.py\u001b[0m in \u001b[0;36mapply\u001b[1;34m(self, func, convert_dtype, args, **kwds)\u001b[0m\n\u001b[0;32m   4198\u001b[0m             \u001b[1;32melse\u001b[0m\u001b[1;33m:\u001b[0m\u001b[1;33m\u001b[0m\u001b[1;33m\u001b[0m\u001b[0m\n\u001b[0;32m   4199\u001b[0m                 \u001b[0mvalues\u001b[0m \u001b[1;33m=\u001b[0m \u001b[0mself\u001b[0m\u001b[1;33m.\u001b[0m\u001b[0mastype\u001b[0m\u001b[1;33m(\u001b[0m\u001b[0mobject\u001b[0m\u001b[1;33m)\u001b[0m\u001b[1;33m.\u001b[0m\u001b[0m_values\u001b[0m\u001b[1;33m\u001b[0m\u001b[1;33m\u001b[0m\u001b[0m\n\u001b[1;32m-> 4200\u001b[1;33m                 \u001b[0mmapped\u001b[0m \u001b[1;33m=\u001b[0m \u001b[0mlib\u001b[0m\u001b[1;33m.\u001b[0m\u001b[0mmap_infer\u001b[0m\u001b[1;33m(\u001b[0m\u001b[0mvalues\u001b[0m\u001b[1;33m,\u001b[0m \u001b[0mf\u001b[0m\u001b[1;33m,\u001b[0m \u001b[0mconvert\u001b[0m\u001b[1;33m=\u001b[0m\u001b[0mconvert_dtype\u001b[0m\u001b[1;33m)\u001b[0m\u001b[1;33m\u001b[0m\u001b[1;33m\u001b[0m\u001b[0m\n\u001b[0m\u001b[0;32m   4201\u001b[0m \u001b[1;33m\u001b[0m\u001b[0m\n\u001b[0;32m   4202\u001b[0m         \u001b[1;32mif\u001b[0m \u001b[0mlen\u001b[0m\u001b[1;33m(\u001b[0m\u001b[0mmapped\u001b[0m\u001b[1;33m)\u001b[0m \u001b[1;32mand\u001b[0m \u001b[0misinstance\u001b[0m\u001b[1;33m(\u001b[0m\u001b[0mmapped\u001b[0m\u001b[1;33m[\u001b[0m\u001b[1;36m0\u001b[0m\u001b[1;33m]\u001b[0m\u001b[1;33m,\u001b[0m \u001b[0mSeries\u001b[0m\u001b[1;33m)\u001b[0m\u001b[1;33m:\u001b[0m\u001b[1;33m\u001b[0m\u001b[1;33m\u001b[0m\u001b[0m\n",
      "\u001b[1;32mpandas\\_libs\\lib.pyx\u001b[0m in \u001b[0;36mpandas._libs.lib.map_infer\u001b[1;34m()\u001b[0m\n",
      "\u001b[1;32m<ipython-input-152-f7b40d31e254>\u001b[0m in \u001b[0;36m<lambda>\u001b[1;34m(alias)\u001b[0m\n\u001b[1;32m----> 1\u001b[1;33m \u001b[0my\u001b[0m\u001b[1;33m[\u001b[0m\u001b[1;34m'Description'\u001b[0m\u001b[1;33m]\u001b[0m \u001b[1;33m=\u001b[0m \u001b[0my\u001b[0m\u001b[1;33m.\u001b[0m\u001b[0muser\u001b[0m\u001b[1;33m.\u001b[0m\u001b[0mapply\u001b[0m\u001b[1;33m(\u001b[0m\u001b[1;32mlambda\u001b[0m \u001b[0malias\u001b[0m\u001b[1;33m:\u001b[0m \u001b[0mtypeOfUsers\u001b[0m\u001b[1;33m[\u001b[0m\u001b[0malias\u001b[0m\u001b[1;33m]\u001b[0m\u001b[1;33m)\u001b[0m\u001b[1;33m\u001b[0m\u001b[1;33m\u001b[0m\u001b[0m\n\u001b[0m",
      "\u001b[1;31mNameError\u001b[0m: name 'typeOfUsers' is not defined"
     ]
    }
   ],
   "source": [
    "y['Description'] = y.user.apply(lambda alias: typeOfUsers[alias])"
   ]
  },
  {
   "cell_type": "code",
   "execution_count": 151,
   "metadata": {},
   "outputs": [],
   "source": [
    "y['recovery_time'] = y['recovery_time'].astype(int)"
   ]
  },
  {
   "cell_type": "code",
   "execution_count": 174,
   "metadata": {},
   "outputs": [],
   "source": [
    "y['recovery_time_in_minutes'] = y['recovery_time'].apply(lambda seconds: seconds // 60)"
   ]
  },
  {
   "cell_type": "code",
   "execution_count": 175,
   "metadata": {},
   "outputs": [],
   "source": [
    "def convert(seconds):\n",
    "    min, sec = divmod(seconds, 60)\n",
    "    print(min, sec)\n",
    "    if min != 0:\n",
    "        return min\n",
    "    else:\n",
    "        return sec      "
   ]
  },
  {
   "cell_type": "code",
   "execution_count": 176,
   "metadata": {},
   "outputs": [
    {
     "data": {
      "text/html": [
       "<div>\n",
       "<style scoped>\n",
       "    .dataframe tbody tr th:only-of-type {\n",
       "        vertical-align: middle;\n",
       "    }\n",
       "\n",
       "    .dataframe tbody tr th {\n",
       "        vertical-align: top;\n",
       "    }\n",
       "\n",
       "    .dataframe thead th {\n",
       "        text-align: right;\n",
       "    }\n",
       "</style>\n",
       "<table border=\"1\" class=\"dataframe\">\n",
       "  <thead>\n",
       "    <tr style=\"text-align: right;\">\n",
       "      <th></th>\n",
       "      <th>user</th>\n",
       "      <th>recovery_time</th>\n",
       "      <th>Description</th>\n",
       "      <th>recovery_time_in_minutes</th>\n",
       "    </tr>\n",
       "  </thead>\n",
       "  <tbody>\n",
       "    <tr>\n",
       "      <th>0</th>\n",
       "      <td>user_000001</td>\n",
       "      <td>19</td>\n",
       "      <td>Active (Staff)</td>\n",
       "      <td>0</td>\n",
       "    </tr>\n",
       "    <tr>\n",
       "      <th>1</th>\n",
       "      <td>user_000002</td>\n",
       "      <td>30067</td>\n",
       "      <td>Active (Staff)</td>\n",
       "      <td>501</td>\n",
       "    </tr>\n",
       "    <tr>\n",
       "      <th>2</th>\n",
       "      <td>user_000003</td>\n",
       "      <td>345</td>\n",
       "      <td>Active (Staff)</td>\n",
       "      <td>5</td>\n",
       "    </tr>\n",
       "    <tr>\n",
       "      <th>3</th>\n",
       "      <td>user_000004</td>\n",
       "      <td>5</td>\n",
       "      <td>Active (Staff)</td>\n",
       "      <td>0</td>\n",
       "    </tr>\n",
       "    <tr>\n",
       "      <th>4</th>\n",
       "      <td>user_000005</td>\n",
       "      <td>164</td>\n",
       "      <td>Active (Staff)</td>\n",
       "      <td>2</td>\n",
       "    </tr>\n",
       "  </tbody>\n",
       "</table>\n",
       "</div>"
      ],
      "text/plain": [
       "          user  recovery_time     Description  recovery_time_in_minutes\n",
       "0  user_000001             19  Active (Staff)                         0\n",
       "1  user_000002          30067  Active (Staff)                       501\n",
       "2  user_000003            345  Active (Staff)                         5\n",
       "3  user_000004              5  Active (Staff)                         0\n",
       "4  user_000005            164  Active (Staff)                         2"
      ]
     },
     "execution_count": 176,
     "metadata": {},
     "output_type": "execute_result"
    }
   ],
   "source": [
    "y.head()"
   ]
  },
  {
   "cell_type": "code",
   "execution_count": 177,
   "metadata": {},
   "outputs": [],
   "source": [
    "y.sort_values(by='recovery_time', inplace=True)"
   ]
  },
  {
   "cell_type": "code",
   "execution_count": 178,
   "metadata": {},
   "outputs": [
    {
     "data": {
      "text/html": [
       "<div>\n",
       "<style scoped>\n",
       "    .dataframe tbody tr th:only-of-type {\n",
       "        vertical-align: middle;\n",
       "    }\n",
       "\n",
       "    .dataframe tbody tr th {\n",
       "        vertical-align: top;\n",
       "    }\n",
       "\n",
       "    .dataframe thead th {\n",
       "        text-align: right;\n",
       "    }\n",
       "</style>\n",
       "<table border=\"1\" class=\"dataframe\">\n",
       "  <thead>\n",
       "    <tr style=\"text-align: right;\">\n",
       "      <th></th>\n",
       "      <th>user</th>\n",
       "      <th>recovery_time</th>\n",
       "      <th>Description</th>\n",
       "      <th>recovery_time_in_minutes</th>\n",
       "    </tr>\n",
       "  </thead>\n",
       "  <tbody>\n",
       "    <tr>\n",
       "      <th>31124</th>\n",
       "      <td>user_046676</td>\n",
       "      <td>0</td>\n",
       "      <td>Active (Student)</td>\n",
       "      <td>0</td>\n",
       "    </tr>\n",
       "    <tr>\n",
       "      <th>4974</th>\n",
       "      <td>user_007729</td>\n",
       "      <td>0</td>\n",
       "      <td>Active (Student)</td>\n",
       "      <td>0</td>\n",
       "    </tr>\n",
       "    <tr>\n",
       "      <th>29216</th>\n",
       "      <td>user_044532</td>\n",
       "      <td>0</td>\n",
       "      <td>Active (Student)</td>\n",
       "      <td>0</td>\n",
       "    </tr>\n",
       "    <tr>\n",
       "      <th>29210</th>\n",
       "      <td>user_044525</td>\n",
       "      <td>0</td>\n",
       "      <td>Active (Student)</td>\n",
       "      <td>0</td>\n",
       "    </tr>\n",
       "    <tr>\n",
       "      <th>29206</th>\n",
       "      <td>user_044521</td>\n",
       "      <td>0</td>\n",
       "      <td>Active (Student)</td>\n",
       "      <td>0</td>\n",
       "    </tr>\n",
       "  </tbody>\n",
       "</table>\n",
       "</div>"
      ],
      "text/plain": [
       "              user  recovery_time       Description  recovery_time_in_minutes\n",
       "31124  user_046676              0  Active (Student)                         0\n",
       "4974   user_007729              0  Active (Student)                         0\n",
       "29216  user_044532              0  Active (Student)                         0\n",
       "29210  user_044525              0  Active (Student)                         0\n",
       "29206  user_044521              0  Active (Student)                         0"
      ]
     },
     "execution_count": 178,
     "metadata": {},
     "output_type": "execute_result"
    }
   ],
   "source": [
    "y.head()"
   ]
  },
  {
   "cell_type": "code",
   "execution_count": 179,
   "metadata": {},
   "outputs": [],
   "source": [
    "y.insert(0,'New_ID', range(1, len(y)+1))"
   ]
  },
  {
   "cell_type": "code",
   "execution_count": 180,
   "metadata": {},
   "outputs": [],
   "source": [
    "y['userPercentage'] = y['New_ID'].apply(lambda num: num/len(y))"
   ]
  },
  {
   "cell_type": "code",
   "execution_count": null,
   "metadata": {},
   "outputs": [],
   "source": []
  },
  {
   "cell_type": "code",
   "execution_count": 184,
   "metadata": {},
   "outputs": [],
   "source": [
    "y['normalized_recovery_time'] = y['recovery_time'] / 11595074"
   ]
  },
  {
   "cell_type": "code",
   "execution_count": null,
   "metadata": {},
   "outputs": [],
   "source": []
  },
  {
   "cell_type": "code",
   "execution_count": 185,
   "metadata": {},
   "outputs": [
    {
     "data": {
      "text/html": [
       "<div>\n",
       "<style scoped>\n",
       "    .dataframe tbody tr th:only-of-type {\n",
       "        vertical-align: middle;\n",
       "    }\n",
       "\n",
       "    .dataframe tbody tr th {\n",
       "        vertical-align: top;\n",
       "    }\n",
       "\n",
       "    .dataframe thead th {\n",
       "        text-align: right;\n",
       "    }\n",
       "</style>\n",
       "<table border=\"1\" class=\"dataframe\">\n",
       "  <thead>\n",
       "    <tr style=\"text-align: right;\">\n",
       "      <th></th>\n",
       "      <th>New_ID</th>\n",
       "      <th>user</th>\n",
       "      <th>recovery_time</th>\n",
       "      <th>Description</th>\n",
       "      <th>recovery_time_in_minutes</th>\n",
       "      <th>userPercentage</th>\n",
       "      <th>normalized_recovery_time</th>\n",
       "    </tr>\n",
       "  </thead>\n",
       "  <tbody>\n",
       "    <tr>\n",
       "      <th>31124</th>\n",
       "      <td>1</td>\n",
       "      <td>user_046676</td>\n",
       "      <td>0</td>\n",
       "      <td>Active (Student)</td>\n",
       "      <td>0</td>\n",
       "      <td>0.000028</td>\n",
       "      <td>0.0</td>\n",
       "    </tr>\n",
       "    <tr>\n",
       "      <th>4974</th>\n",
       "      <td>2</td>\n",
       "      <td>user_007729</td>\n",
       "      <td>0</td>\n",
       "      <td>Active (Student)</td>\n",
       "      <td>0</td>\n",
       "      <td>0.000056</td>\n",
       "      <td>0.0</td>\n",
       "    </tr>\n",
       "    <tr>\n",
       "      <th>29216</th>\n",
       "      <td>3</td>\n",
       "      <td>user_044532</td>\n",
       "      <td>0</td>\n",
       "      <td>Active (Student)</td>\n",
       "      <td>0</td>\n",
       "      <td>0.000084</td>\n",
       "      <td>0.0</td>\n",
       "    </tr>\n",
       "    <tr>\n",
       "      <th>29210</th>\n",
       "      <td>4</td>\n",
       "      <td>user_044525</td>\n",
       "      <td>0</td>\n",
       "      <td>Active (Student)</td>\n",
       "      <td>0</td>\n",
       "      <td>0.000111</td>\n",
       "      <td>0.0</td>\n",
       "    </tr>\n",
       "    <tr>\n",
       "      <th>29206</th>\n",
       "      <td>5</td>\n",
       "      <td>user_044521</td>\n",
       "      <td>0</td>\n",
       "      <td>Active (Student)</td>\n",
       "      <td>0</td>\n",
       "      <td>0.000139</td>\n",
       "      <td>0.0</td>\n",
       "    </tr>\n",
       "  </tbody>\n",
       "</table>\n",
       "</div>"
      ],
      "text/plain": [
       "       New_ID         user  recovery_time       Description  \\\n",
       "31124       1  user_046676              0  Active (Student)   \n",
       "4974        2  user_007729              0  Active (Student)   \n",
       "29216       3  user_044532              0  Active (Student)   \n",
       "29210       4  user_044525              0  Active (Student)   \n",
       "29206       5  user_044521              0  Active (Student)   \n",
       "\n",
       "       recovery_time_in_minutes  userPercentage  normalized_recovery_time  \n",
       "31124                         0        0.000028                       0.0  \n",
       "4974                          0        0.000056                       0.0  \n",
       "29216                         0        0.000084                       0.0  \n",
       "29210                         0        0.000111                       0.0  \n",
       "29206                         0        0.000139                       0.0  "
      ]
     },
     "execution_count": 185,
     "metadata": {},
     "output_type": "execute_result"
    }
   ],
   "source": [
    "y.head()"
   ]
  },
  {
   "cell_type": "code",
   "execution_count": 190,
   "metadata": {},
   "outputs": [
    {
     "data": {
      "text/plain": [
       "31246.670763314105"
      ]
     },
     "execution_count": 190,
     "metadata": {},
     "output_type": "execute_result"
    }
   ],
   "source": [
    "y['recovery_time'].mean()"
   ]
  },
  {
   "cell_type": "code",
   "execution_count": 394,
   "metadata": {},
   "outputs": [
    {
     "data": {
      "image/png": "[encoded data removed]",
      "text/plain": [
       "<Figure size 1440x720 with 1 Axes>"
      ]
     },
     "metadata": {
      "needs_background": "light"
     },
     "output_type": "display_data"
    }
   ],
   "source": [
    "plt.rcParams[\"figure.figsize\"] = (20,10)\n",
    "ax = y.plot(x='recovery_time', y='userPercentage', legend=False)\n",
    "plt.ylabel('Percentage of Users')\n",
    "plt.xlabel('Recovery Time (seconds)')\n",
    "\n",
    "ax.set_xscale('log')\n",
    "\n",
    "plt.title('User Recovery Time')\n",
    "plt.show()"
   ]
  },
  {
   "cell_type": "code",
   "execution_count": 409,
   "metadata": {},
   "outputs": [
    {
     "data": {
      "text/plain": [
       "count       35883.000000\n",
       "mean        31246.670763\n",
       "std        204293.737039\n",
       "min             0.000000\n",
       "25%            18.000000\n",
       "50%           369.000000\n",
       "75%         16691.000000\n",
       "max      11595074.000000\n",
       "Name: recovery_time, dtype: object"
      ]
     },
     "execution_count": 409,
     "metadata": {},
     "output_type": "execute_result"
    }
   ],
   "source": [
    "y['recovery_time'].describe().apply(lambda x: format(x, 'f'))"
   ]
  },
  {
   "cell_type": "code",
   "execution_count": null,
   "metadata": {},
   "outputs": [],
   "source": []
  }
 ],
 "metadata": {
  "kernelspec": {
   "display_name": "Python 3",
   "language": "python",
   "name": "python3"
  },
  "language_info": {
   "codemirror_mode": {
    "name": "ipython",
    "version": 3
   },
   "file_extension": ".py",
   "mimetype": "text/x-python",
   "name": "python",
   "nbconvert_exporter": "python",
   "pygments_lexer": "ipython3",
   "version": "3.8.5"
  }
 },
 "nbformat": 4,
 "nbformat_minor": 4
}
